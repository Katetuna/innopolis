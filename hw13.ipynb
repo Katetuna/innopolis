{
  "nbformat": 4,
  "nbformat_minor": 0,
  "metadata": {
    "colab": {
      "name": "hw13.ipynb",
      "provenance": [],
      "collapsed_sections": [],
      "authorship_tag": "ABX9TyON+NFzRMyzfpwS+8TeGPke",
      "include_colab_link": true
    },
    "kernelspec": {
      "name": "python3",
      "display_name": "Python 3"
    },
    "language_info": {
      "name": "python"
    }
  },
  "cells": [
    {
      "cell_type": "markdown",
      "metadata": {
        "id": "view-in-github",
        "colab_type": "text"
      },
      "source": [
        "<a href=\"https://colab.research.google.com/github/Katetuna/innopolis/blob/main/hw13.ipynb\" target=\"_parent\"><img src=\"https://colab.research.google.com/assets/colab-badge.svg\" alt=\"Open In Colab\"/></a>"
      ]
    },
    {
      "cell_type": "code",
      "execution_count": 1,
      "metadata": {
        "colab": {
          "base_uri": "https://localhost:8080/"
        },
        "id": "-qajCzU3glxr",
        "outputId": "5797ff1e-ab1f-4a03-d808-e2df0157084d"
      },
      "outputs": [
        {
          "output_type": "stream",
          "name": "stdout",
          "text": [
            "Collecting pyspark\n",
            "  Downloading pyspark-3.2.1.tar.gz (281.4 MB)\n",
            "\u001b[K     |████████████████████████████████| 281.4 MB 34 kB/s \n",
            "\u001b[?25hCollecting py4j==0.10.9.3\n",
            "  Downloading py4j-0.10.9.3-py2.py3-none-any.whl (198 kB)\n",
            "\u001b[K     |████████████████████████████████| 198 kB 58.1 MB/s \n",
            "\u001b[?25hBuilding wheels for collected packages: pyspark\n",
            "  Building wheel for pyspark (setup.py) ... \u001b[?25l\u001b[?25hdone\n",
            "  Created wheel for pyspark: filename=pyspark-3.2.1-py2.py3-none-any.whl size=281853642 sha256=1c8ddbb4996ff9de2a2da0bbd3e94a9bb195bf35310954a2aa27089c3cb1f035\n",
            "  Stored in directory: /root/.cache/pip/wheels/9f/f5/07/7cd8017084dce4e93e84e92efd1e1d5334db05f2e83bcef74f\n",
            "Successfully built pyspark\n",
            "Installing collected packages: py4j, pyspark\n",
            "Successfully installed py4j-0.10.9.3 pyspark-3.2.1\n"
          ]
        }
      ],
      "source": [
        "!pip install pyspark"
      ]
    },
    {
      "cell_type": "code",
      "source": [
        "import pandas as pd\n",
        "import numpy as np\n",
        "\n",
        "from pyspark.sql.functions import *\n",
        "from pyspark.sql.types import DoubleType, IntegerType, DateType\n",
        "\n",
        "from pyspark.ml.feature import StringIndexer\n",
        "from pyspark.ml import Pipeline\n",
        "from pyspark.ml.feature import VectorAssembler\n",
        "from pyspark.ml.classification import LogisticRegression\n",
        "from pyspark.ml.evaluation import MulticlassClassificationEvaluator\n",
        "from pyspark.context import SparkContext\n",
        "from pyspark.sql.session import SparkSession \n",
        "\n",
        "sc = SparkContext('local') \n",
        "spark = SparkSession(sc) "
      ],
      "metadata": {
        "id": "T9N4Tb1Jgvy3"
      },
      "execution_count": 2,
      "outputs": []
    },
    {
      "cell_type": "markdown",
      "source": [
        "Взять данные iris.csv и Загрузить в pyspark "
      ],
      "metadata": {
        "id": "tWz2PyNvnWZ9"
      }
    },
    {
      "cell_type": "code",
      "source": [
        "df = spark.read.format(\"com.databricks.spark.csv\").options(sep=\",\", header=True, quote=\"\").csv('iris.csv')"
      ],
      "metadata": {
        "id": "hguMeLyDg7Ap"
      },
      "execution_count": 3,
      "outputs": []
    },
    {
      "cell_type": "code",
      "source": [
        "#проверка  загруженного датафрейма\n",
        "df.show(5)\n"
      ],
      "metadata": {
        "colab": {
          "base_uri": "https://localhost:8080/"
        },
        "id": "VS6y0tZUidPf",
        "outputId": "a4820500-9c94-4aa6-93d2-d42150873b38"
      },
      "execution_count": 8,
      "outputs": [
        {
          "output_type": "stream",
          "name": "stdout",
          "text": [
            "+-------------+---------------+----------------+---------------+------------+\n",
            "|\"sepal.length|\"\"sepal.width\"\"|\"\"petal.length\"\"|\"\"petal.width\"\"|\"\"variety\"\"\"|\n",
            "+-------------+---------------+----------------+---------------+------------+\n",
            "|         \"5.1|            3.5|             1.4|             .2| \"\"Setosa\"\"\"|\n",
            "|         \"4.9|              3|             1.4|             .2| \"\"Setosa\"\"\"|\n",
            "|         \"4.7|            3.2|             1.3|             .2| \"\"Setosa\"\"\"|\n",
            "|         \"4.6|            3.1|             1.5|             .2| \"\"Setosa\"\"\"|\n",
            "|           \"5|            3.6|             1.4|             .2| \"\"Setosa\"\"\"|\n",
            "+-------------+---------------+----------------+---------------+------------+\n",
            "only showing top 5 rows\n",
            "\n"
          ]
        }
      ]
    },
    {
      "cell_type": "code",
      "source": [
        "df.printSchema()"
      ],
      "metadata": {
        "colab": {
          "base_uri": "https://localhost:8080/"
        },
        "id": "I3tApIUvimEH",
        "outputId": "5920b786-e4c7-4095-d22b-2985373759d8"
      },
      "execution_count": 9,
      "outputs": [
        {
          "output_type": "stream",
          "name": "stdout",
          "text": [
            "root\n",
            " |-- \"sepal.length: string (nullable = true)\n",
            " |-- \"\"sepal.width\"\": string (nullable = true)\n",
            " |-- \"\"petal.length\"\": string (nullable = true)\n",
            " |-- \"\"petal.width\"\": string (nullable = true)\n",
            " |-- \"\"variety\"\"\": string (nullable = true)\n",
            "\n"
          ]
        }
      ]
    },
    {
      "cell_type": "markdown",
      "source": [
        "Для дальнейшей работы преобразуем данные для возможности корректной работы"
      ],
      "metadata": {
        "id": "uWGF9o2Kho85"
      }
    },
    {
      "cell_type": "code",
      "source": [
        "#преобразуем названия колонок создав новый датафрейм\n",
        "newColumns = [\"sepal_length\",\"sepal_width\",\"petal_length\",\"petal_width\",\"variety\"]\n",
        "df_new = df.toDF(*newColumns)\n",
        "\n",
        "#корректировка вида данных\n",
        "df_new = df_new.withColumn(\"sepal_length\", regexp_replace(col(\"sepal_length\"), '\"', \"\"))\\\n",
        "    .withColumn(\"variety\", regexp_replace(col(\"variety\"), '\"', \"\"))\n",
        "\n",
        "#корректировка типа данных\n",
        "df_new = df_new \\\n",
        "    .withColumn('sepal_length', col('sepal_length').cast(DoubleType())) \\\n",
        "    .withColumn('sepal_width', col('sepal_width').cast(DoubleType())) \\\n",
        "    .withColumn('petal_length', col('petal_length').cast(DoubleType())) \\\n",
        "    .withColumn('petal_width', col('petal_width').cast(DoubleType()))"
      ],
      "metadata": {
        "id": "e8MytPSbheA4"
      },
      "execution_count": 24,
      "outputs": []
    },
    {
      "cell_type": "code",
      "source": [
        "#итоговая проверка датафрейма \n",
        "df_new.show(5)\n",
        "df_new.printSchema()"
      ],
      "metadata": {
        "colab": {
          "base_uri": "https://localhost:8080/"
        },
        "id": "sFs-ZdUriEct",
        "outputId": "57482a47-acf5-4ccd-d488-acd261602b62"
      },
      "execution_count": 5,
      "outputs": [
        {
          "output_type": "stream",
          "name": "stdout",
          "text": [
            "+------------+-----------+------------+-----------+-------+\n",
            "|sepal_length|sepal_width|petal_length|petal_width|variety|\n",
            "+------------+-----------+------------+-----------+-------+\n",
            "|         5.1|        3.5|         1.4|        0.2| Setosa|\n",
            "|         4.9|        3.0|         1.4|        0.2| Setosa|\n",
            "|         4.7|        3.2|         1.3|        0.2| Setosa|\n",
            "|         4.6|        3.1|         1.5|        0.2| Setosa|\n",
            "|         5.0|        3.6|         1.4|        0.2| Setosa|\n",
            "+------------+-----------+------------+-----------+-------+\n",
            "only showing top 5 rows\n",
            "\n",
            "root\n",
            " |-- sepal_length: double (nullable = true)\n",
            " |-- sepal_width: double (nullable = true)\n",
            " |-- petal_length: double (nullable = true)\n",
            " |-- petal_width: double (nullable = true)\n",
            " |-- variety: string (nullable = true)\n",
            "\n"
          ]
        }
      ]
    },
    {
      "cell_type": "code",
      "source": [
        "#статистики по всем данным\n",
        "df_new.summary().show()"
      ],
      "metadata": {
        "colab": {
          "base_uri": "https://localhost:8080/"
        },
        "id": "yxY5Q3qkiIM3",
        "outputId": "9d0e3752-e9c4-4b03-e56d-9764f78cf164"
      },
      "execution_count": 6,
      "outputs": [
        {
          "output_type": "stream",
          "name": "stdout",
          "text": [
            "+-------+------------------+-------------------+------------------+------------------+---------+\n",
            "|summary|      sepal_length|        sepal_width|      petal_length|       petal_width|  variety|\n",
            "+-------+------------------+-------------------+------------------+------------------+---------+\n",
            "|  count|               150|                150|               150|               150|      150|\n",
            "|   mean| 5.843333333333335|  3.057333333333334|3.7580000000000027| 1.199333333333334|     null|\n",
            "| stddev|0.8280661279778637|0.43586628493669793|1.7652982332594662|0.7622376689603467|     null|\n",
            "|    min|               4.3|                2.0|               1.0|               0.1|   Setosa|\n",
            "|    25%|               5.1|                2.8|               1.6|               0.3|     null|\n",
            "|    50%|               5.8|                3.0|               4.3|               1.3|     null|\n",
            "|    75%|               6.4|                3.3|               5.1|               1.8|     null|\n",
            "|    max|               7.9|                4.4|               6.9|               2.5|Virginica|\n",
            "+-------+------------------+-------------------+------------------+------------------+---------+\n",
            "\n"
          ]
        }
      ]
    },
    {
      "cell_type": "markdown",
      "source": [
        "При помощи VectorAssembler преобразовать все колонки с признаками в одну  (использовать PipeLine)"
      ],
      "metadata": {
        "id": "4yC09V82iwzV"
      }
    },
    {
      "cell_type": "code",
      "source": [
        "#variety - в числовой атрибут , создаем шаблон для дальнейщего применения на датасете\n",
        "pipeline = Pipeline(stages = \n",
        "[\n",
        "  StringIndexer(inputCol='variety', outputCol='varietyInd'),\n",
        "  VectorAssembler(inputCols=[\"sepal_length\", \"sepal_width\", \"petal_length\", \"petal_width\"], outputCol='Features')\n",
        "]\n",
        ")"
      ],
      "metadata": {
        "id": "PDYfDsELjOD-"
      },
      "execution_count": 10,
      "outputs": []
    },
    {
      "cell_type": "code",
      "source": [
        "# подгоняем  датасет\n",
        "pipelineTrained = pipeline.fit(df_new)"
      ],
      "metadata": {
        "id": "6HNrqL4dj3Ii"
      },
      "execution_count": 11,
      "outputs": []
    },
    {
      "cell_type": "code",
      "source": [
        "# преобразуем числовые признаки в вектор\n",
        "pipelineTrained.transform(df_new).show()"
      ],
      "metadata": {
        "colab": {
          "base_uri": "https://localhost:8080/"
        },
        "id": "fuF70pnhkDbv",
        "outputId": "fd137747-6a2e-45b1-8048-61f7e6809b48"
      },
      "execution_count": 12,
      "outputs": [
        {
          "output_type": "stream",
          "name": "stdout",
          "text": [
            "+------------+-----------+------------+-----------+-------+----------+-----------------+\n",
            "|sepal_length|sepal_width|petal_length|petal_width|variety|varietyInd|         Features|\n",
            "+------------+-----------+------------+-----------+-------+----------+-----------------+\n",
            "|         5.1|        3.5|         1.4|        0.2| Setosa|       0.0|[5.1,3.5,1.4,0.2]|\n",
            "|         4.9|        3.0|         1.4|        0.2| Setosa|       0.0|[4.9,3.0,1.4,0.2]|\n",
            "|         4.7|        3.2|         1.3|        0.2| Setosa|       0.0|[4.7,3.2,1.3,0.2]|\n",
            "|         4.6|        3.1|         1.5|        0.2| Setosa|       0.0|[4.6,3.1,1.5,0.2]|\n",
            "|         5.0|        3.6|         1.4|        0.2| Setosa|       0.0|[5.0,3.6,1.4,0.2]|\n",
            "|         5.4|        3.9|         1.7|        0.4| Setosa|       0.0|[5.4,3.9,1.7,0.4]|\n",
            "|         4.6|        3.4|         1.4|        0.3| Setosa|       0.0|[4.6,3.4,1.4,0.3]|\n",
            "|         5.0|        3.4|         1.5|        0.2| Setosa|       0.0|[5.0,3.4,1.5,0.2]|\n",
            "|         4.4|        2.9|         1.4|        0.2| Setosa|       0.0|[4.4,2.9,1.4,0.2]|\n",
            "|         4.9|        3.1|         1.5|        0.1| Setosa|       0.0|[4.9,3.1,1.5,0.1]|\n",
            "|         5.4|        3.7|         1.5|        0.2| Setosa|       0.0|[5.4,3.7,1.5,0.2]|\n",
            "|         4.8|        3.4|         1.6|        0.2| Setosa|       0.0|[4.8,3.4,1.6,0.2]|\n",
            "|         4.8|        3.0|         1.4|        0.1| Setosa|       0.0|[4.8,3.0,1.4,0.1]|\n",
            "|         4.3|        3.0|         1.1|        0.1| Setosa|       0.0|[4.3,3.0,1.1,0.1]|\n",
            "|         5.8|        4.0|         1.2|        0.2| Setosa|       0.0|[5.8,4.0,1.2,0.2]|\n",
            "|         5.7|        4.4|         1.5|        0.4| Setosa|       0.0|[5.7,4.4,1.5,0.4]|\n",
            "|         5.4|        3.9|         1.3|        0.4| Setosa|       0.0|[5.4,3.9,1.3,0.4]|\n",
            "|         5.1|        3.5|         1.4|        0.3| Setosa|       0.0|[5.1,3.5,1.4,0.3]|\n",
            "|         5.7|        3.8|         1.7|        0.3| Setosa|       0.0|[5.7,3.8,1.7,0.3]|\n",
            "|         5.1|        3.8|         1.5|        0.3| Setosa|       0.0|[5.1,3.8,1.5,0.3]|\n",
            "+------------+-----------+------------+-----------+-------+----------+-----------------+\n",
            "only showing top 20 rows\n",
            "\n"
          ]
        }
      ]
    },
    {
      "cell_type": "code",
      "source": [
        "# создаем новый датафрейм с Features \n",
        "df_features = pipelineTrained.transform(df_new)\n",
        "df_features.show(5)"
      ],
      "metadata": {
        "colab": {
          "base_uri": "https://localhost:8080/"
        },
        "id": "8t0lEcZfkSqt",
        "outputId": "653f923b-527f-4d62-b0c9-b5b9d0ebaaa4"
      },
      "execution_count": 14,
      "outputs": [
        {
          "output_type": "stream",
          "name": "stdout",
          "text": [
            "+------------+-----------+------------+-----------+-------+----------+-----------------+\n",
            "|sepal_length|sepal_width|petal_length|petal_width|variety|varietyInd|         Features|\n",
            "+------------+-----------+------------+-----------+-------+----------+-----------------+\n",
            "|         5.1|        3.5|         1.4|        0.2| Setosa|       0.0|[5.1,3.5,1.4,0.2]|\n",
            "|         4.9|        3.0|         1.4|        0.2| Setosa|       0.0|[4.9,3.0,1.4,0.2]|\n",
            "|         4.7|        3.2|         1.3|        0.2| Setosa|       0.0|[4.7,3.2,1.3,0.2]|\n",
            "|         4.6|        3.1|         1.5|        0.2| Setosa|       0.0|[4.6,3.1,1.5,0.2]|\n",
            "|         5.0|        3.6|         1.4|        0.2| Setosa|       0.0|[5.0,3.6,1.4,0.2]|\n",
            "+------------+-----------+------------+-----------+-------+----------+-----------------+\n",
            "only showing top 5 rows\n",
            "\n"
          ]
        }
      ]
    },
    {
      "cell_type": "markdown",
      "source": [
        "Разбить данные на train и test"
      ],
      "metadata": {
        "id": "4mYWG7hMknmJ"
      }
    },
    {
      "cell_type": "code",
      "source": [
        "train, test = df_features.randomSplit([0.8, 0.2], seed=12345)"
      ],
      "metadata": {
        "id": "LSiA7vz6kodc"
      },
      "execution_count": 25,
      "outputs": []
    },
    {
      "cell_type": "code",
      "source": [
        "# проверка обучающей выборки\n",
        "train.show()"
      ],
      "metadata": {
        "colab": {
          "base_uri": "https://localhost:8080/"
        },
        "id": "Aj_-TK2-ktK_",
        "outputId": "e1d79ce9-3935-49dc-a380-19de613e0594"
      },
      "execution_count": 26,
      "outputs": [
        {
          "output_type": "stream",
          "name": "stdout",
          "text": [
            "+------------+-----------+------------+-----------+----------+----------+-----------------+\n",
            "|sepal_length|sepal_width|petal_length|petal_width|   variety|varietyInd|         Features|\n",
            "+------------+-----------+------------+-----------+----------+----------+-----------------+\n",
            "|         4.3|        3.0|         1.1|        0.1|    Setosa|       0.0|[4.3,3.0,1.1,0.1]|\n",
            "|         4.4|        2.9|         1.4|        0.2|    Setosa|       0.0|[4.4,2.9,1.4,0.2]|\n",
            "|         4.4|        3.0|         1.3|        0.2|    Setosa|       0.0|[4.4,3.0,1.3,0.2]|\n",
            "|         4.4|        3.2|         1.3|        0.2|    Setosa|       0.0|[4.4,3.2,1.3,0.2]|\n",
            "|         4.5|        2.3|         1.3|        0.3|    Setosa|       0.0|[4.5,2.3,1.3,0.3]|\n",
            "|         4.6|        3.1|         1.5|        0.2|    Setosa|       0.0|[4.6,3.1,1.5,0.2]|\n",
            "|         4.6|        3.4|         1.4|        0.3|    Setosa|       0.0|[4.6,3.4,1.4,0.3]|\n",
            "|         4.6|        3.6|         1.0|        0.2|    Setosa|       0.0|[4.6,3.6,1.0,0.2]|\n",
            "|         4.7|        3.2|         1.3|        0.2|    Setosa|       0.0|[4.7,3.2,1.3,0.2]|\n",
            "|         4.7|        3.2|         1.6|        0.2|    Setosa|       0.0|[4.7,3.2,1.6,0.2]|\n",
            "|         4.8|        3.0|         1.4|        0.1|    Setosa|       0.0|[4.8,3.0,1.4,0.1]|\n",
            "|         4.8|        3.0|         1.4|        0.3|    Setosa|       0.0|[4.8,3.0,1.4,0.3]|\n",
            "|         4.8|        3.1|         1.6|        0.2|    Setosa|       0.0|[4.8,3.1,1.6,0.2]|\n",
            "|         4.8|        3.4|         1.6|        0.2|    Setosa|       0.0|[4.8,3.4,1.6,0.2]|\n",
            "|         4.8|        3.4|         1.9|        0.2|    Setosa|       0.0|[4.8,3.4,1.9,0.2]|\n",
            "|         4.9|        2.4|         3.3|        1.0|Versicolor|       1.0|[4.9,2.4,3.3,1.0]|\n",
            "|         4.9|        2.5|         4.5|        1.7| Virginica|       2.0|[4.9,2.5,4.5,1.7]|\n",
            "|         4.9|        3.0|         1.4|        0.2|    Setosa|       0.0|[4.9,3.0,1.4,0.2]|\n",
            "|         4.9|        3.1|         1.5|        0.1|    Setosa|       0.0|[4.9,3.1,1.5,0.1]|\n",
            "|         4.9|        3.1|         1.5|        0.2|    Setosa|       0.0|[4.9,3.1,1.5,0.2]|\n",
            "+------------+-----------+------------+-----------+----------+----------+-----------------+\n",
            "only showing top 20 rows\n",
            "\n"
          ]
        }
      ]
    },
    {
      "cell_type": "code",
      "source": [
        "# проверка тестовой выборки\n",
        "test.show()"
      ],
      "metadata": {
        "colab": {
          "base_uri": "https://localhost:8080/"
        },
        "id": "iqfCawbvlHKe",
        "outputId": "3b1a6a1c-2cf9-4170-ece5-457d7f916aac"
      },
      "execution_count": 27,
      "outputs": [
        {
          "output_type": "stream",
          "name": "stdout",
          "text": [
            "+------------+-----------+------------+-----------+----------+----------+-----------------+\n",
            "|sepal_length|sepal_width|petal_length|petal_width|   variety|varietyInd|         Features|\n",
            "+------------+-----------+------------+-----------+----------+----------+-----------------+\n",
            "|         4.6|        3.2|         1.4|        0.2|    Setosa|       0.0|[4.6,3.2,1.4,0.2]|\n",
            "|         5.0|        3.0|         1.6|        0.2|    Setosa|       0.0|[5.0,3.0,1.6,0.2]|\n",
            "|         5.0|        3.2|         1.2|        0.2|    Setosa|       0.0|[5.0,3.2,1.2,0.2]|\n",
            "|         5.0|        3.5|         1.3|        0.3|    Setosa|       0.0|[5.0,3.5,1.3,0.3]|\n",
            "|         5.1|        3.5|         1.4|        0.3|    Setosa|       0.0|[5.1,3.5,1.4,0.3]|\n",
            "|         5.4|        3.4|         1.5|        0.4|    Setosa|       0.0|[5.4,3.4,1.5,0.4]|\n",
            "|         5.4|        3.9|         1.3|        0.4|    Setosa|       0.0|[5.4,3.9,1.3,0.4]|\n",
            "|         5.7|        2.8|         4.1|        1.3|Versicolor|       1.0|[5.7,2.8,4.1,1.3]|\n",
            "|         6.1|        2.9|         4.7|        1.4|Versicolor|       1.0|[6.1,2.9,4.7,1.4]|\n",
            "|         6.2|        2.2|         4.5|        1.5|Versicolor|       1.0|[6.2,2.2,4.5,1.5]|\n",
            "|         6.2|        3.4|         5.4|        2.3| Virginica|       2.0|[6.2,3.4,5.4,2.3]|\n",
            "|         6.4|        3.1|         5.5|        1.8| Virginica|       2.0|[6.4,3.1,5.5,1.8]|\n",
            "|         6.5|        3.0|         5.2|        2.0| Virginica|       2.0|[6.5,3.0,5.2,2.0]|\n",
            "|         6.5|        3.2|         5.1|        2.0| Virginica|       2.0|[6.5,3.2,5.1,2.0]|\n",
            "|         6.7|        2.5|         5.8|        1.8| Virginica|       2.0|[6.7,2.5,5.8,1.8]|\n",
            "|         6.7|        3.0|         5.2|        2.3| Virginica|       2.0|[6.7,3.0,5.2,2.3]|\n",
            "|         6.7|        3.1|         4.7|        1.5|Versicolor|       1.0|[6.7,3.1,4.7,1.5]|\n",
            "|         6.7|        3.3|         5.7|        2.5| Virginica|       2.0|[6.7,3.3,5.7,2.5]|\n",
            "|         6.9|        3.1|         4.9|        1.5|Versicolor|       1.0|[6.9,3.1,4.9,1.5]|\n",
            "|         6.9|        3.1|         5.4|        2.1| Virginica|       2.0|[6.9,3.1,5.4,2.1]|\n",
            "+------------+-----------+------------+-----------+----------+----------+-----------------+\n",
            "only showing top 20 rows\n",
            "\n"
          ]
        }
      ]
    },
    {
      "cell_type": "markdown",
      "source": [
        "Создать модель логистической регресии и обучить ее"
      ],
      "metadata": {
        "id": "SoGgsvTrlNhI"
      }
    },
    {
      "cell_type": "code",
      "source": [
        "lr = LogisticRegression(featuresCol = 'Features', labelCol = 'varietyInd')\n",
        "lrModel = lr.fit(train)"
      ],
      "metadata": {
        "id": "_mRc2TovlQzn"
      },
      "execution_count": 18,
      "outputs": []
    },
    {
      "cell_type": "code",
      "source": [
        "train_res = lrModel.transform(train)\n",
        "test_res = lrModel.transform(test)"
      ],
      "metadata": {
        "id": "iePRg9eEla80"
      },
      "execution_count": 19,
      "outputs": []
    },
    {
      "cell_type": "code",
      "source": [
        "# предсказания на обучающей выборке\n",
        "train_res.show()"
      ],
      "metadata": {
        "colab": {
          "base_uri": "https://localhost:8080/"
        },
        "id": "ySnkm0qllfHA",
        "outputId": "427ef41e-6b63-4184-897a-8a68f4cfaa2a"
      },
      "execution_count": 20,
      "outputs": [
        {
          "output_type": "stream",
          "name": "stdout",
          "text": [
            "+------------+-----------+------------+-----------+----------+----------+-----------------+--------------------+--------------------+----------+\n",
            "|sepal_length|sepal_width|petal_length|petal_width|   variety|varietyInd|         Features|       rawPrediction|         probability|prediction|\n",
            "+------------+-----------+------------+-----------+----------+----------+-----------------+--------------------+--------------------+----------+\n",
            "|         4.3|        3.0|         1.1|        0.1|    Setosa|       0.0|[4.3,3.0,1.1,0.1]|[67.7027919587531...|[1.0,1.6424718354...|       0.0|\n",
            "|         4.4|        2.9|         1.4|        0.2|    Setosa|       0.0|[4.4,2.9,1.4,0.2]|[57.0087434717148...|[1.0,1.4036227809...|       0.0|\n",
            "|         4.4|        3.0|         1.3|        0.2|    Setosa|       0.0|[4.4,3.0,1.3,0.2]|[61.7475610236625...|[1.0,2.4772179810...|       0.0|\n",
            "|         4.4|        3.2|         1.3|        0.2|    Setosa|       0.0|[4.4,3.2,1.3,0.2]|[68.8060989728479...|[1.0,1.2455403381...|       0.0|\n",
            "|         4.5|        2.3|         1.3|        0.3|    Setosa|       0.0|[4.5,2.3,1.3,0.3]|[33.5065444211333...|[0.99999999999743...|       0.0|\n",
            "|         4.6|        3.1|         1.5|        0.2|    Setosa|       0.0|[4.6,3.1,1.5,0.2]|[61.0755416232729...|[1.0,5.0956843582...|       0.0|\n",
            "|         4.6|        3.4|         1.4|        0.3|    Setosa|       0.0|[4.6,3.4,1.4,0.3]|[70.2278589541617...|[1.0,9.9660365310...|       0.0|\n",
            "|         4.6|        3.6|         1.0|        0.2|    Setosa|       0.0|[4.6,3.6,1.0,0.2]|[84.7696293830116...|[1.0,8.7251237620...|       0.0|\n",
            "|         4.7|        3.2|         1.3|        0.2|    Setosa|       0.0|[4.7,3.2,1.3,0.2]|[66.1328121424396...|[1.0,9.4890152732...|       0.0|\n",
            "|         4.7|        3.2|         1.6|        0.2|    Setosa|       0.0|[4.7,3.2,1.6,0.2]|[62.5041664103744...|[1.0,6.1541780872...|       0.0|\n",
            "|         4.8|        3.0|         1.4|        0.1|    Setosa|       0.0|[4.8,3.0,1.4,0.1]|[59.6186681760073...|[1.0,1.4584305706...|       0.0|\n",
            "|         4.8|        3.0|         1.4|        0.3|    Setosa|       0.0|[4.8,3.0,1.4,0.3]|[54.3285918355187...|[1.0,7.0845275488...|       0.0|\n",
            "|         4.8|        3.1|         1.6|        0.2|    Setosa|       0.0|[4.8,3.1,1.6,0.2]|[58.0838018256456...|[1.0,3.6792648855...|       0.0|\n",
            "|         4.8|        3.4|         1.6|        0.2|    Setosa|       0.0|[4.8,3.4,1.6,0.2]|[68.6716087494237...|[1.0,1.3117510359...|       0.0|\n",
            "|         4.8|        3.4|         1.9|        0.2|    Setosa|       0.0|[4.8,3.4,1.9,0.2]|[65.0429630173585...|[1.0,8.5074681082...|       0.0|\n",
            "|         4.9|        2.4|         3.3|        1.0|Versicolor|       1.0|[4.9,2.4,3.3,1.0]|[-9.2348077836296...|[5.60296124082673...|       1.0|\n",
            "|         4.9|        2.5|         4.5|        1.7| Virginica|       2.0|[4.9,2.5,4.5,1.7]|[-38.735388929007...|[1.73753692383009...|       2.0|\n",
            "|         4.9|        3.0|         1.4|        0.2|    Setosa|       0.0|[4.9,3.0,1.4,0.2]|[56.0825343956269...|[1.0,1.3626556118...|       0.0|\n",
            "|         4.9|        3.1|         1.5|        0.1|    Setosa|       0.0|[4.9,3.1,1.5,0.1]|[61.0472929631089...|[1.0,1.7613809704...|       0.0|\n",
            "|         4.9|        3.1|         1.5|        0.2|    Setosa|       0.0|[4.9,3.1,1.5,0.2]|[58.4022547928645...|[1.0,3.8820923917...|       0.0|\n",
            "+------------+-----------+------------+-----------+----------+----------+-----------------+--------------------+--------------------+----------+\n",
            "only showing top 20 rows\n",
            "\n"
          ]
        }
      ]
    },
    {
      "cell_type": "code",
      "source": [
        "# предсказания на тестовой выборке\n",
        "test_res.show()"
      ],
      "metadata": {
        "colab": {
          "base_uri": "https://localhost:8080/"
        },
        "id": "AwSyhbj2lli4",
        "outputId": "b449fd9b-d3cf-4c77-ee0f-a7227160d38a"
      },
      "execution_count": 21,
      "outputs": [
        {
          "output_type": "stream",
          "name": "stdout",
          "text": [
            "+------------+-----------+------------+-----------+----------+----------+-----------------+--------------------+--------------------+----------+\n",
            "|sepal_length|sepal_width|petal_length|petal_width|   variety|varietyInd|         Features|       rawPrediction|         probability|prediction|\n",
            "+------------+-----------+------------+-----------+----------+----------+-----------------+--------------------+--------------------+----------+\n",
            "|         4.6|        3.2|         1.4|        0.2|    Setosa|       0.0|[4.6,3.2,1.4,0.2]|[65.8143591752207...|[1.0,8.9932431201...|       0.0|\n",
            "|         5.0|        3.0|         1.6|        0.2|    Setosa|       0.0|[5.0,3.0,1.6,0.2]|[52.7723416307807...|[1.0,9.3248066295...|       0.0|\n",
            "|         5.0|        3.2|         1.2|        0.2|    Setosa|       0.0|[5.0,3.2,1.2,0.2]|[64.6690738893863...|[1.0,1.7992914773...|       0.0|\n",
            "|         5.0|        3.5|         1.3|        0.3|    Setosa|       0.0|[5.0,3.5,1.3,0.3]|[71.4022940655650...|[1.0,5.6805112138...|       0.0|\n",
            "|         5.1|        3.5|         1.4|        0.3|    Setosa|       0.0|[5.1,3.5,1.4,0.3]|[69.3016498780739...|[1.0,9.6751604427...|       0.0|\n",
            "|         5.4|        3.4|         1.5|        0.4|    Setosa|       0.0|[5.4,3.4,1.5,0.4]|[59.2445073254735...|[1.0,9.2049254554...|       0.0|\n",
            "|         5.4|        3.9|         1.3|        0.4|    Setosa|       0.0|[5.4,3.9,1.3,0.4]|[79.3099493531470...|[1.0,1.0222056261...|       0.0|\n",
            "|         5.7|        2.8|         4.1|        1.3|Versicolor|       1.0|[5.7,2.8,4.1,1.3]|[-19.857999895921...|[2.92296739402976...|       1.0|\n",
            "|         6.1|        2.9|         4.7|        1.4|Versicolor|       1.0|[6.1,2.9,4.7,1.4]|[-29.795442996247...|[1.37507021891532...|       1.0|\n",
            "|         6.2|        2.2|         4.5|        1.5|Versicolor|       1.0|[6.2,2.2,4.5,1.5]|[-55.617362444066...|[1.89148902308776...|       1.0|\n",
            "|         6.2|        3.4|         5.4|        2.3| Virginica|       2.0|[6.2,3.4,5.4,2.3]|[-45.312377307104...|[1.05183032133338...|       2.0|\n",
            "|         6.4|        3.1|         5.5|        1.8| Virginica|       2.0|[6.4,3.1,5.5,1.8]|[-45.666733177288...|[1.40585868757656...|       2.0|\n",
            "|         6.5|        3.0|         5.2|        2.0| Virginica|       2.0|[6.5,3.0,5.2,2.0]|[-51.748528370440...|[7.53728472914469...|       2.0|\n",
            "|         6.5|        3.2|         5.1|        2.0| Virginica|       2.0|[6.5,3.2,5.1,2.0]|[-43.480441843900...|[5.51578248731895...|       2.0|\n",
            "|         6.7|        2.5|         5.8|        1.8| Virginica|       2.0|[6.7,2.5,5.8,1.8]|[-73.144279587317...|[8.71478137458529...|       2.0|\n",
            "|         6.7|        3.0|         5.2|        2.3| Virginica|       2.0|[6.7,3.0,5.2,2.3]|[-61.465834101445...|[3.17365707702393...|       2.0|\n",
            "|         6.7|        3.1|         4.7|        1.5|Versicolor|       1.0|[6.7,3.1,4.7,1.5]|[-30.728516878123...|[2.13953602238392...|       1.0|\n",
            "|         6.7|        3.3|         5.7|        2.5| Virginica|       2.0|[6.7,3.3,5.7,2.5]|[-62.215846404931...|[6.06480734858109...|       2.0|\n",
            "|         6.9|        3.1|         4.9|        1.5|Versicolor|       1.0|[6.9,3.1,4.9,1.5]|[-34.929805253105...|[7.36597936086620...|       1.0|\n",
            "|         6.9|        3.1|         5.4|        2.1| Virginica|       2.0|[6.9,3.1,5.4,2.1]|[-56.847777161346...|[1.39659261185467...|       2.0|\n",
            "+------------+-----------+------------+-----------+----------+----------+-----------------+--------------------+--------------------+----------+\n",
            "only showing top 20 rows\n",
            "\n"
          ]
        }
      ]
    },
    {
      "cell_type": "markdown",
      "source": [
        "Воспользоваться MulticlassClassificationEvaluator для оценки качества на train и test  множестве"
      ],
      "metadata": {
        "id": "mUPzs_7Zlq_L"
      }
    },
    {
      "cell_type": "code",
      "source": [
        "ev = MulticlassClassificationEvaluator(labelCol='varietyInd')\n",
        "print('Точность предсказания на обучающей выборке:', ev.evaluate(train_res)*100, '%')\n",
        "print('Точность предсказания на тестовой выборке:', ev.evaluate(test_res)*100, '%')"
      ],
      "metadata": {
        "colab": {
          "base_uri": "https://localhost:8080/"
        },
        "id": "YQWQpuaMluU2",
        "outputId": "e696ebe3-5bf0-4e84-9e3d-d0868b20f74a"
      },
      "execution_count": 23,
      "outputs": [
        {
          "output_type": "stream",
          "name": "stdout",
          "text": [
            "Точность предсказания на обучающей выборке: 98.44961240310077 %\n",
            "Точность предсказания на тестовой выборке: 100.0 %\n"
          ]
        }
      ]
    },
    {
      "cell_type": "markdown",
      "source": [
        "Полученные результаты указывают, что модели логистической регрессии можно доверять, так как точность предсказания на обучающей выборке составляет ~98%, что говорит о том, что модель не переобучилась; Точность предсказания на тестовой выборке в 100.0 % показывает, что предсказания полностью верны"
      ],
      "metadata": {
        "id": "t3inCoOIqBiB"
      }
    }
  ]
}