{
  "nbformat": 4,
  "nbformat_minor": 0,
  "metadata": {
    "colab": {
      "name": "Homework10.ipynb",
      "provenance": [],
      "collapsed_sections": [],
      "authorship_tag": "ABX9TyPT90/2DKnegc3NzgzffDNk",
      "include_colab_link": true
    },
    "kernelspec": {
      "name": "python3",
      "display_name": "Python 3"
    },
    "language_info": {
      "name": "python"
    }
  },
  "cells": [
    {
      "cell_type": "markdown",
      "metadata": {
        "id": "view-in-github",
        "colab_type": "text"
      },
      "source": [
        "<a href=\"https://colab.research.google.com/github/Katetuna/innopolis/blob/main/Homework10.ipynb\" target=\"_parent\"><img src=\"https://colab.research.google.com/assets/colab-badge.svg\" alt=\"Open In Colab\"/></a>"
      ]
    },
    {
      "cell_type": "markdown",
      "source": [
        "**Контекст задачи:**\n",
        "Косметологическая компания проводит тестирование усовершенствованной формулы средства для лица по лечению акне. Тестирование проводилось среди двух контрольных групп(ad_id) (контрольная(А) - со старой формулой и тестовая(В) - с новой формулой), которые отмечали(action) есть ли положительный эффект (1) или нет (0). Доказанная эффективность первоначальной формулы 20%, желаемый результат по приенению новой формулы  - повышение эффективности до 50%"
      ],
      "metadata": {
        "id": "rgNZmDBLoL9s"
      }
    },
    {
      "cell_type": "markdown",
      "source": [
        "Загрузка датафрейма и проверка содержимого:"
      ],
      "metadata": {
        "id": "6qOqNZSZs8bc"
      }
    },
    {
      "cell_type": "code",
      "source": [
        "import pandas as pd\n",
        "import numpy as np\n",
        "import seaborn as sns\n",
        "import scipy.stats as stats\n",
        "import matplotlib.pyplot as plt\n",
        "df = pd.read_csv('ad.csv')\n",
        "df.head()\n"
      ],
      "metadata": {
        "colab": {
          "base_uri": "https://localhost:8080/",
          "height": 206
        },
        "id": "a4usJOsktFZm",
        "outputId": "e29b582f-1437-45fa-aba1-715b44a22b6f"
      },
      "execution_count": 3,
      "outputs": [
        {
          "output_type": "execute_result",
          "data": {
            "text/html": [
              "\n",
              "  <div id=\"df-4d2c6588-5e80-49cc-902b-e3599c35bd08\">\n",
              "    <div class=\"colab-df-container\">\n",
              "      <div>\n",
              "<style scoped>\n",
              "    .dataframe tbody tr th:only-of-type {\n",
              "        vertical-align: middle;\n",
              "    }\n",
              "\n",
              "    .dataframe tbody tr th {\n",
              "        vertical-align: top;\n",
              "    }\n",
              "\n",
              "    .dataframe thead th {\n",
              "        text-align: right;\n",
              "    }\n",
              "</style>\n",
              "<table border=\"1\" class=\"dataframe\">\n",
              "  <thead>\n",
              "    <tr style=\"text-align: right;\">\n",
              "      <th></th>\n",
              "      <th>ad_id</th>\n",
              "      <th>action</th>\n",
              "    </tr>\n",
              "  </thead>\n",
              "  <tbody>\n",
              "    <tr>\n",
              "      <th>0</th>\n",
              "      <td>B</td>\n",
              "      <td>1</td>\n",
              "    </tr>\n",
              "    <tr>\n",
              "      <th>1</th>\n",
              "      <td>B</td>\n",
              "      <td>1</td>\n",
              "    </tr>\n",
              "    <tr>\n",
              "      <th>2</th>\n",
              "      <td>A</td>\n",
              "      <td>0</td>\n",
              "    </tr>\n",
              "    <tr>\n",
              "      <th>3</th>\n",
              "      <td>B</td>\n",
              "      <td>0</td>\n",
              "    </tr>\n",
              "    <tr>\n",
              "      <th>4</th>\n",
              "      <td>A</td>\n",
              "      <td>1</td>\n",
              "    </tr>\n",
              "  </tbody>\n",
              "</table>\n",
              "</div>\n",
              "      <button class=\"colab-df-convert\" onclick=\"convertToInteractive('df-4d2c6588-5e80-49cc-902b-e3599c35bd08')\"\n",
              "              title=\"Convert this dataframe to an interactive table.\"\n",
              "              style=\"display:none;\">\n",
              "        \n",
              "  <svg xmlns=\"http://www.w3.org/2000/svg\" height=\"24px\"viewBox=\"0 0 24 24\"\n",
              "       width=\"24px\">\n",
              "    <path d=\"M0 0h24v24H0V0z\" fill=\"none\"/>\n",
              "    <path d=\"M18.56 5.44l.94 2.06.94-2.06 2.06-.94-2.06-.94-.94-2.06-.94 2.06-2.06.94zm-11 1L8.5 8.5l.94-2.06 2.06-.94-2.06-.94L8.5 2.5l-.94 2.06-2.06.94zm10 10l.94 2.06.94-2.06 2.06-.94-2.06-.94-.94-2.06-.94 2.06-2.06.94z\"/><path d=\"M17.41 7.96l-1.37-1.37c-.4-.4-.92-.59-1.43-.59-.52 0-1.04.2-1.43.59L10.3 9.45l-7.72 7.72c-.78.78-.78 2.05 0 2.83L4 21.41c.39.39.9.59 1.41.59.51 0 1.02-.2 1.41-.59l7.78-7.78 2.81-2.81c.8-.78.8-2.07 0-2.86zM5.41 20L4 18.59l7.72-7.72 1.47 1.35L5.41 20z\"/>\n",
              "  </svg>\n",
              "      </button>\n",
              "      \n",
              "  <style>\n",
              "    .colab-df-container {\n",
              "      display:flex;\n",
              "      flex-wrap:wrap;\n",
              "      gap: 12px;\n",
              "    }\n",
              "\n",
              "    .colab-df-convert {\n",
              "      background-color: #E8F0FE;\n",
              "      border: none;\n",
              "      border-radius: 50%;\n",
              "      cursor: pointer;\n",
              "      display: none;\n",
              "      fill: #1967D2;\n",
              "      height: 32px;\n",
              "      padding: 0 0 0 0;\n",
              "      width: 32px;\n",
              "    }\n",
              "\n",
              "    .colab-df-convert:hover {\n",
              "      background-color: #E2EBFA;\n",
              "      box-shadow: 0px 1px 2px rgba(60, 64, 67, 0.3), 0px 1px 3px 1px rgba(60, 64, 67, 0.15);\n",
              "      fill: #174EA6;\n",
              "    }\n",
              "\n",
              "    [theme=dark] .colab-df-convert {\n",
              "      background-color: #3B4455;\n",
              "      fill: #D2E3FC;\n",
              "    }\n",
              "\n",
              "    [theme=dark] .colab-df-convert:hover {\n",
              "      background-color: #434B5C;\n",
              "      box-shadow: 0px 1px 3px 1px rgba(0, 0, 0, 0.15);\n",
              "      filter: drop-shadow(0px 1px 2px rgba(0, 0, 0, 0.3));\n",
              "      fill: #FFFFFF;\n",
              "    }\n",
              "  </style>\n",
              "\n",
              "      <script>\n",
              "        const buttonEl =\n",
              "          document.querySelector('#df-4d2c6588-5e80-49cc-902b-e3599c35bd08 button.colab-df-convert');\n",
              "        buttonEl.style.display =\n",
              "          google.colab.kernel.accessAllowed ? 'block' : 'none';\n",
              "\n",
              "        async function convertToInteractive(key) {\n",
              "          const element = document.querySelector('#df-4d2c6588-5e80-49cc-902b-e3599c35bd08');\n",
              "          const dataTable =\n",
              "            await google.colab.kernel.invokeFunction('convertToInteractive',\n",
              "                                                     [key], {});\n",
              "          if (!dataTable) return;\n",
              "\n",
              "          const docLinkHtml = 'Like what you see? Visit the ' +\n",
              "            '<a target=\"_blank\" href=https://colab.research.google.com/notebooks/data_table.ipynb>data table notebook</a>'\n",
              "            + ' to learn more about interactive tables.';\n",
              "          element.innerHTML = '';\n",
              "          dataTable['output_type'] = 'display_data';\n",
              "          await google.colab.output.renderOutput(dataTable, element);\n",
              "          const docLink = document.createElement('div');\n",
              "          docLink.innerHTML = docLinkHtml;\n",
              "          element.appendChild(docLink);\n",
              "        }\n",
              "      </script>\n",
              "    </div>\n",
              "  </div>\n",
              "  "
            ],
            "text/plain": [
              "  ad_id  action\n",
              "0     B       1\n",
              "1     B       1\n",
              "2     A       0\n",
              "3     B       0\n",
              "4     A       1"
            ]
          },
          "metadata": {},
          "execution_count": 3
        }
      ]
    },
    {
      "cell_type": "markdown",
      "source": [
        "\n",
        "**Таким образом:** Датасет содежит 2 столбца: объявление (A/B) и действие (0/1)."
      ],
      "metadata": {
        "id": "d3T-X7jfoBGj"
      }
    },
    {
      "cell_type": "markdown",
      "source": [
        "Проверка распределения значений, действительно ли результаты группы В лучше"
      ],
      "metadata": {
        "id": "h9oWhqnNtdtd"
      }
    },
    {
      "cell_type": "code",
      "source": [
        "sns.histplot(data=df, x=\"action\", hue=\"ad_id\", multiple=\"dodge\")"
      ],
      "metadata": {
        "colab": {
          "base_uri": "https://localhost:8080/",
          "height": 296
        },
        "id": "Jupr42G7txLf",
        "outputId": "bd34b938-5468-4227-f3f6-1ea0aa12f9ea"
      },
      "execution_count": 4,
      "outputs": [
        {
          "output_type": "execute_result",
          "data": {
            "text/plain": [
              "<matplotlib.axes._subplots.AxesSubplot at 0x7fb729b8e510>"
            ]
          },
          "metadata": {},
          "execution_count": 4
        },
        {
          "output_type": "display_data",
          "data": {
            "image/png": "[encoded data removed]",
            "text/plain": [
              "<Figure size 432x288 with 1 Axes>"
            ]
          },
          "metadata": {
            "needs_background": "light"
          }
        }
      ]
    },
    {
      "cell_type": "markdown",
      "source": [
        "Распределение данных дискретное, которое принимает на вход только два значения: 0 и 1. Кол-во 1 в группе B выше, чем в группе А.\n",
        "В свзяи с этим необходима проверка, не случайна ли данная разница в значениях."
      ],
      "metadata": {
        "id": "K6qnV5k1uM1J"
      }
    },
    {
      "cell_type": "markdown",
      "source": [
        "**Формулировка гипотезы:**\n",
        "\n",
        "H0: p(a) = p(b)\n",
        "\n",
        "H1: p(a) ≠ p(b)\n",
        "\n",
        "где p(a) и p(b) означают положительный эффект старой и новой формулы соотвественно. \n",
        "\n",
        "95% - уровень доверия\n",
        "\n",
        "5% -  порог ошибки первого рода ( α = 0,05)\n",
        "\n",
        "В результате решения данной задачи, мы хотим быть на 95% уверены, что эффективность новой формулы статистически отличается от эффективности прежней формулы, прежде чем отклонить нулевую гипотезу H0."
      ],
      "metadata": {
        "id": "aPS_jayFqh7P"
      }
    },
    {
      "cell_type": "markdown",
      "source": [
        "**Проверка гипотезы:**\n",
        "В связи с тем,что распределение дискретное и разброс значений мал, проверку гипотезы будем проводить оценку с помощью Z-теста (z-критерий Фишера)."
      ],
      "metadata": {
        "id": "DCnEutfBxuUH"
      }
    },
    {
      "cell_type": "code",
      "source": [
        "#порог ошибки первого рода\n",
        "alpha = 0.05\n",
        "#Импорт библиотеки для расчета Z статистики\n",
        "from statsmodels.stats.proportion import proportions_ztest, proportion_confint\n",
        "\n",
        "control_results = df[df['ad_id'] == 'A']['action']\n",
        "test_results = df[df['ad_id'] == 'B']['action']\n",
        "\n",
        "#Считаем кол-во элементов в каждой группе\n",
        "nobs = [control_results.count(), test_results.count()]\n",
        "\n",
        "#Считаем кол-во эффективных результатов в каждой группе\n",
        "successes = [control_results.sum(), test_results.sum()]\n",
        "\n",
        "z_stat, pval = proportions_ztest(successes, nobs)\n",
        "\n",
        "print('z statistic:', z_stat)\n",
        "print('p-value:', pval)\n",
        "\n",
        "#Итоги проверки гипотезы:\n",
        "if pval<alpha:\n",
        "  print(\"результат эксперимента можно считать статзначимым, Н0 гипотеза отклонена\")\n",
        "else:\n",
        "  print(\"разница в значениях тестовой и контрольной группы случайна, Н0 гипотезу отклонять нельзя\")"
      ],
      "metadata": {
        "colab": {
          "base_uri": "https://localhost:8080/"
        },
        "id": "nJDEFwy9xxMG",
        "outputId": "edd3f5e6-c743-4454-81c7-bed4599b3e67"
      },
      "execution_count": 7,
      "outputs": [
        {
          "output_type": "stream",
          "name": "stdout",
          "text": [
            "z statistic: -3.2144492244084213\n",
            "p-value: 0.0013069502732125403\n",
            "результат эксперимента можно считать статзначимым, Н0 гипотеза отклонена\n"
          ]
        }
      ]
    },
    {
      "cell_type": "markdown",
      "source": [
        "**Проверка** доверительных интервалов (повысилась ли эффективность до желаемого уровня?):"
      ],
      "metadata": {
        "id": "qQbinP0K2JXC"
      }
    },
    {
      "cell_type": "code",
      "source": [
        "#ожидаемый уровень эффективности:\n",
        "level_B = 0.5\n",
        "(lower_con, lower_test), (upper_con, upper_test) = proportion_confint(successes, nobs=nobs, alpha=alpha)\n",
        "\n",
        "print('Доверительный интервал для контрольной группы A:', lower_con, ' - ', upper_con)\n",
        "print('Доверительный интервал для тестовой группы B:', lower_test, ' - ', upper_test)\n",
        "if upper_test < level_B:\n",
        "  print(\"Эффективность не достигла желаемого уровня\")\n",
        "else:\n",
        "  print('Уровень эффективности соответствует ожиданиям')"
      ],
      "metadata": {
        "colab": {
          "base_uri": "https://localhost:8080/"
        },
        "id": "DcqharqL2VCx",
        "outputId": "083a5b44-3fac-4025-ad2f-0dbbf995b75e"
      },
      "execution_count": 12,
      "outputs": [
        {
          "output_type": "stream",
          "name": "stdout",
          "text": [
            "Доверительный интервал для контрольной группы A: 0.2754905064387712  -  0.3325094935612288\n",
            "Доверительный интервал для тестовой группы B: 0.3420429266473629  -  0.4019570733526371\n",
            "Эффективность не достигла желаемого уровня\n"
          ]
        }
      ]
    }
  ]
}