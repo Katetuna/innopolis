{
  "nbformat": 4,
  "nbformat_minor": 0,
  "metadata": {
    "colab": {
      "name": "аттестация",
      "provenance": [],
      "collapsed_sections": [
        "Fz2kNCH4fdS_",
        "q8gTgMtTVpYE",
        "rCQpzmsD145G"
      ],
      "include_colab_link": true
    },
    "kernelspec": {
      "name": "python3",
      "display_name": "Python 3"
    },
    "language_info": {
      "name": "python"
    }
  },
  "cells": [
    {
      "cell_type": "markdown",
      "metadata": {
        "id": "view-in-github",
        "colab_type": "text"
      },
      "source": [
        "<a href=\"https://colab.research.google.com/github/Katetuna/innopolis/blob/main/%D0%B0%D1%82%D1%82%D0%B5%D1%81%D1%82%D0%B0%D1%86%D0%B8%D1%8F.ipynb\" target=\"_parent\"><img src=\"https://colab.research.google.com/assets/colab-badge.svg\" alt=\"Open In Colab\"/></a>"
      ]
    },
    {
      "cell_type": "markdown",
      "metadata": {
        "id": "mXOkIsa2OJWh"
      },
      "source": [
        "# Димполная работа на тему \"Анализ и прогнозирование временного ряда на основе данных о продажах акций компании ТЕСЛА за период с 2010 - 2020 года\""
      ]
    },
    {
      "cell_type": "markdown",
      "metadata": {
        "id": "1zQr-DRYOJUN"
      },
      "source": [
        "## Введение. Постановка целей и задач."
      ]
    },
    {
      "cell_type": "markdown",
      "source": [
        "Акции TSLA выросли в 2020 году с сумасшедшим всплеском + 100% только за 30 дней. Проанализировав данные, может быть, мы сможем узнать, почему? А также спрогнозировать на основании нескольких моделей, выбрав лучшую, будет ли стоимость акций расти или снижаться в будущем."
      ],
      "metadata": {
        "id": "LIkGgzI5nRUN"
      }
    },
    {
      "cell_type": "markdown",
      "metadata": {
        "id": "fsEnvXWXUe2z"
      },
      "source": [
        "### Импорт Датафрейма, библиотек, написание функций."
      ]
    },
    {
      "cell_type": "code",
      "source": [
        "!pip install pmdarima"
      ],
      "metadata": {
        "id": "OVwugCuNj7f7",
        "colab": {
          "base_uri": "https://localhost:8080/"
        },
        "outputId": "9ace788a-35eb-4bfb-b674-0e2d6a276246"
      },
      "execution_count": 1,
      "outputs": [
        {
          "output_type": "stream",
          "name": "stdout",
          "text": [
            "Collecting pmdarima\n",
            "  Downloading pmdarima-1.8.5-cp37-cp37m-manylinux_2_17_x86_64.manylinux2014_x86_64.manylinux_2_24_x86_64.whl (1.4 MB)\n",
            "\u001b[?25l\r\u001b[K     |▎                               | 10 kB 19.0 MB/s eta 0:00:01\r\u001b[K     |▌                               | 20 kB 22.9 MB/s eta 0:00:01\r\u001b[K     |▊                               | 30 kB 27.4 MB/s eta 0:00:01\r\u001b[K     |█                               | 40 kB 22.9 MB/s eta 0:00:01\r\u001b[K     |█▏                              | 51 kB 16.3 MB/s eta 0:00:01\r\u001b[K     |█▍                              | 61 kB 18.2 MB/s eta 0:00:01\r\u001b[K     |█▋                              | 71 kB 19.7 MB/s eta 0:00:01\r\u001b[K     |██                              | 81 kB 20.3 MB/s eta 0:00:01\r\u001b[K     |██▏                             | 92 kB 21.9 MB/s eta 0:00:01\r\u001b[K     |██▍                             | 102 kB 21.8 MB/s eta 0:00:01\r\u001b[K     |██▋                             | 112 kB 21.8 MB/s eta 0:00:01\r\u001b[K     |██▉                             | 122 kB 21.8 MB/s eta 0:00:01\r\u001b[K     |███                             | 133 kB 21.8 MB/s eta 0:00:01\r\u001b[K     |███▎                            | 143 kB 21.8 MB/s eta 0:00:01\r\u001b[K     |███▌                            | 153 kB 21.8 MB/s eta 0:00:01\r\u001b[K     |███▉                            | 163 kB 21.8 MB/s eta 0:00:01\r\u001b[K     |████                            | 174 kB 21.8 MB/s eta 0:00:01\r\u001b[K     |████▎                           | 184 kB 21.8 MB/s eta 0:00:01\r\u001b[K     |████▌                           | 194 kB 21.8 MB/s eta 0:00:01\r\u001b[K     |████▊                           | 204 kB 21.8 MB/s eta 0:00:01\r\u001b[K     |█████                           | 215 kB 21.8 MB/s eta 0:00:01\r\u001b[K     |█████▏                          | 225 kB 21.8 MB/s eta 0:00:01\r\u001b[K     |█████▍                          | 235 kB 21.8 MB/s eta 0:00:01\r\u001b[K     |█████▊                          | 245 kB 21.8 MB/s eta 0:00:01\r\u001b[K     |██████                          | 256 kB 21.8 MB/s eta 0:00:01\r\u001b[K     |██████▏                         | 266 kB 21.8 MB/s eta 0:00:01\r\u001b[K     |██████▍                         | 276 kB 21.8 MB/s eta 0:00:01\r\u001b[K     |██████▋                         | 286 kB 21.8 MB/s eta 0:00:01\r\u001b[K     |██████▉                         | 296 kB 21.8 MB/s eta 0:00:01\r\u001b[K     |███████                         | 307 kB 21.8 MB/s eta 0:00:01\r\u001b[K     |███████▎                        | 317 kB 21.8 MB/s eta 0:00:01\r\u001b[K     |███████▋                        | 327 kB 21.8 MB/s eta 0:00:01\r\u001b[K     |███████▉                        | 337 kB 21.8 MB/s eta 0:00:01\r\u001b[K     |████████                        | 348 kB 21.8 MB/s eta 0:00:01\r\u001b[K     |████████▎                       | 358 kB 21.8 MB/s eta 0:00:01\r\u001b[K     |████████▌                       | 368 kB 21.8 MB/s eta 0:00:01\r\u001b[K     |████████▊                       | 378 kB 21.8 MB/s eta 0:00:01\r\u001b[K     |█████████                       | 389 kB 21.8 MB/s eta 0:00:01\r\u001b[K     |█████████▎                      | 399 kB 21.8 MB/s eta 0:00:01\r\u001b[K     |█████████▌                      | 409 kB 21.8 MB/s eta 0:00:01\r\u001b[K     |█████████▊                      | 419 kB 21.8 MB/s eta 0:00:01\r\u001b[K     |██████████                      | 430 kB 21.8 MB/s eta 0:00:01\r\u001b[K     |██████████▏                     | 440 kB 21.8 MB/s eta 0:00:01\r\u001b[K     |██████████▍                     | 450 kB 21.8 MB/s eta 0:00:01\r\u001b[K     |██████████▋                     | 460 kB 21.8 MB/s eta 0:00:01\r\u001b[K     |██████████▉                     | 471 kB 21.8 MB/s eta 0:00:01\r\u001b[K     |███████████▏                    | 481 kB 21.8 MB/s eta 0:00:01\r\u001b[K     |███████████▍                    | 491 kB 21.8 MB/s eta 0:00:01\r\u001b[K     |███████████▋                    | 501 kB 21.8 MB/s eta 0:00:01\r\u001b[K     |███████████▉                    | 512 kB 21.8 MB/s eta 0:00:01\r\u001b[K     |████████████                    | 522 kB 21.8 MB/s eta 0:00:01\r\u001b[K     |████████████▎                   | 532 kB 21.8 MB/s eta 0:00:01\r\u001b[K     |████████████▌                   | 542 kB 21.8 MB/s eta 0:00:01\r\u001b[K     |████████████▊                   | 552 kB 21.8 MB/s eta 0:00:01\r\u001b[K     |█████████████                   | 563 kB 21.8 MB/s eta 0:00:01\r\u001b[K     |█████████████▎                  | 573 kB 21.8 MB/s eta 0:00:01\r\u001b[K     |█████████████▌                  | 583 kB 21.8 MB/s eta 0:00:01\r\u001b[K     |█████████████▊                  | 593 kB 21.8 MB/s eta 0:00:01\r\u001b[K     |██████████████                  | 604 kB 21.8 MB/s eta 0:00:01\r\u001b[K     |██████████████▏                 | 614 kB 21.8 MB/s eta 0:00:01\r\u001b[K     |██████████████▍                 | 624 kB 21.8 MB/s eta 0:00:01\r\u001b[K     |██████████████▋                 | 634 kB 21.8 MB/s eta 0:00:01\r\u001b[K     |███████████████                 | 645 kB 21.8 MB/s eta 0:00:01\r\u001b[K     |███████████████▏                | 655 kB 21.8 MB/s eta 0:00:01\r\u001b[K     |███████████████▍                | 665 kB 21.8 MB/s eta 0:00:01\r\u001b[K     |███████████████▋                | 675 kB 21.8 MB/s eta 0:00:01\r\u001b[K     |███████████████▉                | 686 kB 21.8 MB/s eta 0:00:01\r\u001b[K     |████████████████                | 696 kB 21.8 MB/s eta 0:00:01\r\u001b[K     |████████████████▎               | 706 kB 21.8 MB/s eta 0:00:01\r\u001b[K     |████████████████▋               | 716 kB 21.8 MB/s eta 0:00:01\r\u001b[K     |████████████████▉               | 727 kB 21.8 MB/s eta 0:00:01\r\u001b[K     |█████████████████               | 737 kB 21.8 MB/s eta 0:00:01\r\u001b[K     |█████████████████▎              | 747 kB 21.8 MB/s eta 0:00:01\r\u001b[K     |█████████████████▌              | 757 kB 21.8 MB/s eta 0:00:01\r\u001b[K     |█████████████████▊              | 768 kB 21.8 MB/s eta 0:00:01\r\u001b[K     |██████████████████              | 778 kB 21.8 MB/s eta 0:00:01\r\u001b[K     |██████████████████▏             | 788 kB 21.8 MB/s eta 0:00:01\r\u001b[K     |██████████████████▌             | 798 kB 21.8 MB/s eta 0:00:01\r\u001b[K     |██████████████████▊             | 808 kB 21.8 MB/s eta 0:00:01\r\u001b[K     |███████████████████             | 819 kB 21.8 MB/s eta 0:00:01\r\u001b[K     |███████████████████▏            | 829 kB 21.8 MB/s eta 0:00:01\r\u001b[K     |███████████████████▍            | 839 kB 21.8 MB/s eta 0:00:01\r\u001b[K     |███████████████████▋            | 849 kB 21.8 MB/s eta 0:00:01\r\u001b[K     |███████████████████▉            | 860 kB 21.8 MB/s eta 0:00:01\r\u001b[K     |████████████████████            | 870 kB 21.8 MB/s eta 0:00:01\r\u001b[K     |████████████████████▍           | 880 kB 21.8 MB/s eta 0:00:01\r\u001b[K     |████████████████████▋           | 890 kB 21.8 MB/s eta 0:00:01\r\u001b[K     |████████████████████▉           | 901 kB 21.8 MB/s eta 0:00:01\r\u001b[K     |█████████████████████           | 911 kB 21.8 MB/s eta 0:00:01\r\u001b[K     |█████████████████████▎          | 921 kB 21.8 MB/s eta 0:00:01\r\u001b[K     |█████████████████████▌          | 931 kB 21.8 MB/s eta 0:00:01\r\u001b[K     |█████████████████████▊          | 942 kB 21.8 MB/s eta 0:00:01\r\u001b[K     |██████████████████████          | 952 kB 21.8 MB/s eta 0:00:01\r\u001b[K     |██████████████████████▎         | 962 kB 21.8 MB/s eta 0:00:01\r\u001b[K     |██████████████████████▌         | 972 kB 21.8 MB/s eta 0:00:01\r\u001b[K     |██████████████████████▊         | 983 kB 21.8 MB/s eta 0:00:01\r\u001b[K     |███████████████████████         | 993 kB 21.8 MB/s eta 0:00:01\r\u001b[K     |███████████████████████▏        | 1.0 MB 21.8 MB/s eta 0:00:01\r\u001b[K     |███████████████████████▍        | 1.0 MB 21.8 MB/s eta 0:00:01\r\u001b[K     |███████████████████████▋        | 1.0 MB 21.8 MB/s eta 0:00:01\r\u001b[K     |████████████████████████        | 1.0 MB 21.8 MB/s eta 0:00:01\r\u001b[K     |████████████████████████▏       | 1.0 MB 21.8 MB/s eta 0:00:01\r\u001b[K     |████████████████████████▍       | 1.1 MB 21.8 MB/s eta 0:00:01\r\u001b[K     |████████████████████████▋       | 1.1 MB 21.8 MB/s eta 0:00:01\r\u001b[K     |████████████████████████▉       | 1.1 MB 21.8 MB/s eta 0:00:01\r\u001b[K     |█████████████████████████       | 1.1 MB 21.8 MB/s eta 0:00:01\r\u001b[K     |█████████████████████████▎      | 1.1 MB 21.8 MB/s eta 0:00:01\r\u001b[K     |█████████████████████████▌      | 1.1 MB 21.8 MB/s eta 0:00:01\r\u001b[K     |█████████████████████████▉      | 1.1 MB 21.8 MB/s eta 0:00:01\r\u001b[K     |██████████████████████████      | 1.1 MB 21.8 MB/s eta 0:00:01\r\u001b[K     |██████████████████████████▎     | 1.1 MB 21.8 MB/s eta 0:00:01\r\u001b[K     |██████████████████████████▌     | 1.1 MB 21.8 MB/s eta 0:00:01\r\u001b[K     |██████████████████████████▊     | 1.2 MB 21.8 MB/s eta 0:00:01\r\u001b[K     |███████████████████████████     | 1.2 MB 21.8 MB/s eta 0:00:01\r\u001b[K     |███████████████████████████▏    | 1.2 MB 21.8 MB/s eta 0:00:01\r\u001b[K     |███████████████████████████▍    | 1.2 MB 21.8 MB/s eta 0:00:01\r\u001b[K     |███████████████████████████▊    | 1.2 MB 21.8 MB/s eta 0:00:01\r\u001b[K     |████████████████████████████    | 1.2 MB 21.8 MB/s eta 0:00:01\r\u001b[K     |████████████████████████████▏   | 1.2 MB 21.8 MB/s eta 0:00:01\r\u001b[K     |████████████████████████████▍   | 1.2 MB 21.8 MB/s eta 0:00:01\r\u001b[K     |████████████████████████████▋   | 1.2 MB 21.8 MB/s eta 0:00:01\r\u001b[K     |████████████████████████████▉   | 1.2 MB 21.8 MB/s eta 0:00:01\r\u001b[K     |█████████████████████████████   | 1.3 MB 21.8 MB/s eta 0:00:01\r\u001b[K     |█████████████████████████████▎  | 1.3 MB 21.8 MB/s eta 0:00:01\r\u001b[K     |█████████████████████████████▋  | 1.3 MB 21.8 MB/s eta 0:00:01\r\u001b[K     |█████████████████████████████▉  | 1.3 MB 21.8 MB/s eta 0:00:01\r\u001b[K     |██████████████████████████████  | 1.3 MB 21.8 MB/s eta 0:00:01\r\u001b[K     |██████████████████████████████▎ | 1.3 MB 21.8 MB/s eta 0:00:01\r\u001b[K     |██████████████████████████████▌ | 1.3 MB 21.8 MB/s eta 0:00:01\r\u001b[K     |██████████████████████████████▊ | 1.3 MB 21.8 MB/s eta 0:00:01\r\u001b[K     |███████████████████████████████ | 1.3 MB 21.8 MB/s eta 0:00:01\r\u001b[K     |███████████████████████████████▎| 1.4 MB 21.8 MB/s eta 0:00:01\r\u001b[K     |███████████████████████████████▌| 1.4 MB 21.8 MB/s eta 0:00:01\r\u001b[K     |███████████████████████████████▊| 1.4 MB 21.8 MB/s eta 0:00:01\r\u001b[K     |████████████████████████████████| 1.4 MB 21.8 MB/s eta 0:00:01\r\u001b[K     |████████████████████████████████| 1.4 MB 21.8 MB/s \n",
            "\u001b[?25hRequirement already satisfied: urllib3 in /usr/local/lib/python3.7/dist-packages (from pmdarima) (1.24.3)\n",
            "Collecting statsmodels!=0.12.0,>=0.11\n",
            "  Downloading statsmodels-0.13.2-cp37-cp37m-manylinux_2_17_x86_64.manylinux2014_x86_64.whl (9.8 MB)\n",
            "\u001b[K     |████████████████████████████████| 9.8 MB 42.2 MB/s \n",
            "\u001b[?25hRequirement already satisfied: setuptools!=50.0.0,>=38.6.0 in /usr/local/lib/python3.7/dist-packages (from pmdarima) (57.4.0)\n",
            "Requirement already satisfied: Cython!=0.29.18,>=0.29 in /usr/local/lib/python3.7/dist-packages (from pmdarima) (0.29.28)\n",
            "Requirement already satisfied: scikit-learn>=0.22 in /usr/local/lib/python3.7/dist-packages (from pmdarima) (1.0.2)\n",
            "Requirement already satisfied: scipy>=1.3.2 in /usr/local/lib/python3.7/dist-packages (from pmdarima) (1.4.1)\n",
            "Requirement already satisfied: joblib>=0.11 in /usr/local/lib/python3.7/dist-packages (from pmdarima) (1.1.0)\n",
            "Requirement already satisfied: pandas>=0.19 in /usr/local/lib/python3.7/dist-packages (from pmdarima) (1.3.5)\n",
            "Requirement already satisfied: numpy>=1.19.3 in /usr/local/lib/python3.7/dist-packages (from pmdarima) (1.21.5)\n",
            "Requirement already satisfied: python-dateutil>=2.7.3 in /usr/local/lib/python3.7/dist-packages (from pandas>=0.19->pmdarima) (2.8.2)\n",
            "Requirement already satisfied: pytz>=2017.3 in /usr/local/lib/python3.7/dist-packages (from pandas>=0.19->pmdarima) (2018.9)\n",
            "Requirement already satisfied: six>=1.5 in /usr/local/lib/python3.7/dist-packages (from python-dateutil>=2.7.3->pandas>=0.19->pmdarima) (1.15.0)\n",
            "Requirement already satisfied: threadpoolctl>=2.0.0 in /usr/local/lib/python3.7/dist-packages (from scikit-learn>=0.22->pmdarima) (3.1.0)\n",
            "Requirement already satisfied: packaging>=21.3 in /usr/local/lib/python3.7/dist-packages (from statsmodels!=0.12.0,>=0.11->pmdarima) (21.3)\n",
            "Requirement already satisfied: patsy>=0.5.2 in /usr/local/lib/python3.7/dist-packages (from statsmodels!=0.12.0,>=0.11->pmdarima) (0.5.2)\n",
            "Requirement already satisfied: pyparsing!=3.0.5,>=2.0.2 in /usr/local/lib/python3.7/dist-packages (from packaging>=21.3->statsmodels!=0.12.0,>=0.11->pmdarima) (3.0.7)\n",
            "Installing collected packages: statsmodels, pmdarima\n",
            "  Attempting uninstall: statsmodels\n",
            "    Found existing installation: statsmodels 0.10.2\n",
            "    Uninstalling statsmodels-0.10.2:\n",
            "      Successfully uninstalled statsmodels-0.10.2\n",
            "Successfully installed pmdarima-1.8.5 statsmodels-0.13.2\n"
          ]
        }
      ]
    },
    {
      "cell_type": "code",
      "source": [
        "# загружаем fbprophet\n",
        "!pip install fbprophet"
      ],
      "metadata": {
        "colab": {
          "base_uri": "https://localhost:8080/"
        },
        "id": "gtj5kChvJsra",
        "outputId": "c37b8df4-a807-46a6-a94b-ba764a796645"
      },
      "execution_count": 125,
      "outputs": [
        {
          "output_type": "stream",
          "name": "stdout",
          "text": [
            "Requirement already satisfied: fbprophet in /usr/local/lib/python3.7/dist-packages (0.7.1)\n",
            "Requirement already satisfied: Cython>=0.22 in /usr/local/lib/python3.7/dist-packages (from fbprophet) (0.29.28)\n",
            "Requirement already satisfied: cmdstanpy==0.9.5 in /usr/local/lib/python3.7/dist-packages (from fbprophet) (0.9.5)\n",
            "Requirement already satisfied: pystan>=2.14 in /usr/local/lib/python3.7/dist-packages (from fbprophet) (2.19.1.1)\n",
            "Requirement already satisfied: numpy>=1.15.4 in /usr/local/lib/python3.7/dist-packages (from fbprophet) (1.21.5)\n",
            "Requirement already satisfied: pandas>=1.0.4 in /usr/local/lib/python3.7/dist-packages (from fbprophet) (1.3.5)\n",
            "Requirement already satisfied: matplotlib>=2.0.0 in /usr/local/lib/python3.7/dist-packages (from fbprophet) (3.2.2)\n",
            "Requirement already satisfied: LunarCalendar>=0.0.9 in /usr/local/lib/python3.7/dist-packages (from fbprophet) (0.0.9)\n",
            "Requirement already satisfied: convertdate>=2.1.2 in /usr/local/lib/python3.7/dist-packages (from fbprophet) (2.4.0)\n",
            "Requirement already satisfied: holidays>=0.10.2 in /usr/local/lib/python3.7/dist-packages (from fbprophet) (0.10.5.2)\n",
            "Requirement already satisfied: setuptools-git>=1.2 in /usr/local/lib/python3.7/dist-packages (from fbprophet) (1.2)\n",
            "Requirement already satisfied: python-dateutil>=2.8.0 in /usr/local/lib/python3.7/dist-packages (from fbprophet) (2.8.2)\n",
            "Requirement already satisfied: tqdm>=4.36.1 in /usr/local/lib/python3.7/dist-packages (from fbprophet) (4.63.0)\n",
            "Requirement already satisfied: pymeeus<=1,>=0.3.13 in /usr/local/lib/python3.7/dist-packages (from convertdate>=2.1.2->fbprophet) (0.5.11)\n",
            "Requirement already satisfied: korean-lunar-calendar in /usr/local/lib/python3.7/dist-packages (from holidays>=0.10.2->fbprophet) (0.2.1)\n",
            "Requirement already satisfied: six in /usr/local/lib/python3.7/dist-packages (from holidays>=0.10.2->fbprophet) (1.15.0)\n",
            "Requirement already satisfied: hijri-converter in /usr/local/lib/python3.7/dist-packages (from holidays>=0.10.2->fbprophet) (2.2.3)\n",
            "Requirement already satisfied: pytz in /usr/local/lib/python3.7/dist-packages (from LunarCalendar>=0.0.9->fbprophet) (2018.9)\n",
            "Requirement already satisfied: ephem>=3.7.5.3 in /usr/local/lib/python3.7/dist-packages (from LunarCalendar>=0.0.9->fbprophet) (4.1.3)\n",
            "Requirement already satisfied: cycler>=0.10 in /usr/local/lib/python3.7/dist-packages (from matplotlib>=2.0.0->fbprophet) (0.11.0)\n",
            "Requirement already satisfied: pyparsing!=2.0.4,!=2.1.2,!=2.1.6,>=2.0.1 in /usr/local/lib/python3.7/dist-packages (from matplotlib>=2.0.0->fbprophet) (3.0.7)\n",
            "Requirement already satisfied: kiwisolver>=1.0.1 in /usr/local/lib/python3.7/dist-packages (from matplotlib>=2.0.0->fbprophet) (1.3.2)\n"
          ]
        }
      ]
    },
    {
      "cell_type": "code",
      "metadata": {
        "id": "Y9HhQemGU6vC"
      },
      "source": [
        "# Здесь импортируем библиотеки и функции \n",
        "import pandas as pd\n",
        "import numpy as np\n",
        "import matplotlib.pyplot as plt"
      ],
      "execution_count": 2,
      "outputs": []
    },
    {
      "cell_type": "code",
      "source": [
        "# импорт SARIMAX \n",
        "from statsmodels.tsa.statespace.sarimax import SARIMAX\n",
        "from statsmodels.tsa.stattools import adfuller, acovf, acf, pacf, pacf_yw, pacf_ols #функции частичной и автокорреляции\n",
        "from statsmodels.graphics.tsaplots import plot_acf,plot_pacf # для определения (p,q) \n",
        "from statsmodels.tsa.seasonal import seasonal_decompose      # для ETS графиков\n",
        "from pmdarima import auto_arima                              # для поиска ARIMA моделей (подбирает оптимальные параметры для модели)\n",
        "from fbprophet import Prophet                                # для модели Профет\n",
        "from statsmodels.tsa.holtwinters import ExponentialSmoothing # для модели Экспоненцальное сглаживание\n",
        "\n",
        "# метрики\n",
        "from sklearn.metrics import mean_squared_error\n",
        "from sklearn.metrics import mean_absolute_error\n",
        "from statsmodels.tools.eval_measures import rmse\n"
      ],
      "metadata": {
        "id": "P9zB_Gzbj6W5"
      },
      "execution_count": 3,
      "outputs": []
    },
    {
      "cell_type": "code",
      "metadata": {
        "id": "Sx_GJx5XU8Zi"
      },
      "source": [
        "# Импортируем данные.\n",
        "df = pd.read_csv('/content/TSLA.csv',index_col='Date', parse_dates=True)\n"
      ],
      "execution_count": 5,
      "outputs": []
    },
    {
      "cell_type": "code",
      "metadata": {
        "id": "Iqtl_rYgVCrb",
        "colab": {
          "base_uri": "https://localhost:8080/"
        },
        "outputId": "4e8272cd-e916-4531-850f-6f95a6db5355"
      },
      "source": [
        "#Проверка, что все выгрузилось корректно.\n",
        "print(df.head())\n"
      ],
      "execution_count": 40,
      "outputs": [
        {
          "output_type": "stream",
          "name": "stdout",
          "text": [
            "                 Open   High        Low      Close  Adj Close    Volume\n",
            "Date                                                                   \n",
            "2010-06-29  19.000000  25.00  17.540001  23.889999  23.889999  18766300\n",
            "2010-06-30  25.790001  30.42  23.299999  23.830000  23.830000  17187100\n",
            "2010-07-01  25.000000  25.92  20.270000  21.959999  21.959999   8218800\n",
            "2010-07-02  23.000000  23.10  18.709999  19.200001  19.200001   5139800\n",
            "2010-07-06  20.000000  20.00  15.830000  16.110001  16.110001   6866900\n"
          ]
        }
      ]
    },
    {
      "cell_type": "markdown",
      "source": [
        "### Выводы: цели и задачи работы поставлены. Загружены необходимые библиотеки и функции для правильной работы, а также сами данные. Проведен первичный анализ, что все выгрузилось верно."
      ],
      "metadata": {
        "id": "Fz2kNCH4fdS_"
      }
    },
    {
      "cell_type": "markdown",
      "metadata": {
        "id": "plIXeY2aUeuv"
      },
      "source": [
        "### Знакомство с данными."
      ]
    },
    {
      "cell_type": "code",
      "source": [
        "# Общая информация по датасету \n",
        "df.info()\n",
        "len(df)\n"
      ],
      "metadata": {
        "colab": {
          "base_uri": "https://localhost:8080/"
        },
        "id": "HBBzWpVEgn93",
        "outputId": "cd20f76f-6169-4a30-fda9-a078fcb3f256"
      },
      "execution_count": 41,
      "outputs": [
        {
          "output_type": "stream",
          "name": "stdout",
          "text": [
            "<class 'pandas.core.frame.DataFrame'>\n",
            "DatetimeIndex: 2416 entries, 2010-06-29 to 2020-02-03\n",
            "Data columns (total 6 columns):\n",
            " #   Column     Non-Null Count  Dtype  \n",
            "---  ------     --------------  -----  \n",
            " 0   Open       2416 non-null   float64\n",
            " 1   High       2416 non-null   float64\n",
            " 2   Low        2416 non-null   float64\n",
            " 3   Close      2416 non-null   float64\n",
            " 4   Adj Close  2416 non-null   float64\n",
            " 5   Volume     2416 non-null   int64  \n",
            "dtypes: float64(5), int64(1)\n",
            "memory usage: 132.1 KB\n"
          ]
        },
        {
          "output_type": "execute_result",
          "data": {
            "text/plain": [
              "2416"
            ]
          },
          "metadata": {},
          "execution_count": 41
        }
      ]
    },
    {
      "cell_type": "code",
      "source": [
        "# Проверка датасета на пропуски\n",
        "df.isna()"
      ],
      "metadata": {
        "colab": {
          "base_uri": "https://localhost:8080/",
          "height": 455
        },
        "id": "Qg7hb4NVgfNV",
        "outputId": "9da9014c-9a3f-4357-82f1-40f0726519a7"
      },
      "execution_count": null,
      "outputs": [
        {
          "output_type": "execute_result",
          "data": {
            "text/plain": [
              "             Open   High    Low  Close  Adj Close  Volume\n",
              "Date                                                     \n",
              "2010-06-29  False  False  False  False      False   False\n",
              "2010-06-30  False  False  False  False      False   False\n",
              "2010-07-01  False  False  False  False      False   False\n",
              "2010-07-02  False  False  False  False      False   False\n",
              "2010-07-06  False  False  False  False      False   False\n",
              "...           ...    ...    ...    ...        ...     ...\n",
              "2020-01-28  False  False  False  False      False   False\n",
              "2020-01-29  False  False  False  False      False   False\n",
              "2020-01-30  False  False  False  False      False   False\n",
              "2020-01-31  False  False  False  False      False   False\n",
              "2020-02-03  False  False  False  False      False   False\n",
              "\n",
              "[2416 rows x 6 columns]"
            ],
            "text/html": [
              "\n",
              "  <div id=\"df-8a6808b8-5ef2-4fe8-a16d-ac783402ca5d\">\n",
              "    <div class=\"colab-df-container\">\n",
              "      <div>\n",
              "<style scoped>\n",
              "    .dataframe tbody tr th:only-of-type {\n",
              "        vertical-align: middle;\n",
              "    }\n",
              "\n",
              "    .dataframe tbody tr th {\n",
              "        vertical-align: top;\n",
              "    }\n",
              "\n",
              "    .dataframe thead th {\n",
              "        text-align: right;\n",
              "    }\n",
              "</style>\n",
              "<table border=\"1\" class=\"dataframe\">\n",
              "  <thead>\n",
              "    <tr style=\"text-align: right;\">\n",
              "      <th></th>\n",
              "      <th>Open</th>\n",
              "      <th>High</th>\n",
              "      <th>Low</th>\n",
              "      <th>Close</th>\n",
              "      <th>Adj Close</th>\n",
              "      <th>Volume</th>\n",
              "    </tr>\n",
              "    <tr>\n",
              "      <th>Date</th>\n",
              "      <th></th>\n",
              "      <th></th>\n",
              "      <th></th>\n",
              "      <th></th>\n",
              "      <th></th>\n",
              "      <th></th>\n",
              "    </tr>\n",
              "  </thead>\n",
              "  <tbody>\n",
              "    <tr>\n",
              "      <th>2010-06-29</th>\n",
              "      <td>False</td>\n",
              "      <td>False</td>\n",
              "      <td>False</td>\n",
              "      <td>False</td>\n",
              "      <td>False</td>\n",
              "      <td>False</td>\n",
              "    </tr>\n",
              "    <tr>\n",
              "      <th>2010-06-30</th>\n",
              "      <td>False</td>\n",
              "      <td>False</td>\n",
              "      <td>False</td>\n",
              "      <td>False</td>\n",
              "      <td>False</td>\n",
              "      <td>False</td>\n",
              "    </tr>\n",
              "    <tr>\n",
              "      <th>2010-07-01</th>\n",
              "      <td>False</td>\n",
              "      <td>False</td>\n",
              "      <td>False</td>\n",
              "      <td>False</td>\n",
              "      <td>False</td>\n",
              "      <td>False</td>\n",
              "    </tr>\n",
              "    <tr>\n",
              "      <th>2010-07-02</th>\n",
              "      <td>False</td>\n",
              "      <td>False</td>\n",
              "      <td>False</td>\n",
              "      <td>False</td>\n",
              "      <td>False</td>\n",
              "      <td>False</td>\n",
              "    </tr>\n",
              "    <tr>\n",
              "      <th>2010-07-06</th>\n",
              "      <td>False</td>\n",
              "      <td>False</td>\n",
              "      <td>False</td>\n",
              "      <td>False</td>\n",
              "      <td>False</td>\n",
              "      <td>False</td>\n",
              "    </tr>\n",
              "    <tr>\n",
              "      <th>...</th>\n",
              "      <td>...</td>\n",
              "      <td>...</td>\n",
              "      <td>...</td>\n",
              "      <td>...</td>\n",
              "      <td>...</td>\n",
              "      <td>...</td>\n",
              "    </tr>\n",
              "    <tr>\n",
              "      <th>2020-01-28</th>\n",
              "      <td>False</td>\n",
              "      <td>False</td>\n",
              "      <td>False</td>\n",
              "      <td>False</td>\n",
              "      <td>False</td>\n",
              "      <td>False</td>\n",
              "    </tr>\n",
              "    <tr>\n",
              "      <th>2020-01-29</th>\n",
              "      <td>False</td>\n",
              "      <td>False</td>\n",
              "      <td>False</td>\n",
              "      <td>False</td>\n",
              "      <td>False</td>\n",
              "      <td>False</td>\n",
              "    </tr>\n",
              "    <tr>\n",
              "      <th>2020-01-30</th>\n",
              "      <td>False</td>\n",
              "      <td>False</td>\n",
              "      <td>False</td>\n",
              "      <td>False</td>\n",
              "      <td>False</td>\n",
              "      <td>False</td>\n",
              "    </tr>\n",
              "    <tr>\n",
              "      <th>2020-01-31</th>\n",
              "      <td>False</td>\n",
              "      <td>False</td>\n",
              "      <td>False</td>\n",
              "      <td>False</td>\n",
              "      <td>False</td>\n",
              "      <td>False</td>\n",
              "    </tr>\n",
              "    <tr>\n",
              "      <th>2020-02-03</th>\n",
              "      <td>False</td>\n",
              "      <td>False</td>\n",
              "      <td>False</td>\n",
              "      <td>False</td>\n",
              "      <td>False</td>\n",
              "      <td>False</td>\n",
              "    </tr>\n",
              "  </tbody>\n",
              "</table>\n",
              "<p>2416 rows × 6 columns</p>\n",
              "</div>\n",
              "      <button class=\"colab-df-convert\" onclick=\"convertToInteractive('df-8a6808b8-5ef2-4fe8-a16d-ac783402ca5d')\"\n",
              "              title=\"Convert this dataframe to an interactive table.\"\n",
              "              style=\"display:none;\">\n",
              "        \n",
              "  <svg xmlns=\"http://www.w3.org/2000/svg\" height=\"24px\"viewBox=\"0 0 24 24\"\n",
              "       width=\"24px\">\n",
              "    <path d=\"M0 0h24v24H0V0z\" fill=\"none\"/>\n",
              "    <path d=\"M18.56 5.44l.94 2.06.94-2.06 2.06-.94-2.06-.94-.94-2.06-.94 2.06-2.06.94zm-11 1L8.5 8.5l.94-2.06 2.06-.94-2.06-.94L8.5 2.5l-.94 2.06-2.06.94zm10 10l.94 2.06.94-2.06 2.06-.94-2.06-.94-.94-2.06-.94 2.06-2.06.94z\"/><path d=\"M17.41 7.96l-1.37-1.37c-.4-.4-.92-.59-1.43-.59-.52 0-1.04.2-1.43.59L10.3 9.45l-7.72 7.72c-.78.78-.78 2.05 0 2.83L4 21.41c.39.39.9.59 1.41.59.51 0 1.02-.2 1.41-.59l7.78-7.78 2.81-2.81c.8-.78.8-2.07 0-2.86zM5.41 20L4 18.59l7.72-7.72 1.47 1.35L5.41 20z\"/>\n",
              "  </svg>\n",
              "      </button>\n",
              "      \n",
              "  <style>\n",
              "    .colab-df-container {\n",
              "      display:flex;\n",
              "      flex-wrap:wrap;\n",
              "      gap: 12px;\n",
              "    }\n",
              "\n",
              "    .colab-df-convert {\n",
              "      background-color: #E8F0FE;\n",
              "      border: none;\n",
              "      border-radius: 50%;\n",
              "      cursor: pointer;\n",
              "      display: none;\n",
              "      fill: #1967D2;\n",
              "      height: 32px;\n",
              "      padding: 0 0 0 0;\n",
              "      width: 32px;\n",
              "    }\n",
              "\n",
              "    .colab-df-convert:hover {\n",
              "      background-color: #E2EBFA;\n",
              "      box-shadow: 0px 1px 2px rgba(60, 64, 67, 0.3), 0px 1px 3px 1px rgba(60, 64, 67, 0.15);\n",
              "      fill: #174EA6;\n",
              "    }\n",
              "\n",
              "    [theme=dark] .colab-df-convert {\n",
              "      background-color: #3B4455;\n",
              "      fill: #D2E3FC;\n",
              "    }\n",
              "\n",
              "    [theme=dark] .colab-df-convert:hover {\n",
              "      background-color: #434B5C;\n",
              "      box-shadow: 0px 1px 3px 1px rgba(0, 0, 0, 0.15);\n",
              "      filter: drop-shadow(0px 1px 2px rgba(0, 0, 0, 0.3));\n",
              "      fill: #FFFFFF;\n",
              "    }\n",
              "  </style>\n",
              "\n",
              "      <script>\n",
              "        const buttonEl =\n",
              "          document.querySelector('#df-8a6808b8-5ef2-4fe8-a16d-ac783402ca5d button.colab-df-convert');\n",
              "        buttonEl.style.display =\n",
              "          google.colab.kernel.accessAllowed ? 'block' : 'none';\n",
              "\n",
              "        async function convertToInteractive(key) {\n",
              "          const element = document.querySelector('#df-8a6808b8-5ef2-4fe8-a16d-ac783402ca5d');\n",
              "          const dataTable =\n",
              "            await google.colab.kernel.invokeFunction('convertToInteractive',\n",
              "                                                     [key], {});\n",
              "          if (!dataTable) return;\n",
              "\n",
              "          const docLinkHtml = 'Like what you see? Visit the ' +\n",
              "            '<a target=\"_blank\" href=https://colab.research.google.com/notebooks/data_table.ipynb>data table notebook</a>'\n",
              "            + ' to learn more about interactive tables.';\n",
              "          element.innerHTML = '';\n",
              "          dataTable['output_type'] = 'display_data';\n",
              "          await google.colab.output.renderOutput(dataTable, element);\n",
              "          const docLink = document.createElement('div');\n",
              "          docLink.innerHTML = docLinkHtml;\n",
              "          element.appendChild(docLink);\n",
              "        }\n",
              "      </script>\n",
              "    </div>\n",
              "  </div>\n",
              "  "
            ]
          },
          "metadata": {},
          "execution_count": 11
        }
      ]
    },
    {
      "cell_type": "code",
      "source": [
        "# Проверка каждого признака на  отсутствие пропусков\n",
        "df_check_nan = df.isna()\n",
        "for i in df_check_nan.columns:\n",
        "    print(f'Для признака {i} пропуски: ', df_check_nan[i].unique())"
      ],
      "metadata": {
        "colab": {
          "base_uri": "https://localhost:8080/"
        },
        "id": "Muu-Bz-vgw-y",
        "outputId": "cb268118-be7a-4582-cab2-2f7156231081"
      },
      "execution_count": 42,
      "outputs": [
        {
          "output_type": "stream",
          "name": "stdout",
          "text": [
            "Для признака Open пропуски:  [False]\n",
            "Для признака High пропуски:  [False]\n",
            "Для признака Low пропуски:  [False]\n",
            "Для признака Close пропуски:  [False]\n",
            "Для признака Adj Close пропуски:  [False]\n",
            "Для признака Volume пропуски:  [False]\n"
          ]
        }
      ]
    },
    {
      "cell_type": "code",
      "source": [
        "# проверка типа данных\n",
        "df.dtypes"
      ],
      "metadata": {
        "colab": {
          "base_uri": "https://localhost:8080/"
        },
        "id": "JD7av5guzk3N",
        "outputId": "1923fdd0-062d-485e-a336-af160e7cc034"
      },
      "execution_count": 43,
      "outputs": [
        {
          "output_type": "execute_result",
          "data": {
            "text/plain": [
              "Open         float64\n",
              "High         float64\n",
              "Low          float64\n",
              "Close        float64\n",
              "Adj Close    float64\n",
              "Volume         int64\n",
              "dtype: object"
            ]
          },
          "metadata": {},
          "execution_count": 43
        }
      ]
    },
    {
      "cell_type": "markdown",
      "source": [
        "При знакомстве с данными получили следующую информацию:\n",
        "\n",
        "В датасете 7 колонок(включая индексы). Колонку с индексами заменили на соответствущие даты. В датасете на дату содержится информация по цене открытия, наивысшая цена, низшая цена, цена закрытия, скорректированная цена и объем акций). Данные предоставлены в необходимом числовом формате.  В датасете отсутствуют нулевы денные. Всего 2416 строк"
      ],
      "metadata": {
        "id": "pJ1j-dYxhRnp"
      }
    },
    {
      "cell_type": "markdown",
      "metadata": {
        "id": "Efv0vhWsUepF"
      },
      "source": [
        "## Предобработка данных"
      ]
    },
    {
      "cell_type": "markdown",
      "source": [
        "### Фильтрация данных"
      ],
      "metadata": {
        "id": "pO4OjmPkuZbv"
      }
    },
    {
      "cell_type": "markdown",
      "source": [
        "Для дальнейшего анализа оставим колонки с информацией по цене закрытия и объемам акций."
      ],
      "metadata": {
        "id": "F1BRyM53i0SQ"
      }
    },
    {
      "cell_type": "code",
      "source": [
        "df_new = df[['Close', 'Volume']]\n",
        "#проверка что все верно\n",
        "print(df_new.head())"
      ],
      "metadata": {
        "colab": {
          "base_uri": "https://localhost:8080/"
        },
        "id": "8_s-xD4ui91z",
        "outputId": "e19c9eb3-d222-4ece-fde1-db68cf16a13a"
      },
      "execution_count": 44,
      "outputs": [
        {
          "output_type": "stream",
          "name": "stdout",
          "text": [
            "                Close    Volume\n",
            "Date                           \n",
            "2010-06-29  23.889999  18766300\n",
            "2010-06-30  23.830000  17187100\n",
            "2010-07-01  21.959999   8218800\n",
            "2010-07-02  19.200001   5139800\n",
            "2010-07-06  16.110001   6866900\n"
          ]
        }
      ]
    },
    {
      "cell_type": "markdown",
      "source": [
        "### Вывод по этапу. Проведена фильтрация данных, оставлены только необходимые для анализа колонки.\n"
      ],
      "metadata": {
        "id": "q8gTgMtTVpYE"
      }
    },
    {
      "cell_type": "markdown",
      "source": [
        "## EDA или разведочный анализ данных."
      ],
      "metadata": {
        "id": "ychutOlHtcz_"
      }
    },
    {
      "cell_type": "markdown",
      "source": [
        "Рассчитаем сколько в среднем было проадно акций за весь анализируемый период и их среднюю цену. Также посчитаем среднее взвешенное объема акций в зависимости от цены"
      ],
      "metadata": {
        "id": "4qJRK-CsjTtX"
      }
    },
    {
      "cell_type": "code",
      "source": [
        "# среднее\n",
        "print(\"Срднее кол-во проданных акций за весь период: \", df_new['Volume'].mean())\n",
        "print(\"Срдняя цена закрытия за весь период: \", df_new['Close'].mean())\n",
        "# среднее взвешенное\n",
        "wm = np.average(df_new['Volume'], weights = df_new['Close'])\n",
        "print(\"Среднее взвешенное проданных акций с учетом стоимости акций:\", wm)"
      ],
      "metadata": {
        "colab": {
          "base_uri": "https://localhost:8080/"
        },
        "id": "UajdXC93H0Yl",
        "outputId": "6f3bd7da-057b-4a02-c05c-0ec4553ce5e7"
      },
      "execution_count": 45,
      "outputs": [
        {
          "output_type": "stream",
          "name": "stdout",
          "text": [
            "Срднее кол-во проданных акций за весь период:  5572721.688741722\n",
            "Срдняя цена закрытия за весь период:  186.40365078187054\n",
            "Среднее взвешенное проданных акций с учетом стоимости акций: 7182459.707957235\n"
          ]
        }
      ]
    },
    {
      "cell_type": "markdown",
      "source": [
        "Проверим распределение данных с помощью boxplot"
      ],
      "metadata": {
        "id": "ItHiqDSQkFNR"
      }
    },
    {
      "cell_type": "code",
      "source": [
        "#Распределение объема проданных акций\n",
        "df_new.boxplot(column='Volume')"
      ],
      "metadata": {
        "colab": {
          "base_uri": "https://localhost:8080/",
          "height": 294
        },
        "id": "GCNBGE6nK4ME",
        "outputId": "431d6729-3269-4b6a-d27f-f8c7bb0b07d1"
      },
      "execution_count": 46,
      "outputs": [
        {
          "output_type": "execute_result",
          "data": {
            "text/plain": [
              "<matplotlib.axes._subplots.AxesSubplot at 0x7f3609d519d0>"
            ]
          },
          "metadata": {},
          "execution_count": 46
        },
        {
          "output_type": "display_data",
          "data": {
            "text/plain": [
              "<Figure size 432x288 with 1 Axes>"
            ],
            "image/png": "[encoded data removed]"
          },
          "metadata": {
            "needs_background": "light"
          }
        }
      ]
    },
    {
      "cell_type": "code",
      "source": [
        "#Распределение цены акций\n",
        "df_new.boxplot(column=['Close'])"
      ],
      "metadata": {
        "colab": {
          "base_uri": "https://localhost:8080/",
          "height": 282
        },
        "id": "29l8Ha2YmEKD",
        "outputId": "9eada910-fe2b-4650-ff70-f455f1989324"
      },
      "execution_count": 47,
      "outputs": [
        {
          "output_type": "execute_result",
          "data": {
            "text/plain": [
              "<matplotlib.axes._subplots.AxesSubplot at 0x7f3609c657d0>"
            ]
          },
          "metadata": {},
          "execution_count": 47
        },
        {
          "output_type": "display_data",
          "data": {
            "text/plain": [
              "<Figure size 432x288 with 1 Axes>"
            ],
            "image/png": "[encoded data removed]"
          },
          "metadata": {
            "needs_background": "light"
          }
        }
      ]
    },
    {
      "cell_type": "markdown",
      "source": [
        "На графиках видно, что объем проданных акций имеет большое кол-во выбросов, можно сделать предположение,что распределение не нормальное. Цена акций наоборот, имеет меньше выбросов, однако медиана смещена к верхнему квартилю."
      ],
      "metadata": {
        "id": "4ilHtBaGkp6B"
      }
    },
    {
      "cell_type": "markdown",
      "source": [
        "Построим гистограмы, чтобы увидеть распредление данных"
      ],
      "metadata": {
        "id": "g7-TIF8el0PX"
      }
    },
    {
      "cell_type": "code",
      "source": [
        "df_new.hist()"
      ],
      "metadata": {
        "colab": {
          "base_uri": "https://localhost:8080/",
          "height": 346
        },
        "id": "PEMRd9glMn4s",
        "outputId": "609a0c2e-7a9c-418d-a5e3-cdbd8bbf8cb4"
      },
      "execution_count": 48,
      "outputs": [
        {
          "output_type": "execute_result",
          "data": {
            "text/plain": [
              "array([[<matplotlib.axes._subplots.AxesSubplot object at 0x7f360c3d8ad0>,\n",
              "        <matplotlib.axes._subplots.AxesSubplot object at 0x7f3609c54f10>]],\n",
              "      dtype=object)"
            ]
          },
          "metadata": {},
          "execution_count": 48
        },
        {
          "output_type": "display_data",
          "data": {
            "text/plain": [
              "<Figure size 432x288 with 2 Axes>"
            ],
            "image/png": "[encoded data removed]"
          },
          "metadata": {
            "needs_background": "light"
          }
        }
      ]
    },
    {
      "cell_type": "markdown",
      "source": [
        "Форма гистограмм отличается от нормального распределения, у которого симметричная форма колокола с пиком посередине. У обеих гистограмм можно отметить смещение вправо. Также на гистрогаме цены можно отметить наличие двух пиков."
      ],
      "metadata": {
        "id": "nJqjgRPlklqA"
      }
    },
    {
      "cell_type": "code",
      "source": [
        "# выведем метрики\n",
        "df_new.describe()"
      ],
      "metadata": {
        "colab": {
          "base_uri": "https://localhost:8080/",
          "height": 300
        },
        "id": "3M0yWmLqM6I7",
        "outputId": "7f8dd590-0c1d-43dd-cd53-34b5919cec90"
      },
      "execution_count": 49,
      "outputs": [
        {
          "output_type": "execute_result",
          "data": {
            "text/plain": [
              "             Close        Volume\n",
              "count  2416.000000  2.416000e+03\n",
              "mean    186.403651  5.572722e+06\n",
              "std     119.136020  4.987809e+06\n",
              "min      15.800000  1.185000e+05\n",
              "25%      34.400002  1.899275e+06\n",
              "50%     212.960007  4.578400e+06\n",
              "75%     266.774994  7.361150e+06\n",
              "max     780.000000  4.706500e+07"
            ],
            "text/html": [
              "\n",
              "  <div id=\"df-f9f4c475-eefe-48f7-abe7-30a648f5f6e2\">\n",
              "    <div class=\"colab-df-container\">\n",
              "      <div>\n",
              "<style scoped>\n",
              "    .dataframe tbody tr th:only-of-type {\n",
              "        vertical-align: middle;\n",
              "    }\n",
              "\n",
              "    .dataframe tbody tr th {\n",
              "        vertical-align: top;\n",
              "    }\n",
              "\n",
              "    .dataframe thead th {\n",
              "        text-align: right;\n",
              "    }\n",
              "</style>\n",
              "<table border=\"1\" class=\"dataframe\">\n",
              "  <thead>\n",
              "    <tr style=\"text-align: right;\">\n",
              "      <th></th>\n",
              "      <th>Close</th>\n",
              "      <th>Volume</th>\n",
              "    </tr>\n",
              "  </thead>\n",
              "  <tbody>\n",
              "    <tr>\n",
              "      <th>count</th>\n",
              "      <td>2416.000000</td>\n",
              "      <td>2.416000e+03</td>\n",
              "    </tr>\n",
              "    <tr>\n",
              "      <th>mean</th>\n",
              "      <td>186.403651</td>\n",
              "      <td>5.572722e+06</td>\n",
              "    </tr>\n",
              "    <tr>\n",
              "      <th>std</th>\n",
              "      <td>119.136020</td>\n",
              "      <td>4.987809e+06</td>\n",
              "    </tr>\n",
              "    <tr>\n",
              "      <th>min</th>\n",
              "      <td>15.800000</td>\n",
              "      <td>1.185000e+05</td>\n",
              "    </tr>\n",
              "    <tr>\n",
              "      <th>25%</th>\n",
              "      <td>34.400002</td>\n",
              "      <td>1.899275e+06</td>\n",
              "    </tr>\n",
              "    <tr>\n",
              "      <th>50%</th>\n",
              "      <td>212.960007</td>\n",
              "      <td>4.578400e+06</td>\n",
              "    </tr>\n",
              "    <tr>\n",
              "      <th>75%</th>\n",
              "      <td>266.774994</td>\n",
              "      <td>7.361150e+06</td>\n",
              "    </tr>\n",
              "    <tr>\n",
              "      <th>max</th>\n",
              "      <td>780.000000</td>\n",
              "      <td>4.706500e+07</td>\n",
              "    </tr>\n",
              "  </tbody>\n",
              "</table>\n",
              "</div>\n",
              "      <button class=\"colab-df-convert\" onclick=\"convertToInteractive('df-f9f4c475-eefe-48f7-abe7-30a648f5f6e2')\"\n",
              "              title=\"Convert this dataframe to an interactive table.\"\n",
              "              style=\"display:none;\">\n",
              "        \n",
              "  <svg xmlns=\"http://www.w3.org/2000/svg\" height=\"24px\"viewBox=\"0 0 24 24\"\n",
              "       width=\"24px\">\n",
              "    <path d=\"M0 0h24v24H0V0z\" fill=\"none\"/>\n",
              "    <path d=\"M18.56 5.44l.94 2.06.94-2.06 2.06-.94-2.06-.94-.94-2.06-.94 2.06-2.06.94zm-11 1L8.5 8.5l.94-2.06 2.06-.94-2.06-.94L8.5 2.5l-.94 2.06-2.06.94zm10 10l.94 2.06.94-2.06 2.06-.94-2.06-.94-.94-2.06-.94 2.06-2.06.94z\"/><path d=\"M17.41 7.96l-1.37-1.37c-.4-.4-.92-.59-1.43-.59-.52 0-1.04.2-1.43.59L10.3 9.45l-7.72 7.72c-.78.78-.78 2.05 0 2.83L4 21.41c.39.39.9.59 1.41.59.51 0 1.02-.2 1.41-.59l7.78-7.78 2.81-2.81c.8-.78.8-2.07 0-2.86zM5.41 20L4 18.59l7.72-7.72 1.47 1.35L5.41 20z\"/>\n",
              "  </svg>\n",
              "      </button>\n",
              "      \n",
              "  <style>\n",
              "    .colab-df-container {\n",
              "      display:flex;\n",
              "      flex-wrap:wrap;\n",
              "      gap: 12px;\n",
              "    }\n",
              "\n",
              "    .colab-df-convert {\n",
              "      background-color: #E8F0FE;\n",
              "      border: none;\n",
              "      border-radius: 50%;\n",
              "      cursor: pointer;\n",
              "      display: none;\n",
              "      fill: #1967D2;\n",
              "      height: 32px;\n",
              "      padding: 0 0 0 0;\n",
              "      width: 32px;\n",
              "    }\n",
              "\n",
              "    .colab-df-convert:hover {\n",
              "      background-color: #E2EBFA;\n",
              "      box-shadow: 0px 1px 2px rgba(60, 64, 67, 0.3), 0px 1px 3px 1px rgba(60, 64, 67, 0.15);\n",
              "      fill: #174EA6;\n",
              "    }\n",
              "\n",
              "    [theme=dark] .colab-df-convert {\n",
              "      background-color: #3B4455;\n",
              "      fill: #D2E3FC;\n",
              "    }\n",
              "\n",
              "    [theme=dark] .colab-df-convert:hover {\n",
              "      background-color: #434B5C;\n",
              "      box-shadow: 0px 1px 3px 1px rgba(0, 0, 0, 0.15);\n",
              "      filter: drop-shadow(0px 1px 2px rgba(0, 0, 0, 0.3));\n",
              "      fill: #FFFFFF;\n",
              "    }\n",
              "  </style>\n",
              "\n",
              "      <script>\n",
              "        const buttonEl =\n",
              "          document.querySelector('#df-f9f4c475-eefe-48f7-abe7-30a648f5f6e2 button.colab-df-convert');\n",
              "        buttonEl.style.display =\n",
              "          google.colab.kernel.accessAllowed ? 'block' : 'none';\n",
              "\n",
              "        async function convertToInteractive(key) {\n",
              "          const element = document.querySelector('#df-f9f4c475-eefe-48f7-abe7-30a648f5f6e2');\n",
              "          const dataTable =\n",
              "            await google.colab.kernel.invokeFunction('convertToInteractive',\n",
              "                                                     [key], {});\n",
              "          if (!dataTable) return;\n",
              "\n",
              "          const docLinkHtml = 'Like what you see? Visit the ' +\n",
              "            '<a target=\"_blank\" href=https://colab.research.google.com/notebooks/data_table.ipynb>data table notebook</a>'\n",
              "            + ' to learn more about interactive tables.';\n",
              "          element.innerHTML = '';\n",
              "          dataTable['output_type'] = 'display_data';\n",
              "          await google.colab.output.renderOutput(dataTable, element);\n",
              "          const docLink = document.createElement('div');\n",
              "          docLink.innerHTML = docLinkHtml;\n",
              "          element.appendChild(docLink);\n",
              "        }\n",
              "      </script>\n",
              "    </div>\n",
              "  </div>\n",
              "  "
            ]
          },
          "metadata": {},
          "execution_count": 49
        }
      ]
    },
    {
      "cell_type": "markdown",
      "source": [
        "Так как основная цель работы - спрогнозировать цену акции в будщем, далее в работе будет вестисть анализ данных по колонке Close."
      ],
      "metadata": {
        "id": "jbbXyTBxtS7r"
      }
    },
    {
      "cell_type": "markdown",
      "source": [
        "Проведем тест Харки — Бера для определения номарльности распределения цены, чтобы подтвердить предположение об однородности. Для этого в существует функция jarque_bera(), которая возвращает значения данной статистики:"
      ],
      "metadata": {
        "id": "_9yif3PmyOXl"
      }
    },
    {
      "cell_type": "code",
      "source": [
        "import statsmodels.api as sm\n",
        "from statsmodels.iolib.table import SimpleTable\n",
        "row =  [u'JB', u'p-value', u'skew', u'kurtosis']\n",
        "jb_test = sm.stats.stattools.jarque_bera(df_new['Close'], axis = 0)\n",
        "a = np.vstack([jb_test])\n",
        "itog = SimpleTable(a, row)\n",
        "print(itog)"
      ],
      "metadata": {
        "colab": {
          "base_uri": "https://localhost:8080/"
        },
        "id": "aJfB95W5p7C-",
        "outputId": "46b8217d-b6b9-4b77-8f31-af59b5f379df"
      },
      "execution_count": 50,
      "outputs": [
        {
          "output_type": "stream",
          "name": "stdout",
          "text": [
            "================================================================================\n",
            "        JB                p-value                 skew             kurtosis     \n",
            "--------------------------------------------------------------------------------\n",
            "33.574182353046034 5.1222283420672906e-08 0.01650409768371561 2.4234335885745026\n",
            "--------------------------------------------------------------------------------\n"
          ]
        }
      ]
    },
    {
      "cell_type": "markdown",
      "source": [
        "При достаточно большом значении статистики p-value мало, опровергаем нулевую гипотезу что данные однородны (статистика попала в «хвост» распределения)."
      ],
      "metadata": {
        "id": "5-OuMMsRx2I-"
      }
    },
    {
      "cell_type": "markdown",
      "source": [
        "Построим общий график, а также график скользящего среднего на 20 (кол-во рабочих дней в месяце) и на 100 дней."
      ],
      "metadata": {
        "id": "KM8Op5eGtcvq"
      }
    },
    {
      "cell_type": "code",
      "source": [
        "def plot_with_rolling(data,short_rolling,long_rolling,lbl='Close Price'):\n",
        "    # Plot \n",
        "    fig, ax = plt.subplots(figsize=(20,9))\n",
        "\n",
        "    ax.plot(data.index, data, label=lbl)\n",
        "    ax.plot(short_rolling.index, short_rolling, label='20 days rolling')\n",
        "    ax.plot(long_rolling.index, long_rolling, label='100 days rolling')\n",
        "    ax.set_xlabel('Date')\n",
        "    ax.set_ylabel(lbl)\n",
        "    ax.legend()\n",
        "\n",
        "    plt.show()\n",
        "\n",
        "short = df_new.Close.rolling(window=20).mean()\n",
        "long = df_new.Close.rolling(window=100).mean() \n",
        "plot_with_rolling(data=df_new.Close,short_rolling=short,long_rolling=long,lbl='Close Price')"
      ],
      "metadata": {
        "colab": {
          "base_uri": "https://localhost:8080/",
          "height": 525
        },
        "id": "Jj-3AZU2ps54",
        "outputId": "3001d6f0-3530-4a06-f3ba-de8a9bf9bab5"
      },
      "execution_count": 51,
      "outputs": [
        {
          "output_type": "display_data",
          "data": {
            "text/plain": [
              "<Figure size 1440x648 with 1 Axes>"
            ],
            "image/png": "[encoded data removed]"
          },
          "metadata": {
            "needs_background": "light"
          }
        }
      ]
    },
    {
      "cell_type": "markdown",
      "source": [
        "По графику можно отметить растущий тренд,а также резкий рост цен со второй половины 2019 года"
      ],
      "metadata": {
        "id": "8vl7EdNgrds6"
      }
    },
    {
      "cell_type": "markdown",
      "source": [
        "### ВЫВОД: "
      ],
      "metadata": {
        "id": "rCQpzmsD145G"
      }
    },
    {
      "cell_type": "markdown",
      "source": [
        "## Построение моделей, анализ результатов."
      ],
      "metadata": {
        "id": "v5F1qQuCtctd"
      }
    },
    {
      "cell_type": "markdown",
      "source": [
        "Перед началом прогнозирования проведем анализ на стационарность врменного ряда"
      ],
      "metadata": {
        "id": "qzm24I4a2G7l"
      }
    },
    {
      "cell_type": "code",
      "source": [
        "#Проверка временного ряда на стационнарность\n",
        "dftest = adfuller(df_new['Close'])\n",
        "print ('adf: ', dftest[0])\n",
        "print ('p-value: ', dftest[1])\n",
        "print('Critical values: ', dftest[4])\n",
        "if dftest[0]> dftest[4]['5%']: \n",
        "    print ('есть единичные корни, ряд не стационарен')\n",
        "else:\n",
        "    print ('единичных корней нет, ряд стационарен')"
      ],
      "metadata": {
        "colab": {
          "base_uri": "https://localhost:8080/"
        },
        "id": "pIUVsL1Ktyt2",
        "outputId": "cc7064f5-a405-4eb5-917a-7f00ff854663"
      },
      "execution_count": 52,
      "outputs": [
        {
          "output_type": "stream",
          "name": "stdout",
          "text": [
            "adf:  1.40006850208616\n",
            "p-value:  0.9971144530803391\n",
            "Critical values:  {'1%': -3.4330810457844425, '5%': -2.862746538733181, '10%': -2.567412291147901}\n",
            "есть единичные корни, ряд не стационарен\n"
          ]
        }
      ]
    },
    {
      "cell_type": "code",
      "source": [
        "# Построим график запаздывания для поиска закономерностей в данных временного ряда.\n",
        "from pandas.plotting import lag_plot\n",
        "lag_plot(df_new['Close'])"
      ],
      "metadata": {
        "colab": {
          "base_uri": "https://localhost:8080/",
          "height": 296
        },
        "id": "jHP1O1DDkZSc",
        "outputId": "e9705d5a-5b8c-41a7-80b1-bce9e091c2f2"
      },
      "execution_count": 53,
      "outputs": [
        {
          "output_type": "execute_result",
          "data": {
            "text/plain": [
              "<matplotlib.axes._subplots.AxesSubplot at 0x7f360c045410>"
            ]
          },
          "metadata": {},
          "execution_count": 53
        },
        {
          "output_type": "display_data",
          "data": {
            "text/plain": [
              "<Figure size 432x288 with 1 Axes>"
            ],
            "image/png": "[encoded data removed]"
          },
          "metadata": {
            "needs_background": "light"
          }
        }
      ]
    },
    {
      "cell_type": "markdown",
      "source": [
        "Видим наличие тренда и корреляции\n"
      ],
      "metadata": {
        "id": "hxH4EdjIkwSk"
      }
    },
    {
      "cell_type": "code",
      "source": [
        "#Построение графика автокорреляции\n",
        "acf(df_new['Close'])\n",
        "plot_acf(df_new['Close']);"
      ],
      "metadata": {
        "colab": {
          "base_uri": "https://localhost:8080/",
          "height": 281
        },
        "id": "qags1pSvk0Pp",
        "outputId": "aa2b0d03-8da2-406e-f90d-b2cc7c15a324"
      },
      "execution_count": 54,
      "outputs": [
        {
          "output_type": "display_data",
          "data": {
            "text/plain": [
              "<Figure size 432x288 with 1 Axes>"
            ],
            "image/png": "[encoded data removed]"
          },
          "metadata": {
            "needs_background": "light"
          }
        }
      ]
    },
    {
      "cell_type": "code",
      "source": [
        "#Построение графика частичной автокорреляции\n",
        "pacf(df_new['Close'])\n",
        "plot_pacf(df_new['Close']);"
      ],
      "metadata": {
        "colab": {
          "base_uri": "https://localhost:8080/",
          "height": 336
        },
        "id": "58c8fkIt7FNS",
        "outputId": "ddf6102c-d1e1-439e-d27a-1b78b2d77022"
      },
      "execution_count": 55,
      "outputs": [
        {
          "output_type": "stream",
          "name": "stderr",
          "text": [
            "/usr/local/lib/python3.7/dist-packages/statsmodels/graphics/tsaplots.py:353: FutureWarning: The default method 'yw' can produce PACF values outside of the [-1,1] interval. After 0.13, the default will change tounadjusted Yule-Walker ('ywm'). You can use this method now by setting method='ywm'.\n",
            "  FutureWarning,\n"
          ]
        },
        {
          "output_type": "display_data",
          "data": {
            "text/plain": [
              "<Figure size 432x288 with 1 Axes>"
            ],
            "image/png": "[encoded data removed]"
          },
          "metadata": {
            "needs_background": "light"
          }
        }
      ]
    },
    {
      "cell_type": "markdown",
      "source": [
        "Согласно проведенному анализу исследуемый временной ряд не стационарен."
      ],
      "metadata": {
        "id": "rJhQGcZl2WXR"
      }
    },
    {
      "cell_type": "markdown",
      "source": [
        "В связи с большим кол-вом данных и увеличением времени подбора перейдем к недельному интервалу и среднему значению цены на нем, это избавит нас от выбросов и уменьшит колебания нашего ряда"
      ],
      "metadata": {
        "id": "mt4Mlkd43xUu"
      }
    },
    {
      "cell_type": "code",
      "source": [
        "\n",
        "df2 = df_new.resample('W').mean()\n",
        "title = 'Изменение стоимости акций Тесла с 2010 - 2020 год' \n",
        "ylabel = 'Close Price' \n",
        "xlabel = '' \n",
        "ax = df2['Close'].plot(figsize=(12,6), title=title)\n",
        "ax.autoscale(axis='x', tight=True)\n",
        "ax.set(xlabel=xlabel, ylabel=ylabel)"
      ],
      "metadata": {
        "colab": {
          "base_uri": "https://localhost:8080/",
          "height": 407
        },
        "id": "9vQv8Pl0231C",
        "outputId": "ba7fe476-5198-4f15-d2c1-cc894815c52d"
      },
      "execution_count": 129,
      "outputs": [
        {
          "output_type": "execute_result",
          "data": {
            "text/plain": [
              "[Text(0, 0.5, 'Close Price'), Text(0.5, 0, '')]"
            ]
          },
          "metadata": {},
          "execution_count": 129
        },
        {
          "output_type": "display_data",
          "data": {
            "text/plain": [
              "<Figure size 864x432 with 1 Axes>"
            ],
            "image/png": "[encoded data removed]"
          },
          "metadata": {
            "needs_background": "light"
          }
        }
      ]
    },
    {
      "cell_type": "markdown",
      "source": [
        "ETS декомпозиция"
      ],
      "metadata": {
        "id": "JcmncDSYug2t"
      }
    },
    {
      "cell_type": "code",
      "source": [
        "r = seasonal_decompose(df2['Close'], model='additive')\n",
        "r.plot();"
      ],
      "metadata": {
        "colab": {
          "base_uri": "https://localhost:8080/",
          "height": 297
        },
        "id": "3-zaV0ISsC6I",
        "outputId": "bf707025-a9bc-47cc-ba12-9aab9bac196c"
      },
      "execution_count": 67,
      "outputs": [
        {
          "output_type": "display_data",
          "data": {
            "text/plain": [
              "<Figure size 432x288 with 4 Axes>"
            ],
            "image/png": "[encoded data removed]"
          },
          "metadata": {
            "needs_background": "light"
          }
        }
      ]
    },
    {
      "cell_type": "markdown",
      "source": [
        "Промежуточный вывод: Наблюдаем годовую сезонность и положительный тренд."
      ],
      "metadata": {
        "id": "XldkQCTm5qm3"
      }
    },
    {
      "cell_type": "markdown",
      "source": [
        "Построение моделей"
      ],
      "metadata": {
        "id": "ZbY_Bld1UxBy"
      }
    },
    {
      "cell_type": "code",
      "source": [
        "# выделяем выборки, где тестовая размера 12 недель\n",
        "train = df2['Close'].iloc[:len(df2)-12]\n",
        "test = df2['Close'].iloc[len(df2)-12:]"
      ],
      "metadata": {
        "id": "xBpnNNASVaAk"
      },
      "execution_count": 216,
      "outputs": []
    },
    {
      "cell_type": "code",
      "source": [
        "#посмотрим на обучающую выборку\n",
        "train.head()\n"
      ],
      "metadata": {
        "id": "CJU0dbxOVe-Q",
        "colab": {
          "base_uri": "https://localhost:8080/"
        },
        "outputId": "fa41c718-8855-49b9-ec59-04de2fb8d722"
      },
      "execution_count": 217,
      "outputs": [
        {
          "output_type": "execute_result",
          "data": {
            "text/plain": [
              "Date\n",
              "2010-07-04    22.220000\n",
              "2010-07-11    16.692500\n",
              "2010-07-18    19.111999\n",
              "2010-07-25    20.944000\n",
              "2010-08-01    20.502000\n",
              "Freq: W-SUN, Name: Close, dtype: float64"
            ]
          },
          "metadata": {},
          "execution_count": 217
        }
      ]
    },
    {
      "cell_type": "code",
      "source": [
        "#посмотрим на тестовую выборку\n",
        "test.head()"
      ],
      "metadata": {
        "id": "IMOJuKXTVfvx",
        "colab": {
          "base_uri": "https://localhost:8080/"
        },
        "outputId": "05de9093-57b1-4ac4-d775-d22ed5e4f965"
      },
      "execution_count": 218,
      "outputs": [
        {
          "output_type": "execute_result",
          "data": {
            "text/plain": [
              "Date\n",
              "2019-11-24    349.919995\n",
              "2019-12-01    331.622505\n",
              "2019-12-08    334.072003\n",
              "2019-12-15    351.828003\n",
              "2019-12-22    392.653998\n",
              "Freq: W-SUN, Name: Close, dtype: float64"
            ]
          },
          "metadata": {},
          "execution_count": 218
        }
      ]
    },
    {
      "cell_type": "code",
      "source": [
        "from pmdarima import auto_arima    \n",
        "auto_arima(df2['Close'],seasonal=True,m=52).summary() #включаем сезонность и указываем период сезонности = 1 год"
      ],
      "metadata": {
        "colab": {
          "base_uri": "https://localhost:8080/",
          "height": 465
        },
        "id": "d2UcB8CKD_Wv",
        "outputId": "d8ed3d13-e566-4508-e1b7-67dcc63d336c"
      },
      "execution_count": 72,
      "outputs": [
        {
          "output_type": "execute_result",
          "data": {
            "text/plain": [
              "<class 'statsmodels.iolib.summary.Summary'>\n",
              "\"\"\"\n",
              "                                      SARIMAX Results                                       \n",
              "============================================================================================\n",
              "Dep. Variable:                                    y   No. Observations:                  502\n",
              "Model:             SARIMAX(1, 1, 2)x(0, 0, [1], 52)   Log Likelihood               -1999.859\n",
              "Date:                              Tue, 22 Mar 2022   AIC                           4009.718\n",
              "Time:                                      14:51:13   BIC                           4030.801\n",
              "Sample:                                           0   HQIC                          4017.990\n",
              "                                              - 502                                         \n",
              "Covariance Type:                                opg                                         \n",
              "==============================================================================\n",
              "                 coef    std err          z      P>|z|      [0.025      0.975]\n",
              "------------------------------------------------------------------------------\n",
              "ar.L1          0.9892      0.033     30.115      0.000       0.925       1.054\n",
              "ma.L1         -0.5913      0.056    -10.529      0.000      -0.701      -0.481\n",
              "ma.L2         -0.2408      0.053     -4.525      0.000      -0.345      -0.136\n",
              "ma.S.L52       0.0848      0.049      1.723      0.085      -0.012       0.181\n",
              "sigma2       171.0064      5.903     28.971      0.000     159.437     182.575\n",
              "===================================================================================\n",
              "Ljung-Box (L1) (Q):                   0.02   Jarque-Bera (JB):             30305.61\n",
              "Prob(Q):                              0.88   Prob(JB):                         0.00\n",
              "Heteroskedasticity (H):              32.46   Skew:                             3.13\n",
              "Prob(H) (two-sided):                  0.00   Kurtosis:                        40.59\n",
              "===================================================================================\n",
              "\n",
              "Warnings:\n",
              "[1] Covariance matrix calculated using the outer product of gradients (complex-step).\n",
              "\"\"\""
            ],
            "text/html": [
              "<table class=\"simpletable\">\n",
              "<caption>SARIMAX Results</caption>\n",
              "<tr>\n",
              "  <th>Dep. Variable:</th>                   <td>y</td>                <th>  No. Observations:  </th>    <td>502</td>   \n",
              "</tr>\n",
              "<tr>\n",
              "  <th>Model:</th>           <td>SARIMAX(1, 1, 2)x(0, 0, [1], 52)</td> <th>  Log Likelihood     </th> <td>-1999.859</td>\n",
              "</tr>\n",
              "<tr>\n",
              "  <th>Date:</th>                    <td>Tue, 22 Mar 2022</td>         <th>  AIC                </th> <td>4009.718</td> \n",
              "</tr>\n",
              "<tr>\n",
              "  <th>Time:</th>                        <td>14:51:13</td>             <th>  BIC                </th> <td>4030.801</td> \n",
              "</tr>\n",
              "<tr>\n",
              "  <th>Sample:</th>                          <td>0</td>                <th>  HQIC               </th> <td>4017.990</td> \n",
              "</tr>\n",
              "<tr>\n",
              "  <th></th>                              <td> - 502</td>              <th>                     </th>     <td> </td>    \n",
              "</tr>\n",
              "<tr>\n",
              "  <th>Covariance Type:</th>                <td>opg</td>               <th>                     </th>     <td> </td>    \n",
              "</tr>\n",
              "</table>\n",
              "<table class=\"simpletable\">\n",
              "<tr>\n",
              "      <td></td>        <th>coef</th>     <th>std err</th>      <th>z</th>      <th>P>|z|</th>  <th>[0.025</th>    <th>0.975]</th>  \n",
              "</tr>\n",
              "<tr>\n",
              "  <th>ar.L1</th>    <td>    0.9892</td> <td>    0.033</td> <td>   30.115</td> <td> 0.000</td> <td>    0.925</td> <td>    1.054</td>\n",
              "</tr>\n",
              "<tr>\n",
              "  <th>ma.L1</th>    <td>   -0.5913</td> <td>    0.056</td> <td>  -10.529</td> <td> 0.000</td> <td>   -0.701</td> <td>   -0.481</td>\n",
              "</tr>\n",
              "<tr>\n",
              "  <th>ma.L2</th>    <td>   -0.2408</td> <td>    0.053</td> <td>   -4.525</td> <td> 0.000</td> <td>   -0.345</td> <td>   -0.136</td>\n",
              "</tr>\n",
              "<tr>\n",
              "  <th>ma.S.L52</th> <td>    0.0848</td> <td>    0.049</td> <td>    1.723</td> <td> 0.085</td> <td>   -0.012</td> <td>    0.181</td>\n",
              "</tr>\n",
              "<tr>\n",
              "  <th>sigma2</th>   <td>  171.0064</td> <td>    5.903</td> <td>   28.971</td> <td> 0.000</td> <td>  159.437</td> <td>  182.575</td>\n",
              "</tr>\n",
              "</table>\n",
              "<table class=\"simpletable\">\n",
              "<tr>\n",
              "  <th>Ljung-Box (L1) (Q):</th>     <td>0.02</td>  <th>  Jarque-Bera (JB):  </th> <td>30305.61</td>\n",
              "</tr>\n",
              "<tr>\n",
              "  <th>Prob(Q):</th>                <td>0.88</td>  <th>  Prob(JB):          </th>   <td>0.00</td>  \n",
              "</tr>\n",
              "<tr>\n",
              "  <th>Heteroskedasticity (H):</th> <td>32.46</td> <th>  Skew:              </th>   <td>3.13</td>  \n",
              "</tr>\n",
              "<tr>\n",
              "  <th>Prob(H) (two-sided):</th>    <td>0.00</td>  <th>  Kurtosis:          </th>   <td>40.59</td> \n",
              "</tr>\n",
              "</table><br/><br/>Warnings:<br/>[1] Covariance matrix calculated using the outer product of gradients (complex-step)."
            ]
          },
          "metadata": {},
          "execution_count": 72
        }
      ]
    },
    {
      "cell_type": "markdown",
      "source": [
        "Промежуточные выводы:\n",
        "\n",
        "Получилась модель с параметрами SARIMAX(1, 1, 2)x(0, 0, [1], 52)"
      ],
      "metadata": {
        "id": "Gdq9D4VvVHLM"
      }
    },
    {
      "cell_type": "code",
      "source": [
        "# создаем модель с подобранными параметрами\n",
        "model_sarimax = SARIMAX(train,order=(1, 1, 2), seasonal_order=(0, 0, 1, 52))\n",
        "\n",
        "#обучаем модель на обучающей выборке данных\n",
        "results_sarimax = model_sarimax.fit()\n",
        "\n",
        "#получаем результаты\n",
        "results_sarimax.summary()"
      ],
      "metadata": {
        "id": "iVIKvqP2VmiK",
        "colab": {
          "base_uri": "https://localhost:8080/",
          "height": 465
        },
        "outputId": "02345a9c-a925-4a00-90eb-6632ba7c1f4d"
      },
      "execution_count": 219,
      "outputs": [
        {
          "output_type": "execute_result",
          "data": {
            "text/plain": [
              "<class 'statsmodels.iolib.summary.Summary'>\n",
              "\"\"\"\n",
              "                                      SARIMAX Results                                       \n",
              "============================================================================================\n",
              "Dep. Variable:                                Close   No. Observations:                  490\n",
              "Model:             SARIMAX(1, 1, 2)x(0, 0, [1], 52)   Log Likelihood               -1839.670\n",
              "Date:                              Tue, 22 Mar 2022   AIC                           3689.339\n",
              "Time:                                      16:55:41   BIC                           3710.301\n",
              "Sample:                                  07-04-2010   HQIC                          3697.572\n",
              "                                       - 11-17-2019                                         \n",
              "Covariance Type:                                opg                                         \n",
              "==============================================================================\n",
              "                 coef    std err          z      P>|z|      [0.025      0.975]\n",
              "------------------------------------------------------------------------------\n",
              "ar.L1          0.8011      0.185      4.323      0.000       0.438       1.164\n",
              "ma.L1         -0.5287      0.186     -2.842      0.004      -0.893      -0.164\n",
              "ma.L2         -0.2746      0.045     -6.118      0.000      -0.363      -0.187\n",
              "ma.S.L52       0.1001      0.038      2.618      0.009       0.025       0.175\n",
              "sigma2       108.3146      5.039     21.496      0.000      98.439     118.190\n",
              "===================================================================================\n",
              "Ljung-Box (L1) (Q):                   0.00   Jarque-Bera (JB):               101.45\n",
              "Prob(Q):                              0.97   Prob(JB):                         0.00\n",
              "Heteroskedasticity (H):              16.69   Skew:                            -0.16\n",
              "Prob(H) (two-sided):                  0.00   Kurtosis:                         5.21\n",
              "===================================================================================\n",
              "\n",
              "Warnings:\n",
              "[1] Covariance matrix calculated using the outer product of gradients (complex-step).\n",
              "\"\"\""
            ],
            "text/html": [
              "<table class=\"simpletable\">\n",
              "<caption>SARIMAX Results</caption>\n",
              "<tr>\n",
              "  <th>Dep. Variable:</th>                 <td>Close</td>              <th>  No. Observations:  </th>    <td>490</td>   \n",
              "</tr>\n",
              "<tr>\n",
              "  <th>Model:</th>           <td>SARIMAX(1, 1, 2)x(0, 0, [1], 52)</td> <th>  Log Likelihood     </th> <td>-1839.670</td>\n",
              "</tr>\n",
              "<tr>\n",
              "  <th>Date:</th>                    <td>Tue, 22 Mar 2022</td>         <th>  AIC                </th> <td>3689.339</td> \n",
              "</tr>\n",
              "<tr>\n",
              "  <th>Time:</th>                        <td>16:55:41</td>             <th>  BIC                </th> <td>3710.301</td> \n",
              "</tr>\n",
              "<tr>\n",
              "  <th>Sample:</th>                     <td>07-04-2010</td>            <th>  HQIC               </th> <td>3697.572</td> \n",
              "</tr>\n",
              "<tr>\n",
              "  <th></th>                           <td>- 11-17-2019</td>           <th>                     </th>     <td> </td>    \n",
              "</tr>\n",
              "<tr>\n",
              "  <th>Covariance Type:</th>                <td>opg</td>               <th>                     </th>     <td> </td>    \n",
              "</tr>\n",
              "</table>\n",
              "<table class=\"simpletable\">\n",
              "<tr>\n",
              "      <td></td>        <th>coef</th>     <th>std err</th>      <th>z</th>      <th>P>|z|</th>  <th>[0.025</th>    <th>0.975]</th>  \n",
              "</tr>\n",
              "<tr>\n",
              "  <th>ar.L1</th>    <td>    0.8011</td> <td>    0.185</td> <td>    4.323</td> <td> 0.000</td> <td>    0.438</td> <td>    1.164</td>\n",
              "</tr>\n",
              "<tr>\n",
              "  <th>ma.L1</th>    <td>   -0.5287</td> <td>    0.186</td> <td>   -2.842</td> <td> 0.004</td> <td>   -0.893</td> <td>   -0.164</td>\n",
              "</tr>\n",
              "<tr>\n",
              "  <th>ma.L2</th>    <td>   -0.2746</td> <td>    0.045</td> <td>   -6.118</td> <td> 0.000</td> <td>   -0.363</td> <td>   -0.187</td>\n",
              "</tr>\n",
              "<tr>\n",
              "  <th>ma.S.L52</th> <td>    0.1001</td> <td>    0.038</td> <td>    2.618</td> <td> 0.009</td> <td>    0.025</td> <td>    0.175</td>\n",
              "</tr>\n",
              "<tr>\n",
              "  <th>sigma2</th>   <td>  108.3146</td> <td>    5.039</td> <td>   21.496</td> <td> 0.000</td> <td>   98.439</td> <td>  118.190</td>\n",
              "</tr>\n",
              "</table>\n",
              "<table class=\"simpletable\">\n",
              "<tr>\n",
              "  <th>Ljung-Box (L1) (Q):</th>     <td>0.00</td>  <th>  Jarque-Bera (JB):  </th> <td>101.45</td>\n",
              "</tr>\n",
              "<tr>\n",
              "  <th>Prob(Q):</th>                <td>0.97</td>  <th>  Prob(JB):          </th>  <td>0.00</td> \n",
              "</tr>\n",
              "<tr>\n",
              "  <th>Heteroskedasticity (H):</th> <td>16.69</td> <th>  Skew:              </th>  <td>-0.16</td>\n",
              "</tr>\n",
              "<tr>\n",
              "  <th>Prob(H) (two-sided):</th>    <td>0.00</td>  <th>  Kurtosis:          </th>  <td>5.21</td> \n",
              "</tr>\n",
              "</table><br/><br/>Warnings:<br/>[1] Covariance matrix calculated using the outer product of gradients (complex-step)."
            ]
          },
          "metadata": {},
          "execution_count": 219
        }
      ]
    },
    {
      "cell_type": "code",
      "source": [
        "#предсказываем значения,передав модели results точку начала и окончания\n",
        "prediction_sarimax = results_sarimax.predict(start=len(train), end=len(train)+len(test)-1, dynamic=False, typ='levels').rename(' Predictions SARIMAX(1, 1, 2)x(0, 0, [1], 52)\t')"
      ],
      "metadata": {
        "id": "8KkEf9HAVql4"
      },
      "execution_count": 220,
      "outputs": []
    },
    {
      "cell_type": "code",
      "source": [
        "#сравниваем прогноз и тестовую выборку\n",
        "ax = test.plot(legend=True, figsize=(12,6),title='Close Price changing')\n",
        "prediction_sarimax.plot(legend=True)\n",
        "ax.autoscale(axis='x',tight=True)"
      ],
      "metadata": {
        "id": "UY8hkf34Vuxs",
        "colab": {
          "base_uri": "https://localhost:8080/",
          "height": 509
        },
        "outputId": "8c971507-94d7-4b1f-c57a-2c6d41955024"
      },
      "execution_count": 222,
      "outputs": [
        {
          "output_type": "stream",
          "name": "stderr",
          "text": [
            "/usr/local/lib/python3.7/dist-packages/matplotlib/backends/backend_agg.py:214: RuntimeWarning: Glyph 9 missing from current font.\n",
            "  font.set_text(s, 0.0, flags=flags)\n",
            "/usr/local/lib/python3.7/dist-packages/matplotlib/backends/backend_agg.py:183: RuntimeWarning: Glyph 9 missing from current font.\n",
            "  font.set_text(s, 0, flags=flags)\n"
          ]
        },
        {
          "output_type": "display_data",
          "data": {
            "text/plain": [
              "<Figure size 864x432 with 1 Axes>"
            ],
            "image/png": "[encoded data removed]"
          },
          "metadata": {
            "needs_background": "light"
          }
        }
      ]
    },
    {
      "cell_type": "code",
      "source": [
        "#оцениваем качество модели методом MSE, RMSE, MAE, MAPE\n",
        "mae_error = mean_absolute_error(test, prediction_sarimax)\n",
        "mse_error = mean_squared_error(test, prediction_sarimax)\n",
        "rmse_error = rmse(test, prediction_sarimax)\n",
        "mape_error = np.mean(np.abs(prediction_sarimax - test)/test)*100\n",
        "\n",
        "print(f'SARIMAX(0, 1, 2)x(2, 0, [], 7) MAE Error: {mae_error:11.10}')\n",
        "print(f'SARIMAX(0, 1, 2)x(2, 0, [], 7) MSE Error: {mse_error:11.10}')\n",
        "print(f'SARIMAX(0, 1, 2)x(2, 0, [], 7) RMSE Error: {rmse_error:11.10}')\n",
        "print(f'SARIMAX(0, 1, 2)x(2, 0, [], 7) MAPE Error: {mape_error:11.10}')"
      ],
      "metadata": {
        "id": "CioNQclqVysf",
        "colab": {
          "base_uri": "https://localhost:8080/"
        },
        "outputId": "2474d875-8339-4f41-88e3-c1e5cd48d643"
      },
      "execution_count": 109,
      "outputs": [
        {
          "output_type": "stream",
          "name": "stdout",
          "text": [
            "SARIMAX(0, 1, 2)x(2, 0, [], 7) MAE Error:  127.974433\n",
            "SARIMAX(0, 1, 2)x(2, 0, [], 7) MSE Error: 33007.87855\n",
            "SARIMAX(0, 1, 2)x(2, 0, [], 7) RMSE Error: 181.6807049\n",
            "SARIMAX(0, 1, 2)x(2, 0, [], 7) MAPE Error: 22.81866178\n"
          ]
        }
      ]
    },
    {
      "cell_type": "code",
      "source": [
        "#делаем прогноз на будущее - 12 недель вперед\n",
        "\n",
        "# обучаем модель на всем датасете\n",
        "fut_model_sarimax = SARIMAX(df2['Close'],order=(1, 1, 2), seasonal_order=(0, 0, 1, 52))\n",
        "fut_results_sarimax = fut_model_sarimax.fit()\n",
        "fut_results_sarimax.summary()"
      ],
      "metadata": {
        "id": "vfLD6IXKV2yY",
        "colab": {
          "base_uri": "https://localhost:8080/",
          "height": 519
        },
        "outputId": "c20dfb63-381c-4bd0-a861-c4b28bc20f14"
      },
      "execution_count": 223,
      "outputs": [
        {
          "output_type": "stream",
          "name": "stderr",
          "text": [
            "/usr/local/lib/python3.7/dist-packages/statsmodels/tsa/statespace/sarimax.py:966: UserWarning: Non-stationary starting autoregressive parameters found. Using zeros as starting parameters.\n",
            "  warn('Non-stationary starting autoregressive parameters'\n"
          ]
        },
        {
          "output_type": "execute_result",
          "data": {
            "text/plain": [
              "<class 'statsmodels.iolib.summary.Summary'>\n",
              "\"\"\"\n",
              "                                      SARIMAX Results                                       \n",
              "============================================================================================\n",
              "Dep. Variable:                                Close   No. Observations:                  502\n",
              "Model:             SARIMAX(1, 1, 2)x(0, 0, [1], 52)   Log Likelihood               -1999.859\n",
              "Date:                              Tue, 22 Mar 2022   AIC                           4009.718\n",
              "Time:                                      16:56:33   BIC                           4030.801\n",
              "Sample:                                  07-04-2010   HQIC                          4017.990\n",
              "                                       - 02-09-2020                                         \n",
              "Covariance Type:                                opg                                         \n",
              "==============================================================================\n",
              "                 coef    std err          z      P>|z|      [0.025      0.975]\n",
              "------------------------------------------------------------------------------\n",
              "ar.L1          0.9892      0.033     30.115      0.000       0.925       1.054\n",
              "ma.L1         -0.5913      0.056    -10.529      0.000      -0.701      -0.481\n",
              "ma.L2         -0.2408      0.053     -4.525      0.000      -0.345      -0.136\n",
              "ma.S.L52       0.0848      0.049      1.723      0.085      -0.012       0.181\n",
              "sigma2       171.0064      5.903     28.971      0.000     159.437     182.575\n",
              "===================================================================================\n",
              "Ljung-Box (L1) (Q):                   0.02   Jarque-Bera (JB):             30305.61\n",
              "Prob(Q):                              0.88   Prob(JB):                         0.00\n",
              "Heteroskedasticity (H):              32.46   Skew:                             3.13\n",
              "Prob(H) (two-sided):                  0.00   Kurtosis:                        40.59\n",
              "===================================================================================\n",
              "\n",
              "Warnings:\n",
              "[1] Covariance matrix calculated using the outer product of gradients (complex-step).\n",
              "\"\"\""
            ],
            "text/html": [
              "<table class=\"simpletable\">\n",
              "<caption>SARIMAX Results</caption>\n",
              "<tr>\n",
              "  <th>Dep. Variable:</th>                 <td>Close</td>              <th>  No. Observations:  </th>    <td>502</td>   \n",
              "</tr>\n",
              "<tr>\n",
              "  <th>Model:</th>           <td>SARIMAX(1, 1, 2)x(0, 0, [1], 52)</td> <th>  Log Likelihood     </th> <td>-1999.859</td>\n",
              "</tr>\n",
              "<tr>\n",
              "  <th>Date:</th>                    <td>Tue, 22 Mar 2022</td>         <th>  AIC                </th> <td>4009.718</td> \n",
              "</tr>\n",
              "<tr>\n",
              "  <th>Time:</th>                        <td>16:56:33</td>             <th>  BIC                </th> <td>4030.801</td> \n",
              "</tr>\n",
              "<tr>\n",
              "  <th>Sample:</th>                     <td>07-04-2010</td>            <th>  HQIC               </th> <td>4017.990</td> \n",
              "</tr>\n",
              "<tr>\n",
              "  <th></th>                           <td>- 02-09-2020</td>           <th>                     </th>     <td> </td>    \n",
              "</tr>\n",
              "<tr>\n",
              "  <th>Covariance Type:</th>                <td>opg</td>               <th>                     </th>     <td> </td>    \n",
              "</tr>\n",
              "</table>\n",
              "<table class=\"simpletable\">\n",
              "<tr>\n",
              "      <td></td>        <th>coef</th>     <th>std err</th>      <th>z</th>      <th>P>|z|</th>  <th>[0.025</th>    <th>0.975]</th>  \n",
              "</tr>\n",
              "<tr>\n",
              "  <th>ar.L1</th>    <td>    0.9892</td> <td>    0.033</td> <td>   30.115</td> <td> 0.000</td> <td>    0.925</td> <td>    1.054</td>\n",
              "</tr>\n",
              "<tr>\n",
              "  <th>ma.L1</th>    <td>   -0.5913</td> <td>    0.056</td> <td>  -10.529</td> <td> 0.000</td> <td>   -0.701</td> <td>   -0.481</td>\n",
              "</tr>\n",
              "<tr>\n",
              "  <th>ma.L2</th>    <td>   -0.2408</td> <td>    0.053</td> <td>   -4.525</td> <td> 0.000</td> <td>   -0.345</td> <td>   -0.136</td>\n",
              "</tr>\n",
              "<tr>\n",
              "  <th>ma.S.L52</th> <td>    0.0848</td> <td>    0.049</td> <td>    1.723</td> <td> 0.085</td> <td>   -0.012</td> <td>    0.181</td>\n",
              "</tr>\n",
              "<tr>\n",
              "  <th>sigma2</th>   <td>  171.0064</td> <td>    5.903</td> <td>   28.971</td> <td> 0.000</td> <td>  159.437</td> <td>  182.575</td>\n",
              "</tr>\n",
              "</table>\n",
              "<table class=\"simpletable\">\n",
              "<tr>\n",
              "  <th>Ljung-Box (L1) (Q):</th>     <td>0.02</td>  <th>  Jarque-Bera (JB):  </th> <td>30305.61</td>\n",
              "</tr>\n",
              "<tr>\n",
              "  <th>Prob(Q):</th>                <td>0.88</td>  <th>  Prob(JB):          </th>   <td>0.00</td>  \n",
              "</tr>\n",
              "<tr>\n",
              "  <th>Heteroskedasticity (H):</th> <td>32.46</td> <th>  Skew:              </th>   <td>3.13</td>  \n",
              "</tr>\n",
              "<tr>\n",
              "  <th>Prob(H) (two-sided):</th>    <td>0.00</td>  <th>  Kurtosis:          </th>   <td>40.59</td> \n",
              "</tr>\n",
              "</table><br/><br/>Warnings:<br/>[1] Covariance matrix calculated using the outer product of gradients (complex-step)."
            ]
          },
          "metadata": {},
          "execution_count": 223
        }
      ]
    },
    {
      "cell_type": "code",
      "source": [
        "#задаем точки будущего\n",
        "fut_fcast_sarimax = fut_results_sarimax.predict(len(df2)-1,len(df2)+11,typ='levels').rename('SARIMAX(1, 1, 2)x(0, 0, [1], 52) Forecast')\n",
        "\n",
        "#строим график на будущее\n",
        "ax = df2['Close'].plot(legend=True, figsize=(12,6),title='Close price changing') \n",
        "fut_fcast_sarimax.plot(legend=True)\n",
        "ax.autoscale(axis='x',tight=True)"
      ],
      "metadata": {
        "id": "zWiwywnOV570",
        "colab": {
          "base_uri": "https://localhost:8080/",
          "height": 404
        },
        "outputId": "49072d6b-c9e4-4a05-91da-0348ca37d550"
      },
      "execution_count": 224,
      "outputs": [
        {
          "output_type": "display_data",
          "data": {
            "text/plain": [
              "<Figure size 864x432 with 1 Axes>"
            ],
            "image/png": "[encoded data removed]"
          },
          "metadata": {
            "needs_background": "light"
          }
        }
      ]
    },
    {
      "cell_type": "markdown",
      "source": [
        "Выводы работы метода SARIMAX\n",
        "to do"
      ],
      "metadata": {
        "id": "xFKyO9xTV9gV"
      }
    },
    {
      "cell_type": "markdown",
      "source": [
        "3й метод прогнозирования \"Экспоненциальное сглаживание\" (Exponential smoothing)"
      ],
      "metadata": {
        "id": "WI2-KQrqWGML"
      }
    },
    {
      "cell_type": "code",
      "source": [
        "# создаем модель с подобранными параметрами\n",
        "model_exps = ExponentialSmoothing(train, seasonal_periods=52, trend = 'add')# годовая сезонность\n",
        "\n",
        "#обучаем модель на обучающей выборке данных\n",
        "model_exps.fit()"
      ],
      "metadata": {
        "id": "wT_7Xr9QWErf",
        "colab": {
          "base_uri": "https://localhost:8080/"
        },
        "outputId": "eb81f7bb-2fa4-4912-fe57-6a11af14a31d"
      },
      "execution_count": 225,
      "outputs": [
        {
          "output_type": "execute_result",
          "data": {
            "text/plain": [
              "<statsmodels.tsa.holtwinters.results.HoltWintersResultsWrapper at 0x7f3602f956d0>"
            ]
          },
          "metadata": {},
          "execution_count": 225
        }
      ]
    },
    {
      "cell_type": "code",
      "source": [
        "#посмотрим на подобранные параметры модели\n",
        "model_exps.params"
      ],
      "metadata": {
        "id": "HIkO9dfXWMHU",
        "colab": {
          "base_uri": "https://localhost:8080/"
        },
        "outputId": "92f09ec5-5d9c-48bf-c1b4-4bea0ff004d2"
      },
      "execution_count": 226,
      "outputs": [
        {
          "output_type": "execute_result",
          "data": {
            "text/plain": [
              "{'damping_trend': nan,\n",
              " 'initial_level': 22.577711519333395,\n",
              " 'initial_seasons': array([], dtype=float64),\n",
              " 'initial_trend': 0.664167386913011,\n",
              " 'lamda': None,\n",
              " 'remove_bias': False,\n",
              " 'smoothing_level': 0.9996726336716957,\n",
              " 'smoothing_seasonal': nan,\n",
              " 'smoothing_trend': 0.00023632206326520435,\n",
              " 'use_boxcox': False}"
            ]
          },
          "metadata": {},
          "execution_count": 226
        }
      ]
    },
    {
      "cell_type": "code",
      "source": [
        "#предсказываем значения,передав модели results точку начала и окончания\n",
        "prediction_exps = model_exps.predict(model_exps.params, start=test.index[0], end=test.index[-1])"
      ],
      "metadata": {
        "id": "5xZ9DwHRWPpm"
      },
      "execution_count": 227,
      "outputs": []
    },
    {
      "cell_type": "code",
      "source": [
        "# определяем точку начала для прогноза\n",
        "test.index[0]\n"
      ],
      "metadata": {
        "id": "RssyVxs4WS_t",
        "colab": {
          "base_uri": "https://localhost:8080/"
        },
        "outputId": "142e4d8a-737a-4ce8-a8c1-7fefa3091a52"
      },
      "execution_count": 228,
      "outputs": [
        {
          "output_type": "execute_result",
          "data": {
            "text/plain": [
              "Timestamp('2019-11-24 00:00:00', freq='W-SUN')"
            ]
          },
          "metadata": {},
          "execution_count": 228
        }
      ]
    },
    {
      "cell_type": "code",
      "source": [
        "# определяем точку окончания для прогноза\n",
        "test.index[-1]"
      ],
      "metadata": {
        "colab": {
          "base_uri": "https://localhost:8080/"
        },
        "id": "nrKFfDDR-YEZ",
        "outputId": "7b393bf0-1c58-46bd-9373-2ad3a10f5370"
      },
      "execution_count": 229,
      "outputs": [
        {
          "output_type": "execute_result",
          "data": {
            "text/plain": [
              "Timestamp('2020-02-09 00:00:00', freq='W-SUN')"
            ]
          },
          "metadata": {},
          "execution_count": 229
        }
      ]
    },
    {
      "cell_type": "code",
      "source": [
        "prediction_exps"
      ],
      "metadata": {
        "id": "4h4L_bEH-aut",
        "colab": {
          "base_uri": "https://localhost:8080/"
        },
        "outputId": "a1a4b0bb-58a6-4ebe-f7c0-2362f22fc471"
      },
      "execution_count": 230,
      "outputs": [
        {
          "output_type": "execute_result",
          "data": {
            "text/plain": [
              "array([349.18750726, 349.85191792, 350.51632858, 351.18073925,\n",
              "       351.84514991, 352.50956057, 353.17397123, 353.83838189,\n",
              "       354.50279256, 355.16720322, 355.83161388, 356.49602454])"
            ]
          },
          "metadata": {},
          "execution_count": 230
        }
      ]
    },
    {
      "cell_type": "code",
      "source": [
        "#преобразуем в датафрейм с индексами\n",
        "prediction_exps = pd.DataFrame(prediction_exps)\n",
        "prediction_exps.index = pd.date_range(\"2019-11-24 00:00:00\", periods=12, freq=\"W-SUN\")\n",
        "\n",
        "prediction_exps.columns = ['prediction_exps']"
      ],
      "metadata": {
        "id": "FRXvbutSWa7G"
      },
      "execution_count": 231,
      "outputs": []
    },
    {
      "cell_type": "code",
      "source": [
        "#проверим\n",
        "prediction_exps.head()"
      ],
      "metadata": {
        "id": "b-Q4naXQWbsA",
        "colab": {
          "base_uri": "https://localhost:8080/",
          "height": 206
        },
        "outputId": "7d64ca79-2333-4712-9685-da6cc77ae2cb"
      },
      "execution_count": 232,
      "outputs": [
        {
          "output_type": "execute_result",
          "data": {
            "text/plain": [
              "            prediction_exps\n",
              "2019-11-24       349.187507\n",
              "2019-12-01       349.851918\n",
              "2019-12-08       350.516329\n",
              "2019-12-15       351.180739\n",
              "2019-12-22       351.845150"
            ],
            "text/html": [
              "\n",
              "  <div id=\"df-ae5d905a-7e16-49b8-8cba-b0cf2505bd5f\">\n",
              "    <div class=\"colab-df-container\">\n",
              "      <div>\n",
              "<style scoped>\n",
              "    .dataframe tbody tr th:only-of-type {\n",
              "        vertical-align: middle;\n",
              "    }\n",
              "\n",
              "    .dataframe tbody tr th {\n",
              "        vertical-align: top;\n",
              "    }\n",
              "\n",
              "    .dataframe thead th {\n",
              "        text-align: right;\n",
              "    }\n",
              "</style>\n",
              "<table border=\"1\" class=\"dataframe\">\n",
              "  <thead>\n",
              "    <tr style=\"text-align: right;\">\n",
              "      <th></th>\n",
              "      <th>prediction_exps</th>\n",
              "    </tr>\n",
              "  </thead>\n",
              "  <tbody>\n",
              "    <tr>\n",
              "      <th>2019-11-24</th>\n",
              "      <td>349.187507</td>\n",
              "    </tr>\n",
              "    <tr>\n",
              "      <th>2019-12-01</th>\n",
              "      <td>349.851918</td>\n",
              "    </tr>\n",
              "    <tr>\n",
              "      <th>2019-12-08</th>\n",
              "      <td>350.516329</td>\n",
              "    </tr>\n",
              "    <tr>\n",
              "      <th>2019-12-15</th>\n",
              "      <td>351.180739</td>\n",
              "    </tr>\n",
              "    <tr>\n",
              "      <th>2019-12-22</th>\n",
              "      <td>351.845150</td>\n",
              "    </tr>\n",
              "  </tbody>\n",
              "</table>\n",
              "</div>\n",
              "      <button class=\"colab-df-convert\" onclick=\"convertToInteractive('df-ae5d905a-7e16-49b8-8cba-b0cf2505bd5f')\"\n",
              "              title=\"Convert this dataframe to an interactive table.\"\n",
              "              style=\"display:none;\">\n",
              "        \n",
              "  <svg xmlns=\"http://www.w3.org/2000/svg\" height=\"24px\"viewBox=\"0 0 24 24\"\n",
              "       width=\"24px\">\n",
              "    <path d=\"M0 0h24v24H0V0z\" fill=\"none\"/>\n",
              "    <path d=\"M18.56 5.44l.94 2.06.94-2.06 2.06-.94-2.06-.94-.94-2.06-.94 2.06-2.06.94zm-11 1L8.5 8.5l.94-2.06 2.06-.94-2.06-.94L8.5 2.5l-.94 2.06-2.06.94zm10 10l.94 2.06.94-2.06 2.06-.94-2.06-.94-.94-2.06-.94 2.06-2.06.94z\"/><path d=\"M17.41 7.96l-1.37-1.37c-.4-.4-.92-.59-1.43-.59-.52 0-1.04.2-1.43.59L10.3 9.45l-7.72 7.72c-.78.78-.78 2.05 0 2.83L4 21.41c.39.39.9.59 1.41.59.51 0 1.02-.2 1.41-.59l7.78-7.78 2.81-2.81c.8-.78.8-2.07 0-2.86zM5.41 20L4 18.59l7.72-7.72 1.47 1.35L5.41 20z\"/>\n",
              "  </svg>\n",
              "      </button>\n",
              "      \n",
              "  <style>\n",
              "    .colab-df-container {\n",
              "      display:flex;\n",
              "      flex-wrap:wrap;\n",
              "      gap: 12px;\n",
              "    }\n",
              "\n",
              "    .colab-df-convert {\n",
              "      background-color: #E8F0FE;\n",
              "      border: none;\n",
              "      border-radius: 50%;\n",
              "      cursor: pointer;\n",
              "      display: none;\n",
              "      fill: #1967D2;\n",
              "      height: 32px;\n",
              "      padding: 0 0 0 0;\n",
              "      width: 32px;\n",
              "    }\n",
              "\n",
              "    .colab-df-convert:hover {\n",
              "      background-color: #E2EBFA;\n",
              "      box-shadow: 0px 1px 2px rgba(60, 64, 67, 0.3), 0px 1px 3px 1px rgba(60, 64, 67, 0.15);\n",
              "      fill: #174EA6;\n",
              "    }\n",
              "\n",
              "    [theme=dark] .colab-df-convert {\n",
              "      background-color: #3B4455;\n",
              "      fill: #D2E3FC;\n",
              "    }\n",
              "\n",
              "    [theme=dark] .colab-df-convert:hover {\n",
              "      background-color: #434B5C;\n",
              "      box-shadow: 0px 1px 3px 1px rgba(0, 0, 0, 0.15);\n",
              "      filter: drop-shadow(0px 1px 2px rgba(0, 0, 0, 0.3));\n",
              "      fill: #FFFFFF;\n",
              "    }\n",
              "  </style>\n",
              "\n",
              "      <script>\n",
              "        const buttonEl =\n",
              "          document.querySelector('#df-ae5d905a-7e16-49b8-8cba-b0cf2505bd5f button.colab-df-convert');\n",
              "        buttonEl.style.display =\n",
              "          google.colab.kernel.accessAllowed ? 'block' : 'none';\n",
              "\n",
              "        async function convertToInteractive(key) {\n",
              "          const element = document.querySelector('#df-ae5d905a-7e16-49b8-8cba-b0cf2505bd5f');\n",
              "          const dataTable =\n",
              "            await google.colab.kernel.invokeFunction('convertToInteractive',\n",
              "                                                     [key], {});\n",
              "          if (!dataTable) return;\n",
              "\n",
              "          const docLinkHtml = 'Like what you see? Visit the ' +\n",
              "            '<a target=\"_blank\" href=https://colab.research.google.com/notebooks/data_table.ipynb>data table notebook</a>'\n",
              "            + ' to learn more about interactive tables.';\n",
              "          element.innerHTML = '';\n",
              "          dataTable['output_type'] = 'display_data';\n",
              "          await google.colab.output.renderOutput(dataTable, element);\n",
              "          const docLink = document.createElement('div');\n",
              "          docLink.innerHTML = docLinkHtml;\n",
              "          element.appendChild(docLink);\n",
              "        }\n",
              "      </script>\n",
              "    </div>\n",
              "  </div>\n",
              "  "
            ]
          },
          "metadata": {},
          "execution_count": 232
        }
      ]
    },
    {
      "cell_type": "code",
      "source": [
        "#сравниваем прогноз и тестовую выборку\n",
        "ax = test.plot(legend=True, figsize=(12,6),title='Close price changing')\n",
        "prediction_exps['prediction_exps'].plot(legend=True)\n",
        "ax.autoscale(axis='x',tight=True)"
      ],
      "metadata": {
        "id": "gPUd7asIWd22",
        "colab": {
          "base_uri": "https://localhost:8080/",
          "height": 439
        },
        "outputId": "5222ba4c-60d8-47e8-a4e9-2e1c09efe1a9"
      },
      "execution_count": 233,
      "outputs": [
        {
          "output_type": "display_data",
          "data": {
            "text/plain": [
              "<Figure size 864x432 with 1 Axes>"
            ],
            "image/png": "[encoded data removed]"
          },
          "metadata": {
            "needs_background": "light"
          }
        }
      ]
    },
    {
      "cell_type": "code",
      "source": [
        "#оцениваем качество модели методом MSE, RMSE, MAE, MAPE\n",
        "mae_error = mean_absolute_error(test, prediction_exps['prediction_exps'])\n",
        "mse_error = mean_squared_error(test, prediction_exps['prediction_exps'])\n",
        "rmse_error = rmse(test, prediction_exps['prediction_exps'])\n",
        "mape_error = np.mean(np.abs(prediction_exps['prediction_exps'] - test)/test)*100\n",
        "\n",
        "print(f'Exponential smoothing MAE Error: {mae_error:11.10}')\n",
        "print(f'Exponential smoothing MSE Error: {mse_error:11.10}')\n",
        "print(f'Exponential smoothing RMSE Error: {rmse_error:11.10}')\n",
        "print(f'Exponential smoothing MAPE Error: {mape_error:11.10}')"
      ],
      "metadata": {
        "id": "YvYokn4bW-F1",
        "colab": {
          "base_uri": "https://localhost:8080/"
        },
        "outputId": "0460d42a-a216-4a18-f98e-92209c24adc2"
      },
      "execution_count": 234,
      "outputs": [
        {
          "output_type": "stream",
          "name": "stdout",
          "text": [
            "Exponential smoothing MAE Error: 115.5640255\n",
            "Exponential smoothing MSE Error: 28124.84638\n",
            "Exponential smoothing RMSE Error: 167.7046403\n",
            "Exponential smoothing MAPE Error: 20.41979624\n"
          ]
        }
      ]
    },
    {
      "cell_type": "code",
      "source": [
        "#делаем прогноз на будущее\n",
        "\n",
        "# обучаем модель на всем датасете\n",
        "fut_model_exps = ExponentialSmoothing(df2['Close'], seasonal_periods=12, trend = 'add')\n",
        "fut_model_exps.fit()\n",
        "\n",
        "#задаем точки будущего\n",
        "fut_fcast_exps = fut_model_exps.predict(fut_model_exps.params, start=len(df2)-1, end=len(df2)+10)\n",
        "\n",
        "#преобразуем в датафрейм с индексами\n",
        "fut_fcast_exps = pd.DataFrame(fut_fcast_exps)\n",
        "fut_fcast_exps.index = pd.date_range('2020-02-09 00:00:00', periods=12, freq=\"W-SUN\")\n",
        "fut_fcast_exps.columns = ['fut_fcast_exps']"
      ],
      "metadata": {
        "id": "XX-Vu4MVXD_-"
      },
      "execution_count": 244,
      "outputs": []
    },
    {
      "cell_type": "code",
      "source": [
        "#проверим\n",
        "fut_fcast_exps.head()"
      ],
      "metadata": {
        "id": "bqLPPqAPXHtp",
        "colab": {
          "base_uri": "https://localhost:8080/",
          "height": 206
        },
        "outputId": "21df77f3-b671-4765-843b-d08ad9b3127f"
      },
      "execution_count": 245,
      "outputs": [
        {
          "output_type": "execute_result",
          "data": {
            "text/plain": [
              "            fut_fcast_exps\n",
              "2020-02-09      630.264822\n",
              "2020-02-16      840.654571\n",
              "2020-02-23      901.309144\n",
              "2020-03-01      961.963717\n",
              "2020-03-08     1022.618291"
            ],
            "text/html": [
              "\n",
              "  <div id=\"df-ea172681-2ff2-4a81-b894-7e784f6d28bc\">\n",
              "    <div class=\"colab-df-container\">\n",
              "      <div>\n",
              "<style scoped>\n",
              "    .dataframe tbody tr th:only-of-type {\n",
              "        vertical-align: middle;\n",
              "    }\n",
              "\n",
              "    .dataframe tbody tr th {\n",
              "        vertical-align: top;\n",
              "    }\n",
              "\n",
              "    .dataframe thead th {\n",
              "        text-align: right;\n",
              "    }\n",
              "</style>\n",
              "<table border=\"1\" class=\"dataframe\">\n",
              "  <thead>\n",
              "    <tr style=\"text-align: right;\">\n",
              "      <th></th>\n",
              "      <th>fut_fcast_exps</th>\n",
              "    </tr>\n",
              "  </thead>\n",
              "  <tbody>\n",
              "    <tr>\n",
              "      <th>2020-02-09</th>\n",
              "      <td>630.264822</td>\n",
              "    </tr>\n",
              "    <tr>\n",
              "      <th>2020-02-16</th>\n",
              "      <td>840.654571</td>\n",
              "    </tr>\n",
              "    <tr>\n",
              "      <th>2020-02-23</th>\n",
              "      <td>901.309144</td>\n",
              "    </tr>\n",
              "    <tr>\n",
              "      <th>2020-03-01</th>\n",
              "      <td>961.963717</td>\n",
              "    </tr>\n",
              "    <tr>\n",
              "      <th>2020-03-08</th>\n",
              "      <td>1022.618291</td>\n",
              "    </tr>\n",
              "  </tbody>\n",
              "</table>\n",
              "</div>\n",
              "      <button class=\"colab-df-convert\" onclick=\"convertToInteractive('df-ea172681-2ff2-4a81-b894-7e784f6d28bc')\"\n",
              "              title=\"Convert this dataframe to an interactive table.\"\n",
              "              style=\"display:none;\">\n",
              "        \n",
              "  <svg xmlns=\"http://www.w3.org/2000/svg\" height=\"24px\"viewBox=\"0 0 24 24\"\n",
              "       width=\"24px\">\n",
              "    <path d=\"M0 0h24v24H0V0z\" fill=\"none\"/>\n",
              "    <path d=\"M18.56 5.44l.94 2.06.94-2.06 2.06-.94-2.06-.94-.94-2.06-.94 2.06-2.06.94zm-11 1L8.5 8.5l.94-2.06 2.06-.94-2.06-.94L8.5 2.5l-.94 2.06-2.06.94zm10 10l.94 2.06.94-2.06 2.06-.94-2.06-.94-.94-2.06-.94 2.06-2.06.94z\"/><path d=\"M17.41 7.96l-1.37-1.37c-.4-.4-.92-.59-1.43-.59-.52 0-1.04.2-1.43.59L10.3 9.45l-7.72 7.72c-.78.78-.78 2.05 0 2.83L4 21.41c.39.39.9.59 1.41.59.51 0 1.02-.2 1.41-.59l7.78-7.78 2.81-2.81c.8-.78.8-2.07 0-2.86zM5.41 20L4 18.59l7.72-7.72 1.47 1.35L5.41 20z\"/>\n",
              "  </svg>\n",
              "      </button>\n",
              "      \n",
              "  <style>\n",
              "    .colab-df-container {\n",
              "      display:flex;\n",
              "      flex-wrap:wrap;\n",
              "      gap: 12px;\n",
              "    }\n",
              "\n",
              "    .colab-df-convert {\n",
              "      background-color: #E8F0FE;\n",
              "      border: none;\n",
              "      border-radius: 50%;\n",
              "      cursor: pointer;\n",
              "      display: none;\n",
              "      fill: #1967D2;\n",
              "      height: 32px;\n",
              "      padding: 0 0 0 0;\n",
              "      width: 32px;\n",
              "    }\n",
              "\n",
              "    .colab-df-convert:hover {\n",
              "      background-color: #E2EBFA;\n",
              "      box-shadow: 0px 1px 2px rgba(60, 64, 67, 0.3), 0px 1px 3px 1px rgba(60, 64, 67, 0.15);\n",
              "      fill: #174EA6;\n",
              "    }\n",
              "\n",
              "    [theme=dark] .colab-df-convert {\n",
              "      background-color: #3B4455;\n",
              "      fill: #D2E3FC;\n",
              "    }\n",
              "\n",
              "    [theme=dark] .colab-df-convert:hover {\n",
              "      background-color: #434B5C;\n",
              "      box-shadow: 0px 1px 3px 1px rgba(0, 0, 0, 0.15);\n",
              "      filter: drop-shadow(0px 1px 2px rgba(0, 0, 0, 0.3));\n",
              "      fill: #FFFFFF;\n",
              "    }\n",
              "  </style>\n",
              "\n",
              "      <script>\n",
              "        const buttonEl =\n",
              "          document.querySelector('#df-ea172681-2ff2-4a81-b894-7e784f6d28bc button.colab-df-convert');\n",
              "        buttonEl.style.display =\n",
              "          google.colab.kernel.accessAllowed ? 'block' : 'none';\n",
              "\n",
              "        async function convertToInteractive(key) {\n",
              "          const element = document.querySelector('#df-ea172681-2ff2-4a81-b894-7e784f6d28bc');\n",
              "          const dataTable =\n",
              "            await google.colab.kernel.invokeFunction('convertToInteractive',\n",
              "                                                     [key], {});\n",
              "          if (!dataTable) return;\n",
              "\n",
              "          const docLinkHtml = 'Like what you see? Visit the ' +\n",
              "            '<a target=\"_blank\" href=https://colab.research.google.com/notebooks/data_table.ipynb>data table notebook</a>'\n",
              "            + ' to learn more about interactive tables.';\n",
              "          element.innerHTML = '';\n",
              "          dataTable['output_type'] = 'display_data';\n",
              "          await google.colab.output.renderOutput(dataTable, element);\n",
              "          const docLink = document.createElement('div');\n",
              "          docLink.innerHTML = docLinkHtml;\n",
              "          element.appendChild(docLink);\n",
              "        }\n",
              "      </script>\n",
              "    </div>\n",
              "  </div>\n",
              "  "
            ]
          },
          "metadata": {},
          "execution_count": 245
        }
      ]
    },
    {
      "cell_type": "code",
      "source": [
        "#строим график на будущее\n",
        "ax = df2['Close'].plot(legend=True, figsize=(12,6),title='Close price changing') \n",
        "fut_fcast_exps['fut_fcast_exps'].plot(legend=True)\n",
        "ax.autoscale(axis='x',tight=True)"
      ],
      "metadata": {
        "id": "HfVKDKlsXKM1",
        "colab": {
          "base_uri": "https://localhost:8080/",
          "height": 404
        },
        "outputId": "5a720766-41bf-4453-f19a-5ab663d776e2"
      },
      "execution_count": 246,
      "outputs": [
        {
          "output_type": "display_data",
          "data": {
            "text/plain": [
              "<Figure size 864x432 with 1 Axes>"
            ],
            "image/png": "[encoded data removed]"
          },
          "metadata": {
            "needs_background": "light"
          }
        }
      ]
    },
    {
      "cell_type": "markdown",
      "source": [
        "3й метод прогнозирования - PROPHET"
      ],
      "metadata": {
        "id": "q_akEu9rJ7ag"
      }
    },
    {
      "cell_type": "code",
      "source": [
        "# подготовим данные для модели\n",
        "train = df2.iloc[:len(df2)-52]\n",
        "test = df2.iloc[len(df2)-52:]\n",
        "train_prophet = train.reset_index() # индекс сбросим, чтобы работать только с колонками\n",
        "test_prophet = test.reset_index() # индекс сбросим, чтобы работать только с колонками\n",
        "df3=df2.reset_index()\n",
        "df3.columns = ['ds', 'y','z'] # переименовали столбцы\n",
        "\n",
        "# переименуем столбцы в обучающем и тестовом датасетах, чтобы они подходили для использования методов Prophet\n",
        "train_prophet.columns = ['ds', 'y','z'] # переименовали столбцы\n",
        "test_prophet.columns = ['ds', 'y','z'] # переименовали столбцы\n",
        "df3 = df3[['ds','y']]\n",
        "train_prophet = train_prophet[[\"ds\",'y']]\n",
        "test_prophet = test_prophet[['ds','y']]"
      ],
      "metadata": {
        "id": "GOht7Z7bLAUf"
      },
      "execution_count": 209,
      "outputs": []
    },
    {
      "cell_type": "code",
      "source": [
        "df3.head()"
      ],
      "metadata": {
        "colab": {
          "base_uri": "https://localhost:8080/",
          "height": 206
        },
        "id": "vLHvf_G-Namn",
        "outputId": "d23fba49-1568-4453-b790-957a6bc2cdf6"
      },
      "execution_count": 148,
      "outputs": [
        {
          "output_type": "execute_result",
          "data": {
            "text/plain": [
              "          ds          y\n",
              "0 2010-07-04  22.220000\n",
              "1 2010-07-11  16.692500\n",
              "2 2010-07-18  19.111999\n",
              "3 2010-07-25  20.944000\n",
              "4 2010-08-01  20.502000"
            ],
            "text/html": [
              "\n",
              "  <div id=\"df-912ac882-7242-489f-bbc6-da2213d976f4\">\n",
              "    <div class=\"colab-df-container\">\n",
              "      <div>\n",
              "<style scoped>\n",
              "    .dataframe tbody tr th:only-of-type {\n",
              "        vertical-align: middle;\n",
              "    }\n",
              "\n",
              "    .dataframe tbody tr th {\n",
              "        vertical-align: top;\n",
              "    }\n",
              "\n",
              "    .dataframe thead th {\n",
              "        text-align: right;\n",
              "    }\n",
              "</style>\n",
              "<table border=\"1\" class=\"dataframe\">\n",
              "  <thead>\n",
              "    <tr style=\"text-align: right;\">\n",
              "      <th></th>\n",
              "      <th>ds</th>\n",
              "      <th>y</th>\n",
              "    </tr>\n",
              "  </thead>\n",
              "  <tbody>\n",
              "    <tr>\n",
              "      <th>0</th>\n",
              "      <td>2010-07-04</td>\n",
              "      <td>22.220000</td>\n",
              "    </tr>\n",
              "    <tr>\n",
              "      <th>1</th>\n",
              "      <td>2010-07-11</td>\n",
              "      <td>16.692500</td>\n",
              "    </tr>\n",
              "    <tr>\n",
              "      <th>2</th>\n",
              "      <td>2010-07-18</td>\n",
              "      <td>19.111999</td>\n",
              "    </tr>\n",
              "    <tr>\n",
              "      <th>3</th>\n",
              "      <td>2010-07-25</td>\n",
              "      <td>20.944000</td>\n",
              "    </tr>\n",
              "    <tr>\n",
              "      <th>4</th>\n",
              "      <td>2010-08-01</td>\n",
              "      <td>20.502000</td>\n",
              "    </tr>\n",
              "  </tbody>\n",
              "</table>\n",
              "</div>\n",
              "      <button class=\"colab-df-convert\" onclick=\"convertToInteractive('df-912ac882-7242-489f-bbc6-da2213d976f4')\"\n",
              "              title=\"Convert this dataframe to an interactive table.\"\n",
              "              style=\"display:none;\">\n",
              "        \n",
              "  <svg xmlns=\"http://www.w3.org/2000/svg\" height=\"24px\"viewBox=\"0 0 24 24\"\n",
              "       width=\"24px\">\n",
              "    <path d=\"M0 0h24v24H0V0z\" fill=\"none\"/>\n",
              "    <path d=\"M18.56 5.44l.94 2.06.94-2.06 2.06-.94-2.06-.94-.94-2.06-.94 2.06-2.06.94zm-11 1L8.5 8.5l.94-2.06 2.06-.94-2.06-.94L8.5 2.5l-.94 2.06-2.06.94zm10 10l.94 2.06.94-2.06 2.06-.94-2.06-.94-.94-2.06-.94 2.06-2.06.94z\"/><path d=\"M17.41 7.96l-1.37-1.37c-.4-.4-.92-.59-1.43-.59-.52 0-1.04.2-1.43.59L10.3 9.45l-7.72 7.72c-.78.78-.78 2.05 0 2.83L4 21.41c.39.39.9.59 1.41.59.51 0 1.02-.2 1.41-.59l7.78-7.78 2.81-2.81c.8-.78.8-2.07 0-2.86zM5.41 20L4 18.59l7.72-7.72 1.47 1.35L5.41 20z\"/>\n",
              "  </svg>\n",
              "      </button>\n",
              "      \n",
              "  <style>\n",
              "    .colab-df-container {\n",
              "      display:flex;\n",
              "      flex-wrap:wrap;\n",
              "      gap: 12px;\n",
              "    }\n",
              "\n",
              "    .colab-df-convert {\n",
              "      background-color: #E8F0FE;\n",
              "      border: none;\n",
              "      border-radius: 50%;\n",
              "      cursor: pointer;\n",
              "      display: none;\n",
              "      fill: #1967D2;\n",
              "      height: 32px;\n",
              "      padding: 0 0 0 0;\n",
              "      width: 32px;\n",
              "    }\n",
              "\n",
              "    .colab-df-convert:hover {\n",
              "      background-color: #E2EBFA;\n",
              "      box-shadow: 0px 1px 2px rgba(60, 64, 67, 0.3), 0px 1px 3px 1px rgba(60, 64, 67, 0.15);\n",
              "      fill: #174EA6;\n",
              "    }\n",
              "\n",
              "    [theme=dark] .colab-df-convert {\n",
              "      background-color: #3B4455;\n",
              "      fill: #D2E3FC;\n",
              "    }\n",
              "\n",
              "    [theme=dark] .colab-df-convert:hover {\n",
              "      background-color: #434B5C;\n",
              "      box-shadow: 0px 1px 3px 1px rgba(0, 0, 0, 0.15);\n",
              "      filter: drop-shadow(0px 1px 2px rgba(0, 0, 0, 0.3));\n",
              "      fill: #FFFFFF;\n",
              "    }\n",
              "  </style>\n",
              "\n",
              "      <script>\n",
              "        const buttonEl =\n",
              "          document.querySelector('#df-912ac882-7242-489f-bbc6-da2213d976f4 button.colab-df-convert');\n",
              "        buttonEl.style.display =\n",
              "          google.colab.kernel.accessAllowed ? 'block' : 'none';\n",
              "\n",
              "        async function convertToInteractive(key) {\n",
              "          const element = document.querySelector('#df-912ac882-7242-489f-bbc6-da2213d976f4');\n",
              "          const dataTable =\n",
              "            await google.colab.kernel.invokeFunction('convertToInteractive',\n",
              "                                                     [key], {});\n",
              "          if (!dataTable) return;\n",
              "\n",
              "          const docLinkHtml = 'Like what you see? Visit the ' +\n",
              "            '<a target=\"_blank\" href=https://colab.research.google.com/notebooks/data_table.ipynb>data table notebook</a>'\n",
              "            + ' to learn more about interactive tables.';\n",
              "          element.innerHTML = '';\n",
              "          dataTable['output_type'] = 'display_data';\n",
              "          await google.colab.output.renderOutput(dataTable, element);\n",
              "          const docLink = document.createElement('div');\n",
              "          docLink.innerHTML = docLinkHtml;\n",
              "          element.appendChild(docLink);\n",
              "        }\n",
              "      </script>\n",
              "    </div>\n",
              "  </div>\n",
              "  "
            ]
          },
          "metadata": {},
          "execution_count": 148
        }
      ]
    },
    {
      "cell_type": "code",
      "source": [
        "train_prophet.head()"
      ],
      "metadata": {
        "colab": {
          "base_uri": "https://localhost:8080/",
          "height": 206
        },
        "id": "lJSlhlBtNdA0",
        "outputId": "dddab47b-5992-4a42-df16-450e482ba226"
      },
      "execution_count": 149,
      "outputs": [
        {
          "output_type": "execute_result",
          "data": {
            "text/plain": [
              "          ds          y\n",
              "0 2010-07-04  22.220000\n",
              "1 2010-07-11  16.692500\n",
              "2 2010-07-18  19.111999\n",
              "3 2010-07-25  20.944000\n",
              "4 2010-08-01  20.502000"
            ],
            "text/html": [
              "\n",
              "  <div id=\"df-2591b902-9e21-4664-89bb-a45bbdcd065b\">\n",
              "    <div class=\"colab-df-container\">\n",
              "      <div>\n",
              "<style scoped>\n",
              "    .dataframe tbody tr th:only-of-type {\n",
              "        vertical-align: middle;\n",
              "    }\n",
              "\n",
              "    .dataframe tbody tr th {\n",
              "        vertical-align: top;\n",
              "    }\n",
              "\n",
              "    .dataframe thead th {\n",
              "        text-align: right;\n",
              "    }\n",
              "</style>\n",
              "<table border=\"1\" class=\"dataframe\">\n",
              "  <thead>\n",
              "    <tr style=\"text-align: right;\">\n",
              "      <th></th>\n",
              "      <th>ds</th>\n",
              "      <th>y</th>\n",
              "    </tr>\n",
              "  </thead>\n",
              "  <tbody>\n",
              "    <tr>\n",
              "      <th>0</th>\n",
              "      <td>2010-07-04</td>\n",
              "      <td>22.220000</td>\n",
              "    </tr>\n",
              "    <tr>\n",
              "      <th>1</th>\n",
              "      <td>2010-07-11</td>\n",
              "      <td>16.692500</td>\n",
              "    </tr>\n",
              "    <tr>\n",
              "      <th>2</th>\n",
              "      <td>2010-07-18</td>\n",
              "      <td>19.111999</td>\n",
              "    </tr>\n",
              "    <tr>\n",
              "      <th>3</th>\n",
              "      <td>2010-07-25</td>\n",
              "      <td>20.944000</td>\n",
              "    </tr>\n",
              "    <tr>\n",
              "      <th>4</th>\n",
              "      <td>2010-08-01</td>\n",
              "      <td>20.502000</td>\n",
              "    </tr>\n",
              "  </tbody>\n",
              "</table>\n",
              "</div>\n",
              "      <button class=\"colab-df-convert\" onclick=\"convertToInteractive('df-2591b902-9e21-4664-89bb-a45bbdcd065b')\"\n",
              "              title=\"Convert this dataframe to an interactive table.\"\n",
              "              style=\"display:none;\">\n",
              "        \n",
              "  <svg xmlns=\"http://www.w3.org/2000/svg\" height=\"24px\"viewBox=\"0 0 24 24\"\n",
              "       width=\"24px\">\n",
              "    <path d=\"M0 0h24v24H0V0z\" fill=\"none\"/>\n",
              "    <path d=\"M18.56 5.44l.94 2.06.94-2.06 2.06-.94-2.06-.94-.94-2.06-.94 2.06-2.06.94zm-11 1L8.5 8.5l.94-2.06 2.06-.94-2.06-.94L8.5 2.5l-.94 2.06-2.06.94zm10 10l.94 2.06.94-2.06 2.06-.94-2.06-.94-.94-2.06-.94 2.06-2.06.94z\"/><path d=\"M17.41 7.96l-1.37-1.37c-.4-.4-.92-.59-1.43-.59-.52 0-1.04.2-1.43.59L10.3 9.45l-7.72 7.72c-.78.78-.78 2.05 0 2.83L4 21.41c.39.39.9.59 1.41.59.51 0 1.02-.2 1.41-.59l7.78-7.78 2.81-2.81c.8-.78.8-2.07 0-2.86zM5.41 20L4 18.59l7.72-7.72 1.47 1.35L5.41 20z\"/>\n",
              "  </svg>\n",
              "      </button>\n",
              "      \n",
              "  <style>\n",
              "    .colab-df-container {\n",
              "      display:flex;\n",
              "      flex-wrap:wrap;\n",
              "      gap: 12px;\n",
              "    }\n",
              "\n",
              "    .colab-df-convert {\n",
              "      background-color: #E8F0FE;\n",
              "      border: none;\n",
              "      border-radius: 50%;\n",
              "      cursor: pointer;\n",
              "      display: none;\n",
              "      fill: #1967D2;\n",
              "      height: 32px;\n",
              "      padding: 0 0 0 0;\n",
              "      width: 32px;\n",
              "    }\n",
              "\n",
              "    .colab-df-convert:hover {\n",
              "      background-color: #E2EBFA;\n",
              "      box-shadow: 0px 1px 2px rgba(60, 64, 67, 0.3), 0px 1px 3px 1px rgba(60, 64, 67, 0.15);\n",
              "      fill: #174EA6;\n",
              "    }\n",
              "\n",
              "    [theme=dark] .colab-df-convert {\n",
              "      background-color: #3B4455;\n",
              "      fill: #D2E3FC;\n",
              "    }\n",
              "\n",
              "    [theme=dark] .colab-df-convert:hover {\n",
              "      background-color: #434B5C;\n",
              "      box-shadow: 0px 1px 3px 1px rgba(0, 0, 0, 0.15);\n",
              "      filter: drop-shadow(0px 1px 2px rgba(0, 0, 0, 0.3));\n",
              "      fill: #FFFFFF;\n",
              "    }\n",
              "  </style>\n",
              "\n",
              "      <script>\n",
              "        const buttonEl =\n",
              "          document.querySelector('#df-2591b902-9e21-4664-89bb-a45bbdcd065b button.colab-df-convert');\n",
              "        buttonEl.style.display =\n",
              "          google.colab.kernel.accessAllowed ? 'block' : 'none';\n",
              "\n",
              "        async function convertToInteractive(key) {\n",
              "          const element = document.querySelector('#df-2591b902-9e21-4664-89bb-a45bbdcd065b');\n",
              "          const dataTable =\n",
              "            await google.colab.kernel.invokeFunction('convertToInteractive',\n",
              "                                                     [key], {});\n",
              "          if (!dataTable) return;\n",
              "\n",
              "          const docLinkHtml = 'Like what you see? Visit the ' +\n",
              "            '<a target=\"_blank\" href=https://colab.research.google.com/notebooks/data_table.ipynb>data table notebook</a>'\n",
              "            + ' to learn more about interactive tables.';\n",
              "          element.innerHTML = '';\n",
              "          dataTable['output_type'] = 'display_data';\n",
              "          await google.colab.output.renderOutput(dataTable, element);\n",
              "          const docLink = document.createElement('div');\n",
              "          docLink.innerHTML = docLinkHtml;\n",
              "          element.appendChild(docLink);\n",
              "        }\n",
              "      </script>\n",
              "    </div>\n",
              "  </div>\n",
              "  "
            ]
          },
          "metadata": {},
          "execution_count": 149
        }
      ]
    },
    {
      "cell_type": "code",
      "source": [
        "test_prophet.head()"
      ],
      "metadata": {
        "colab": {
          "base_uri": "https://localhost:8080/",
          "height": 206
        },
        "id": "PY2Kg3otUJ2L",
        "outputId": "59b9811f-8373-41aa-dd46-7731cd1489b4"
      },
      "execution_count": 169,
      "outputs": [
        {
          "output_type": "execute_result",
          "data": {
            "text/plain": [
              "          ds           y\n",
              "0 2019-11-24  349.919995\n",
              "1 2019-12-01  331.622505\n",
              "2 2019-12-08  334.072003\n",
              "3 2019-12-15  351.828003\n",
              "4 2019-12-22  392.653998"
            ],
            "text/html": [
              "\n",
              "  <div id=\"df-3dc56431-deda-4d7b-9434-dda9cea27fc8\">\n",
              "    <div class=\"colab-df-container\">\n",
              "      <div>\n",
              "<style scoped>\n",
              "    .dataframe tbody tr th:only-of-type {\n",
              "        vertical-align: middle;\n",
              "    }\n",
              "\n",
              "    .dataframe tbody tr th {\n",
              "        vertical-align: top;\n",
              "    }\n",
              "\n",
              "    .dataframe thead th {\n",
              "        text-align: right;\n",
              "    }\n",
              "</style>\n",
              "<table border=\"1\" class=\"dataframe\">\n",
              "  <thead>\n",
              "    <tr style=\"text-align: right;\">\n",
              "      <th></th>\n",
              "      <th>ds</th>\n",
              "      <th>y</th>\n",
              "    </tr>\n",
              "  </thead>\n",
              "  <tbody>\n",
              "    <tr>\n",
              "      <th>0</th>\n",
              "      <td>2019-11-24</td>\n",
              "      <td>349.919995</td>\n",
              "    </tr>\n",
              "    <tr>\n",
              "      <th>1</th>\n",
              "      <td>2019-12-01</td>\n",
              "      <td>331.622505</td>\n",
              "    </tr>\n",
              "    <tr>\n",
              "      <th>2</th>\n",
              "      <td>2019-12-08</td>\n",
              "      <td>334.072003</td>\n",
              "    </tr>\n",
              "    <tr>\n",
              "      <th>3</th>\n",
              "      <td>2019-12-15</td>\n",
              "      <td>351.828003</td>\n",
              "    </tr>\n",
              "    <tr>\n",
              "      <th>4</th>\n",
              "      <td>2019-12-22</td>\n",
              "      <td>392.653998</td>\n",
              "    </tr>\n",
              "  </tbody>\n",
              "</table>\n",
              "</div>\n",
              "      <button class=\"colab-df-convert\" onclick=\"convertToInteractive('df-3dc56431-deda-4d7b-9434-dda9cea27fc8')\"\n",
              "              title=\"Convert this dataframe to an interactive table.\"\n",
              "              style=\"display:none;\">\n",
              "        \n",
              "  <svg xmlns=\"http://www.w3.org/2000/svg\" height=\"24px\"viewBox=\"0 0 24 24\"\n",
              "       width=\"24px\">\n",
              "    <path d=\"M0 0h24v24H0V0z\" fill=\"none\"/>\n",
              "    <path d=\"M18.56 5.44l.94 2.06.94-2.06 2.06-.94-2.06-.94-.94-2.06-.94 2.06-2.06.94zm-11 1L8.5 8.5l.94-2.06 2.06-.94-2.06-.94L8.5 2.5l-.94 2.06-2.06.94zm10 10l.94 2.06.94-2.06 2.06-.94-2.06-.94-.94-2.06-.94 2.06-2.06.94z\"/><path d=\"M17.41 7.96l-1.37-1.37c-.4-.4-.92-.59-1.43-.59-.52 0-1.04.2-1.43.59L10.3 9.45l-7.72 7.72c-.78.78-.78 2.05 0 2.83L4 21.41c.39.39.9.59 1.41.59.51 0 1.02-.2 1.41-.59l7.78-7.78 2.81-2.81c.8-.78.8-2.07 0-2.86zM5.41 20L4 18.59l7.72-7.72 1.47 1.35L5.41 20z\"/>\n",
              "  </svg>\n",
              "      </button>\n",
              "      \n",
              "  <style>\n",
              "    .colab-df-container {\n",
              "      display:flex;\n",
              "      flex-wrap:wrap;\n",
              "      gap: 12px;\n",
              "    }\n",
              "\n",
              "    .colab-df-convert {\n",
              "      background-color: #E8F0FE;\n",
              "      border: none;\n",
              "      border-radius: 50%;\n",
              "      cursor: pointer;\n",
              "      display: none;\n",
              "      fill: #1967D2;\n",
              "      height: 32px;\n",
              "      padding: 0 0 0 0;\n",
              "      width: 32px;\n",
              "    }\n",
              "\n",
              "    .colab-df-convert:hover {\n",
              "      background-color: #E2EBFA;\n",
              "      box-shadow: 0px 1px 2px rgba(60, 64, 67, 0.3), 0px 1px 3px 1px rgba(60, 64, 67, 0.15);\n",
              "      fill: #174EA6;\n",
              "    }\n",
              "\n",
              "    [theme=dark] .colab-df-convert {\n",
              "      background-color: #3B4455;\n",
              "      fill: #D2E3FC;\n",
              "    }\n",
              "\n",
              "    [theme=dark] .colab-df-convert:hover {\n",
              "      background-color: #434B5C;\n",
              "      box-shadow: 0px 1px 3px 1px rgba(0, 0, 0, 0.15);\n",
              "      filter: drop-shadow(0px 1px 2px rgba(0, 0, 0, 0.3));\n",
              "      fill: #FFFFFF;\n",
              "    }\n",
              "  </style>\n",
              "\n",
              "      <script>\n",
              "        const buttonEl =\n",
              "          document.querySelector('#df-3dc56431-deda-4d7b-9434-dda9cea27fc8 button.colab-df-convert');\n",
              "        buttonEl.style.display =\n",
              "          google.colab.kernel.accessAllowed ? 'block' : 'none';\n",
              "\n",
              "        async function convertToInteractive(key) {\n",
              "          const element = document.querySelector('#df-3dc56431-deda-4d7b-9434-dda9cea27fc8');\n",
              "          const dataTable =\n",
              "            await google.colab.kernel.invokeFunction('convertToInteractive',\n",
              "                                                     [key], {});\n",
              "          if (!dataTable) return;\n",
              "\n",
              "          const docLinkHtml = 'Like what you see? Visit the ' +\n",
              "            '<a target=\"_blank\" href=https://colab.research.google.com/notebooks/data_table.ipynb>data table notebook</a>'\n",
              "            + ' to learn more about interactive tables.';\n",
              "          element.innerHTML = '';\n",
              "          dataTable['output_type'] = 'display_data';\n",
              "          await google.colab.output.renderOutput(dataTable, element);\n",
              "          const docLink = document.createElement('div');\n",
              "          docLink.innerHTML = docLinkHtml;\n",
              "          element.appendChild(docLink);\n",
              "        }\n",
              "      </script>\n",
              "    </div>\n",
              "  </div>\n",
              "  "
            ]
          },
          "metadata": {},
          "execution_count": 169
        }
      ]
    },
    {
      "cell_type": "code",
      "source": [
        "model = Prophet()\n",
        "model.fit(train_prophet) # подогнали модель под наши данные"
      ],
      "metadata": {
        "colab": {
          "base_uri": "https://localhost:8080/"
        },
        "id": "6ML-UhEzMDVu",
        "outputId": "596650c9-4a0a-4daa-e34f-0e17c7117eae"
      },
      "execution_count": 191,
      "outputs": [
        {
          "output_type": "stream",
          "name": "stderr",
          "text": [
            "INFO:fbprophet:Disabling weekly seasonality. Run prophet with weekly_seasonality=True to override this.\n",
            "INFO:fbprophet:Disabling daily seasonality. Run prophet with daily_seasonality=True to override this.\n"
          ]
        },
        {
          "output_type": "execute_result",
          "data": {
            "text/plain": [
              "<fbprophet.forecaster.Prophet at 0x7f360350a390>"
            ]
          },
          "metadata": {},
          "execution_count": 191
        }
      ]
    },
    {
      "cell_type": "markdown",
      "source": [
        "Промежуточные выводы:\n",
        "\n",
        "Алгоритм проигнорировал, выбирая параметры\n",
        "\n",
        "Disabling weekly seasonality. Run prophet with weekly_seasonality=True to override this.\n",
        "\n",
        "недельную сезонность \n",
        "INFO:fbprophet:Disabling daily seasonality. Run prophet with daily_seasonality=True to override this.\n",
        "\n",
        "дневную сезонность (дневная сезонность может использоваться в случае, если данные собираются по часам/минутам, в нашем случае данные представлены по неделям).\n",
        "Зато он обнаружил годовую сезонность и использовал его при настройке модели."
      ],
      "metadata": {
        "id": "NWKy4FIRMf-j"
      }
    },
    {
      "cell_type": "code",
      "source": [
        "future = model.make_future_dataframe(periods=52, freq='W') # говорим профету сделать дата-фрейм на 52 недели\n",
        "future.tail() # выводим 5 строк с конца"
      ],
      "metadata": {
        "colab": {
          "base_uri": "https://localhost:8080/",
          "height": 206
        },
        "id": "PQqP7LXcM2eU",
        "outputId": "63a4abca-2a38-47db-cb61-32c267ef7464"
      },
      "execution_count": 192,
      "outputs": [
        {
          "output_type": "execute_result",
          "data": {
            "text/plain": [
              "            ds\n",
              "497 2020-01-12\n",
              "498 2020-01-19\n",
              "499 2020-01-26\n",
              "500 2020-02-02\n",
              "501 2020-02-09"
            ],
            "text/html": [
              "\n",
              "  <div id=\"df-413aaa69-fb84-4af3-b1a2-e6c46ca4680c\">\n",
              "    <div class=\"colab-df-container\">\n",
              "      <div>\n",
              "<style scoped>\n",
              "    .dataframe tbody tr th:only-of-type {\n",
              "        vertical-align: middle;\n",
              "    }\n",
              "\n",
              "    .dataframe tbody tr th {\n",
              "        vertical-align: top;\n",
              "    }\n",
              "\n",
              "    .dataframe thead th {\n",
              "        text-align: right;\n",
              "    }\n",
              "</style>\n",
              "<table border=\"1\" class=\"dataframe\">\n",
              "  <thead>\n",
              "    <tr style=\"text-align: right;\">\n",
              "      <th></th>\n",
              "      <th>ds</th>\n",
              "    </tr>\n",
              "  </thead>\n",
              "  <tbody>\n",
              "    <tr>\n",
              "      <th>497</th>\n",
              "      <td>2020-01-12</td>\n",
              "    </tr>\n",
              "    <tr>\n",
              "      <th>498</th>\n",
              "      <td>2020-01-19</td>\n",
              "    </tr>\n",
              "    <tr>\n",
              "      <th>499</th>\n",
              "      <td>2020-01-26</td>\n",
              "    </tr>\n",
              "    <tr>\n",
              "      <th>500</th>\n",
              "      <td>2020-02-02</td>\n",
              "    </tr>\n",
              "    <tr>\n",
              "      <th>501</th>\n",
              "      <td>2020-02-09</td>\n",
              "    </tr>\n",
              "  </tbody>\n",
              "</table>\n",
              "</div>\n",
              "      <button class=\"colab-df-convert\" onclick=\"convertToInteractive('df-413aaa69-fb84-4af3-b1a2-e6c46ca4680c')\"\n",
              "              title=\"Convert this dataframe to an interactive table.\"\n",
              "              style=\"display:none;\">\n",
              "        \n",
              "  <svg xmlns=\"http://www.w3.org/2000/svg\" height=\"24px\"viewBox=\"0 0 24 24\"\n",
              "       width=\"24px\">\n",
              "    <path d=\"M0 0h24v24H0V0z\" fill=\"none\"/>\n",
              "    <path d=\"M18.56 5.44l.94 2.06.94-2.06 2.06-.94-2.06-.94-.94-2.06-.94 2.06-2.06.94zm-11 1L8.5 8.5l.94-2.06 2.06-.94-2.06-.94L8.5 2.5l-.94 2.06-2.06.94zm10 10l.94 2.06.94-2.06 2.06-.94-2.06-.94-.94-2.06-.94 2.06-2.06.94z\"/><path d=\"M17.41 7.96l-1.37-1.37c-.4-.4-.92-.59-1.43-.59-.52 0-1.04.2-1.43.59L10.3 9.45l-7.72 7.72c-.78.78-.78 2.05 0 2.83L4 21.41c.39.39.9.59 1.41.59.51 0 1.02-.2 1.41-.59l7.78-7.78 2.81-2.81c.8-.78.8-2.07 0-2.86zM5.41 20L4 18.59l7.72-7.72 1.47 1.35L5.41 20z\"/>\n",
              "  </svg>\n",
              "      </button>\n",
              "      \n",
              "  <style>\n",
              "    .colab-df-container {\n",
              "      display:flex;\n",
              "      flex-wrap:wrap;\n",
              "      gap: 12px;\n",
              "    }\n",
              "\n",
              "    .colab-df-convert {\n",
              "      background-color: #E8F0FE;\n",
              "      border: none;\n",
              "      border-radius: 50%;\n",
              "      cursor: pointer;\n",
              "      display: none;\n",
              "      fill: #1967D2;\n",
              "      height: 32px;\n",
              "      padding: 0 0 0 0;\n",
              "      width: 32px;\n",
              "    }\n",
              "\n",
              "    .colab-df-convert:hover {\n",
              "      background-color: #E2EBFA;\n",
              "      box-shadow: 0px 1px 2px rgba(60, 64, 67, 0.3), 0px 1px 3px 1px rgba(60, 64, 67, 0.15);\n",
              "      fill: #174EA6;\n",
              "    }\n",
              "\n",
              "    [theme=dark] .colab-df-convert {\n",
              "      background-color: #3B4455;\n",
              "      fill: #D2E3FC;\n",
              "    }\n",
              "\n",
              "    [theme=dark] .colab-df-convert:hover {\n",
              "      background-color: #434B5C;\n",
              "      box-shadow: 0px 1px 3px 1px rgba(0, 0, 0, 0.15);\n",
              "      filter: drop-shadow(0px 1px 2px rgba(0, 0, 0, 0.3));\n",
              "      fill: #FFFFFF;\n",
              "    }\n",
              "  </style>\n",
              "\n",
              "      <script>\n",
              "        const buttonEl =\n",
              "          document.querySelector('#df-413aaa69-fb84-4af3-b1a2-e6c46ca4680c button.colab-df-convert');\n",
              "        buttonEl.style.display =\n",
              "          google.colab.kernel.accessAllowed ? 'block' : 'none';\n",
              "\n",
              "        async function convertToInteractive(key) {\n",
              "          const element = document.querySelector('#df-413aaa69-fb84-4af3-b1a2-e6c46ca4680c');\n",
              "          const dataTable =\n",
              "            await google.colab.kernel.invokeFunction('convertToInteractive',\n",
              "                                                     [key], {});\n",
              "          if (!dataTable) return;\n",
              "\n",
              "          const docLinkHtml = 'Like what you see? Visit the ' +\n",
              "            '<a target=\"_blank\" href=https://colab.research.google.com/notebooks/data_table.ipynb>data table notebook</a>'\n",
              "            + ' to learn more about interactive tables.';\n",
              "          element.innerHTML = '';\n",
              "          dataTable['output_type'] = 'display_data';\n",
              "          await google.colab.output.renderOutput(dataTable, element);\n",
              "          const docLink = document.createElement('div');\n",
              "          docLink.innerHTML = docLinkHtml;\n",
              "          element.appendChild(docLink);\n",
              "        }\n",
              "      </script>\n",
              "    </div>\n",
              "  </div>\n",
              "  "
            ]
          },
          "metadata": {},
          "execution_count": 192
        }
      ]
    },
    {
      "cell_type": "code",
      "source": [
        "# предсказываем значения по модели, доверительный интервал по умолчанию 95%\n",
        "forecast = model.predict(future)\n",
        "forecast.head() # возвращает много колонок"
      ],
      "metadata": {
        "colab": {
          "base_uri": "https://localhost:8080/",
          "height": 357
        },
        "id": "WyepBl9TOExj",
        "outputId": "a6154857-ccf7-49ad-bfa2-a51f3e534683"
      },
      "execution_count": 193,
      "outputs": [
        {
          "output_type": "execute_result",
          "data": {
            "text/plain": [
              "          ds      trend  yhat_lower  yhat_upper  trend_lower  trend_upper  \\\n",
              "0 2010-07-04  14.102822  -12.001126   63.214073    14.102822    14.102822   \n",
              "1 2010-07-11  14.299796  -10.301692   60.725606    14.299796    14.299796   \n",
              "2 2010-07-18  14.496770  -14.581335   57.024999    14.496770    14.496770   \n",
              "3 2010-07-25  14.693744  -16.217740   55.711287    14.693744    14.693744   \n",
              "4 2010-08-01  14.890718  -12.237014   61.330397    14.890718    14.890718   \n",
              "\n",
              "   additive_terms  additive_terms_lower  additive_terms_upper     yearly  \\\n",
              "0       14.504065             14.504065             14.504065  14.504065   \n",
              "1        9.764111              9.764111              9.764111   9.764111   \n",
              "2        6.599945              6.599945              6.599945   6.599945   \n",
              "3        6.908344              6.908344              6.908344   6.908344   \n",
              "4       10.151016             10.151016             10.151016  10.151016   \n",
              "\n",
              "   yearly_lower  yearly_upper  multiplicative_terms  \\\n",
              "0     14.504065     14.504065                   0.0   \n",
              "1      9.764111      9.764111                   0.0   \n",
              "2      6.599945      6.599945                   0.0   \n",
              "3      6.908344      6.908344                   0.0   \n",
              "4     10.151016     10.151016                   0.0   \n",
              "\n",
              "   multiplicative_terms_lower  multiplicative_terms_upper       yhat  \n",
              "0                         0.0                         0.0  28.606886  \n",
              "1                         0.0                         0.0  24.063907  \n",
              "2                         0.0                         0.0  21.096715  \n",
              "3                         0.0                         0.0  21.602088  \n",
              "4                         0.0                         0.0  25.041734  "
            ],
            "text/html": [
              "\n",
              "  <div id=\"df-5a97c913-4e36-41c2-b0bc-a0f5bb0b8087\">\n",
              "    <div class=\"colab-df-container\">\n",
              "      <div>\n",
              "<style scoped>\n",
              "    .dataframe tbody tr th:only-of-type {\n",
              "        vertical-align: middle;\n",
              "    }\n",
              "\n",
              "    .dataframe tbody tr th {\n",
              "        vertical-align: top;\n",
              "    }\n",
              "\n",
              "    .dataframe thead th {\n",
              "        text-align: right;\n",
              "    }\n",
              "</style>\n",
              "<table border=\"1\" class=\"dataframe\">\n",
              "  <thead>\n",
              "    <tr style=\"text-align: right;\">\n",
              "      <th></th>\n",
              "      <th>ds</th>\n",
              "      <th>trend</th>\n",
              "      <th>yhat_lower</th>\n",
              "      <th>yhat_upper</th>\n",
              "      <th>trend_lower</th>\n",
              "      <th>trend_upper</th>\n",
              "      <th>additive_terms</th>\n",
              "      <th>additive_terms_lower</th>\n",
              "      <th>additive_terms_upper</th>\n",
              "      <th>yearly</th>\n",
              "      <th>yearly_lower</th>\n",
              "      <th>yearly_upper</th>\n",
              "      <th>multiplicative_terms</th>\n",
              "      <th>multiplicative_terms_lower</th>\n",
              "      <th>multiplicative_terms_upper</th>\n",
              "      <th>yhat</th>\n",
              "    </tr>\n",
              "  </thead>\n",
              "  <tbody>\n",
              "    <tr>\n",
              "      <th>0</th>\n",
              "      <td>2010-07-04</td>\n",
              "      <td>14.102822</td>\n",
              "      <td>-12.001126</td>\n",
              "      <td>63.214073</td>\n",
              "      <td>14.102822</td>\n",
              "      <td>14.102822</td>\n",
              "      <td>14.504065</td>\n",
              "      <td>14.504065</td>\n",
              "      <td>14.504065</td>\n",
              "      <td>14.504065</td>\n",
              "      <td>14.504065</td>\n",
              "      <td>14.504065</td>\n",
              "      <td>0.0</td>\n",
              "      <td>0.0</td>\n",
              "      <td>0.0</td>\n",
              "      <td>28.606886</td>\n",
              "    </tr>\n",
              "    <tr>\n",
              "      <th>1</th>\n",
              "      <td>2010-07-11</td>\n",
              "      <td>14.299796</td>\n",
              "      <td>-10.301692</td>\n",
              "      <td>60.725606</td>\n",
              "      <td>14.299796</td>\n",
              "      <td>14.299796</td>\n",
              "      <td>9.764111</td>\n",
              "      <td>9.764111</td>\n",
              "      <td>9.764111</td>\n",
              "      <td>9.764111</td>\n",
              "      <td>9.764111</td>\n",
              "      <td>9.764111</td>\n",
              "      <td>0.0</td>\n",
              "      <td>0.0</td>\n",
              "      <td>0.0</td>\n",
              "      <td>24.063907</td>\n",
              "    </tr>\n",
              "    <tr>\n",
              "      <th>2</th>\n",
              "      <td>2010-07-18</td>\n",
              "      <td>14.496770</td>\n",
              "      <td>-14.581335</td>\n",
              "      <td>57.024999</td>\n",
              "      <td>14.496770</td>\n",
              "      <td>14.496770</td>\n",
              "      <td>6.599945</td>\n",
              "      <td>6.599945</td>\n",
              "      <td>6.599945</td>\n",
              "      <td>6.599945</td>\n",
              "      <td>6.599945</td>\n",
              "      <td>6.599945</td>\n",
              "      <td>0.0</td>\n",
              "      <td>0.0</td>\n",
              "      <td>0.0</td>\n",
              "      <td>21.096715</td>\n",
              "    </tr>\n",
              "    <tr>\n",
              "      <th>3</th>\n",
              "      <td>2010-07-25</td>\n",
              "      <td>14.693744</td>\n",
              "      <td>-16.217740</td>\n",
              "      <td>55.711287</td>\n",
              "      <td>14.693744</td>\n",
              "      <td>14.693744</td>\n",
              "      <td>6.908344</td>\n",
              "      <td>6.908344</td>\n",
              "      <td>6.908344</td>\n",
              "      <td>6.908344</td>\n",
              "      <td>6.908344</td>\n",
              "      <td>6.908344</td>\n",
              "      <td>0.0</td>\n",
              "      <td>0.0</td>\n",
              "      <td>0.0</td>\n",
              "      <td>21.602088</td>\n",
              "    </tr>\n",
              "    <tr>\n",
              "      <th>4</th>\n",
              "      <td>2010-08-01</td>\n",
              "      <td>14.890718</td>\n",
              "      <td>-12.237014</td>\n",
              "      <td>61.330397</td>\n",
              "      <td>14.890718</td>\n",
              "      <td>14.890718</td>\n",
              "      <td>10.151016</td>\n",
              "      <td>10.151016</td>\n",
              "      <td>10.151016</td>\n",
              "      <td>10.151016</td>\n",
              "      <td>10.151016</td>\n",
              "      <td>10.151016</td>\n",
              "      <td>0.0</td>\n",
              "      <td>0.0</td>\n",
              "      <td>0.0</td>\n",
              "      <td>25.041734</td>\n",
              "    </tr>\n",
              "  </tbody>\n",
              "</table>\n",
              "</div>\n",
              "      <button class=\"colab-df-convert\" onclick=\"convertToInteractive('df-5a97c913-4e36-41c2-b0bc-a0f5bb0b8087')\"\n",
              "              title=\"Convert this dataframe to an interactive table.\"\n",
              "              style=\"display:none;\">\n",
              "        \n",
              "  <svg xmlns=\"http://www.w3.org/2000/svg\" height=\"24px\"viewBox=\"0 0 24 24\"\n",
              "       width=\"24px\">\n",
              "    <path d=\"M0 0h24v24H0V0z\" fill=\"none\"/>\n",
              "    <path d=\"M18.56 5.44l.94 2.06.94-2.06 2.06-.94-2.06-.94-.94-2.06-.94 2.06-2.06.94zm-11 1L8.5 8.5l.94-2.06 2.06-.94-2.06-.94L8.5 2.5l-.94 2.06-2.06.94zm10 10l.94 2.06.94-2.06 2.06-.94-2.06-.94-.94-2.06-.94 2.06-2.06.94z\"/><path d=\"M17.41 7.96l-1.37-1.37c-.4-.4-.92-.59-1.43-.59-.52 0-1.04.2-1.43.59L10.3 9.45l-7.72 7.72c-.78.78-.78 2.05 0 2.83L4 21.41c.39.39.9.59 1.41.59.51 0 1.02-.2 1.41-.59l7.78-7.78 2.81-2.81c.8-.78.8-2.07 0-2.86zM5.41 20L4 18.59l7.72-7.72 1.47 1.35L5.41 20z\"/>\n",
              "  </svg>\n",
              "      </button>\n",
              "      \n",
              "  <style>\n",
              "    .colab-df-container {\n",
              "      display:flex;\n",
              "      flex-wrap:wrap;\n",
              "      gap: 12px;\n",
              "    }\n",
              "\n",
              "    .colab-df-convert {\n",
              "      background-color: #E8F0FE;\n",
              "      border: none;\n",
              "      border-radius: 50%;\n",
              "      cursor: pointer;\n",
              "      display: none;\n",
              "      fill: #1967D2;\n",
              "      height: 32px;\n",
              "      padding: 0 0 0 0;\n",
              "      width: 32px;\n",
              "    }\n",
              "\n",
              "    .colab-df-convert:hover {\n",
              "      background-color: #E2EBFA;\n",
              "      box-shadow: 0px 1px 2px rgba(60, 64, 67, 0.3), 0px 1px 3px 1px rgba(60, 64, 67, 0.15);\n",
              "      fill: #174EA6;\n",
              "    }\n",
              "\n",
              "    [theme=dark] .colab-df-convert {\n",
              "      background-color: #3B4455;\n",
              "      fill: #D2E3FC;\n",
              "    }\n",
              "\n",
              "    [theme=dark] .colab-df-convert:hover {\n",
              "      background-color: #434B5C;\n",
              "      box-shadow: 0px 1px 3px 1px rgba(0, 0, 0, 0.15);\n",
              "      filter: drop-shadow(0px 1px 2px rgba(0, 0, 0, 0.3));\n",
              "      fill: #FFFFFF;\n",
              "    }\n",
              "  </style>\n",
              "\n",
              "      <script>\n",
              "        const buttonEl =\n",
              "          document.querySelector('#df-5a97c913-4e36-41c2-b0bc-a0f5bb0b8087 button.colab-df-convert');\n",
              "        buttonEl.style.display =\n",
              "          google.colab.kernel.accessAllowed ? 'block' : 'none';\n",
              "\n",
              "        async function convertToInteractive(key) {\n",
              "          const element = document.querySelector('#df-5a97c913-4e36-41c2-b0bc-a0f5bb0b8087');\n",
              "          const dataTable =\n",
              "            await google.colab.kernel.invokeFunction('convertToInteractive',\n",
              "                                                     [key], {});\n",
              "          if (!dataTable) return;\n",
              "\n",
              "          const docLinkHtml = 'Like what you see? Visit the ' +\n",
              "            '<a target=\"_blank\" href=https://colab.research.google.com/notebooks/data_table.ipynb>data table notebook</a>'\n",
              "            + ' to learn more about interactive tables.';\n",
              "          element.innerHTML = '';\n",
              "          dataTable['output_type'] = 'display_data';\n",
              "          await google.colab.output.renderOutput(dataTable, element);\n",
              "          const docLink = document.createElement('div');\n",
              "          docLink.innerHTML = docLinkHtml;\n",
              "          element.appendChild(docLink);\n",
              "        }\n",
              "      </script>\n",
              "    </div>\n",
              "  </div>\n",
              "  "
            ]
          },
          "metadata": {},
          "execution_count": 193
        }
      ]
    },
    {
      "cell_type": "markdown",
      "source": [
        "Основные поля в прогнозе следующие:\n",
        "\n",
        "ds — дата прогноза\n",
        "\n",
        "yhat — спрогнозированное значение\n",
        "\n",
        "yhat_lower — нижняя граница доверительного интервала для прогноза\n",
        "\n",
        "yhat_upper — верхняя граница доверительного интервала для прогноза"
      ],
      "metadata": {
        "id": "IP4RAzN6RAH4"
      }
    },
    {
      "cell_type": "code",
      "source": [
        "forecast[['ds', 'yhat', 'yhat_lower', 'yhat_upper']].tail() # оставим только нужные"
      ],
      "metadata": {
        "colab": {
          "base_uri": "https://localhost:8080/",
          "height": 206
        },
        "id": "85wT2k1NRBHd",
        "outputId": "7f9c04f0-036b-4022-9790-70df1fb04988"
      },
      "execution_count": 194,
      "outputs": [
        {
          "output_type": "execute_result",
          "data": {
            "text/plain": [
              "            ds        yhat  yhat_lower  yhat_upper\n",
              "497 2020-01-12  374.109753  335.367175  414.387144\n",
              "498 2020-01-19  375.438408  337.568018  412.028913\n",
              "499 2020-01-26  375.666032  340.236711  415.001922\n",
              "500 2020-02-02  374.896916  336.024311  412.278625\n",
              "501 2020-02-09  375.079916  335.720132  414.397463"
            ],
            "text/html": [
              "\n",
              "  <div id=\"df-b5b3dea7-eabb-43e3-b884-3aafdb94e607\">\n",
              "    <div class=\"colab-df-container\">\n",
              "      <div>\n",
              "<style scoped>\n",
              "    .dataframe tbody tr th:only-of-type {\n",
              "        vertical-align: middle;\n",
              "    }\n",
              "\n",
              "    .dataframe tbody tr th {\n",
              "        vertical-align: top;\n",
              "    }\n",
              "\n",
              "    .dataframe thead th {\n",
              "        text-align: right;\n",
              "    }\n",
              "</style>\n",
              "<table border=\"1\" class=\"dataframe\">\n",
              "  <thead>\n",
              "    <tr style=\"text-align: right;\">\n",
              "      <th></th>\n",
              "      <th>ds</th>\n",
              "      <th>yhat</th>\n",
              "      <th>yhat_lower</th>\n",
              "      <th>yhat_upper</th>\n",
              "    </tr>\n",
              "  </thead>\n",
              "  <tbody>\n",
              "    <tr>\n",
              "      <th>497</th>\n",
              "      <td>2020-01-12</td>\n",
              "      <td>374.109753</td>\n",
              "      <td>335.367175</td>\n",
              "      <td>414.387144</td>\n",
              "    </tr>\n",
              "    <tr>\n",
              "      <th>498</th>\n",
              "      <td>2020-01-19</td>\n",
              "      <td>375.438408</td>\n",
              "      <td>337.568018</td>\n",
              "      <td>412.028913</td>\n",
              "    </tr>\n",
              "    <tr>\n",
              "      <th>499</th>\n",
              "      <td>2020-01-26</td>\n",
              "      <td>375.666032</td>\n",
              "      <td>340.236711</td>\n",
              "      <td>415.001922</td>\n",
              "    </tr>\n",
              "    <tr>\n",
              "      <th>500</th>\n",
              "      <td>2020-02-02</td>\n",
              "      <td>374.896916</td>\n",
              "      <td>336.024311</td>\n",
              "      <td>412.278625</td>\n",
              "    </tr>\n",
              "    <tr>\n",
              "      <th>501</th>\n",
              "      <td>2020-02-09</td>\n",
              "      <td>375.079916</td>\n",
              "      <td>335.720132</td>\n",
              "      <td>414.397463</td>\n",
              "    </tr>\n",
              "  </tbody>\n",
              "</table>\n",
              "</div>\n",
              "      <button class=\"colab-df-convert\" onclick=\"convertToInteractive('df-b5b3dea7-eabb-43e3-b884-3aafdb94e607')\"\n",
              "              title=\"Convert this dataframe to an interactive table.\"\n",
              "              style=\"display:none;\">\n",
              "        \n",
              "  <svg xmlns=\"http://www.w3.org/2000/svg\" height=\"24px\"viewBox=\"0 0 24 24\"\n",
              "       width=\"24px\">\n",
              "    <path d=\"M0 0h24v24H0V0z\" fill=\"none\"/>\n",
              "    <path d=\"M18.56 5.44l.94 2.06.94-2.06 2.06-.94-2.06-.94-.94-2.06-.94 2.06-2.06.94zm-11 1L8.5 8.5l.94-2.06 2.06-.94-2.06-.94L8.5 2.5l-.94 2.06-2.06.94zm10 10l.94 2.06.94-2.06 2.06-.94-2.06-.94-.94-2.06-.94 2.06-2.06.94z\"/><path d=\"M17.41 7.96l-1.37-1.37c-.4-.4-.92-.59-1.43-.59-.52 0-1.04.2-1.43.59L10.3 9.45l-7.72 7.72c-.78.78-.78 2.05 0 2.83L4 21.41c.39.39.9.59 1.41.59.51 0 1.02-.2 1.41-.59l7.78-7.78 2.81-2.81c.8-.78.8-2.07 0-2.86zM5.41 20L4 18.59l7.72-7.72 1.47 1.35L5.41 20z\"/>\n",
              "  </svg>\n",
              "      </button>\n",
              "      \n",
              "  <style>\n",
              "    .colab-df-container {\n",
              "      display:flex;\n",
              "      flex-wrap:wrap;\n",
              "      gap: 12px;\n",
              "    }\n",
              "\n",
              "    .colab-df-convert {\n",
              "      background-color: #E8F0FE;\n",
              "      border: none;\n",
              "      border-radius: 50%;\n",
              "      cursor: pointer;\n",
              "      display: none;\n",
              "      fill: #1967D2;\n",
              "      height: 32px;\n",
              "      padding: 0 0 0 0;\n",
              "      width: 32px;\n",
              "    }\n",
              "\n",
              "    .colab-df-convert:hover {\n",
              "      background-color: #E2EBFA;\n",
              "      box-shadow: 0px 1px 2px rgba(60, 64, 67, 0.3), 0px 1px 3px 1px rgba(60, 64, 67, 0.15);\n",
              "      fill: #174EA6;\n",
              "    }\n",
              "\n",
              "    [theme=dark] .colab-df-convert {\n",
              "      background-color: #3B4455;\n",
              "      fill: #D2E3FC;\n",
              "    }\n",
              "\n",
              "    [theme=dark] .colab-df-convert:hover {\n",
              "      background-color: #434B5C;\n",
              "      box-shadow: 0px 1px 3px 1px rgba(0, 0, 0, 0.15);\n",
              "      filter: drop-shadow(0px 1px 2px rgba(0, 0, 0, 0.3));\n",
              "      fill: #FFFFFF;\n",
              "    }\n",
              "  </style>\n",
              "\n",
              "      <script>\n",
              "        const buttonEl =\n",
              "          document.querySelector('#df-b5b3dea7-eabb-43e3-b884-3aafdb94e607 button.colab-df-convert');\n",
              "        buttonEl.style.display =\n",
              "          google.colab.kernel.accessAllowed ? 'block' : 'none';\n",
              "\n",
              "        async function convertToInteractive(key) {\n",
              "          const element = document.querySelector('#df-b5b3dea7-eabb-43e3-b884-3aafdb94e607');\n",
              "          const dataTable =\n",
              "            await google.colab.kernel.invokeFunction('convertToInteractive',\n",
              "                                                     [key], {});\n",
              "          if (!dataTable) return;\n",
              "\n",
              "          const docLinkHtml = 'Like what you see? Visit the ' +\n",
              "            '<a target=\"_blank\" href=https://colab.research.google.com/notebooks/data_table.ipynb>data table notebook</a>'\n",
              "            + ' to learn more about interactive tables.';\n",
              "          element.innerHTML = '';\n",
              "          dataTable['output_type'] = 'display_data';\n",
              "          await google.colab.output.renderOutput(dataTable, element);\n",
              "          const docLink = document.createElement('div');\n",
              "          docLink.innerHTML = docLinkHtml;\n",
              "          element.appendChild(docLink);\n",
              "        }\n",
              "      </script>\n",
              "    </div>\n",
              "  </div>\n",
              "  "
            ]
          },
          "metadata": {},
          "execution_count": 194
        }
      ]
    },
    {
      "cell_type": "markdown",
      "source": [
        "сравниваем прогноз и тестовую выборку, где черные точки - выборка"
      ],
      "metadata": {
        "id": "3-ZzcTDRRJAO"
      }
    },
    {
      "cell_type": "code",
      "source": [
        "model.plot(forecast);"
      ],
      "metadata": {
        "colab": {
          "base_uri": "https://localhost:8080/",
          "height": 441
        },
        "id": "zxW3xAiCRIqr",
        "outputId": "1b8800c1-bf0f-466d-b221-362b4c55ba69"
      },
      "execution_count": 195,
      "outputs": [
        {
          "output_type": "display_data",
          "data": {
            "text/plain": [
              "<Figure size 720x432 with 1 Axes>"
            ],
            "image/png": "[encoded data removed]"
          },
          "metadata": {}
        }
      ]
    },
    {
      "cell_type": "markdown",
      "source": [
        "Кроме того, Prophet позволяет также наглядно разложить ряд на основные компоненты — тренд и сезонность:\n",
        "\n",
        "plot_components() — возвращает несколько графиков, среди которых тренд и столько сезонностей, сколько он найдет."
      ],
      "metadata": {
        "id": "zImrQSH4RVr4"
      }
    },
    {
      "cell_type": "code",
      "source": [
        "model.plot_components(forecast);"
      ],
      "metadata": {
        "colab": {
          "base_uri": "https://localhost:8080/",
          "height": 441
        },
        "id": "oy7pyvKqRYx2",
        "outputId": "d9319813-0ff4-4549-9416-a289f68013cd"
      },
      "execution_count": 196,
      "outputs": [
        {
          "output_type": "display_data",
          "data": {
            "text/plain": [
              "<Figure size 648x432 with 2 Axes>"
            ],
            "image/png": "[encoded data removed]"
          },
          "metadata": {}
        }
      ]
    },
    {
      "cell_type": "markdown",
      "source": [
        "Промежуточные выводы: Видим, что тренд потребления электроэнергии возрастающий и у нас есть годовая сезонность. Видим каким образом изменяется потребление по месяцам."
      ],
      "metadata": {
        "id": "o7OEMKzLRhg3"
      }
    },
    {
      "cell_type": "code",
      "source": [
        "#оцениваем качество модели методом MSE, RMSE, MAE, MAPE\n",
        "\n",
        "mae_error = mean_absolute_error(test_prophet['y'], forecast['yhat'].tail(52))\n",
        "mse_error = mean_squared_error(test_prophet['y'], forecast['yhat'].tail(52))\n",
        "rmse_error = rmse(test_prophet['y'], forecast['yhat'].tail(52))\n",
        "mape_error = np.mean(np.abs(forecast['yhat'] - test_prophet['y'])/test_prophet['y'])*100\n",
        "\n",
        "print(f'Prophet MAE Error: {mae_error:11.10}')\n",
        "print(f'Prophet MSE Error: {mse_error:11.10}')\n",
        "print(f'Prophet RMSE Error: {rmse_error:11.10}')\n",
        "print(f'Prophet MAPE Error: {mape_error:11.10}')"
      ],
      "metadata": {
        "colab": {
          "base_uri": "https://localhost:8080/"
        },
        "id": "iCANhwVIRkso",
        "outputId": "d386395c-a2d4-4133-cbeb-1f412e5b4f3e"
      },
      "execution_count": 197,
      "outputs": [
        {
          "output_type": "stream",
          "name": "stdout",
          "text": [
            "Prophet MAE Error: 112.4549087\n",
            "Prophet MSE Error: 16967.94979\n",
            "Prophet RMSE Error: 130.2610832\n",
            "Prophet MAPE Error: 93.57245856\n"
          ]
        }
      ]
    },
    {
      "cell_type": "code",
      "source": [
        "# делаем прогноз на будущее - 1 год вперед\n",
        "\n",
        "# обучаем модель на всем датасете\n",
        "fut_model_prophet = Prophet(seasonality_mode='multiplicative')\n",
        "fut_model_prophet.fit(df3)\n",
        "\n",
        "# говорим профету сделать дата-фрейм на 1 год вперед\n",
        "fut_future_prophet = fut_model_prophet.make_future_dataframe(periods=52)\n",
        "fut_fcast_prophet = fut_model_prophet.predict(fut_future_prophet)"
      ],
      "metadata": {
        "colab": {
          "base_uri": "https://localhost:8080/"
        },
        "id": "3nGWpqcXRpVu",
        "outputId": "764a326c-f9c3-4abd-ebd1-1d466c15ef2d"
      },
      "execution_count": 198,
      "outputs": [
        {
          "output_type": "stream",
          "name": "stderr",
          "text": [
            "INFO:fbprophet:Disabling weekly seasonality. Run prophet with weekly_seasonality=True to override this.\n",
            "INFO:fbprophet:Disabling daily seasonality. Run prophet with daily_seasonality=True to override this.\n"
          ]
        }
      ]
    },
    {
      "cell_type": "code",
      "source": [
        "# устанавливаем индекс\n",
        "fut_fcast_prophet.index = fut_fcast_prophet.ds"
      ],
      "metadata": {
        "id": "-Uoy3gDkR-3T"
      },
      "execution_count": 199,
      "outputs": []
    },
    {
      "cell_type": "code",
      "source": [
        "# убедимся в изменениях\n",
        "fut_fcast_prophet.head()"
      ],
      "metadata": {
        "colab": {
          "base_uri": "https://localhost:8080/",
          "height": 388
        },
        "id": "hxfUAwklSCDI",
        "outputId": "0f55b373-4e71-414b-d561-d08515a85a3a"
      },
      "execution_count": 200,
      "outputs": [
        {
          "output_type": "execute_result",
          "data": {
            "text/plain": [
              "                   ds      trend  yhat_lower  yhat_upper  trend_lower  \\\n",
              "ds                                                                      \n",
              "2010-07-04 2010-07-04   9.240420  -45.299712   64.796599     9.240420   \n",
              "2010-07-11 2010-07-11   9.538293  -47.881034   66.855167     9.538293   \n",
              "2010-07-18 2010-07-18   9.836165  -49.794599   62.412855     9.836165   \n",
              "2010-07-25 2010-07-25  10.134038  -47.976533   69.713049    10.134038   \n",
              "2010-08-01 2010-08-01  10.431911  -48.305366   63.493138    10.431911   \n",
              "\n",
              "            trend_upper  multiplicative_terms  multiplicative_terms_lower  \\\n",
              "ds                                                                          \n",
              "2010-07-04     9.240420              0.019735                    0.019735   \n",
              "2010-07-11     9.538293             -0.006478                   -0.006478   \n",
              "2010-07-18     9.836165             -0.022542                   -0.022542   \n",
              "2010-07-25    10.134038             -0.014428                   -0.014428   \n",
              "2010-08-01    10.431911              0.008683                    0.008683   \n",
              "\n",
              "            multiplicative_terms_upper    yearly  yearly_lower  yearly_upper  \\\n",
              "ds                                                                             \n",
              "2010-07-04                    0.019735  0.019735      0.019735      0.019735   \n",
              "2010-07-11                   -0.006478 -0.006478     -0.006478     -0.006478   \n",
              "2010-07-18                   -0.022542 -0.022542     -0.022542     -0.022542   \n",
              "2010-07-25                   -0.014428 -0.014428     -0.014428     -0.014428   \n",
              "2010-08-01                    0.008683  0.008683      0.008683      0.008683   \n",
              "\n",
              "            additive_terms  additive_terms_lower  additive_terms_upper  \\\n",
              "ds                                                                       \n",
              "2010-07-04             0.0                   0.0                   0.0   \n",
              "2010-07-11             0.0                   0.0                   0.0   \n",
              "2010-07-18             0.0                   0.0                   0.0   \n",
              "2010-07-25             0.0                   0.0                   0.0   \n",
              "2010-08-01             0.0                   0.0                   0.0   \n",
              "\n",
              "                 yhat  \n",
              "ds                     \n",
              "2010-07-04   9.422778  \n",
              "2010-07-11   9.476500  \n",
              "2010-07-18   9.614443  \n",
              "2010-07-25   9.987821  \n",
              "2010-08-01  10.522491  "
            ],
            "text/html": [
              "\n",
              "  <div id=\"df-6a7e05c5-83fd-4870-a055-e1889daccf36\">\n",
              "    <div class=\"colab-df-container\">\n",
              "      <div>\n",
              "<style scoped>\n",
              "    .dataframe tbody tr th:only-of-type {\n",
              "        vertical-align: middle;\n",
              "    }\n",
              "\n",
              "    .dataframe tbody tr th {\n",
              "        vertical-align: top;\n",
              "    }\n",
              "\n",
              "    .dataframe thead th {\n",
              "        text-align: right;\n",
              "    }\n",
              "</style>\n",
              "<table border=\"1\" class=\"dataframe\">\n",
              "  <thead>\n",
              "    <tr style=\"text-align: right;\">\n",
              "      <th></th>\n",
              "      <th>ds</th>\n",
              "      <th>trend</th>\n",
              "      <th>yhat_lower</th>\n",
              "      <th>yhat_upper</th>\n",
              "      <th>trend_lower</th>\n",
              "      <th>trend_upper</th>\n",
              "      <th>multiplicative_terms</th>\n",
              "      <th>multiplicative_terms_lower</th>\n",
              "      <th>multiplicative_terms_upper</th>\n",
              "      <th>yearly</th>\n",
              "      <th>yearly_lower</th>\n",
              "      <th>yearly_upper</th>\n",
              "      <th>additive_terms</th>\n",
              "      <th>additive_terms_lower</th>\n",
              "      <th>additive_terms_upper</th>\n",
              "      <th>yhat</th>\n",
              "    </tr>\n",
              "    <tr>\n",
              "      <th>ds</th>\n",
              "      <th></th>\n",
              "      <th></th>\n",
              "      <th></th>\n",
              "      <th></th>\n",
              "      <th></th>\n",
              "      <th></th>\n",
              "      <th></th>\n",
              "      <th></th>\n",
              "      <th></th>\n",
              "      <th></th>\n",
              "      <th></th>\n",
              "      <th></th>\n",
              "      <th></th>\n",
              "      <th></th>\n",
              "      <th></th>\n",
              "      <th></th>\n",
              "    </tr>\n",
              "  </thead>\n",
              "  <tbody>\n",
              "    <tr>\n",
              "      <th>2010-07-04</th>\n",
              "      <td>2010-07-04</td>\n",
              "      <td>9.240420</td>\n",
              "      <td>-45.299712</td>\n",
              "      <td>64.796599</td>\n",
              "      <td>9.240420</td>\n",
              "      <td>9.240420</td>\n",
              "      <td>0.019735</td>\n",
              "      <td>0.019735</td>\n",
              "      <td>0.019735</td>\n",
              "      <td>0.019735</td>\n",
              "      <td>0.019735</td>\n",
              "      <td>0.019735</td>\n",
              "      <td>0.0</td>\n",
              "      <td>0.0</td>\n",
              "      <td>0.0</td>\n",
              "      <td>9.422778</td>\n",
              "    </tr>\n",
              "    <tr>\n",
              "      <th>2010-07-11</th>\n",
              "      <td>2010-07-11</td>\n",
              "      <td>9.538293</td>\n",
              "      <td>-47.881034</td>\n",
              "      <td>66.855167</td>\n",
              "      <td>9.538293</td>\n",
              "      <td>9.538293</td>\n",
              "      <td>-0.006478</td>\n",
              "      <td>-0.006478</td>\n",
              "      <td>-0.006478</td>\n",
              "      <td>-0.006478</td>\n",
              "      <td>-0.006478</td>\n",
              "      <td>-0.006478</td>\n",
              "      <td>0.0</td>\n",
              "      <td>0.0</td>\n",
              "      <td>0.0</td>\n",
              "      <td>9.476500</td>\n",
              "    </tr>\n",
              "    <tr>\n",
              "      <th>2010-07-18</th>\n",
              "      <td>2010-07-18</td>\n",
              "      <td>9.836165</td>\n",
              "      <td>-49.794599</td>\n",
              "      <td>62.412855</td>\n",
              "      <td>9.836165</td>\n",
              "      <td>9.836165</td>\n",
              "      <td>-0.022542</td>\n",
              "      <td>-0.022542</td>\n",
              "      <td>-0.022542</td>\n",
              "      <td>-0.022542</td>\n",
              "      <td>-0.022542</td>\n",
              "      <td>-0.022542</td>\n",
              "      <td>0.0</td>\n",
              "      <td>0.0</td>\n",
              "      <td>0.0</td>\n",
              "      <td>9.614443</td>\n",
              "    </tr>\n",
              "    <tr>\n",
              "      <th>2010-07-25</th>\n",
              "      <td>2010-07-25</td>\n",
              "      <td>10.134038</td>\n",
              "      <td>-47.976533</td>\n",
              "      <td>69.713049</td>\n",
              "      <td>10.134038</td>\n",
              "      <td>10.134038</td>\n",
              "      <td>-0.014428</td>\n",
              "      <td>-0.014428</td>\n",
              "      <td>-0.014428</td>\n",
              "      <td>-0.014428</td>\n",
              "      <td>-0.014428</td>\n",
              "      <td>-0.014428</td>\n",
              "      <td>0.0</td>\n",
              "      <td>0.0</td>\n",
              "      <td>0.0</td>\n",
              "      <td>9.987821</td>\n",
              "    </tr>\n",
              "    <tr>\n",
              "      <th>2010-08-01</th>\n",
              "      <td>2010-08-01</td>\n",
              "      <td>10.431911</td>\n",
              "      <td>-48.305366</td>\n",
              "      <td>63.493138</td>\n",
              "      <td>10.431911</td>\n",
              "      <td>10.431911</td>\n",
              "      <td>0.008683</td>\n",
              "      <td>0.008683</td>\n",
              "      <td>0.008683</td>\n",
              "      <td>0.008683</td>\n",
              "      <td>0.008683</td>\n",
              "      <td>0.008683</td>\n",
              "      <td>0.0</td>\n",
              "      <td>0.0</td>\n",
              "      <td>0.0</td>\n",
              "      <td>10.522491</td>\n",
              "    </tr>\n",
              "  </tbody>\n",
              "</table>\n",
              "</div>\n",
              "      <button class=\"colab-df-convert\" onclick=\"convertToInteractive('df-6a7e05c5-83fd-4870-a055-e1889daccf36')\"\n",
              "              title=\"Convert this dataframe to an interactive table.\"\n",
              "              style=\"display:none;\">\n",
              "        \n",
              "  <svg xmlns=\"http://www.w3.org/2000/svg\" height=\"24px\"viewBox=\"0 0 24 24\"\n",
              "       width=\"24px\">\n",
              "    <path d=\"M0 0h24v24H0V0z\" fill=\"none\"/>\n",
              "    <path d=\"M18.56 5.44l.94 2.06.94-2.06 2.06-.94-2.06-.94-.94-2.06-.94 2.06-2.06.94zm-11 1L8.5 8.5l.94-2.06 2.06-.94-2.06-.94L8.5 2.5l-.94 2.06-2.06.94zm10 10l.94 2.06.94-2.06 2.06-.94-2.06-.94-.94-2.06-.94 2.06-2.06.94z\"/><path d=\"M17.41 7.96l-1.37-1.37c-.4-.4-.92-.59-1.43-.59-.52 0-1.04.2-1.43.59L10.3 9.45l-7.72 7.72c-.78.78-.78 2.05 0 2.83L4 21.41c.39.39.9.59 1.41.59.51 0 1.02-.2 1.41-.59l7.78-7.78 2.81-2.81c.8-.78.8-2.07 0-2.86zM5.41 20L4 18.59l7.72-7.72 1.47 1.35L5.41 20z\"/>\n",
              "  </svg>\n",
              "      </button>\n",
              "      \n",
              "  <style>\n",
              "    .colab-df-container {\n",
              "      display:flex;\n",
              "      flex-wrap:wrap;\n",
              "      gap: 12px;\n",
              "    }\n",
              "\n",
              "    .colab-df-convert {\n",
              "      background-color: #E8F0FE;\n",
              "      border: none;\n",
              "      border-radius: 50%;\n",
              "      cursor: pointer;\n",
              "      display: none;\n",
              "      fill: #1967D2;\n",
              "      height: 32px;\n",
              "      padding: 0 0 0 0;\n",
              "      width: 32px;\n",
              "    }\n",
              "\n",
              "    .colab-df-convert:hover {\n",
              "      background-color: #E2EBFA;\n",
              "      box-shadow: 0px 1px 2px rgba(60, 64, 67, 0.3), 0px 1px 3px 1px rgba(60, 64, 67, 0.15);\n",
              "      fill: #174EA6;\n",
              "    }\n",
              "\n",
              "    [theme=dark] .colab-df-convert {\n",
              "      background-color: #3B4455;\n",
              "      fill: #D2E3FC;\n",
              "    }\n",
              "\n",
              "    [theme=dark] .colab-df-convert:hover {\n",
              "      background-color: #434B5C;\n",
              "      box-shadow: 0px 1px 3px 1px rgba(0, 0, 0, 0.15);\n",
              "      filter: drop-shadow(0px 1px 2px rgba(0, 0, 0, 0.3));\n",
              "      fill: #FFFFFF;\n",
              "    }\n",
              "  </style>\n",
              "\n",
              "      <script>\n",
              "        const buttonEl =\n",
              "          document.querySelector('#df-6a7e05c5-83fd-4870-a055-e1889daccf36 button.colab-df-convert');\n",
              "        buttonEl.style.display =\n",
              "          google.colab.kernel.accessAllowed ? 'block' : 'none';\n",
              "\n",
              "        async function convertToInteractive(key) {\n",
              "          const element = document.querySelector('#df-6a7e05c5-83fd-4870-a055-e1889daccf36');\n",
              "          const dataTable =\n",
              "            await google.colab.kernel.invokeFunction('convertToInteractive',\n",
              "                                                     [key], {});\n",
              "          if (!dataTable) return;\n",
              "\n",
              "          const docLinkHtml = 'Like what you see? Visit the ' +\n",
              "            '<a target=\"_blank\" href=https://colab.research.google.com/notebooks/data_table.ipynb>data table notebook</a>'\n",
              "            + ' to learn more about interactive tables.';\n",
              "          element.innerHTML = '';\n",
              "          dataTable['output_type'] = 'display_data';\n",
              "          await google.colab.output.renderOutput(dataTable, element);\n",
              "          const docLink = document.createElement('div');\n",
              "          docLink.innerHTML = docLinkHtml;\n",
              "          element.appendChild(docLink);\n",
              "        }\n",
              "      </script>\n",
              "    </div>\n",
              "  </div>\n",
              "  "
            ]
          },
          "metadata": {},
          "execution_count": 200
        }
      ]
    },
    {
      "cell_type": "code",
      "source": [
        "#строим график на будущее\n",
        "\n",
        "ax = df2['Close'].plot(legend=True, figsize=(10,3),title='Close price changing') \n",
        "fut_fcast_prophet['yhat'].tail(12).plot(legend=True)\n",
        "ax.autoscale(axis='x',tight=True)\n",
        "ax.legend([\"Close\", \"PROPHET\"]);"
      ],
      "metadata": {
        "colab": {
          "base_uri": "https://localhost:8080/",
          "height": 241
        },
        "id": "oWbVOaFYSF2E",
        "outputId": "c3196621-d49b-46bd-ad70-aa539b0892f0"
      },
      "execution_count": 203,
      "outputs": [
        {
          "output_type": "display_data",
          "data": {
            "text/plain": [
              "<Figure size 720x216 with 1 Axes>"
            ],
            "image/png": "[encoded data removed]"
          },
          "metadata": {
            "needs_background": "light"
          }
        }
      ]
    },
    {
      "cell_type": "markdown",
      "source": [
        "## Выводы"
      ],
      "metadata": {
        "id": "gX7Ue2304viI"
      }
    },
    {
      "cell_type": "markdown",
      "source": [
        "В данном блоке опишите общие выводы по работе: что было сделано, что было получено. Помните, отрицательный результат - тоже результат. Поэтому указывайте информацию честно и беспристратно. "
      ],
      "metadata": {
        "id": "wmuZ3A2_4vgF"
      }
    }
  ]
}