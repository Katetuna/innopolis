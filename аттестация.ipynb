{
  "nbformat": 4,
  "nbformat_minor": 0,
  "metadata": {
    "colab": {
      "name": "аттестация",
      "provenance": [],
      "collapsed_sections": [
        "Fz2kNCH4fdS_",
        "q8gTgMtTVpYE",
        "rCQpzmsD145G"
      ],
      "include_colab_link": true
    },
    "kernelspec": {
      "name": "python3",
      "display_name": "Python 3"
    },
    "language_info": {
      "name": "python"
    }
  },
  "cells": [
    {
      "cell_type": "markdown",
      "metadata": {
        "id": "view-in-github",
        "colab_type": "text"
      },
      "source": [
        "<a href=\"https://colab.research.google.com/github/Katetuna/innopolis/blob/main/%D0%B0%D1%82%D1%82%D0%B5%D1%81%D1%82%D0%B0%D1%86%D0%B8%D1%8F.ipynb\" target=\"_parent\"><img src=\"https://colab.research.google.com/assets/colab-badge.svg\" alt=\"Open In Colab\"/></a>"
      ]
    },
    {
      "cell_type": "markdown",
      "metadata": {
        "id": "mXOkIsa2OJWh"
      },
      "source": [
        "# Димполная работа на тему \"Анализ и прогнозирование временного ряда на основе данных о продажах акций компании ТЕСЛА за период с 2010 - 2020 года\""
      ]
    },
    {
      "cell_type": "markdown",
      "metadata": {
        "id": "1zQr-DRYOJUN"
      },
      "source": [
        "## Введение. Постановка целей и задач."
      ]
    },
    {
      "cell_type": "markdown",
      "source": [
        "Акции TSLA выросли в 2020 году с сумасшедшим всплеском + 100% только за 30 дней. Проанализировав данные, может быть, мы сможем узнать, почему? А также спрогнозировать на основании нескольких моделей, выбрав лучшую, будет ли стоимость акций расти или снижаться в будущем."
      ],
      "metadata": {
        "id": "LIkGgzI5nRUN"
      }
    },
    {
      "cell_type": "markdown",
      "metadata": {
        "id": "fsEnvXWXUe2z"
      },
      "source": [
        "## Импорт Датафрейма, библиотек, написание функций."
      ]
    },
    {
      "cell_type": "code",
      "source": [
        "!pip install pmdarima"
      ],
      "metadata": {
        "id": "OVwugCuNj7f7",
        "colab": {
          "base_uri": "https://localhost:8080/"
        },
        "outputId": "c6462deb-7c5d-4912-aa9e-01d442720022"
      },
      "execution_count": 1,
      "outputs": [
        {
          "output_type": "stream",
          "name": "stdout",
          "text": [
            "Collecting pmdarima\n",
            "  Downloading pmdarima-1.8.5-cp37-cp37m-manylinux_2_17_x86_64.manylinux2014_x86_64.manylinux_2_24_x86_64.whl (1.4 MB)\n",
            "\u001b[?25l\r\u001b[K     |▎                               | 10 kB 16.7 MB/s eta 0:00:01\r\u001b[K     |▌                               | 20 kB 10.1 MB/s eta 0:00:01\r\u001b[K     |▊                               | 30 kB 8.0 MB/s eta 0:00:01\r\u001b[K     |█                               | 40 kB 7.2 MB/s eta 0:00:01\r\u001b[K     |█▏                              | 51 kB 4.3 MB/s eta 0:00:01\r\u001b[K     |█▍                              | 61 kB 5.0 MB/s eta 0:00:01\r\u001b[K     |█▋                              | 71 kB 5.2 MB/s eta 0:00:01\r\u001b[K     |██                              | 81 kB 4.2 MB/s eta 0:00:01\r\u001b[K     |██▏                             | 92 kB 4.6 MB/s eta 0:00:01\r\u001b[K     |██▍                             | 102 kB 5.1 MB/s eta 0:00:01\r\u001b[K     |██▋                             | 112 kB 5.1 MB/s eta 0:00:01\r\u001b[K     |██▉                             | 122 kB 5.1 MB/s eta 0:00:01\r\u001b[K     |███                             | 133 kB 5.1 MB/s eta 0:00:01\r\u001b[K     |███▎                            | 143 kB 5.1 MB/s eta 0:00:01\r\u001b[K     |███▌                            | 153 kB 5.1 MB/s eta 0:00:01\r\u001b[K     |███▉                            | 163 kB 5.1 MB/s eta 0:00:01\r\u001b[K     |████                            | 174 kB 5.1 MB/s eta 0:00:01\r\u001b[K     |████▎                           | 184 kB 5.1 MB/s eta 0:00:01\r\u001b[K     |████▌                           | 194 kB 5.1 MB/s eta 0:00:01\r\u001b[K     |████▊                           | 204 kB 5.1 MB/s eta 0:00:01\r\u001b[K     |█████                           | 215 kB 5.1 MB/s eta 0:00:01\r\u001b[K     |█████▏                          | 225 kB 5.1 MB/s eta 0:00:01\r\u001b[K     |█████▍                          | 235 kB 5.1 MB/s eta 0:00:01\r\u001b[K     |█████▊                          | 245 kB 5.1 MB/s eta 0:00:01\r\u001b[K     |██████                          | 256 kB 5.1 MB/s eta 0:00:01\r\u001b[K     |██████▏                         | 266 kB 5.1 MB/s eta 0:00:01\r\u001b[K     |██████▍                         | 276 kB 5.1 MB/s eta 0:00:01\r\u001b[K     |██████▋                         | 286 kB 5.1 MB/s eta 0:00:01\r\u001b[K     |██████▉                         | 296 kB 5.1 MB/s eta 0:00:01\r\u001b[K     |███████                         | 307 kB 5.1 MB/s eta 0:00:01\r\u001b[K     |███████▎                        | 317 kB 5.1 MB/s eta 0:00:01\r\u001b[K     |███████▋                        | 327 kB 5.1 MB/s eta 0:00:01\r\u001b[K     |███████▉                        | 337 kB 5.1 MB/s eta 0:00:01\r\u001b[K     |████████                        | 348 kB 5.1 MB/s eta 0:00:01\r\u001b[K     |████████▎                       | 358 kB 5.1 MB/s eta 0:00:01\r\u001b[K     |████████▌                       | 368 kB 5.1 MB/s eta 0:00:01\r\u001b[K     |████████▊                       | 378 kB 5.1 MB/s eta 0:00:01\r\u001b[K     |█████████                       | 389 kB 5.1 MB/s eta 0:00:01\r\u001b[K     |█████████▎                      | 399 kB 5.1 MB/s eta 0:00:01\r\u001b[K     |█████████▌                      | 409 kB 5.1 MB/s eta 0:00:01\r\u001b[K     |█████████▊                      | 419 kB 5.1 MB/s eta 0:00:01\r\u001b[K     |██████████                      | 430 kB 5.1 MB/s eta 0:00:01\r\u001b[K     |██████████▏                     | 440 kB 5.1 MB/s eta 0:00:01\r\u001b[K     |██████████▍                     | 450 kB 5.1 MB/s eta 0:00:01\r\u001b[K     |██████████▋                     | 460 kB 5.1 MB/s eta 0:00:01\r\u001b[K     |██████████▉                     | 471 kB 5.1 MB/s eta 0:00:01\r\u001b[K     |███████████▏                    | 481 kB 5.1 MB/s eta 0:00:01\r\u001b[K     |███████████▍                    | 491 kB 5.1 MB/s eta 0:00:01\r\u001b[K     |███████████▋                    | 501 kB 5.1 MB/s eta 0:00:01\r\u001b[K     |███████████▉                    | 512 kB 5.1 MB/s eta 0:00:01\r\u001b[K     |████████████                    | 522 kB 5.1 MB/s eta 0:00:01\r\u001b[K     |████████████▎                   | 532 kB 5.1 MB/s eta 0:00:01\r\u001b[K     |████████████▌                   | 542 kB 5.1 MB/s eta 0:00:01\r\u001b[K     |████████████▊                   | 552 kB 5.1 MB/s eta 0:00:01\r\u001b[K     |█████████████                   | 563 kB 5.1 MB/s eta 0:00:01\r\u001b[K     |█████████████▎                  | 573 kB 5.1 MB/s eta 0:00:01\r\u001b[K     |█████████████▌                  | 583 kB 5.1 MB/s eta 0:00:01\r\u001b[K     |█████████████▊                  | 593 kB 5.1 MB/s eta 0:00:01\r\u001b[K     |██████████████                  | 604 kB 5.1 MB/s eta 0:00:01\r\u001b[K     |██████████████▏                 | 614 kB 5.1 MB/s eta 0:00:01\r\u001b[K     |██████████████▍                 | 624 kB 5.1 MB/s eta 0:00:01\r\u001b[K     |██████████████▋                 | 634 kB 5.1 MB/s eta 0:00:01\r\u001b[K     |███████████████                 | 645 kB 5.1 MB/s eta 0:00:01\r\u001b[K     |███████████████▏                | 655 kB 5.1 MB/s eta 0:00:01\r\u001b[K     |███████████████▍                | 665 kB 5.1 MB/s eta 0:00:01\r\u001b[K     |███████████████▋                | 675 kB 5.1 MB/s eta 0:00:01\r\u001b[K     |███████████████▉                | 686 kB 5.1 MB/s eta 0:00:01\r\u001b[K     |████████████████                | 696 kB 5.1 MB/s eta 0:00:01\r\u001b[K     |████████████████▎               | 706 kB 5.1 MB/s eta 0:00:01\r\u001b[K     |████████████████▋               | 716 kB 5.1 MB/s eta 0:00:01\r\u001b[K     |████████████████▉               | 727 kB 5.1 MB/s eta 0:00:01\r\u001b[K     |█████████████████               | 737 kB 5.1 MB/s eta 0:00:01\r\u001b[K     |█████████████████▎              | 747 kB 5.1 MB/s eta 0:00:01\r\u001b[K     |█████████████████▌              | 757 kB 5.1 MB/s eta 0:00:01\r\u001b[K     |█████████████████▊              | 768 kB 5.1 MB/s eta 0:00:01\r\u001b[K     |██████████████████              | 778 kB 5.1 MB/s eta 0:00:01\r\u001b[K     |██████████████████▏             | 788 kB 5.1 MB/s eta 0:00:01\r\u001b[K     |██████████████████▌             | 798 kB 5.1 MB/s eta 0:00:01\r\u001b[K     |██████████████████▊             | 808 kB 5.1 MB/s eta 0:00:01\r\u001b[K     |███████████████████             | 819 kB 5.1 MB/s eta 0:00:01\r\u001b[K     |███████████████████▏            | 829 kB 5.1 MB/s eta 0:00:01\r\u001b[K     |███████████████████▍            | 839 kB 5.1 MB/s eta 0:00:01\r\u001b[K     |███████████████████▋            | 849 kB 5.1 MB/s eta 0:00:01\r\u001b[K     |███████████████████▉            | 860 kB 5.1 MB/s eta 0:00:01\r\u001b[K     |████████████████████            | 870 kB 5.1 MB/s eta 0:00:01\r\u001b[K     |████████████████████▍           | 880 kB 5.1 MB/s eta 0:00:01\r\u001b[K     |████████████████████▋           | 890 kB 5.1 MB/s eta 0:00:01\r\u001b[K     |████████████████████▉           | 901 kB 5.1 MB/s eta 0:00:01\r\u001b[K     |█████████████████████           | 911 kB 5.1 MB/s eta 0:00:01\r\u001b[K     |█████████████████████▎          | 921 kB 5.1 MB/s eta 0:00:01\r\u001b[K     |█████████████████████▌          | 931 kB 5.1 MB/s eta 0:00:01\r\u001b[K     |█████████████████████▊          | 942 kB 5.1 MB/s eta 0:00:01\r\u001b[K     |██████████████████████          | 952 kB 5.1 MB/s eta 0:00:01\r\u001b[K     |██████████████████████▎         | 962 kB 5.1 MB/s eta 0:00:01\r\u001b[K     |██████████████████████▌         | 972 kB 5.1 MB/s eta 0:00:01\r\u001b[K     |██████████████████████▊         | 983 kB 5.1 MB/s eta 0:00:01\r\u001b[K     |███████████████████████         | 993 kB 5.1 MB/s eta 0:00:01\r\u001b[K     |███████████████████████▏        | 1.0 MB 5.1 MB/s eta 0:00:01\r\u001b[K     |███████████████████████▍        | 1.0 MB 5.1 MB/s eta 0:00:01\r\u001b[K     |███████████████████████▋        | 1.0 MB 5.1 MB/s eta 0:00:01\r\u001b[K     |████████████████████████        | 1.0 MB 5.1 MB/s eta 0:00:01\r\u001b[K     |████████████████████████▏       | 1.0 MB 5.1 MB/s eta 0:00:01\r\u001b[K     |████████████████████████▍       | 1.1 MB 5.1 MB/s eta 0:00:01\r\u001b[K     |████████████████████████▋       | 1.1 MB 5.1 MB/s eta 0:00:01\r\u001b[K     |████████████████████████▉       | 1.1 MB 5.1 MB/s eta 0:00:01\r\u001b[K     |█████████████████████████       | 1.1 MB 5.1 MB/s eta 0:00:01\r\u001b[K     |█████████████████████████▎      | 1.1 MB 5.1 MB/s eta 0:00:01\r\u001b[K     |█████████████████████████▌      | 1.1 MB 5.1 MB/s eta 0:00:01\r\u001b[K     |█████████████████████████▉      | 1.1 MB 5.1 MB/s eta 0:00:01\r\u001b[K     |██████████████████████████      | 1.1 MB 5.1 MB/s eta 0:00:01\r\u001b[K     |██████████████████████████▎     | 1.1 MB 5.1 MB/s eta 0:00:01\r\u001b[K     |██████████████████████████▌     | 1.1 MB 5.1 MB/s eta 0:00:01\r\u001b[K     |██████████████████████████▊     | 1.2 MB 5.1 MB/s eta 0:00:01\r\u001b[K     |███████████████████████████     | 1.2 MB 5.1 MB/s eta 0:00:01\r\u001b[K     |███████████████████████████▏    | 1.2 MB 5.1 MB/s eta 0:00:01\r\u001b[K     |███████████████████████████▍    | 1.2 MB 5.1 MB/s eta 0:00:01\r\u001b[K     |███████████████████████████▊    | 1.2 MB 5.1 MB/s eta 0:00:01\r\u001b[K     |████████████████████████████    | 1.2 MB 5.1 MB/s eta 0:00:01\r\u001b[K     |████████████████████████████▏   | 1.2 MB 5.1 MB/s eta 0:00:01\r\u001b[K     |████████████████████████████▍   | 1.2 MB 5.1 MB/s eta 0:00:01\r\u001b[K     |████████████████████████████▋   | 1.2 MB 5.1 MB/s eta 0:00:01\r\u001b[K     |████████████████████████████▉   | 1.2 MB 5.1 MB/s eta 0:00:01\r\u001b[K     |█████████████████████████████   | 1.3 MB 5.1 MB/s eta 0:00:01\r\u001b[K     |█████████████████████████████▎  | 1.3 MB 5.1 MB/s eta 0:00:01\r\u001b[K     |█████████████████████████████▋  | 1.3 MB 5.1 MB/s eta 0:00:01\r\u001b[K     |█████████████████████████████▉  | 1.3 MB 5.1 MB/s eta 0:00:01\r\u001b[K     |██████████████████████████████  | 1.3 MB 5.1 MB/s eta 0:00:01\r\u001b[K     |██████████████████████████████▎ | 1.3 MB 5.1 MB/s eta 0:00:01\r\u001b[K     |██████████████████████████████▌ | 1.3 MB 5.1 MB/s eta 0:00:01\r\u001b[K     |██████████████████████████████▊ | 1.3 MB 5.1 MB/s eta 0:00:01\r\u001b[K     |███████████████████████████████ | 1.3 MB 5.1 MB/s eta 0:00:01\r\u001b[K     |███████████████████████████████▎| 1.4 MB 5.1 MB/s eta 0:00:01\r\u001b[K     |███████████████████████████████▌| 1.4 MB 5.1 MB/s eta 0:00:01\r\u001b[K     |███████████████████████████████▊| 1.4 MB 5.1 MB/s eta 0:00:01\r\u001b[K     |████████████████████████████████| 1.4 MB 5.1 MB/s eta 0:00:01\r\u001b[K     |████████████████████████████████| 1.4 MB 5.1 MB/s \n",
            "\u001b[?25hRequirement already satisfied: Cython!=0.29.18,>=0.29 in /usr/local/lib/python3.7/dist-packages (from pmdarima) (0.29.28)\n",
            "Requirement already satisfied: urllib3 in /usr/local/lib/python3.7/dist-packages (from pmdarima) (1.24.3)\n",
            "Requirement already satisfied: pandas>=0.19 in /usr/local/lib/python3.7/dist-packages (from pmdarima) (1.3.5)\n",
            "Requirement already satisfied: joblib>=0.11 in /usr/local/lib/python3.7/dist-packages (from pmdarima) (1.1.0)\n",
            "Requirement already satisfied: scipy>=1.3.2 in /usr/local/lib/python3.7/dist-packages (from pmdarima) (1.4.1)\n",
            "Requirement already satisfied: setuptools!=50.0.0,>=38.6.0 in /usr/local/lib/python3.7/dist-packages (from pmdarima) (57.4.0)\n",
            "Requirement already satisfied: numpy>=1.19.3 in /usr/local/lib/python3.7/dist-packages (from pmdarima) (1.21.5)\n",
            "Collecting statsmodels!=0.12.0,>=0.11\n",
            "  Downloading statsmodels-0.13.2-cp37-cp37m-manylinux_2_17_x86_64.manylinux2014_x86_64.whl (9.8 MB)\n",
            "\u001b[K     |████████████████████████████████| 9.8 MB 9.7 MB/s \n",
            "\u001b[?25hRequirement already satisfied: scikit-learn>=0.22 in /usr/local/lib/python3.7/dist-packages (from pmdarima) (1.0.2)\n",
            "Requirement already satisfied: pytz>=2017.3 in /usr/local/lib/python3.7/dist-packages (from pandas>=0.19->pmdarima) (2018.9)\n",
            "Requirement already satisfied: python-dateutil>=2.7.3 in /usr/local/lib/python3.7/dist-packages (from pandas>=0.19->pmdarima) (2.8.2)\n",
            "Requirement already satisfied: six>=1.5 in /usr/local/lib/python3.7/dist-packages (from python-dateutil>=2.7.3->pandas>=0.19->pmdarima) (1.15.0)\n",
            "Requirement already satisfied: threadpoolctl>=2.0.0 in /usr/local/lib/python3.7/dist-packages (from scikit-learn>=0.22->pmdarima) (3.1.0)\n",
            "Requirement already satisfied: packaging>=21.3 in /usr/local/lib/python3.7/dist-packages (from statsmodels!=0.12.0,>=0.11->pmdarima) (21.3)\n",
            "Requirement already satisfied: patsy>=0.5.2 in /usr/local/lib/python3.7/dist-packages (from statsmodels!=0.12.0,>=0.11->pmdarima) (0.5.2)\n",
            "Requirement already satisfied: pyparsing!=3.0.5,>=2.0.2 in /usr/local/lib/python3.7/dist-packages (from packaging>=21.3->statsmodels!=0.12.0,>=0.11->pmdarima) (3.0.7)\n",
            "Installing collected packages: statsmodels, pmdarima\n",
            "  Attempting uninstall: statsmodels\n",
            "    Found existing installation: statsmodels 0.10.2\n",
            "    Uninstalling statsmodels-0.10.2:\n",
            "      Successfully uninstalled statsmodels-0.10.2\n",
            "Successfully installed pmdarima-1.8.5 statsmodels-0.13.2\n"
          ]
        }
      ]
    },
    {
      "cell_type": "code",
      "source": [
        "# загружаем fbprophet\n",
        "!pip install fbprophet"
      ],
      "metadata": {
        "colab": {
          "base_uri": "https://localhost:8080/"
        },
        "id": "gtj5kChvJsra",
        "outputId": "01a14b66-3561-4c2b-9b6b-dcfce6a20a2b"
      },
      "execution_count": 2,
      "outputs": [
        {
          "output_type": "stream",
          "name": "stdout",
          "text": [
            "Requirement already satisfied: fbprophet in /usr/local/lib/python3.7/dist-packages (0.7.1)\n",
            "Requirement already satisfied: Cython>=0.22 in /usr/local/lib/python3.7/dist-packages (from fbprophet) (0.29.28)\n",
            "Requirement already satisfied: cmdstanpy==0.9.5 in /usr/local/lib/python3.7/dist-packages (from fbprophet) (0.9.5)\n",
            "Requirement already satisfied: pystan>=2.14 in /usr/local/lib/python3.7/dist-packages (from fbprophet) (2.19.1.1)\n",
            "Requirement already satisfied: numpy>=1.15.4 in /usr/local/lib/python3.7/dist-packages (from fbprophet) (1.21.5)\n",
            "Requirement already satisfied: pandas>=1.0.4 in /usr/local/lib/python3.7/dist-packages (from fbprophet) (1.3.5)\n",
            "Requirement already satisfied: matplotlib>=2.0.0 in /usr/local/lib/python3.7/dist-packages (from fbprophet) (3.2.2)\n",
            "Requirement already satisfied: LunarCalendar>=0.0.9 in /usr/local/lib/python3.7/dist-packages (from fbprophet) (0.0.9)\n",
            "Requirement already satisfied: convertdate>=2.1.2 in /usr/local/lib/python3.7/dist-packages (from fbprophet) (2.4.0)\n",
            "Requirement already satisfied: holidays>=0.10.2 in /usr/local/lib/python3.7/dist-packages (from fbprophet) (0.10.5.2)\n",
            "Requirement already satisfied: setuptools-git>=1.2 in /usr/local/lib/python3.7/dist-packages (from fbprophet) (1.2)\n",
            "Requirement already satisfied: python-dateutil>=2.8.0 in /usr/local/lib/python3.7/dist-packages (from fbprophet) (2.8.2)\n",
            "Requirement already satisfied: tqdm>=4.36.1 in /usr/local/lib/python3.7/dist-packages (from fbprophet) (4.63.0)\n",
            "Requirement already satisfied: pymeeus<=1,>=0.3.13 in /usr/local/lib/python3.7/dist-packages (from convertdate>=2.1.2->fbprophet) (0.5.11)\n",
            "Requirement already satisfied: korean-lunar-calendar in /usr/local/lib/python3.7/dist-packages (from holidays>=0.10.2->fbprophet) (0.2.1)\n",
            "Requirement already satisfied: six in /usr/local/lib/python3.7/dist-packages (from holidays>=0.10.2->fbprophet) (1.15.0)\n",
            "Requirement already satisfied: hijri-converter in /usr/local/lib/python3.7/dist-packages (from holidays>=0.10.2->fbprophet) (2.2.3)\n",
            "Requirement already satisfied: pytz in /usr/local/lib/python3.7/dist-packages (from LunarCalendar>=0.0.9->fbprophet) (2018.9)\n",
            "Requirement already satisfied: ephem>=3.7.5.3 in /usr/local/lib/python3.7/dist-packages (from LunarCalendar>=0.0.9->fbprophet) (4.1.3)\n",
            "Requirement already satisfied: cycler>=0.10 in /usr/local/lib/python3.7/dist-packages (from matplotlib>=2.0.0->fbprophet) (0.11.0)\n",
            "Requirement already satisfied: kiwisolver>=1.0.1 in /usr/local/lib/python3.7/dist-packages (from matplotlib>=2.0.0->fbprophet) (1.4.0)\n",
            "Requirement already satisfied: pyparsing!=2.0.4,!=2.1.2,!=2.1.6,>=2.0.1 in /usr/local/lib/python3.7/dist-packages (from matplotlib>=2.0.0->fbprophet) (3.0.7)\n",
            "Requirement already satisfied: typing-extensions in /usr/local/lib/python3.7/dist-packages (from kiwisolver>=1.0.1->matplotlib>=2.0.0->fbprophet) (3.10.0.2)\n"
          ]
        }
      ]
    },
    {
      "cell_type": "code",
      "metadata": {
        "id": "Y9HhQemGU6vC"
      },
      "source": [
        "# Здесь импортируем библиотеки и функции \n",
        "import pandas as pd\n",
        "import numpy as np\n",
        "import matplotlib.pyplot as plt"
      ],
      "execution_count": 3,
      "outputs": []
    },
    {
      "cell_type": "code",
      "source": [
        "# импорт SARIMAX \n",
        "from statsmodels.tsa.statespace.sarimax import SARIMAX\n",
        "from statsmodels.tsa.stattools import adfuller, acovf, acf, pacf, pacf_yw, pacf_ols #функции частичной и автокорреляции\n",
        "from statsmodels.graphics.tsaplots import plot_acf,plot_pacf # для определения (p,q) \n",
        "from statsmodels.tsa.seasonal import seasonal_decompose      # для ETS графиков\n",
        "from pmdarima import auto_arima                              # для поиска ARIMA моделей (подбирает оптимальные параметры для модели)\n",
        "from fbprophet import Prophet                                # для модели Профет\n",
        "from statsmodels.tsa.holtwinters import ExponentialSmoothing # для модели Экспоненцальное сглаживание\n",
        "\n",
        "# метрики\n",
        "from sklearn.metrics import mean_squared_error\n",
        "from sklearn.metrics import mean_absolute_error\n",
        "from statsmodels.tools.eval_measures import rmse\n"
      ],
      "metadata": {
        "id": "P9zB_Gzbj6W5"
      },
      "execution_count": 4,
      "outputs": []
    },
    {
      "cell_type": "code",
      "metadata": {
        "id": "Sx_GJx5XU8Zi"
      },
      "source": [
        "# Импортируем данные.\n",
        "df = pd.read_csv('/content/TSLA.csv',index_col='Date', parse_dates=True)\n"
      ],
      "execution_count": 5,
      "outputs": []
    },
    {
      "cell_type": "code",
      "metadata": {
        "id": "Iqtl_rYgVCrb",
        "colab": {
          "base_uri": "https://localhost:8080/"
        },
        "outputId": "eac8141e-a3c1-4222-f301-110c9d8079ce"
      },
      "source": [
        "#Проверка, что все выгрузилось корректно.\n",
        "print(df.head())\n"
      ],
      "execution_count": 6,
      "outputs": [
        {
          "output_type": "stream",
          "name": "stdout",
          "text": [
            "                 Open   High        Low      Close  Adj Close    Volume\n",
            "Date                                                                   \n",
            "2010-06-29  19.000000  25.00  17.540001  23.889999  23.889999  18766300\n",
            "2010-06-30  25.790001  30.42  23.299999  23.830000  23.830000  17187100\n",
            "2010-07-01  25.000000  25.92  20.270000  21.959999  21.959999   8218800\n",
            "2010-07-02  23.000000  23.10  18.709999  19.200001  19.200001   5139800\n",
            "2010-07-06  20.000000  20.00  15.830000  16.110001  16.110001   6866900\n"
          ]
        }
      ]
    },
    {
      "cell_type": "markdown",
      "source": [
        "### ВЫВОДЫ: цели и задачи работы поставлены. Загружены необходимые библиотеки и функции для правильной работы, а также сами данные.Колонку с индексами заменили на соответствущие даты. Проведен первичный анализ, что все выгрузилось верно."
      ],
      "metadata": {
        "id": "Fz2kNCH4fdS_"
      }
    },
    {
      "cell_type": "markdown",
      "metadata": {
        "id": "plIXeY2aUeuv"
      },
      "source": [
        "## Знакомство с данными."
      ]
    },
    {
      "cell_type": "code",
      "source": [
        "# Общая информация по датасету \n",
        "df.info()\n",
        "len(df)\n"
      ],
      "metadata": {
        "colab": {
          "base_uri": "https://localhost:8080/"
        },
        "id": "HBBzWpVEgn93",
        "outputId": "e2f498a8-7634-4fe4-e616-7cebb015e108"
      },
      "execution_count": 7,
      "outputs": [
        {
          "output_type": "stream",
          "name": "stdout",
          "text": [
            "<class 'pandas.core.frame.DataFrame'>\n",
            "DatetimeIndex: 2416 entries, 2010-06-29 to 2020-02-03\n",
            "Data columns (total 6 columns):\n",
            " #   Column     Non-Null Count  Dtype  \n",
            "---  ------     --------------  -----  \n",
            " 0   Open       2416 non-null   float64\n",
            " 1   High       2416 non-null   float64\n",
            " 2   Low        2416 non-null   float64\n",
            " 3   Close      2416 non-null   float64\n",
            " 4   Adj Close  2416 non-null   float64\n",
            " 5   Volume     2416 non-null   int64  \n",
            "dtypes: float64(5), int64(1)\n",
            "memory usage: 132.1 KB\n"
          ]
        },
        {
          "output_type": "execute_result",
          "data": {
            "text/plain": [
              "2416"
            ]
          },
          "metadata": {},
          "execution_count": 7
        }
      ]
    },
    {
      "cell_type": "code",
      "source": [
        "# Проверка датасета на пропуски\n",
        "df.isna()"
      ],
      "metadata": {
        "colab": {
          "base_uri": "https://localhost:8080/",
          "height": 455
        },
        "id": "Qg7hb4NVgfNV",
        "outputId": "d84a0eeb-e86d-465e-eb6d-82673c6eb88f"
      },
      "execution_count": 8,
      "outputs": [
        {
          "output_type": "execute_result",
          "data": {
            "text/plain": [
              "             Open   High    Low  Close  Adj Close  Volume\n",
              "Date                                                     \n",
              "2010-06-29  False  False  False  False      False   False\n",
              "2010-06-30  False  False  False  False      False   False\n",
              "2010-07-01  False  False  False  False      False   False\n",
              "2010-07-02  False  False  False  False      False   False\n",
              "2010-07-06  False  False  False  False      False   False\n",
              "...           ...    ...    ...    ...        ...     ...\n",
              "2020-01-28  False  False  False  False      False   False\n",
              "2020-01-29  False  False  False  False      False   False\n",
              "2020-01-30  False  False  False  False      False   False\n",
              "2020-01-31  False  False  False  False      False   False\n",
              "2020-02-03  False  False  False  False      False   False\n",
              "\n",
              "[2416 rows x 6 columns]"
            ],
            "text/html": [
              "\n",
              "  <div id=\"df-fecd1a42-b65d-41d5-bb27-87d9f2bb98b4\">\n",
              "    <div class=\"colab-df-container\">\n",
              "      <div>\n",
              "<style scoped>\n",
              "    .dataframe tbody tr th:only-of-type {\n",
              "        vertical-align: middle;\n",
              "    }\n",
              "\n",
              "    .dataframe tbody tr th {\n",
              "        vertical-align: top;\n",
              "    }\n",
              "\n",
              "    .dataframe thead th {\n",
              "        text-align: right;\n",
              "    }\n",
              "</style>\n",
              "<table border=\"1\" class=\"dataframe\">\n",
              "  <thead>\n",
              "    <tr style=\"text-align: right;\">\n",
              "      <th></th>\n",
              "      <th>Open</th>\n",
              "      <th>High</th>\n",
              "      <th>Low</th>\n",
              "      <th>Close</th>\n",
              "      <th>Adj Close</th>\n",
              "      <th>Volume</th>\n",
              "    </tr>\n",
              "    <tr>\n",
              "      <th>Date</th>\n",
              "      <th></th>\n",
              "      <th></th>\n",
              "      <th></th>\n",
              "      <th></th>\n",
              "      <th></th>\n",
              "      <th></th>\n",
              "    </tr>\n",
              "  </thead>\n",
              "  <tbody>\n",
              "    <tr>\n",
              "      <th>2010-06-29</th>\n",
              "      <td>False</td>\n",
              "      <td>False</td>\n",
              "      <td>False</td>\n",
              "      <td>False</td>\n",
              "      <td>False</td>\n",
              "      <td>False</td>\n",
              "    </tr>\n",
              "    <tr>\n",
              "      <th>2010-06-30</th>\n",
              "      <td>False</td>\n",
              "      <td>False</td>\n",
              "      <td>False</td>\n",
              "      <td>False</td>\n",
              "      <td>False</td>\n",
              "      <td>False</td>\n",
              "    </tr>\n",
              "    <tr>\n",
              "      <th>2010-07-01</th>\n",
              "      <td>False</td>\n",
              "      <td>False</td>\n",
              "      <td>False</td>\n",
              "      <td>False</td>\n",
              "      <td>False</td>\n",
              "      <td>False</td>\n",
              "    </tr>\n",
              "    <tr>\n",
              "      <th>2010-07-02</th>\n",
              "      <td>False</td>\n",
              "      <td>False</td>\n",
              "      <td>False</td>\n",
              "      <td>False</td>\n",
              "      <td>False</td>\n",
              "      <td>False</td>\n",
              "    </tr>\n",
              "    <tr>\n",
              "      <th>2010-07-06</th>\n",
              "      <td>False</td>\n",
              "      <td>False</td>\n",
              "      <td>False</td>\n",
              "      <td>False</td>\n",
              "      <td>False</td>\n",
              "      <td>False</td>\n",
              "    </tr>\n",
              "    <tr>\n",
              "      <th>...</th>\n",
              "      <td>...</td>\n",
              "      <td>...</td>\n",
              "      <td>...</td>\n",
              "      <td>...</td>\n",
              "      <td>...</td>\n",
              "      <td>...</td>\n",
              "    </tr>\n",
              "    <tr>\n",
              "      <th>2020-01-28</th>\n",
              "      <td>False</td>\n",
              "      <td>False</td>\n",
              "      <td>False</td>\n",
              "      <td>False</td>\n",
              "      <td>False</td>\n",
              "      <td>False</td>\n",
              "    </tr>\n",
              "    <tr>\n",
              "      <th>2020-01-29</th>\n",
              "      <td>False</td>\n",
              "      <td>False</td>\n",
              "      <td>False</td>\n",
              "      <td>False</td>\n",
              "      <td>False</td>\n",
              "      <td>False</td>\n",
              "    </tr>\n",
              "    <tr>\n",
              "      <th>2020-01-30</th>\n",
              "      <td>False</td>\n",
              "      <td>False</td>\n",
              "      <td>False</td>\n",
              "      <td>False</td>\n",
              "      <td>False</td>\n",
              "      <td>False</td>\n",
              "    </tr>\n",
              "    <tr>\n",
              "      <th>2020-01-31</th>\n",
              "      <td>False</td>\n",
              "      <td>False</td>\n",
              "      <td>False</td>\n",
              "      <td>False</td>\n",
              "      <td>False</td>\n",
              "      <td>False</td>\n",
              "    </tr>\n",
              "    <tr>\n",
              "      <th>2020-02-03</th>\n",
              "      <td>False</td>\n",
              "      <td>False</td>\n",
              "      <td>False</td>\n",
              "      <td>False</td>\n",
              "      <td>False</td>\n",
              "      <td>False</td>\n",
              "    </tr>\n",
              "  </tbody>\n",
              "</table>\n",
              "<p>2416 rows × 6 columns</p>\n",
              "</div>\n",
              "      <button class=\"colab-df-convert\" onclick=\"convertToInteractive('df-fecd1a42-b65d-41d5-bb27-87d9f2bb98b4')\"\n",
              "              title=\"Convert this dataframe to an interactive table.\"\n",
              "              style=\"display:none;\">\n",
              "        \n",
              "  <svg xmlns=\"http://www.w3.org/2000/svg\" height=\"24px\"viewBox=\"0 0 24 24\"\n",
              "       width=\"24px\">\n",
              "    <path d=\"M0 0h24v24H0V0z\" fill=\"none\"/>\n",
              "    <path d=\"M18.56 5.44l.94 2.06.94-2.06 2.06-.94-2.06-.94-.94-2.06-.94 2.06-2.06.94zm-11 1L8.5 8.5l.94-2.06 2.06-.94-2.06-.94L8.5 2.5l-.94 2.06-2.06.94zm10 10l.94 2.06.94-2.06 2.06-.94-2.06-.94-.94-2.06-.94 2.06-2.06.94z\"/><path d=\"M17.41 7.96l-1.37-1.37c-.4-.4-.92-.59-1.43-.59-.52 0-1.04.2-1.43.59L10.3 9.45l-7.72 7.72c-.78.78-.78 2.05 0 2.83L4 21.41c.39.39.9.59 1.41.59.51 0 1.02-.2 1.41-.59l7.78-7.78 2.81-2.81c.8-.78.8-2.07 0-2.86zM5.41 20L4 18.59l7.72-7.72 1.47 1.35L5.41 20z\"/>\n",
              "  </svg>\n",
              "      </button>\n",
              "      \n",
              "  <style>\n",
              "    .colab-df-container {\n",
              "      display:flex;\n",
              "      flex-wrap:wrap;\n",
              "      gap: 12px;\n",
              "    }\n",
              "\n",
              "    .colab-df-convert {\n",
              "      background-color: #E8F0FE;\n",
              "      border: none;\n",
              "      border-radius: 50%;\n",
              "      cursor: pointer;\n",
              "      display: none;\n",
              "      fill: #1967D2;\n",
              "      height: 32px;\n",
              "      padding: 0 0 0 0;\n",
              "      width: 32px;\n",
              "    }\n",
              "\n",
              "    .colab-df-convert:hover {\n",
              "      background-color: #E2EBFA;\n",
              "      box-shadow: 0px 1px 2px rgba(60, 64, 67, 0.3), 0px 1px 3px 1px rgba(60, 64, 67, 0.15);\n",
              "      fill: #174EA6;\n",
              "    }\n",
              "\n",
              "    [theme=dark] .colab-df-convert {\n",
              "      background-color: #3B4455;\n",
              "      fill: #D2E3FC;\n",
              "    }\n",
              "\n",
              "    [theme=dark] .colab-df-convert:hover {\n",
              "      background-color: #434B5C;\n",
              "      box-shadow: 0px 1px 3px 1px rgba(0, 0, 0, 0.15);\n",
              "      filter: drop-shadow(0px 1px 2px rgba(0, 0, 0, 0.3));\n",
              "      fill: #FFFFFF;\n",
              "    }\n",
              "  </style>\n",
              "\n",
              "      <script>\n",
              "        const buttonEl =\n",
              "          document.querySelector('#df-fecd1a42-b65d-41d5-bb27-87d9f2bb98b4 button.colab-df-convert');\n",
              "        buttonEl.style.display =\n",
              "          google.colab.kernel.accessAllowed ? 'block' : 'none';\n",
              "\n",
              "        async function convertToInteractive(key) {\n",
              "          const element = document.querySelector('#df-fecd1a42-b65d-41d5-bb27-87d9f2bb98b4');\n",
              "          const dataTable =\n",
              "            await google.colab.kernel.invokeFunction('convertToInteractive',\n",
              "                                                     [key], {});\n",
              "          if (!dataTable) return;\n",
              "\n",
              "          const docLinkHtml = 'Like what you see? Visit the ' +\n",
              "            '<a target=\"_blank\" href=https://colab.research.google.com/notebooks/data_table.ipynb>data table notebook</a>'\n",
              "            + ' to learn more about interactive tables.';\n",
              "          element.innerHTML = '';\n",
              "          dataTable['output_type'] = 'display_data';\n",
              "          await google.colab.output.renderOutput(dataTable, element);\n",
              "          const docLink = document.createElement('div');\n",
              "          docLink.innerHTML = docLinkHtml;\n",
              "          element.appendChild(docLink);\n",
              "        }\n",
              "      </script>\n",
              "    </div>\n",
              "  </div>\n",
              "  "
            ]
          },
          "metadata": {},
          "execution_count": 8
        }
      ]
    },
    {
      "cell_type": "code",
      "source": [
        "# Проверка каждого признака на  отсутствие пропусков\n",
        "df_check_nan = df.isna()\n",
        "for i in df_check_nan.columns:\n",
        "    print(f'Для признака {i} пропуски: ', df_check_nan[i].unique())"
      ],
      "metadata": {
        "colab": {
          "base_uri": "https://localhost:8080/"
        },
        "id": "Muu-Bz-vgw-y",
        "outputId": "9ae7d90b-f813-450e-f3f9-1754aad1b8f6"
      },
      "execution_count": 9,
      "outputs": [
        {
          "output_type": "stream",
          "name": "stdout",
          "text": [
            "Для признака Open пропуски:  [False]\n",
            "Для признака High пропуски:  [False]\n",
            "Для признака Low пропуски:  [False]\n",
            "Для признака Close пропуски:  [False]\n",
            "Для признака Adj Close пропуски:  [False]\n",
            "Для признака Volume пропуски:  [False]\n"
          ]
        }
      ]
    },
    {
      "cell_type": "code",
      "source": [
        "# проверка типа данных\n",
        "df.dtypes"
      ],
      "metadata": {
        "colab": {
          "base_uri": "https://localhost:8080/"
        },
        "id": "JD7av5guzk3N",
        "outputId": "1566126b-93bc-492c-f1d3-9a619dff47f1"
      },
      "execution_count": 10,
      "outputs": [
        {
          "output_type": "execute_result",
          "data": {
            "text/plain": [
              "Open         float64\n",
              "High         float64\n",
              "Low          float64\n",
              "Close        float64\n",
              "Adj Close    float64\n",
              "Volume         int64\n",
              "dtype: object"
            ]
          },
          "metadata": {},
          "execution_count": 10
        }
      ]
    },
    {
      "cell_type": "markdown",
      "source": [
        "### ВЫВОДЫ: При знакомстве с данными получили следующую информацию: В датасете 7 колонок(включая индексы). В датасете на дату содержится информация по цене открытия, наивысшая цена, низшая цена, цена закрытия, скорректированная цена и объем акций). Данные предоставлены в необходимом числовом формате.  В датасете отсутствуют нулевы данные. Всего 2416 строк"
      ],
      "metadata": {
        "id": "pJ1j-dYxhRnp"
      }
    },
    {
      "cell_type": "markdown",
      "metadata": {
        "id": "Efv0vhWsUepF"
      },
      "source": [
        "## Предобработка данных"
      ]
    },
    {
      "cell_type": "markdown",
      "source": [
        "### Фильтрация данных"
      ],
      "metadata": {
        "id": "pO4OjmPkuZbv"
      }
    },
    {
      "cell_type": "markdown",
      "source": [
        "Для дальнейшего анализа оставим колонки с информацией по цене закрытия и объемам акций."
      ],
      "metadata": {
        "id": "F1BRyM53i0SQ"
      }
    },
    {
      "cell_type": "code",
      "source": [
        "df_new = df[['Close', 'Volume']]\n",
        "#проверка что все верно\n",
        "print(df_new.head())"
      ],
      "metadata": {
        "colab": {
          "base_uri": "https://localhost:8080/"
        },
        "id": "8_s-xD4ui91z",
        "outputId": "dc79e94d-f512-43dd-eb69-cf148d152afe"
      },
      "execution_count": 12,
      "outputs": [
        {
          "output_type": "stream",
          "name": "stdout",
          "text": [
            "                Close    Volume\n",
            "Date                           \n",
            "2010-06-29  23.889999  18766300\n",
            "2010-06-30  23.830000  17187100\n",
            "2010-07-01  21.959999   8218800\n",
            "2010-07-02  19.200001   5139800\n",
            "2010-07-06  16.110001   6866900\n"
          ]
        }
      ]
    },
    {
      "cell_type": "markdown",
      "source": [
        "Выводы: Проведена фильтрация данных, оставлены только необходимые для анализа колонки.\n"
      ],
      "metadata": {
        "id": "q8gTgMtTVpYE"
      }
    },
    {
      "cell_type": "markdown",
      "source": [
        "## EDA или разведочный анализ данных."
      ],
      "metadata": {
        "id": "ychutOlHtcz_"
      }
    },
    {
      "cell_type": "code",
      "source": [
        "#проверим корреляцию между различными стоимостями акций и объемом проданных акций\n",
        "df.corr()"
      ],
      "metadata": {
        "colab": {
          "base_uri": "https://localhost:8080/",
          "height": 238
        },
        "id": "wRskWXE1_BpP",
        "outputId": "f2937ebd-05ae-44a6-d458-cf72aa34b815"
      },
      "execution_count": 24,
      "outputs": [
        {
          "output_type": "execute_result",
          "data": {
            "text/plain": [
              "               Open      High       Low     Close  Adj Close    Volume\n",
              "Open       1.000000  0.999425  0.999575  0.998886   0.998886  0.501762\n",
              "High       0.999425  1.000000  0.999389  0.999640   0.999640  0.512944\n",
              "Low        0.999575  0.999389  1.000000  0.999447   0.999447  0.493496\n",
              "Close      0.998886  0.999640  0.999447  1.000000   1.000000  0.505169\n",
              "Adj Close  0.998886  0.999640  0.999447  1.000000   1.000000  0.505169\n",
              "Volume     0.501762  0.512944  0.493496  0.505169   0.505169  1.000000"
            ],
            "text/html": [
              "\n",
              "  <div id=\"df-492b6a56-5442-4c5a-8010-854101f9f5dc\">\n",
              "    <div class=\"colab-df-container\">\n",
              "      <div>\n",
              "<style scoped>\n",
              "    .dataframe tbody tr th:only-of-type {\n",
              "        vertical-align: middle;\n",
              "    }\n",
              "\n",
              "    .dataframe tbody tr th {\n",
              "        vertical-align: top;\n",
              "    }\n",
              "\n",
              "    .dataframe thead th {\n",
              "        text-align: right;\n",
              "    }\n",
              "</style>\n",
              "<table border=\"1\" class=\"dataframe\">\n",
              "  <thead>\n",
              "    <tr style=\"text-align: right;\">\n",
              "      <th></th>\n",
              "      <th>Open</th>\n",
              "      <th>High</th>\n",
              "      <th>Low</th>\n",
              "      <th>Close</th>\n",
              "      <th>Adj Close</th>\n",
              "      <th>Volume</th>\n",
              "    </tr>\n",
              "  </thead>\n",
              "  <tbody>\n",
              "    <tr>\n",
              "      <th>Open</th>\n",
              "      <td>1.000000</td>\n",
              "      <td>0.999425</td>\n",
              "      <td>0.999575</td>\n",
              "      <td>0.998886</td>\n",
              "      <td>0.998886</td>\n",
              "      <td>0.501762</td>\n",
              "    </tr>\n",
              "    <tr>\n",
              "      <th>High</th>\n",
              "      <td>0.999425</td>\n",
              "      <td>1.000000</td>\n",
              "      <td>0.999389</td>\n",
              "      <td>0.999640</td>\n",
              "      <td>0.999640</td>\n",
              "      <td>0.512944</td>\n",
              "    </tr>\n",
              "    <tr>\n",
              "      <th>Low</th>\n",
              "      <td>0.999575</td>\n",
              "      <td>0.999389</td>\n",
              "      <td>1.000000</td>\n",
              "      <td>0.999447</td>\n",
              "      <td>0.999447</td>\n",
              "      <td>0.493496</td>\n",
              "    </tr>\n",
              "    <tr>\n",
              "      <th>Close</th>\n",
              "      <td>0.998886</td>\n",
              "      <td>0.999640</td>\n",
              "      <td>0.999447</td>\n",
              "      <td>1.000000</td>\n",
              "      <td>1.000000</td>\n",
              "      <td>0.505169</td>\n",
              "    </tr>\n",
              "    <tr>\n",
              "      <th>Adj Close</th>\n",
              "      <td>0.998886</td>\n",
              "      <td>0.999640</td>\n",
              "      <td>0.999447</td>\n",
              "      <td>1.000000</td>\n",
              "      <td>1.000000</td>\n",
              "      <td>0.505169</td>\n",
              "    </tr>\n",
              "    <tr>\n",
              "      <th>Volume</th>\n",
              "      <td>0.501762</td>\n",
              "      <td>0.512944</td>\n",
              "      <td>0.493496</td>\n",
              "      <td>0.505169</td>\n",
              "      <td>0.505169</td>\n",
              "      <td>1.000000</td>\n",
              "    </tr>\n",
              "  </tbody>\n",
              "</table>\n",
              "</div>\n",
              "      <button class=\"colab-df-convert\" onclick=\"convertToInteractive('df-492b6a56-5442-4c5a-8010-854101f9f5dc')\"\n",
              "              title=\"Convert this dataframe to an interactive table.\"\n",
              "              style=\"display:none;\">\n",
              "        \n",
              "  <svg xmlns=\"http://www.w3.org/2000/svg\" height=\"24px\"viewBox=\"0 0 24 24\"\n",
              "       width=\"24px\">\n",
              "    <path d=\"M0 0h24v24H0V0z\" fill=\"none\"/>\n",
              "    <path d=\"M18.56 5.44l.94 2.06.94-2.06 2.06-.94-2.06-.94-.94-2.06-.94 2.06-2.06.94zm-11 1L8.5 8.5l.94-2.06 2.06-.94-2.06-.94L8.5 2.5l-.94 2.06-2.06.94zm10 10l.94 2.06.94-2.06 2.06-.94-2.06-.94-.94-2.06-.94 2.06-2.06.94z\"/><path d=\"M17.41 7.96l-1.37-1.37c-.4-.4-.92-.59-1.43-.59-.52 0-1.04.2-1.43.59L10.3 9.45l-7.72 7.72c-.78.78-.78 2.05 0 2.83L4 21.41c.39.39.9.59 1.41.59.51 0 1.02-.2 1.41-.59l7.78-7.78 2.81-2.81c.8-.78.8-2.07 0-2.86zM5.41 20L4 18.59l7.72-7.72 1.47 1.35L5.41 20z\"/>\n",
              "  </svg>\n",
              "      </button>\n",
              "      \n",
              "  <style>\n",
              "    .colab-df-container {\n",
              "      display:flex;\n",
              "      flex-wrap:wrap;\n",
              "      gap: 12px;\n",
              "    }\n",
              "\n",
              "    .colab-df-convert {\n",
              "      background-color: #E8F0FE;\n",
              "      border: none;\n",
              "      border-radius: 50%;\n",
              "      cursor: pointer;\n",
              "      display: none;\n",
              "      fill: #1967D2;\n",
              "      height: 32px;\n",
              "      padding: 0 0 0 0;\n",
              "      width: 32px;\n",
              "    }\n",
              "\n",
              "    .colab-df-convert:hover {\n",
              "      background-color: #E2EBFA;\n",
              "      box-shadow: 0px 1px 2px rgba(60, 64, 67, 0.3), 0px 1px 3px 1px rgba(60, 64, 67, 0.15);\n",
              "      fill: #174EA6;\n",
              "    }\n",
              "\n",
              "    [theme=dark] .colab-df-convert {\n",
              "      background-color: #3B4455;\n",
              "      fill: #D2E3FC;\n",
              "    }\n",
              "\n",
              "    [theme=dark] .colab-df-convert:hover {\n",
              "      background-color: #434B5C;\n",
              "      box-shadow: 0px 1px 3px 1px rgba(0, 0, 0, 0.15);\n",
              "      filter: drop-shadow(0px 1px 2px rgba(0, 0, 0, 0.3));\n",
              "      fill: #FFFFFF;\n",
              "    }\n",
              "  </style>\n",
              "\n",
              "      <script>\n",
              "        const buttonEl =\n",
              "          document.querySelector('#df-492b6a56-5442-4c5a-8010-854101f9f5dc button.colab-df-convert');\n",
              "        buttonEl.style.display =\n",
              "          google.colab.kernel.accessAllowed ? 'block' : 'none';\n",
              "\n",
              "        async function convertToInteractive(key) {\n",
              "          const element = document.querySelector('#df-492b6a56-5442-4c5a-8010-854101f9f5dc');\n",
              "          const dataTable =\n",
              "            await google.colab.kernel.invokeFunction('convertToInteractive',\n",
              "                                                     [key], {});\n",
              "          if (!dataTable) return;\n",
              "\n",
              "          const docLinkHtml = 'Like what you see? Visit the ' +\n",
              "            '<a target=\"_blank\" href=https://colab.research.google.com/notebooks/data_table.ipynb>data table notebook</a>'\n",
              "            + ' to learn more about interactive tables.';\n",
              "          element.innerHTML = '';\n",
              "          dataTable['output_type'] = 'display_data';\n",
              "          await google.colab.output.renderOutput(dataTable, element);\n",
              "          const docLink = document.createElement('div');\n",
              "          docLink.innerHTML = docLinkHtml;\n",
              "          element.appendChild(docLink);\n",
              "        }\n",
              "      </script>\n",
              "    </div>\n",
              "  </div>\n",
              "  "
            ]
          },
          "metadata": {},
          "execution_count": 24
        }
      ]
    },
    {
      "cell_type": "markdown",
      "source": [
        "На основании полученной таблицы можем сделать вывод, что между стоимостями высокая корреляция и для будущего прогноза допустимо использовать стоимость закрытия акций."
      ],
      "metadata": {
        "id": "eYZWfgey_Nqv"
      }
    },
    {
      "cell_type": "markdown",
      "source": [
        "Рассчитаем сколько в среднем было проадно акций за весь анализируемый период и их среднюю цену. Также посчитаем среднее взвешенное объема акций в зависимости от цены"
      ],
      "metadata": {
        "id": "fAG54Imv_IZC"
      }
    },
    {
      "cell_type": "code",
      "source": [
        "# среднее\n",
        "print(\"Срднее кол-во проданных акций за весь период: \", df_new['Volume'].mean())\n",
        "print(\"Срдняя цена закрытия за весь период: \", df_new['Close'].mean())\n",
        "# среднее взвешенное\n",
        "wm = np.average(df_new['Volume'], weights = df_new['Close'])\n",
        "print(\"Среднее взвешенное проданных акций с учетом стоимости акций:\", wm)"
      ],
      "metadata": {
        "colab": {
          "base_uri": "https://localhost:8080/"
        },
        "id": "UajdXC93H0Yl",
        "outputId": "bda8a328-d2b8-4b89-f721-ef4a242f4993"
      },
      "execution_count": 13,
      "outputs": [
        {
          "output_type": "stream",
          "name": "stdout",
          "text": [
            "Срднее кол-во проданных акций за весь период:  5572721.688741722\n",
            "Срдняя цена закрытия за весь период:  186.40365078187054\n",
            "Среднее взвешенное проданных акций с учетом стоимости акций: 7182459.707957235\n"
          ]
        }
      ]
    },
    {
      "cell_type": "markdown",
      "source": [
        "Проверим распределение данных с помощью boxplot"
      ],
      "metadata": {
        "id": "ItHiqDSQkFNR"
      }
    },
    {
      "cell_type": "code",
      "source": [
        "#Распределение объема проданных акций\n",
        "df_new.boxplot(column='Volume')"
      ],
      "metadata": {
        "colab": {
          "base_uri": "https://localhost:8080/",
          "height": 294
        },
        "id": "GCNBGE6nK4ME",
        "outputId": "8add19ac-e636-42f8-f0e7-687166dd66e8"
      },
      "execution_count": 14,
      "outputs": [
        {
          "output_type": "execute_result",
          "data": {
            "text/plain": [
              "<matplotlib.axes._subplots.AxesSubplot at 0x7f82c4bb5a50>"
            ]
          },
          "metadata": {},
          "execution_count": 14
        },
        {
          "output_type": "display_data",
          "data": {
            "text/plain": [
              "<Figure size 432x288 with 1 Axes>"
            ],
            "image/png": "[encoded data removed]"
          },
          "metadata": {
            "needs_background": "light"
          }
        }
      ]
    },
    {
      "cell_type": "code",
      "source": [
        "#Распределение цены акций\n",
        "df_new.boxplot(column=['Close'])"
      ],
      "metadata": {
        "colab": {
          "base_uri": "https://localhost:8080/",
          "height": 282
        },
        "id": "29l8Ha2YmEKD",
        "outputId": "bf1abba3-152b-4d10-e869-0d49bf54c5c3"
      },
      "execution_count": 15,
      "outputs": [
        {
          "output_type": "execute_result",
          "data": {
            "text/plain": [
              "<matplotlib.axes._subplots.AxesSubplot at 0x7f82c4aa49d0>"
            ]
          },
          "metadata": {},
          "execution_count": 15
        },
        {
          "output_type": "display_data",
          "data": {
            "text/plain": [
              "<Figure size 432x288 with 1 Axes>"
            ],
            "image/png": "[encoded data removed]"
          },
          "metadata": {
            "needs_background": "light"
          }
        }
      ]
    },
    {
      "cell_type": "markdown",
      "source": [
        "На графиках видно, что объем проданных акций имеет большое кол-во выбросов, можно сделать предположение,что распределение не нормальное. Цена акций наоборот, имеет меньше выбросов, однако медиана смещена к верхнему квартилю."
      ],
      "metadata": {
        "id": "4ilHtBaGkp6B"
      }
    },
    {
      "cell_type": "markdown",
      "source": [
        "Построим гистограмы, чтобы увидеть распредление данных"
      ],
      "metadata": {
        "id": "g7-TIF8el0PX"
      }
    },
    {
      "cell_type": "code",
      "source": [
        "df_new.hist()"
      ],
      "metadata": {
        "colab": {
          "base_uri": "https://localhost:8080/",
          "height": 346
        },
        "id": "PEMRd9glMn4s",
        "outputId": "8bd9f165-635a-4f06-f285-cb49b2343ec1"
      },
      "execution_count": 16,
      "outputs": [
        {
          "output_type": "execute_result",
          "data": {
            "text/plain": [
              "array([[<matplotlib.axes._subplots.AxesSubplot object at 0x7f82c4583050>,\n",
              "        <matplotlib.axes._subplots.AxesSubplot object at 0x7f82c45e7950>]],\n",
              "      dtype=object)"
            ]
          },
          "metadata": {},
          "execution_count": 16
        },
        {
          "output_type": "display_data",
          "data": {
            "text/plain": [
              "<Figure size 432x288 with 2 Axes>"
            ],
            "image/png": "[encoded data removed]"
          },
          "metadata": {
            "needs_background": "light"
          }
        }
      ]
    },
    {
      "cell_type": "markdown",
      "source": [
        "Форма гистограмм отличается от нормального распределения, у которого симметричная форма колокола с пиком посередине. У обеих гистограмм можно отметить смещение вправо. Также на гистрогаме цены можно отметить наличие двух пиков."
      ],
      "metadata": {
        "id": "nJqjgRPlklqA"
      }
    },
    {
      "cell_type": "code",
      "source": [
        "# выведем метрики\n",
        "df_new.describe()"
      ],
      "metadata": {
        "colab": {
          "base_uri": "https://localhost:8080/",
          "height": 300
        },
        "id": "3M0yWmLqM6I7",
        "outputId": "82a2c554-b71c-4b66-9455-ad0d768411cc"
      },
      "execution_count": 17,
      "outputs": [
        {
          "output_type": "execute_result",
          "data": {
            "text/plain": [
              "             Close        Volume\n",
              "count  2416.000000  2.416000e+03\n",
              "mean    186.403651  5.572722e+06\n",
              "std     119.136020  4.987809e+06\n",
              "min      15.800000  1.185000e+05\n",
              "25%      34.400002  1.899275e+06\n",
              "50%     212.960007  4.578400e+06\n",
              "75%     266.774994  7.361150e+06\n",
              "max     780.000000  4.706500e+07"
            ],
            "text/html": [
              "\n",
              "  <div id=\"df-2411ba01-5372-4bee-97c4-44a9f71369b4\">\n",
              "    <div class=\"colab-df-container\">\n",
              "      <div>\n",
              "<style scoped>\n",
              "    .dataframe tbody tr th:only-of-type {\n",
              "        vertical-align: middle;\n",
              "    }\n",
              "\n",
              "    .dataframe tbody tr th {\n",
              "        vertical-align: top;\n",
              "    }\n",
              "\n",
              "    .dataframe thead th {\n",
              "        text-align: right;\n",
              "    }\n",
              "</style>\n",
              "<table border=\"1\" class=\"dataframe\">\n",
              "  <thead>\n",
              "    <tr style=\"text-align: right;\">\n",
              "      <th></th>\n",
              "      <th>Close</th>\n",
              "      <th>Volume</th>\n",
              "    </tr>\n",
              "  </thead>\n",
              "  <tbody>\n",
              "    <tr>\n",
              "      <th>count</th>\n",
              "      <td>2416.000000</td>\n",
              "      <td>2.416000e+03</td>\n",
              "    </tr>\n",
              "    <tr>\n",
              "      <th>mean</th>\n",
              "      <td>186.403651</td>\n",
              "      <td>5.572722e+06</td>\n",
              "    </tr>\n",
              "    <tr>\n",
              "      <th>std</th>\n",
              "      <td>119.136020</td>\n",
              "      <td>4.987809e+06</td>\n",
              "    </tr>\n",
              "    <tr>\n",
              "      <th>min</th>\n",
              "      <td>15.800000</td>\n",
              "      <td>1.185000e+05</td>\n",
              "    </tr>\n",
              "    <tr>\n",
              "      <th>25%</th>\n",
              "      <td>34.400002</td>\n",
              "      <td>1.899275e+06</td>\n",
              "    </tr>\n",
              "    <tr>\n",
              "      <th>50%</th>\n",
              "      <td>212.960007</td>\n",
              "      <td>4.578400e+06</td>\n",
              "    </tr>\n",
              "    <tr>\n",
              "      <th>75%</th>\n",
              "      <td>266.774994</td>\n",
              "      <td>7.361150e+06</td>\n",
              "    </tr>\n",
              "    <tr>\n",
              "      <th>max</th>\n",
              "      <td>780.000000</td>\n",
              "      <td>4.706500e+07</td>\n",
              "    </tr>\n",
              "  </tbody>\n",
              "</table>\n",
              "</div>\n",
              "      <button class=\"colab-df-convert\" onclick=\"convertToInteractive('df-2411ba01-5372-4bee-97c4-44a9f71369b4')\"\n",
              "              title=\"Convert this dataframe to an interactive table.\"\n",
              "              style=\"display:none;\">\n",
              "        \n",
              "  <svg xmlns=\"http://www.w3.org/2000/svg\" height=\"24px\"viewBox=\"0 0 24 24\"\n",
              "       width=\"24px\">\n",
              "    <path d=\"M0 0h24v24H0V0z\" fill=\"none\"/>\n",
              "    <path d=\"M18.56 5.44l.94 2.06.94-2.06 2.06-.94-2.06-.94-.94-2.06-.94 2.06-2.06.94zm-11 1L8.5 8.5l.94-2.06 2.06-.94-2.06-.94L8.5 2.5l-.94 2.06-2.06.94zm10 10l.94 2.06.94-2.06 2.06-.94-2.06-.94-.94-2.06-.94 2.06-2.06.94z\"/><path d=\"M17.41 7.96l-1.37-1.37c-.4-.4-.92-.59-1.43-.59-.52 0-1.04.2-1.43.59L10.3 9.45l-7.72 7.72c-.78.78-.78 2.05 0 2.83L4 21.41c.39.39.9.59 1.41.59.51 0 1.02-.2 1.41-.59l7.78-7.78 2.81-2.81c.8-.78.8-2.07 0-2.86zM5.41 20L4 18.59l7.72-7.72 1.47 1.35L5.41 20z\"/>\n",
              "  </svg>\n",
              "      </button>\n",
              "      \n",
              "  <style>\n",
              "    .colab-df-container {\n",
              "      display:flex;\n",
              "      flex-wrap:wrap;\n",
              "      gap: 12px;\n",
              "    }\n",
              "\n",
              "    .colab-df-convert {\n",
              "      background-color: #E8F0FE;\n",
              "      border: none;\n",
              "      border-radius: 50%;\n",
              "      cursor: pointer;\n",
              "      display: none;\n",
              "      fill: #1967D2;\n",
              "      height: 32px;\n",
              "      padding: 0 0 0 0;\n",
              "      width: 32px;\n",
              "    }\n",
              "\n",
              "    .colab-df-convert:hover {\n",
              "      background-color: #E2EBFA;\n",
              "      box-shadow: 0px 1px 2px rgba(60, 64, 67, 0.3), 0px 1px 3px 1px rgba(60, 64, 67, 0.15);\n",
              "      fill: #174EA6;\n",
              "    }\n",
              "\n",
              "    [theme=dark] .colab-df-convert {\n",
              "      background-color: #3B4455;\n",
              "      fill: #D2E3FC;\n",
              "    }\n",
              "\n",
              "    [theme=dark] .colab-df-convert:hover {\n",
              "      background-color: #434B5C;\n",
              "      box-shadow: 0px 1px 3px 1px rgba(0, 0, 0, 0.15);\n",
              "      filter: drop-shadow(0px 1px 2px rgba(0, 0, 0, 0.3));\n",
              "      fill: #FFFFFF;\n",
              "    }\n",
              "  </style>\n",
              "\n",
              "      <script>\n",
              "        const buttonEl =\n",
              "          document.querySelector('#df-2411ba01-5372-4bee-97c4-44a9f71369b4 button.colab-df-convert');\n",
              "        buttonEl.style.display =\n",
              "          google.colab.kernel.accessAllowed ? 'block' : 'none';\n",
              "\n",
              "        async function convertToInteractive(key) {\n",
              "          const element = document.querySelector('#df-2411ba01-5372-4bee-97c4-44a9f71369b4');\n",
              "          const dataTable =\n",
              "            await google.colab.kernel.invokeFunction('convertToInteractive',\n",
              "                                                     [key], {});\n",
              "          if (!dataTable) return;\n",
              "\n",
              "          const docLinkHtml = 'Like what you see? Visit the ' +\n",
              "            '<a target=\"_blank\" href=https://colab.research.google.com/notebooks/data_table.ipynb>data table notebook</a>'\n",
              "            + ' to learn more about interactive tables.';\n",
              "          element.innerHTML = '';\n",
              "          dataTable['output_type'] = 'display_data';\n",
              "          await google.colab.output.renderOutput(dataTable, element);\n",
              "          const docLink = document.createElement('div');\n",
              "          docLink.innerHTML = docLinkHtml;\n",
              "          element.appendChild(docLink);\n",
              "        }\n",
              "      </script>\n",
              "    </div>\n",
              "  </div>\n",
              "  "
            ]
          },
          "metadata": {},
          "execution_count": 17
        }
      ]
    },
    {
      "cell_type": "code",
      "source": [
        "#построим график корреляции между ценой закрытия и объемом проданных акций\n",
        "df.plot.scatter(x='Volume', y='Close')"
      ],
      "metadata": {
        "colab": {
          "base_uri": "https://localhost:8080/",
          "height": 296
        },
        "id": "v1Un7ZDU-mvF",
        "outputId": "0e1d39a1-2864-49e8-a6d7-e276fe5e30c8"
      },
      "execution_count": 26,
      "outputs": [
        {
          "output_type": "execute_result",
          "data": {
            "text/plain": [
              "<matplotlib.axes._subplots.AxesSubplot at 0x7f82c0aadf10>"
            ]
          },
          "metadata": {},
          "execution_count": 26
        },
        {
          "output_type": "display_data",
          "data": {
            "text/plain": [
              "<Figure size 432x288 with 1 Axes>"
            ],
            "image/png": "[encoded data removed]"
          },
          "metadata": {
            "needs_background": "light"
          }
        }
      ]
    },
    {
      "cell_type": "markdown",
      "source": [
        "По графику можем сделать вывод что стоимость акций не влияет на объем проданных акций"
      ],
      "metadata": {
        "id": "vGDr5a50AFOa"
      }
    },
    {
      "cell_type": "markdown",
      "source": [
        "Так как основная цель работы - спрогнозировать цену акции в будщем, далее в работе будет вестисть анализ данных по колонке Close."
      ],
      "metadata": {
        "id": "jbbXyTBxtS7r"
      }
    },
    {
      "cell_type": "markdown",
      "source": [
        "Проведем тест Харки — Бера для определения номарльности распределения цены, чтобы подтвердить предположение об однородности. Для этого в существует функция jarque_bera(), которая возвращает значения данной статистики:"
      ],
      "metadata": {
        "id": "_9yif3PmyOXl"
      }
    },
    {
      "cell_type": "code",
      "source": [
        "import statsmodels.api as sm\n",
        "from statsmodels.iolib.table import SimpleTable\n",
        "row =  [u'JB', u'p-value', u'skew', u'kurtosis']\n",
        "jb_test = sm.stats.stattools.jarque_bera(df_new['Close'], axis = 0)\n",
        "a = np.vstack([jb_test])\n",
        "itog = SimpleTable(a, row)\n",
        "print(itog)"
      ],
      "metadata": {
        "colab": {
          "base_uri": "https://localhost:8080/"
        },
        "id": "aJfB95W5p7C-",
        "outputId": "7a3a7ea5-6ac3-497d-8f54-cae861be7d6c"
      },
      "execution_count": 18,
      "outputs": [
        {
          "output_type": "stream",
          "name": "stdout",
          "text": [
            "================================================================================\n",
            "        JB                p-value                 skew             kurtosis     \n",
            "--------------------------------------------------------------------------------\n",
            "33.574182353046034 5.1222283420672906e-08 0.01650409768371561 2.4234335885745026\n",
            "--------------------------------------------------------------------------------\n"
          ]
        }
      ]
    },
    {
      "cell_type": "markdown",
      "source": [
        "При достаточно большом значении статистики p-value мало, опровергаем нулевую гипотезу что данные однородны (статистика попала в «хвост» распределения)."
      ],
      "metadata": {
        "id": "5-OuMMsRx2I-"
      }
    },
    {
      "cell_type": "markdown",
      "source": [
        "Построим общий график, а также график скользящего среднего на 20 (кол-во рабочих дней в месяце) и на 100 дней."
      ],
      "metadata": {
        "id": "KM8Op5eGtcvq"
      }
    },
    {
      "cell_type": "code",
      "source": [
        "def plot_with_rolling(data,short_rolling,long_rolling,lbl='Close Price'):\n",
        "    # Plot \n",
        "    fig, ax = plt.subplots(figsize=(20,9))\n",
        "\n",
        "    ax.plot(data.index, data, label=lbl)\n",
        "    ax.plot(short_rolling.index, short_rolling, label='20 days rolling')\n",
        "    ax.plot(long_rolling.index, long_rolling, label='100 days rolling')\n",
        "    ax.set_xlabel('Date')\n",
        "    ax.set_ylabel(lbl)\n",
        "    ax.legend()\n",
        "\n",
        "    plt.show()\n",
        "\n",
        "short = df_new.Close.rolling(window=20).mean()\n",
        "long = df_new.Close.rolling(window=100).mean() \n",
        "plot_with_rolling(data=df_new.Close,short_rolling=short,long_rolling=long,lbl='Close Price')"
      ],
      "metadata": {
        "colab": {
          "base_uri": "https://localhost:8080/",
          "height": 571
        },
        "id": "Jj-3AZU2ps54",
        "outputId": "f25c7b16-a770-4884-ac05-fd332c9df5c8"
      },
      "execution_count": 19,
      "outputs": [
        {
          "output_type": "display_data",
          "data": {
            "text/plain": [
              "<Figure size 1440x648 with 1 Axes>"
            ],
            "image/png": "[encoded data removed]"
          },
          "metadata": {
            "needs_background": "light"
          }
        }
      ]
    },
    {
      "cell_type": "markdown",
      "source": [
        "По графику можно отметить растущий тренд,а также резкий рост цен со второй половины 2019 года"
      ],
      "metadata": {
        "id": "8vl7EdNgrds6"
      }
    },
    {
      "cell_type": "markdown",
      "source": [
        "### ВЫВОДЫ: проведенный разведочный анализ данных показал, что исследуемые данные по ценам стоимости акций не однородны и распределены ненормально. Кроме того объем проданных акций не зависит от стоимости акций.  По общему графику изменения стоимости можно отметить, что с 2013 года начинается растущий тренд стоимости акций, а к 2020 происходит резкий скачок. "
      ],
      "metadata": {
        "id": "rCQpzmsD145G"
      }
    },
    {
      "cell_type": "markdown",
      "source": [
        "## Построение моделей, анализ результатов."
      ],
      "metadata": {
        "id": "v5F1qQuCtctd"
      }
    },
    {
      "cell_type": "markdown",
      "source": [
        "Перед началом прогнозирования проведем анализ на стационарность врменного ряда"
      ],
      "metadata": {
        "id": "qzm24I4a2G7l"
      }
    },
    {
      "cell_type": "code",
      "source": [
        "#Проверка временного ряда на стационнарность\n",
        "dftest = adfuller(df_new['Close'])\n",
        "print ('adf: ', dftest[0])\n",
        "print ('p-value: ', dftest[1])\n",
        "print('Critical values: ', dftest[4])\n",
        "if dftest[0]> dftest[4]['5%']: \n",
        "    print ('есть единичные корни, ряд не стационарен')\n",
        "else:\n",
        "    print ('единичных корней нет, ряд стационарен')"
      ],
      "metadata": {
        "colab": {
          "base_uri": "https://localhost:8080/"
        },
        "id": "pIUVsL1Ktyt2",
        "outputId": "04f68d33-4353-41ed-f164-b33de5581222"
      },
      "execution_count": 27,
      "outputs": [
        {
          "output_type": "stream",
          "name": "stdout",
          "text": [
            "adf:  1.40006850208616\n",
            "p-value:  0.9971144530803391\n",
            "Critical values:  {'1%': -3.4330810457844425, '5%': -2.862746538733181, '10%': -2.567412291147901}\n",
            "есть единичные корни, ряд не стационарен\n"
          ]
        }
      ]
    },
    {
      "cell_type": "code",
      "source": [
        "# Построим график запаздывания для поиска закономерностей в данных временного ряда.\n",
        "from pandas.plotting import lag_plot\n",
        "lag_plot(df_new['Close'])"
      ],
      "metadata": {
        "colab": {
          "base_uri": "https://localhost:8080/",
          "height": 296
        },
        "id": "jHP1O1DDkZSc",
        "outputId": "53b4c1bc-8ae0-4f5d-d15f-5909f622f900"
      },
      "execution_count": 28,
      "outputs": [
        {
          "output_type": "execute_result",
          "data": {
            "text/plain": [
              "<matplotlib.axes._subplots.AxesSubplot at 0x7f82c0a13510>"
            ]
          },
          "metadata": {},
          "execution_count": 28
        },
        {
          "output_type": "display_data",
          "data": {
            "text/plain": [
              "<Figure size 432x288 with 1 Axes>"
            ],
            "image/png": "[encoded data removed]"
          },
          "metadata": {
            "needs_background": "light"
          }
        }
      ]
    },
    {
      "cell_type": "markdown",
      "source": [
        "Видим наличие тренда и корреляции\n"
      ],
      "metadata": {
        "id": "hxH4EdjIkwSk"
      }
    },
    {
      "cell_type": "code",
      "source": [
        "#Построение графика автокорреляции\n",
        "acf(df_new['Close'])\n",
        "plot_acf(df_new['Close']);"
      ],
      "metadata": {
        "colab": {
          "base_uri": "https://localhost:8080/",
          "height": 281
        },
        "id": "qags1pSvk0Pp",
        "outputId": "6b14860d-6e39-42f7-8ab0-986068bb782d"
      },
      "execution_count": 29,
      "outputs": [
        {
          "output_type": "display_data",
          "data": {
            "text/plain": [
              "<Figure size 432x288 with 1 Axes>"
            ],
            "image/png": "[encoded data removed]"
          },
          "metadata": {
            "needs_background": "light"
          }
        }
      ]
    },
    {
      "cell_type": "code",
      "source": [
        "#Построение графика частичной автокорреляции\n",
        "pacf(df_new['Close'])\n",
        "plot_pacf(df_new['Close']);"
      ],
      "metadata": {
        "colab": {
          "base_uri": "https://localhost:8080/",
          "height": 336
        },
        "id": "58c8fkIt7FNS",
        "outputId": "e67f1cee-4a6c-46e3-88cb-e68c21f38bb6"
      },
      "execution_count": 30,
      "outputs": [
        {
          "output_type": "stream",
          "name": "stderr",
          "text": [
            "/usr/local/lib/python3.7/dist-packages/statsmodels/graphics/tsaplots.py:353: FutureWarning: The default method 'yw' can produce PACF values outside of the [-1,1] interval. After 0.13, the default will change tounadjusted Yule-Walker ('ywm'). You can use this method now by setting method='ywm'.\n",
            "  FutureWarning,\n"
          ]
        },
        {
          "output_type": "display_data",
          "data": {
            "text/plain": [
              "<Figure size 432x288 with 1 Axes>"
            ],
            "image/png": "[encoded data removed]"
          },
          "metadata": {
            "needs_background": "light"
          }
        }
      ]
    },
    {
      "cell_type": "markdown",
      "source": [
        "Промежуточные выводы: согласно проведенному анализу исследуемый временной ряд не стационарен."
      ],
      "metadata": {
        "id": "rJhQGcZl2WXR"
      }
    },
    {
      "cell_type": "markdown",
      "source": [
        "В связи с большим кол-вом данных и увеличением времени подбора перейдем к недельному интервалу и среднему значению цены на нем, это избавит нас от выбросов и уменьшит колебания нашего ряда"
      ],
      "metadata": {
        "id": "mt4Mlkd43xUu"
      }
    },
    {
      "cell_type": "code",
      "source": [
        "\n",
        "df2 = df_new.resample('W').mean()\n",
        "title = 'Изменение стоимости акций Тесла с 2010 - 2020 год' \n",
        "ylabel = 'Close Price' \n",
        "xlabel = '' \n",
        "ax = df2['Close'].plot(figsize=(12,6), title=title)\n",
        "ax.autoscale(axis='x', tight=True)\n",
        "ax.set(xlabel=xlabel, ylabel=ylabel)"
      ],
      "metadata": {
        "colab": {
          "base_uri": "https://localhost:8080/",
          "height": 407
        },
        "id": "9vQv8Pl0231C",
        "outputId": "b365ccb7-0d71-4df6-850f-687db73a11f8"
      },
      "execution_count": 31,
      "outputs": [
        {
          "output_type": "execute_result",
          "data": {
            "text/plain": [
              "[Text(0, 0.5, 'Close Price'), Text(0.5, 0, '')]"
            ]
          },
          "metadata": {},
          "execution_count": 31
        },
        {
          "output_type": "display_data",
          "data": {
            "text/plain": [
              "<Figure size 864x432 with 1 Axes>"
            ],
            "image/png": "[encoded data removed]"
          },
          "metadata": {
            "needs_background": "light"
          }
        }
      ]
    },
    {
      "cell_type": "markdown",
      "source": [
        "### ETS декомпозиция"
      ],
      "metadata": {
        "id": "JcmncDSYug2t"
      }
    },
    {
      "cell_type": "code",
      "source": [
        "r = seasonal_decompose(df2['Close'], model='additive')\n",
        "r.plot();"
      ],
      "metadata": {
        "colab": {
          "base_uri": "https://localhost:8080/",
          "height": 297
        },
        "id": "3-zaV0ISsC6I",
        "outputId": "ecb9a05f-5ed8-4930-dd47-d4082859649e"
      },
      "execution_count": 32,
      "outputs": [
        {
          "output_type": "display_data",
          "data": {
            "text/plain": [
              "<Figure size 432x288 with 4 Axes>"
            ],
            "image/png": "[encoded data removed]"
          },
          "metadata": {
            "needs_background": "light"
          }
        }
      ]
    },
    {
      "cell_type": "markdown",
      "source": [
        "Промежуточный вывод: Наблюдаем годовую сезонность и положительный тренд."
      ],
      "metadata": {
        "id": "XldkQCTm5qm3"
      }
    },
    {
      "cell_type": "markdown",
      "source": [
        "### Построение моделей"
      ],
      "metadata": {
        "id": "ZbY_Bld1UxBy"
      }
    },
    {
      "cell_type": "code",
      "source": [
        "# выделяем выборки, где тестовая размера 12 недель\n",
        "train = df2['Close'].iloc[:len(df2)-12]\n",
        "test = df2['Close'].iloc[len(df2)-12:]"
      ],
      "metadata": {
        "id": "xBpnNNASVaAk"
      },
      "execution_count": 33,
      "outputs": []
    },
    {
      "cell_type": "code",
      "source": [
        "#посмотрим на обучающую выборку\n",
        "train.head()\n"
      ],
      "metadata": {
        "id": "CJU0dbxOVe-Q",
        "colab": {
          "base_uri": "https://localhost:8080/"
        },
        "outputId": "2e83fad6-823e-4753-98c1-71c0bad11541"
      },
      "execution_count": 34,
      "outputs": [
        {
          "output_type": "execute_result",
          "data": {
            "text/plain": [
              "Date\n",
              "2010-07-04    22.220000\n",
              "2010-07-11    16.692500\n",
              "2010-07-18    19.111999\n",
              "2010-07-25    20.944000\n",
              "2010-08-01    20.502000\n",
              "Freq: W-SUN, Name: Close, dtype: float64"
            ]
          },
          "metadata": {},
          "execution_count": 34
        }
      ]
    },
    {
      "cell_type": "code",
      "source": [
        "#посмотрим на тестовую выборку\n",
        "test.head()"
      ],
      "metadata": {
        "id": "IMOJuKXTVfvx",
        "colab": {
          "base_uri": "https://localhost:8080/"
        },
        "outputId": "e7cf45fa-7605-41f0-81a4-68e5690e967d"
      },
      "execution_count": 35,
      "outputs": [
        {
          "output_type": "execute_result",
          "data": {
            "text/plain": [
              "Date\n",
              "2019-11-24    349.919995\n",
              "2019-12-01    331.622505\n",
              "2019-12-08    334.072003\n",
              "2019-12-15    351.828003\n",
              "2019-12-22    392.653998\n",
              "Freq: W-SUN, Name: Close, dtype: float64"
            ]
          },
          "metadata": {},
          "execution_count": 35
        }
      ]
    },
    {
      "cell_type": "markdown",
      "source": [
        "## Первый метод прогнозирования - SARIMAX"
      ],
      "metadata": {
        "id": "umvR_BmZEvRP"
      }
    },
    {
      "cell_type": "code",
      "source": [
        "from pmdarima import auto_arima    \n",
        "auto_arima(df2['Close'],seasonal=True,m=52).summary() #включаем сезонность и указываем период сезонности = 1 год"
      ],
      "metadata": {
        "colab": {
          "base_uri": "https://localhost:8080/",
          "height": 465
        },
        "id": "d2UcB8CKD_Wv",
        "outputId": "a9dd2805-cfd4-4fee-eef8-c21df7870c16"
      },
      "execution_count": 36,
      "outputs": [
        {
          "output_type": "execute_result",
          "data": {
            "text/plain": [
              "<class 'statsmodels.iolib.summary.Summary'>\n",
              "\"\"\"\n",
              "                                      SARIMAX Results                                       \n",
              "============================================================================================\n",
              "Dep. Variable:                                    y   No. Observations:                  502\n",
              "Model:             SARIMAX(1, 1, 2)x(0, 0, [1], 52)   Log Likelihood               -1999.859\n",
              "Date:                              Fri, 25 Mar 2022   AIC                           4009.718\n",
              "Time:                                      17:19:18   BIC                           4030.801\n",
              "Sample:                                           0   HQIC                          4017.990\n",
              "                                              - 502                                         \n",
              "Covariance Type:                                opg                                         \n",
              "==============================================================================\n",
              "                 coef    std err          z      P>|z|      [0.025      0.975]\n",
              "------------------------------------------------------------------------------\n",
              "ar.L1          0.9892      0.033     30.115      0.000       0.925       1.054\n",
              "ma.L1         -0.5913      0.056    -10.529      0.000      -0.701      -0.481\n",
              "ma.L2         -0.2408      0.053     -4.525      0.000      -0.345      -0.136\n",
              "ma.S.L52       0.0848      0.049      1.723      0.085      -0.012       0.181\n",
              "sigma2       171.0064      5.903     28.971      0.000     159.437     182.575\n",
              "===================================================================================\n",
              "Ljung-Box (L1) (Q):                   0.02   Jarque-Bera (JB):             30305.61\n",
              "Prob(Q):                              0.88   Prob(JB):                         0.00\n",
              "Heteroskedasticity (H):              32.46   Skew:                             3.13\n",
              "Prob(H) (two-sided):                  0.00   Kurtosis:                        40.59\n",
              "===================================================================================\n",
              "\n",
              "Warnings:\n",
              "[1] Covariance matrix calculated using the outer product of gradients (complex-step).\n",
              "\"\"\""
            ],
            "text/html": [
              "<table class=\"simpletable\">\n",
              "<caption>SARIMAX Results</caption>\n",
              "<tr>\n",
              "  <th>Dep. Variable:</th>                   <td>y</td>                <th>  No. Observations:  </th>    <td>502</td>   \n",
              "</tr>\n",
              "<tr>\n",
              "  <th>Model:</th>           <td>SARIMAX(1, 1, 2)x(0, 0, [1], 52)</td> <th>  Log Likelihood     </th> <td>-1999.859</td>\n",
              "</tr>\n",
              "<tr>\n",
              "  <th>Date:</th>                    <td>Fri, 25 Mar 2022</td>         <th>  AIC                </th> <td>4009.718</td> \n",
              "</tr>\n",
              "<tr>\n",
              "  <th>Time:</th>                        <td>17:19:18</td>             <th>  BIC                </th> <td>4030.801</td> \n",
              "</tr>\n",
              "<tr>\n",
              "  <th>Sample:</th>                          <td>0</td>                <th>  HQIC               </th> <td>4017.990</td> \n",
              "</tr>\n",
              "<tr>\n",
              "  <th></th>                              <td> - 502</td>              <th>                     </th>     <td> </td>    \n",
              "</tr>\n",
              "<tr>\n",
              "  <th>Covariance Type:</th>                <td>opg</td>               <th>                     </th>     <td> </td>    \n",
              "</tr>\n",
              "</table>\n",
              "<table class=\"simpletable\">\n",
              "<tr>\n",
              "      <td></td>        <th>coef</th>     <th>std err</th>      <th>z</th>      <th>P>|z|</th>  <th>[0.025</th>    <th>0.975]</th>  \n",
              "</tr>\n",
              "<tr>\n",
              "  <th>ar.L1</th>    <td>    0.9892</td> <td>    0.033</td> <td>   30.115</td> <td> 0.000</td> <td>    0.925</td> <td>    1.054</td>\n",
              "</tr>\n",
              "<tr>\n",
              "  <th>ma.L1</th>    <td>   -0.5913</td> <td>    0.056</td> <td>  -10.529</td> <td> 0.000</td> <td>   -0.701</td> <td>   -0.481</td>\n",
              "</tr>\n",
              "<tr>\n",
              "  <th>ma.L2</th>    <td>   -0.2408</td> <td>    0.053</td> <td>   -4.525</td> <td> 0.000</td> <td>   -0.345</td> <td>   -0.136</td>\n",
              "</tr>\n",
              "<tr>\n",
              "  <th>ma.S.L52</th> <td>    0.0848</td> <td>    0.049</td> <td>    1.723</td> <td> 0.085</td> <td>   -0.012</td> <td>    0.181</td>\n",
              "</tr>\n",
              "<tr>\n",
              "  <th>sigma2</th>   <td>  171.0064</td> <td>    5.903</td> <td>   28.971</td> <td> 0.000</td> <td>  159.437</td> <td>  182.575</td>\n",
              "</tr>\n",
              "</table>\n",
              "<table class=\"simpletable\">\n",
              "<tr>\n",
              "  <th>Ljung-Box (L1) (Q):</th>     <td>0.02</td>  <th>  Jarque-Bera (JB):  </th> <td>30305.61</td>\n",
              "</tr>\n",
              "<tr>\n",
              "  <th>Prob(Q):</th>                <td>0.88</td>  <th>  Prob(JB):          </th>   <td>0.00</td>  \n",
              "</tr>\n",
              "<tr>\n",
              "  <th>Heteroskedasticity (H):</th> <td>32.46</td> <th>  Skew:              </th>   <td>3.13</td>  \n",
              "</tr>\n",
              "<tr>\n",
              "  <th>Prob(H) (two-sided):</th>    <td>0.00</td>  <th>  Kurtosis:          </th>   <td>40.59</td> \n",
              "</tr>\n",
              "</table><br/><br/>Warnings:<br/>[1] Covariance matrix calculated using the outer product of gradients (complex-step)."
            ]
          },
          "metadata": {},
          "execution_count": 36
        }
      ]
    },
    {
      "cell_type": "markdown",
      "source": [
        "Промежуточные выводы: Получилась модель с параметрами SARIMAX(1, 1, 2)x(0, 0, [1], 52)"
      ],
      "metadata": {
        "id": "Gdq9D4VvVHLM"
      }
    },
    {
      "cell_type": "code",
      "source": [
        "# создаем модель с подобранными параметрами\n",
        "model_sarimax = SARIMAX(train,order=(1, 1, 2), seasonal_order=(0, 0, 1, 52))\n",
        "\n",
        "#обучаем модель на обучающей выборке данных\n",
        "results_sarimax = model_sarimax.fit()\n",
        "\n",
        "#получаем результаты\n",
        "results_sarimax.summary()"
      ],
      "metadata": {
        "id": "iVIKvqP2VmiK",
        "colab": {
          "base_uri": "https://localhost:8080/",
          "height": 465
        },
        "outputId": "d3495533-6a4d-422f-e3c1-191eeb75aa77"
      },
      "execution_count": 37,
      "outputs": [
        {
          "output_type": "execute_result",
          "data": {
            "text/plain": [
              "<class 'statsmodels.iolib.summary.Summary'>\n",
              "\"\"\"\n",
              "                                      SARIMAX Results                                       \n",
              "============================================================================================\n",
              "Dep. Variable:                                Close   No. Observations:                  490\n",
              "Model:             SARIMAX(1, 1, 2)x(0, 0, [1], 52)   Log Likelihood               -1839.670\n",
              "Date:                              Fri, 25 Mar 2022   AIC                           3689.339\n",
              "Time:                                      17:20:30   BIC                           3710.301\n",
              "Sample:                                  07-04-2010   HQIC                          3697.572\n",
              "                                       - 11-17-2019                                         \n",
              "Covariance Type:                                opg                                         \n",
              "==============================================================================\n",
              "                 coef    std err          z      P>|z|      [0.025      0.975]\n",
              "------------------------------------------------------------------------------\n",
              "ar.L1          0.8011      0.185      4.323      0.000       0.438       1.164\n",
              "ma.L1         -0.5287      0.186     -2.842      0.004      -0.893      -0.164\n",
              "ma.L2         -0.2746      0.045     -6.118      0.000      -0.363      -0.187\n",
              "ma.S.L52       0.1001      0.038      2.618      0.009       0.025       0.175\n",
              "sigma2       108.3146      5.039     21.496      0.000      98.439     118.190\n",
              "===================================================================================\n",
              "Ljung-Box (L1) (Q):                   0.00   Jarque-Bera (JB):               101.45\n",
              "Prob(Q):                              0.97   Prob(JB):                         0.00\n",
              "Heteroskedasticity (H):              16.69   Skew:                            -0.16\n",
              "Prob(H) (two-sided):                  0.00   Kurtosis:                         5.21\n",
              "===================================================================================\n",
              "\n",
              "Warnings:\n",
              "[1] Covariance matrix calculated using the outer product of gradients (complex-step).\n",
              "\"\"\""
            ],
            "text/html": [
              "<table class=\"simpletable\">\n",
              "<caption>SARIMAX Results</caption>\n",
              "<tr>\n",
              "  <th>Dep. Variable:</th>                 <td>Close</td>              <th>  No. Observations:  </th>    <td>490</td>   \n",
              "</tr>\n",
              "<tr>\n",
              "  <th>Model:</th>           <td>SARIMAX(1, 1, 2)x(0, 0, [1], 52)</td> <th>  Log Likelihood     </th> <td>-1839.670</td>\n",
              "</tr>\n",
              "<tr>\n",
              "  <th>Date:</th>                    <td>Fri, 25 Mar 2022</td>         <th>  AIC                </th> <td>3689.339</td> \n",
              "</tr>\n",
              "<tr>\n",
              "  <th>Time:</th>                        <td>17:20:30</td>             <th>  BIC                </th> <td>3710.301</td> \n",
              "</tr>\n",
              "<tr>\n",
              "  <th>Sample:</th>                     <td>07-04-2010</td>            <th>  HQIC               </th> <td>3697.572</td> \n",
              "</tr>\n",
              "<tr>\n",
              "  <th></th>                           <td>- 11-17-2019</td>           <th>                     </th>     <td> </td>    \n",
              "</tr>\n",
              "<tr>\n",
              "  <th>Covariance Type:</th>                <td>opg</td>               <th>                     </th>     <td> </td>    \n",
              "</tr>\n",
              "</table>\n",
              "<table class=\"simpletable\">\n",
              "<tr>\n",
              "      <td></td>        <th>coef</th>     <th>std err</th>      <th>z</th>      <th>P>|z|</th>  <th>[0.025</th>    <th>0.975]</th>  \n",
              "</tr>\n",
              "<tr>\n",
              "  <th>ar.L1</th>    <td>    0.8011</td> <td>    0.185</td> <td>    4.323</td> <td> 0.000</td> <td>    0.438</td> <td>    1.164</td>\n",
              "</tr>\n",
              "<tr>\n",
              "  <th>ma.L1</th>    <td>   -0.5287</td> <td>    0.186</td> <td>   -2.842</td> <td> 0.004</td> <td>   -0.893</td> <td>   -0.164</td>\n",
              "</tr>\n",
              "<tr>\n",
              "  <th>ma.L2</th>    <td>   -0.2746</td> <td>    0.045</td> <td>   -6.118</td> <td> 0.000</td> <td>   -0.363</td> <td>   -0.187</td>\n",
              "</tr>\n",
              "<tr>\n",
              "  <th>ma.S.L52</th> <td>    0.1001</td> <td>    0.038</td> <td>    2.618</td> <td> 0.009</td> <td>    0.025</td> <td>    0.175</td>\n",
              "</tr>\n",
              "<tr>\n",
              "  <th>sigma2</th>   <td>  108.3146</td> <td>    5.039</td> <td>   21.496</td> <td> 0.000</td> <td>   98.439</td> <td>  118.190</td>\n",
              "</tr>\n",
              "</table>\n",
              "<table class=\"simpletable\">\n",
              "<tr>\n",
              "  <th>Ljung-Box (L1) (Q):</th>     <td>0.00</td>  <th>  Jarque-Bera (JB):  </th> <td>101.45</td>\n",
              "</tr>\n",
              "<tr>\n",
              "  <th>Prob(Q):</th>                <td>0.97</td>  <th>  Prob(JB):          </th>  <td>0.00</td> \n",
              "</tr>\n",
              "<tr>\n",
              "  <th>Heteroskedasticity (H):</th> <td>16.69</td> <th>  Skew:              </th>  <td>-0.16</td>\n",
              "</tr>\n",
              "<tr>\n",
              "  <th>Prob(H) (two-sided):</th>    <td>0.00</td>  <th>  Kurtosis:          </th>  <td>5.21</td> \n",
              "</tr>\n",
              "</table><br/><br/>Warnings:<br/>[1] Covariance matrix calculated using the outer product of gradients (complex-step)."
            ]
          },
          "metadata": {},
          "execution_count": 37
        }
      ]
    },
    {
      "cell_type": "code",
      "source": [
        "#предсказываем значения,передав модели results точку начала и окончания\n",
        "prediction_sarimax = results_sarimax.predict(start=len(train), end=len(train)+len(test)-1, dynamic=False, typ='levels').rename(' Predictions SARIMAX(1, 1, 2)x(0, 0, [1], 52)\t')"
      ],
      "metadata": {
        "id": "8KkEf9HAVql4"
      },
      "execution_count": 38,
      "outputs": []
    },
    {
      "cell_type": "code",
      "source": [
        "#сравниваем прогноз и тестовую выборку\n",
        "ax = test.plot(legend=True, figsize=(12,6),title='Close Price changing')\n",
        "prediction_sarimax.plot(legend=True)\n",
        "ax.autoscale(axis='x',tight=True)"
      ],
      "metadata": {
        "id": "UY8hkf34Vuxs",
        "colab": {
          "base_uri": "https://localhost:8080/",
          "height": 509
        },
        "outputId": "47d86abc-70ac-4a0a-95ea-bfac0457c3f4"
      },
      "execution_count": 39,
      "outputs": [
        {
          "output_type": "stream",
          "name": "stderr",
          "text": [
            "/usr/local/lib/python3.7/dist-packages/matplotlib/backends/backend_agg.py:214: RuntimeWarning: Glyph 9 missing from current font.\n",
            "  font.set_text(s, 0.0, flags=flags)\n",
            "/usr/local/lib/python3.7/dist-packages/matplotlib/backends/backend_agg.py:183: RuntimeWarning: Glyph 9 missing from current font.\n",
            "  font.set_text(s, 0, flags=flags)\n"
          ]
        },
        {
          "output_type": "display_data",
          "data": {
            "text/plain": [
              "<Figure size 864x432 with 1 Axes>"
            ],
            "image/png": "[encoded data removed]"
          },
          "metadata": {
            "needs_background": "light"
          }
        }
      ]
    },
    {
      "cell_type": "code",
      "source": [
        "#оцениваем качество модели методом MSE, RMSE, MAE, MAPE\n",
        "mae_error = mean_absolute_error(test, prediction_sarimax)\n",
        "mse_error = mean_squared_error(test, prediction_sarimax)\n",
        "rmse_error = rmse(test, prediction_sarimax)\n",
        "mape_error = np.mean(np.abs(prediction_sarimax - test)/test)*100\n",
        "\n",
        "print(f'SARIMAX(0, 1, 2)x(2, 0, [], 7) MAE Error: {mae_error:11.10}')\n",
        "print(f'SARIMAX(0, 1, 2)x(2, 0, [], 7) MSE Error: {mse_error:11.10}')\n",
        "print(f'SARIMAX(0, 1, 2)x(2, 0, [], 7) RMSE Error: {rmse_error:11.10}')\n",
        "print(f'SARIMAX(0, 1, 2)x(2, 0, [], 7) MAPE Error: {mape_error:11.10}')"
      ],
      "metadata": {
        "id": "CioNQclqVysf",
        "colab": {
          "base_uri": "https://localhost:8080/"
        },
        "outputId": "fa8394de-4e91-4fa9-8718-dab253c8222a"
      },
      "execution_count": 40,
      "outputs": [
        {
          "output_type": "stream",
          "name": "stdout",
          "text": [
            "SARIMAX(0, 1, 2)x(2, 0, [], 7) MAE Error:  127.974433\n",
            "SARIMAX(0, 1, 2)x(2, 0, [], 7) MSE Error: 33007.87855\n",
            "SARIMAX(0, 1, 2)x(2, 0, [], 7) RMSE Error: 181.6807049\n",
            "SARIMAX(0, 1, 2)x(2, 0, [], 7) MAPE Error: 22.81866178\n"
          ]
        }
      ]
    },
    {
      "cell_type": "code",
      "source": [
        "#делаем прогноз на будущее - 12 недель вперед\n",
        "\n",
        "# обучаем модель на всем датасете\n",
        "fut_model_sarimax = SARIMAX(df2['Close'],order=(1, 1, 2), seasonal_order=(0, 0, 1, 52))\n",
        "fut_results_sarimax = fut_model_sarimax.fit()\n",
        "fut_results_sarimax.summary()"
      ],
      "metadata": {
        "id": "vfLD6IXKV2yY",
        "colab": {
          "base_uri": "https://localhost:8080/",
          "height": 519
        },
        "outputId": "1467249e-ddc8-4b21-a4f7-b95217353ab3"
      },
      "execution_count": 41,
      "outputs": [
        {
          "output_type": "stream",
          "name": "stderr",
          "text": [
            "/usr/local/lib/python3.7/dist-packages/statsmodels/tsa/statespace/sarimax.py:966: UserWarning: Non-stationary starting autoregressive parameters found. Using zeros as starting parameters.\n",
            "  warn('Non-stationary starting autoregressive parameters'\n"
          ]
        },
        {
          "output_type": "execute_result",
          "data": {
            "text/plain": [
              "<class 'statsmodels.iolib.summary.Summary'>\n",
              "\"\"\"\n",
              "                                      SARIMAX Results                                       \n",
              "============================================================================================\n",
              "Dep. Variable:                                Close   No. Observations:                  502\n",
              "Model:             SARIMAX(1, 1, 2)x(0, 0, [1], 52)   Log Likelihood               -1999.859\n",
              "Date:                              Fri, 25 Mar 2022   AIC                           4009.718\n",
              "Time:                                      17:20:55   BIC                           4030.801\n",
              "Sample:                                  07-04-2010   HQIC                          4017.990\n",
              "                                       - 02-09-2020                                         \n",
              "Covariance Type:                                opg                                         \n",
              "==============================================================================\n",
              "                 coef    std err          z      P>|z|      [0.025      0.975]\n",
              "------------------------------------------------------------------------------\n",
              "ar.L1          0.9892      0.033     30.115      0.000       0.925       1.054\n",
              "ma.L1         -0.5913      0.056    -10.529      0.000      -0.701      -0.481\n",
              "ma.L2         -0.2408      0.053     -4.525      0.000      -0.345      -0.136\n",
              "ma.S.L52       0.0848      0.049      1.723      0.085      -0.012       0.181\n",
              "sigma2       171.0064      5.903     28.971      0.000     159.437     182.575\n",
              "===================================================================================\n",
              "Ljung-Box (L1) (Q):                   0.02   Jarque-Bera (JB):             30305.61\n",
              "Prob(Q):                              0.88   Prob(JB):                         0.00\n",
              "Heteroskedasticity (H):              32.46   Skew:                             3.13\n",
              "Prob(H) (two-sided):                  0.00   Kurtosis:                        40.59\n",
              "===================================================================================\n",
              "\n",
              "Warnings:\n",
              "[1] Covariance matrix calculated using the outer product of gradients (complex-step).\n",
              "\"\"\""
            ],
            "text/html": [
              "<table class=\"simpletable\">\n",
              "<caption>SARIMAX Results</caption>\n",
              "<tr>\n",
              "  <th>Dep. Variable:</th>                 <td>Close</td>              <th>  No. Observations:  </th>    <td>502</td>   \n",
              "</tr>\n",
              "<tr>\n",
              "  <th>Model:</th>           <td>SARIMAX(1, 1, 2)x(0, 0, [1], 52)</td> <th>  Log Likelihood     </th> <td>-1999.859</td>\n",
              "</tr>\n",
              "<tr>\n",
              "  <th>Date:</th>                    <td>Fri, 25 Mar 2022</td>         <th>  AIC                </th> <td>4009.718</td> \n",
              "</tr>\n",
              "<tr>\n",
              "  <th>Time:</th>                        <td>17:20:55</td>             <th>  BIC                </th> <td>4030.801</td> \n",
              "</tr>\n",
              "<tr>\n",
              "  <th>Sample:</th>                     <td>07-04-2010</td>            <th>  HQIC               </th> <td>4017.990</td> \n",
              "</tr>\n",
              "<tr>\n",
              "  <th></th>                           <td>- 02-09-2020</td>           <th>                     </th>     <td> </td>    \n",
              "</tr>\n",
              "<tr>\n",
              "  <th>Covariance Type:</th>                <td>opg</td>               <th>                     </th>     <td> </td>    \n",
              "</tr>\n",
              "</table>\n",
              "<table class=\"simpletable\">\n",
              "<tr>\n",
              "      <td></td>        <th>coef</th>     <th>std err</th>      <th>z</th>      <th>P>|z|</th>  <th>[0.025</th>    <th>0.975]</th>  \n",
              "</tr>\n",
              "<tr>\n",
              "  <th>ar.L1</th>    <td>    0.9892</td> <td>    0.033</td> <td>   30.115</td> <td> 0.000</td> <td>    0.925</td> <td>    1.054</td>\n",
              "</tr>\n",
              "<tr>\n",
              "  <th>ma.L1</th>    <td>   -0.5913</td> <td>    0.056</td> <td>  -10.529</td> <td> 0.000</td> <td>   -0.701</td> <td>   -0.481</td>\n",
              "</tr>\n",
              "<tr>\n",
              "  <th>ma.L2</th>    <td>   -0.2408</td> <td>    0.053</td> <td>   -4.525</td> <td> 0.000</td> <td>   -0.345</td> <td>   -0.136</td>\n",
              "</tr>\n",
              "<tr>\n",
              "  <th>ma.S.L52</th> <td>    0.0848</td> <td>    0.049</td> <td>    1.723</td> <td> 0.085</td> <td>   -0.012</td> <td>    0.181</td>\n",
              "</tr>\n",
              "<tr>\n",
              "  <th>sigma2</th>   <td>  171.0064</td> <td>    5.903</td> <td>   28.971</td> <td> 0.000</td> <td>  159.437</td> <td>  182.575</td>\n",
              "</tr>\n",
              "</table>\n",
              "<table class=\"simpletable\">\n",
              "<tr>\n",
              "  <th>Ljung-Box (L1) (Q):</th>     <td>0.02</td>  <th>  Jarque-Bera (JB):  </th> <td>30305.61</td>\n",
              "</tr>\n",
              "<tr>\n",
              "  <th>Prob(Q):</th>                <td>0.88</td>  <th>  Prob(JB):          </th>   <td>0.00</td>  \n",
              "</tr>\n",
              "<tr>\n",
              "  <th>Heteroskedasticity (H):</th> <td>32.46</td> <th>  Skew:              </th>   <td>3.13</td>  \n",
              "</tr>\n",
              "<tr>\n",
              "  <th>Prob(H) (two-sided):</th>    <td>0.00</td>  <th>  Kurtosis:          </th>   <td>40.59</td> \n",
              "</tr>\n",
              "</table><br/><br/>Warnings:<br/>[1] Covariance matrix calculated using the outer product of gradients (complex-step)."
            ]
          },
          "metadata": {},
          "execution_count": 41
        }
      ]
    },
    {
      "cell_type": "code",
      "source": [
        "#задаем точки будущего\n",
        "fut_fcast_sarimax = fut_results_sarimax.predict(len(df2)-1,len(df2)+11,typ='levels').rename('SARIMAX(1, 1, 2)x(0, 0, [1], 52) Forecast')\n",
        "\n",
        "#строим график на будущее\n",
        "ax = df2['Close'].plot(legend=True, figsize=(12,6),title='Close price changing') \n",
        "fut_fcast_sarimax.plot(legend=True)\n",
        "ax.autoscale(axis='x',tight=True)"
      ],
      "metadata": {
        "id": "zWiwywnOV570",
        "colab": {
          "base_uri": "https://localhost:8080/",
          "height": 404
        },
        "outputId": "4822a6ba-efcf-426b-e30b-ddbedd562a62"
      },
      "execution_count": 42,
      "outputs": [
        {
          "output_type": "display_data",
          "data": {
            "text/plain": [
              "<Figure size 864x432 with 1 Axes>"
            ],
            "image/png": "[encoded data removed]"
          },
          "metadata": {
            "needs_background": "light"
          }
        }
      ]
    },
    {
      "cell_type": "markdown",
      "source": [
        "Выводы работы метода SARIMAX: Основываясь на полученных резулmтатах ошибок, можно сделать вывод, что модель показала не точные результаты, так как MAPE = 22.82 %"
      ],
      "metadata": {
        "id": "xFKyO9xTV9gV"
      }
    },
    {
      "cell_type": "markdown",
      "source": [
        "### Второй метод прогнозирования \"Экспоненциальное сглаживание\" (Exponential smoothing)"
      ],
      "metadata": {
        "id": "WI2-KQrqWGML"
      }
    },
    {
      "cell_type": "code",
      "source": [
        "# создаем модель с подобранными параметрами\n",
        "model_exps = ExponentialSmoothing(train, seasonal_periods=52, trend = 'add')# годовая сезонность\n",
        "\n",
        "#обучаем модель на обучающей выборке данных\n",
        "model_exps.fit()"
      ],
      "metadata": {
        "id": "wT_7Xr9QWErf",
        "colab": {
          "base_uri": "https://localhost:8080/"
        },
        "outputId": "b30a532f-d33d-496e-8509-8d40ee0437df"
      },
      "execution_count": 43,
      "outputs": [
        {
          "output_type": "execute_result",
          "data": {
            "text/plain": [
              "<statsmodels.tsa.holtwinters.results.HoltWintersResultsWrapper at 0x7f82bbc72450>"
            ]
          },
          "metadata": {},
          "execution_count": 43
        }
      ]
    },
    {
      "cell_type": "code",
      "source": [
        "#посмотрим на подобранные параметры модели\n",
        "model_exps.params"
      ],
      "metadata": {
        "id": "HIkO9dfXWMHU",
        "colab": {
          "base_uri": "https://localhost:8080/"
        },
        "outputId": "08069b5d-fb09-4c01-d580-5212b7bf7a99"
      },
      "execution_count": 44,
      "outputs": [
        {
          "output_type": "execute_result",
          "data": {
            "text/plain": [
              "{'damping_trend': nan,\n",
              " 'initial_level': 22.577711519333395,\n",
              " 'initial_seasons': array([], dtype=float64),\n",
              " 'initial_trend': 0.664167386913011,\n",
              " 'lamda': None,\n",
              " 'remove_bias': False,\n",
              " 'smoothing_level': 0.9996726336716957,\n",
              " 'smoothing_seasonal': nan,\n",
              " 'smoothing_trend': 0.00023632206326520435,\n",
              " 'use_boxcox': False}"
            ]
          },
          "metadata": {},
          "execution_count": 44
        }
      ]
    },
    {
      "cell_type": "code",
      "source": [
        "#предсказываем значения,передав модели results точку начала и окончания\n",
        "prediction_exps = model_exps.predict(model_exps.params, start=test.index[0], end=test.index[-1])"
      ],
      "metadata": {
        "id": "5xZ9DwHRWPpm"
      },
      "execution_count": 45,
      "outputs": []
    },
    {
      "cell_type": "code",
      "source": [
        "# определяем точку начала для прогноза\n",
        "test.index[0]\n"
      ],
      "metadata": {
        "id": "RssyVxs4WS_t",
        "colab": {
          "base_uri": "https://localhost:8080/"
        },
        "outputId": "30a313f6-7d04-4405-ae88-1e5b5e5bde54"
      },
      "execution_count": 46,
      "outputs": [
        {
          "output_type": "execute_result",
          "data": {
            "text/plain": [
              "Timestamp('2019-11-24 00:00:00', freq='W-SUN')"
            ]
          },
          "metadata": {},
          "execution_count": 46
        }
      ]
    },
    {
      "cell_type": "code",
      "source": [
        "# определяем точку окончания для прогноза\n",
        "test.index[-1]"
      ],
      "metadata": {
        "colab": {
          "base_uri": "https://localhost:8080/"
        },
        "id": "nrKFfDDR-YEZ",
        "outputId": "62c6dce1-bb67-4ca1-a20d-a33a10d0ba8a"
      },
      "execution_count": 47,
      "outputs": [
        {
          "output_type": "execute_result",
          "data": {
            "text/plain": [
              "Timestamp('2020-02-09 00:00:00', freq='W-SUN')"
            ]
          },
          "metadata": {},
          "execution_count": 47
        }
      ]
    },
    {
      "cell_type": "code",
      "source": [
        "prediction_exps"
      ],
      "metadata": {
        "id": "4h4L_bEH-aut",
        "colab": {
          "base_uri": "https://localhost:8080/"
        },
        "outputId": "ad50456c-3d50-4b1f-dfdd-995f8397a116"
      },
      "execution_count": 48,
      "outputs": [
        {
          "output_type": "execute_result",
          "data": {
            "text/plain": [
              "array([349.18750726, 349.85191792, 350.51632858, 351.18073925,\n",
              "       351.84514991, 352.50956057, 353.17397123, 353.83838189,\n",
              "       354.50279256, 355.16720322, 355.83161388, 356.49602454])"
            ]
          },
          "metadata": {},
          "execution_count": 48
        }
      ]
    },
    {
      "cell_type": "code",
      "source": [
        "#преобразуем в датафрейм с индексами\n",
        "prediction_exps = pd.DataFrame(prediction_exps)\n",
        "prediction_exps.index = pd.date_range(\"2019-11-24 00:00:00\", periods=12, freq=\"W-SUN\")\n",
        "\n",
        "prediction_exps.columns = ['prediction_exps']"
      ],
      "metadata": {
        "id": "FRXvbutSWa7G"
      },
      "execution_count": 49,
      "outputs": []
    },
    {
      "cell_type": "code",
      "source": [
        "#проверим\n",
        "prediction_exps.head()"
      ],
      "metadata": {
        "id": "b-Q4naXQWbsA",
        "colab": {
          "base_uri": "https://localhost:8080/",
          "height": 206
        },
        "outputId": "6d807a3f-1609-4235-d4a2-d70d65513d91"
      },
      "execution_count": 50,
      "outputs": [
        {
          "output_type": "execute_result",
          "data": {
            "text/plain": [
              "            prediction_exps\n",
              "2019-11-24       349.187507\n",
              "2019-12-01       349.851918\n",
              "2019-12-08       350.516329\n",
              "2019-12-15       351.180739\n",
              "2019-12-22       351.845150"
            ],
            "text/html": [
              "\n",
              "  <div id=\"df-e36303f0-6b0b-4f3a-ab39-6c00acd5acb5\">\n",
              "    <div class=\"colab-df-container\">\n",
              "      <div>\n",
              "<style scoped>\n",
              "    .dataframe tbody tr th:only-of-type {\n",
              "        vertical-align: middle;\n",
              "    }\n",
              "\n",
              "    .dataframe tbody tr th {\n",
              "        vertical-align: top;\n",
              "    }\n",
              "\n",
              "    .dataframe thead th {\n",
              "        text-align: right;\n",
              "    }\n",
              "</style>\n",
              "<table border=\"1\" class=\"dataframe\">\n",
              "  <thead>\n",
              "    <tr style=\"text-align: right;\">\n",
              "      <th></th>\n",
              "      <th>prediction_exps</th>\n",
              "    </tr>\n",
              "  </thead>\n",
              "  <tbody>\n",
              "    <tr>\n",
              "      <th>2019-11-24</th>\n",
              "      <td>349.187507</td>\n",
              "    </tr>\n",
              "    <tr>\n",
              "      <th>2019-12-01</th>\n",
              "      <td>349.851918</td>\n",
              "    </tr>\n",
              "    <tr>\n",
              "      <th>2019-12-08</th>\n",
              "      <td>350.516329</td>\n",
              "    </tr>\n",
              "    <tr>\n",
              "      <th>2019-12-15</th>\n",
              "      <td>351.180739</td>\n",
              "    </tr>\n",
              "    <tr>\n",
              "      <th>2019-12-22</th>\n",
              "      <td>351.845150</td>\n",
              "    </tr>\n",
              "  </tbody>\n",
              "</table>\n",
              "</div>\n",
              "      <button class=\"colab-df-convert\" onclick=\"convertToInteractive('df-e36303f0-6b0b-4f3a-ab39-6c00acd5acb5')\"\n",
              "              title=\"Convert this dataframe to an interactive table.\"\n",
              "              style=\"display:none;\">\n",
              "        \n",
              "  <svg xmlns=\"http://www.w3.org/2000/svg\" height=\"24px\"viewBox=\"0 0 24 24\"\n",
              "       width=\"24px\">\n",
              "    <path d=\"M0 0h24v24H0V0z\" fill=\"none\"/>\n",
              "    <path d=\"M18.56 5.44l.94 2.06.94-2.06 2.06-.94-2.06-.94-.94-2.06-.94 2.06-2.06.94zm-11 1L8.5 8.5l.94-2.06 2.06-.94-2.06-.94L8.5 2.5l-.94 2.06-2.06.94zm10 10l.94 2.06.94-2.06 2.06-.94-2.06-.94-.94-2.06-.94 2.06-2.06.94z\"/><path d=\"M17.41 7.96l-1.37-1.37c-.4-.4-.92-.59-1.43-.59-.52 0-1.04.2-1.43.59L10.3 9.45l-7.72 7.72c-.78.78-.78 2.05 0 2.83L4 21.41c.39.39.9.59 1.41.59.51 0 1.02-.2 1.41-.59l7.78-7.78 2.81-2.81c.8-.78.8-2.07 0-2.86zM5.41 20L4 18.59l7.72-7.72 1.47 1.35L5.41 20z\"/>\n",
              "  </svg>\n",
              "      </button>\n",
              "      \n",
              "  <style>\n",
              "    .colab-df-container {\n",
              "      display:flex;\n",
              "      flex-wrap:wrap;\n",
              "      gap: 12px;\n",
              "    }\n",
              "\n",
              "    .colab-df-convert {\n",
              "      background-color: #E8F0FE;\n",
              "      border: none;\n",
              "      border-radius: 50%;\n",
              "      cursor: pointer;\n",
              "      display: none;\n",
              "      fill: #1967D2;\n",
              "      height: 32px;\n",
              "      padding: 0 0 0 0;\n",
              "      width: 32px;\n",
              "    }\n",
              "\n",
              "    .colab-df-convert:hover {\n",
              "      background-color: #E2EBFA;\n",
              "      box-shadow: 0px 1px 2px rgba(60, 64, 67, 0.3), 0px 1px 3px 1px rgba(60, 64, 67, 0.15);\n",
              "      fill: #174EA6;\n",
              "    }\n",
              "\n",
              "    [theme=dark] .colab-df-convert {\n",
              "      background-color: #3B4455;\n",
              "      fill: #D2E3FC;\n",
              "    }\n",
              "\n",
              "    [theme=dark] .colab-df-convert:hover {\n",
              "      background-color: #434B5C;\n",
              "      box-shadow: 0px 1px 3px 1px rgba(0, 0, 0, 0.15);\n",
              "      filter: drop-shadow(0px 1px 2px rgba(0, 0, 0, 0.3));\n",
              "      fill: #FFFFFF;\n",
              "    }\n",
              "  </style>\n",
              "\n",
              "      <script>\n",
              "        const buttonEl =\n",
              "          document.querySelector('#df-e36303f0-6b0b-4f3a-ab39-6c00acd5acb5 button.colab-df-convert');\n",
              "        buttonEl.style.display =\n",
              "          google.colab.kernel.accessAllowed ? 'block' : 'none';\n",
              "\n",
              "        async function convertToInteractive(key) {\n",
              "          const element = document.querySelector('#df-e36303f0-6b0b-4f3a-ab39-6c00acd5acb5');\n",
              "          const dataTable =\n",
              "            await google.colab.kernel.invokeFunction('convertToInteractive',\n",
              "                                                     [key], {});\n",
              "          if (!dataTable) return;\n",
              "\n",
              "          const docLinkHtml = 'Like what you see? Visit the ' +\n",
              "            '<a target=\"_blank\" href=https://colab.research.google.com/notebooks/data_table.ipynb>data table notebook</a>'\n",
              "            + ' to learn more about interactive tables.';\n",
              "          element.innerHTML = '';\n",
              "          dataTable['output_type'] = 'display_data';\n",
              "          await google.colab.output.renderOutput(dataTable, element);\n",
              "          const docLink = document.createElement('div');\n",
              "          docLink.innerHTML = docLinkHtml;\n",
              "          element.appendChild(docLink);\n",
              "        }\n",
              "      </script>\n",
              "    </div>\n",
              "  </div>\n",
              "  "
            ]
          },
          "metadata": {},
          "execution_count": 50
        }
      ]
    },
    {
      "cell_type": "code",
      "source": [
        "#сравниваем прогноз и тестовую выборку\n",
        "ax = test.plot(legend=True, figsize=(12,6),title='Close price changing')\n",
        "prediction_exps['prediction_exps'].plot(legend=True)\n",
        "ax.autoscale(axis='x',tight=True)"
      ],
      "metadata": {
        "id": "gPUd7asIWd22",
        "colab": {
          "base_uri": "https://localhost:8080/",
          "height": 439
        },
        "outputId": "c73938a9-83e0-4a70-f37d-8603a087cb9d"
      },
      "execution_count": 51,
      "outputs": [
        {
          "output_type": "display_data",
          "data": {
            "text/plain": [
              "<Figure size 864x432 with 1 Axes>"
            ],
            "image/png": "[encoded data removed]"
          },
          "metadata": {
            "needs_background": "light"
          }
        }
      ]
    },
    {
      "cell_type": "code",
      "source": [
        "#оцениваем качество модели методом MSE, RMSE, MAE, MAPE\n",
        "mae_error = mean_absolute_error(test, prediction_exps['prediction_exps'])\n",
        "mse_error = mean_squared_error(test, prediction_exps['prediction_exps'])\n",
        "rmse_error = rmse(test, prediction_exps['prediction_exps'])\n",
        "mape_error = np.mean(np.abs(prediction_exps['prediction_exps'] - test)/test)*100\n",
        "\n",
        "print(f'Exponential smoothing MAE Error: {mae_error:11.10}')\n",
        "print(f'Exponential smoothing MSE Error: {mse_error:11.10}')\n",
        "print(f'Exponential smoothing RMSE Error: {rmse_error:11.10}')\n",
        "print(f'Exponential smoothing MAPE Error: {mape_error:11.10}')"
      ],
      "metadata": {
        "id": "YvYokn4bW-F1",
        "colab": {
          "base_uri": "https://localhost:8080/"
        },
        "outputId": "774b3c29-dc7b-4a33-f4c0-0ae116d7ca6e"
      },
      "execution_count": 52,
      "outputs": [
        {
          "output_type": "stream",
          "name": "stdout",
          "text": [
            "Exponential smoothing MAE Error: 115.5640255\n",
            "Exponential smoothing MSE Error: 28124.84638\n",
            "Exponential smoothing RMSE Error: 167.7046403\n",
            "Exponential smoothing MAPE Error: 20.41979624\n"
          ]
        }
      ]
    },
    {
      "cell_type": "code",
      "source": [
        "#делаем прогноз на будущее\n",
        "\n",
        "# обучаем модель на всем датасете\n",
        "fut_model_exps = ExponentialSmoothing(df2['Close'], seasonal_periods=12, trend = 'add')\n",
        "fut_model_exps.fit()\n",
        "\n",
        "#задаем точки будущего\n",
        "fut_fcast_exps = fut_model_exps.predict(fut_model_exps.params, start=len(df2)-1, end=len(df2)+10)\n",
        "\n",
        "#преобразуем в датафрейм с индексами\n",
        "fut_fcast_exps = pd.DataFrame(fut_fcast_exps)\n",
        "fut_fcast_exps.index = pd.date_range('2020-02-09 00:00:00', periods=12, freq=\"W-SUN\")\n",
        "fut_fcast_exps.columns = ['fut_fcast_exps']"
      ],
      "metadata": {
        "id": "XX-Vu4MVXD_-"
      },
      "execution_count": 53,
      "outputs": []
    },
    {
      "cell_type": "code",
      "source": [
        "#проверим\n",
        "fut_fcast_exps.head()"
      ],
      "metadata": {
        "id": "bqLPPqAPXHtp",
        "colab": {
          "base_uri": "https://localhost:8080/",
          "height": 206
        },
        "outputId": "a9919843-f41a-48e1-87fa-da5921ebde9f"
      },
      "execution_count": 54,
      "outputs": [
        {
          "output_type": "execute_result",
          "data": {
            "text/plain": [
              "            fut_fcast_exps\n",
              "2020-02-09      630.264822\n",
              "2020-02-16      840.654571\n",
              "2020-02-23      901.309144\n",
              "2020-03-01      961.963717\n",
              "2020-03-08     1022.618291"
            ],
            "text/html": [
              "\n",
              "  <div id=\"df-cd5d442b-89a6-4548-85f5-bc0a033c4f3a\">\n",
              "    <div class=\"colab-df-container\">\n",
              "      <div>\n",
              "<style scoped>\n",
              "    .dataframe tbody tr th:only-of-type {\n",
              "        vertical-align: middle;\n",
              "    }\n",
              "\n",
              "    .dataframe tbody tr th {\n",
              "        vertical-align: top;\n",
              "    }\n",
              "\n",
              "    .dataframe thead th {\n",
              "        text-align: right;\n",
              "    }\n",
              "</style>\n",
              "<table border=\"1\" class=\"dataframe\">\n",
              "  <thead>\n",
              "    <tr style=\"text-align: right;\">\n",
              "      <th></th>\n",
              "      <th>fut_fcast_exps</th>\n",
              "    </tr>\n",
              "  </thead>\n",
              "  <tbody>\n",
              "    <tr>\n",
              "      <th>2020-02-09</th>\n",
              "      <td>630.264822</td>\n",
              "    </tr>\n",
              "    <tr>\n",
              "      <th>2020-02-16</th>\n",
              "      <td>840.654571</td>\n",
              "    </tr>\n",
              "    <tr>\n",
              "      <th>2020-02-23</th>\n",
              "      <td>901.309144</td>\n",
              "    </tr>\n",
              "    <tr>\n",
              "      <th>2020-03-01</th>\n",
              "      <td>961.963717</td>\n",
              "    </tr>\n",
              "    <tr>\n",
              "      <th>2020-03-08</th>\n",
              "      <td>1022.618291</td>\n",
              "    </tr>\n",
              "  </tbody>\n",
              "</table>\n",
              "</div>\n",
              "      <button class=\"colab-df-convert\" onclick=\"convertToInteractive('df-cd5d442b-89a6-4548-85f5-bc0a033c4f3a')\"\n",
              "              title=\"Convert this dataframe to an interactive table.\"\n",
              "              style=\"display:none;\">\n",
              "        \n",
              "  <svg xmlns=\"http://www.w3.org/2000/svg\" height=\"24px\"viewBox=\"0 0 24 24\"\n",
              "       width=\"24px\">\n",
              "    <path d=\"M0 0h24v24H0V0z\" fill=\"none\"/>\n",
              "    <path d=\"M18.56 5.44l.94 2.06.94-2.06 2.06-.94-2.06-.94-.94-2.06-.94 2.06-2.06.94zm-11 1L8.5 8.5l.94-2.06 2.06-.94-2.06-.94L8.5 2.5l-.94 2.06-2.06.94zm10 10l.94 2.06.94-2.06 2.06-.94-2.06-.94-.94-2.06-.94 2.06-2.06.94z\"/><path d=\"M17.41 7.96l-1.37-1.37c-.4-.4-.92-.59-1.43-.59-.52 0-1.04.2-1.43.59L10.3 9.45l-7.72 7.72c-.78.78-.78 2.05 0 2.83L4 21.41c.39.39.9.59 1.41.59.51 0 1.02-.2 1.41-.59l7.78-7.78 2.81-2.81c.8-.78.8-2.07 0-2.86zM5.41 20L4 18.59l7.72-7.72 1.47 1.35L5.41 20z\"/>\n",
              "  </svg>\n",
              "      </button>\n",
              "      \n",
              "  <style>\n",
              "    .colab-df-container {\n",
              "      display:flex;\n",
              "      flex-wrap:wrap;\n",
              "      gap: 12px;\n",
              "    }\n",
              "\n",
              "    .colab-df-convert {\n",
              "      background-color: #E8F0FE;\n",
              "      border: none;\n",
              "      border-radius: 50%;\n",
              "      cursor: pointer;\n",
              "      display: none;\n",
              "      fill: #1967D2;\n",
              "      height: 32px;\n",
              "      padding: 0 0 0 0;\n",
              "      width: 32px;\n",
              "    }\n",
              "\n",
              "    .colab-df-convert:hover {\n",
              "      background-color: #E2EBFA;\n",
              "      box-shadow: 0px 1px 2px rgba(60, 64, 67, 0.3), 0px 1px 3px 1px rgba(60, 64, 67, 0.15);\n",
              "      fill: #174EA6;\n",
              "    }\n",
              "\n",
              "    [theme=dark] .colab-df-convert {\n",
              "      background-color: #3B4455;\n",
              "      fill: #D2E3FC;\n",
              "    }\n",
              "\n",
              "    [theme=dark] .colab-df-convert:hover {\n",
              "      background-color: #434B5C;\n",
              "      box-shadow: 0px 1px 3px 1px rgba(0, 0, 0, 0.15);\n",
              "      filter: drop-shadow(0px 1px 2px rgba(0, 0, 0, 0.3));\n",
              "      fill: #FFFFFF;\n",
              "    }\n",
              "  </style>\n",
              "\n",
              "      <script>\n",
              "        const buttonEl =\n",
              "          document.querySelector('#df-cd5d442b-89a6-4548-85f5-bc0a033c4f3a button.colab-df-convert');\n",
              "        buttonEl.style.display =\n",
              "          google.colab.kernel.accessAllowed ? 'block' : 'none';\n",
              "\n",
              "        async function convertToInteractive(key) {\n",
              "          const element = document.querySelector('#df-cd5d442b-89a6-4548-85f5-bc0a033c4f3a');\n",
              "          const dataTable =\n",
              "            await google.colab.kernel.invokeFunction('convertToInteractive',\n",
              "                                                     [key], {});\n",
              "          if (!dataTable) return;\n",
              "\n",
              "          const docLinkHtml = 'Like what you see? Visit the ' +\n",
              "            '<a target=\"_blank\" href=https://colab.research.google.com/notebooks/data_table.ipynb>data table notebook</a>'\n",
              "            + ' to learn more about interactive tables.';\n",
              "          element.innerHTML = '';\n",
              "          dataTable['output_type'] = 'display_data';\n",
              "          await google.colab.output.renderOutput(dataTable, element);\n",
              "          const docLink = document.createElement('div');\n",
              "          docLink.innerHTML = docLinkHtml;\n",
              "          element.appendChild(docLink);\n",
              "        }\n",
              "      </script>\n",
              "    </div>\n",
              "  </div>\n",
              "  "
            ]
          },
          "metadata": {},
          "execution_count": 54
        }
      ]
    },
    {
      "cell_type": "code",
      "source": [
        "#строим график на будущее\n",
        "ax = df2['Close'].plot(legend=True, figsize=(12,6),title='Close price changing') \n",
        "fut_fcast_exps['fut_fcast_exps'].plot(legend=True)\n",
        "ax.autoscale(axis='x',tight=True)"
      ],
      "metadata": {
        "id": "HfVKDKlsXKM1",
        "colab": {
          "base_uri": "https://localhost:8080/",
          "height": 404
        },
        "outputId": "f24c00e5-58b1-4472-d108-63c2ad2d0daf"
      },
      "execution_count": 55,
      "outputs": [
        {
          "output_type": "display_data",
          "data": {
            "text/plain": [
              "<Figure size 864x432 with 1 Axes>"
            ],
            "image/png": "[encoded data removed]"
          },
          "metadata": {
            "needs_background": "light"
          }
        }
      ]
    },
    {
      "cell_type": "markdown",
      "source": [
        "Выводы по работе метода Экспоненциальное сглаживание: модель показала лучше результаты чем SARIMA, но прогноз все еще не  точен, так как MAPE = 20.42 %"
      ],
      "metadata": {
        "id": "qb8F35hvVEBF"
      }
    },
    {
      "cell_type": "markdown",
      "source": [
        "### Третий метод прогнозирования - PROPHET"
      ],
      "metadata": {
        "id": "q_akEu9rJ7ag"
      }
    },
    {
      "cell_type": "code",
      "source": [
        "# подготовим данные для модели\n",
        "train = df2.iloc[:len(df2)-52]\n",
        "test = df2.iloc[len(df2)-52:]\n",
        "train_prophet = train.reset_index() # индекс сбросим, чтобы работать только с колонками\n",
        "test_prophet = test.reset_index() # индекс сбросим, чтобы работать только с колонками\n",
        "df3=df2.reset_index()\n",
        "df3.columns = ['ds', 'y','z'] # переименовали столбцы\n",
        "\n",
        "# переименуем столбцы в обучающем и тестовом датасетах, чтобы они подходили для использования методов Prophet\n",
        "train_prophet.columns = ['ds', 'y','z'] # переименовали столбцы\n",
        "test_prophet.columns = ['ds', 'y','z'] # переименовали столбцы\n",
        "df3 = df3[['ds','y']]\n",
        "train_prophet = train_prophet[[\"ds\",'y']]\n",
        "test_prophet = test_prophet[['ds','y']]"
      ],
      "metadata": {
        "id": "GOht7Z7bLAUf"
      },
      "execution_count": 56,
      "outputs": []
    },
    {
      "cell_type": "code",
      "source": [
        "df3.head()"
      ],
      "metadata": {
        "colab": {
          "base_uri": "https://localhost:8080/",
          "height": 206
        },
        "id": "vLHvf_G-Namn",
        "outputId": "e1150a0f-b973-4a78-a4bd-1319f7f2a81f"
      },
      "execution_count": 57,
      "outputs": [
        {
          "output_type": "execute_result",
          "data": {
            "text/plain": [
              "          ds          y\n",
              "0 2010-07-04  22.220000\n",
              "1 2010-07-11  16.692500\n",
              "2 2010-07-18  19.111999\n",
              "3 2010-07-25  20.944000\n",
              "4 2010-08-01  20.502000"
            ],
            "text/html": [
              "\n",
              "  <div id=\"df-7e4e1f14-4ff0-4908-bd58-1081221bf11a\">\n",
              "    <div class=\"colab-df-container\">\n",
              "      <div>\n",
              "<style scoped>\n",
              "    .dataframe tbody tr th:only-of-type {\n",
              "        vertical-align: middle;\n",
              "    }\n",
              "\n",
              "    .dataframe tbody tr th {\n",
              "        vertical-align: top;\n",
              "    }\n",
              "\n",
              "    .dataframe thead th {\n",
              "        text-align: right;\n",
              "    }\n",
              "</style>\n",
              "<table border=\"1\" class=\"dataframe\">\n",
              "  <thead>\n",
              "    <tr style=\"text-align: right;\">\n",
              "      <th></th>\n",
              "      <th>ds</th>\n",
              "      <th>y</th>\n",
              "    </tr>\n",
              "  </thead>\n",
              "  <tbody>\n",
              "    <tr>\n",
              "      <th>0</th>\n",
              "      <td>2010-07-04</td>\n",
              "      <td>22.220000</td>\n",
              "    </tr>\n",
              "    <tr>\n",
              "      <th>1</th>\n",
              "      <td>2010-07-11</td>\n",
              "      <td>16.692500</td>\n",
              "    </tr>\n",
              "    <tr>\n",
              "      <th>2</th>\n",
              "      <td>2010-07-18</td>\n",
              "      <td>19.111999</td>\n",
              "    </tr>\n",
              "    <tr>\n",
              "      <th>3</th>\n",
              "      <td>2010-07-25</td>\n",
              "      <td>20.944000</td>\n",
              "    </tr>\n",
              "    <tr>\n",
              "      <th>4</th>\n",
              "      <td>2010-08-01</td>\n",
              "      <td>20.502000</td>\n",
              "    </tr>\n",
              "  </tbody>\n",
              "</table>\n",
              "</div>\n",
              "      <button class=\"colab-df-convert\" onclick=\"convertToInteractive('df-7e4e1f14-4ff0-4908-bd58-1081221bf11a')\"\n",
              "              title=\"Convert this dataframe to an interactive table.\"\n",
              "              style=\"display:none;\">\n",
              "        \n",
              "  <svg xmlns=\"http://www.w3.org/2000/svg\" height=\"24px\"viewBox=\"0 0 24 24\"\n",
              "       width=\"24px\">\n",
              "    <path d=\"M0 0h24v24H0V0z\" fill=\"none\"/>\n",
              "    <path d=\"M18.56 5.44l.94 2.06.94-2.06 2.06-.94-2.06-.94-.94-2.06-.94 2.06-2.06.94zm-11 1L8.5 8.5l.94-2.06 2.06-.94-2.06-.94L8.5 2.5l-.94 2.06-2.06.94zm10 10l.94 2.06.94-2.06 2.06-.94-2.06-.94-.94-2.06-.94 2.06-2.06.94z\"/><path d=\"M17.41 7.96l-1.37-1.37c-.4-.4-.92-.59-1.43-.59-.52 0-1.04.2-1.43.59L10.3 9.45l-7.72 7.72c-.78.78-.78 2.05 0 2.83L4 21.41c.39.39.9.59 1.41.59.51 0 1.02-.2 1.41-.59l7.78-7.78 2.81-2.81c.8-.78.8-2.07 0-2.86zM5.41 20L4 18.59l7.72-7.72 1.47 1.35L5.41 20z\"/>\n",
              "  </svg>\n",
              "      </button>\n",
              "      \n",
              "  <style>\n",
              "    .colab-df-container {\n",
              "      display:flex;\n",
              "      flex-wrap:wrap;\n",
              "      gap: 12px;\n",
              "    }\n",
              "\n",
              "    .colab-df-convert {\n",
              "      background-color: #E8F0FE;\n",
              "      border: none;\n",
              "      border-radius: 50%;\n",
              "      cursor: pointer;\n",
              "      display: none;\n",
              "      fill: #1967D2;\n",
              "      height: 32px;\n",
              "      padding: 0 0 0 0;\n",
              "      width: 32px;\n",
              "    }\n",
              "\n",
              "    .colab-df-convert:hover {\n",
              "      background-color: #E2EBFA;\n",
              "      box-shadow: 0px 1px 2px rgba(60, 64, 67, 0.3), 0px 1px 3px 1px rgba(60, 64, 67, 0.15);\n",
              "      fill: #174EA6;\n",
              "    }\n",
              "\n",
              "    [theme=dark] .colab-df-convert {\n",
              "      background-color: #3B4455;\n",
              "      fill: #D2E3FC;\n",
              "    }\n",
              "\n",
              "    [theme=dark] .colab-df-convert:hover {\n",
              "      background-color: #434B5C;\n",
              "      box-shadow: 0px 1px 3px 1px rgba(0, 0, 0, 0.15);\n",
              "      filter: drop-shadow(0px 1px 2px rgba(0, 0, 0, 0.3));\n",
              "      fill: #FFFFFF;\n",
              "    }\n",
              "  </style>\n",
              "\n",
              "      <script>\n",
              "        const buttonEl =\n",
              "          document.querySelector('#df-7e4e1f14-4ff0-4908-bd58-1081221bf11a button.colab-df-convert');\n",
              "        buttonEl.style.display =\n",
              "          google.colab.kernel.accessAllowed ? 'block' : 'none';\n",
              "\n",
              "        async function convertToInteractive(key) {\n",
              "          const element = document.querySelector('#df-7e4e1f14-4ff0-4908-bd58-1081221bf11a');\n",
              "          const dataTable =\n",
              "            await google.colab.kernel.invokeFunction('convertToInteractive',\n",
              "                                                     [key], {});\n",
              "          if (!dataTable) return;\n",
              "\n",
              "          const docLinkHtml = 'Like what you see? Visit the ' +\n",
              "            '<a target=\"_blank\" href=https://colab.research.google.com/notebooks/data_table.ipynb>data table notebook</a>'\n",
              "            + ' to learn more about interactive tables.';\n",
              "          element.innerHTML = '';\n",
              "          dataTable['output_type'] = 'display_data';\n",
              "          await google.colab.output.renderOutput(dataTable, element);\n",
              "          const docLink = document.createElement('div');\n",
              "          docLink.innerHTML = docLinkHtml;\n",
              "          element.appendChild(docLink);\n",
              "        }\n",
              "      </script>\n",
              "    </div>\n",
              "  </div>\n",
              "  "
            ]
          },
          "metadata": {},
          "execution_count": 57
        }
      ]
    },
    {
      "cell_type": "code",
      "source": [
        "train_prophet.head()"
      ],
      "metadata": {
        "colab": {
          "base_uri": "https://localhost:8080/",
          "height": 206
        },
        "id": "lJSlhlBtNdA0",
        "outputId": "6d2f41e9-8c68-4baf-ab91-ff2006d88a02"
      },
      "execution_count": 58,
      "outputs": [
        {
          "output_type": "execute_result",
          "data": {
            "text/plain": [
              "          ds          y\n",
              "0 2010-07-04  22.220000\n",
              "1 2010-07-11  16.692500\n",
              "2 2010-07-18  19.111999\n",
              "3 2010-07-25  20.944000\n",
              "4 2010-08-01  20.502000"
            ],
            "text/html": [
              "\n",
              "  <div id=\"df-1a1fec0b-4f55-4aef-9896-bdd2811ab2a5\">\n",
              "    <div class=\"colab-df-container\">\n",
              "      <div>\n",
              "<style scoped>\n",
              "    .dataframe tbody tr th:only-of-type {\n",
              "        vertical-align: middle;\n",
              "    }\n",
              "\n",
              "    .dataframe tbody tr th {\n",
              "        vertical-align: top;\n",
              "    }\n",
              "\n",
              "    .dataframe thead th {\n",
              "        text-align: right;\n",
              "    }\n",
              "</style>\n",
              "<table border=\"1\" class=\"dataframe\">\n",
              "  <thead>\n",
              "    <tr style=\"text-align: right;\">\n",
              "      <th></th>\n",
              "      <th>ds</th>\n",
              "      <th>y</th>\n",
              "    </tr>\n",
              "  </thead>\n",
              "  <tbody>\n",
              "    <tr>\n",
              "      <th>0</th>\n",
              "      <td>2010-07-04</td>\n",
              "      <td>22.220000</td>\n",
              "    </tr>\n",
              "    <tr>\n",
              "      <th>1</th>\n",
              "      <td>2010-07-11</td>\n",
              "      <td>16.692500</td>\n",
              "    </tr>\n",
              "    <tr>\n",
              "      <th>2</th>\n",
              "      <td>2010-07-18</td>\n",
              "      <td>19.111999</td>\n",
              "    </tr>\n",
              "    <tr>\n",
              "      <th>3</th>\n",
              "      <td>2010-07-25</td>\n",
              "      <td>20.944000</td>\n",
              "    </tr>\n",
              "    <tr>\n",
              "      <th>4</th>\n",
              "      <td>2010-08-01</td>\n",
              "      <td>20.502000</td>\n",
              "    </tr>\n",
              "  </tbody>\n",
              "</table>\n",
              "</div>\n",
              "      <button class=\"colab-df-convert\" onclick=\"convertToInteractive('df-1a1fec0b-4f55-4aef-9896-bdd2811ab2a5')\"\n",
              "              title=\"Convert this dataframe to an interactive table.\"\n",
              "              style=\"display:none;\">\n",
              "        \n",
              "  <svg xmlns=\"http://www.w3.org/2000/svg\" height=\"24px\"viewBox=\"0 0 24 24\"\n",
              "       width=\"24px\">\n",
              "    <path d=\"M0 0h24v24H0V0z\" fill=\"none\"/>\n",
              "    <path d=\"M18.56 5.44l.94 2.06.94-2.06 2.06-.94-2.06-.94-.94-2.06-.94 2.06-2.06.94zm-11 1L8.5 8.5l.94-2.06 2.06-.94-2.06-.94L8.5 2.5l-.94 2.06-2.06.94zm10 10l.94 2.06.94-2.06 2.06-.94-2.06-.94-.94-2.06-.94 2.06-2.06.94z\"/><path d=\"M17.41 7.96l-1.37-1.37c-.4-.4-.92-.59-1.43-.59-.52 0-1.04.2-1.43.59L10.3 9.45l-7.72 7.72c-.78.78-.78 2.05 0 2.83L4 21.41c.39.39.9.59 1.41.59.51 0 1.02-.2 1.41-.59l7.78-7.78 2.81-2.81c.8-.78.8-2.07 0-2.86zM5.41 20L4 18.59l7.72-7.72 1.47 1.35L5.41 20z\"/>\n",
              "  </svg>\n",
              "      </button>\n",
              "      \n",
              "  <style>\n",
              "    .colab-df-container {\n",
              "      display:flex;\n",
              "      flex-wrap:wrap;\n",
              "      gap: 12px;\n",
              "    }\n",
              "\n",
              "    .colab-df-convert {\n",
              "      background-color: #E8F0FE;\n",
              "      border: none;\n",
              "      border-radius: 50%;\n",
              "      cursor: pointer;\n",
              "      display: none;\n",
              "      fill: #1967D2;\n",
              "      height: 32px;\n",
              "      padding: 0 0 0 0;\n",
              "      width: 32px;\n",
              "    }\n",
              "\n",
              "    .colab-df-convert:hover {\n",
              "      background-color: #E2EBFA;\n",
              "      box-shadow: 0px 1px 2px rgba(60, 64, 67, 0.3), 0px 1px 3px 1px rgba(60, 64, 67, 0.15);\n",
              "      fill: #174EA6;\n",
              "    }\n",
              "\n",
              "    [theme=dark] .colab-df-convert {\n",
              "      background-color: #3B4455;\n",
              "      fill: #D2E3FC;\n",
              "    }\n",
              "\n",
              "    [theme=dark] .colab-df-convert:hover {\n",
              "      background-color: #434B5C;\n",
              "      box-shadow: 0px 1px 3px 1px rgba(0, 0, 0, 0.15);\n",
              "      filter: drop-shadow(0px 1px 2px rgba(0, 0, 0, 0.3));\n",
              "      fill: #FFFFFF;\n",
              "    }\n",
              "  </style>\n",
              "\n",
              "      <script>\n",
              "        const buttonEl =\n",
              "          document.querySelector('#df-1a1fec0b-4f55-4aef-9896-bdd2811ab2a5 button.colab-df-convert');\n",
              "        buttonEl.style.display =\n",
              "          google.colab.kernel.accessAllowed ? 'block' : 'none';\n",
              "\n",
              "        async function convertToInteractive(key) {\n",
              "          const element = document.querySelector('#df-1a1fec0b-4f55-4aef-9896-bdd2811ab2a5');\n",
              "          const dataTable =\n",
              "            await google.colab.kernel.invokeFunction('convertToInteractive',\n",
              "                                                     [key], {});\n",
              "          if (!dataTable) return;\n",
              "\n",
              "          const docLinkHtml = 'Like what you see? Visit the ' +\n",
              "            '<a target=\"_blank\" href=https://colab.research.google.com/notebooks/data_table.ipynb>data table notebook</a>'\n",
              "            + ' to learn more about interactive tables.';\n",
              "          element.innerHTML = '';\n",
              "          dataTable['output_type'] = 'display_data';\n",
              "          await google.colab.output.renderOutput(dataTable, element);\n",
              "          const docLink = document.createElement('div');\n",
              "          docLink.innerHTML = docLinkHtml;\n",
              "          element.appendChild(docLink);\n",
              "        }\n",
              "      </script>\n",
              "    </div>\n",
              "  </div>\n",
              "  "
            ]
          },
          "metadata": {},
          "execution_count": 58
        }
      ]
    },
    {
      "cell_type": "code",
      "source": [
        "test_prophet.head()"
      ],
      "metadata": {
        "colab": {
          "base_uri": "https://localhost:8080/",
          "height": 206
        },
        "id": "PY2Kg3otUJ2L",
        "outputId": "4ac34d38-7006-4909-dfd0-4b2719bc56e1"
      },
      "execution_count": 59,
      "outputs": [
        {
          "output_type": "execute_result",
          "data": {
            "text/plain": [
              "          ds           y\n",
              "0 2019-02-17  308.894000\n",
              "1 2019-02-24  298.535004\n",
              "2 2019-03-03  305.207996\n",
              "3 2019-03-10  279.773999\n",
              "4 2019-03-17  285.725995"
            ],
            "text/html": [
              "\n",
              "  <div id=\"df-f6446cb6-f828-4828-94f2-4aa8432ea61d\">\n",
              "    <div class=\"colab-df-container\">\n",
              "      <div>\n",
              "<style scoped>\n",
              "    .dataframe tbody tr th:only-of-type {\n",
              "        vertical-align: middle;\n",
              "    }\n",
              "\n",
              "    .dataframe tbody tr th {\n",
              "        vertical-align: top;\n",
              "    }\n",
              "\n",
              "    .dataframe thead th {\n",
              "        text-align: right;\n",
              "    }\n",
              "</style>\n",
              "<table border=\"1\" class=\"dataframe\">\n",
              "  <thead>\n",
              "    <tr style=\"text-align: right;\">\n",
              "      <th></th>\n",
              "      <th>ds</th>\n",
              "      <th>y</th>\n",
              "    </tr>\n",
              "  </thead>\n",
              "  <tbody>\n",
              "    <tr>\n",
              "      <th>0</th>\n",
              "      <td>2019-02-17</td>\n",
              "      <td>308.894000</td>\n",
              "    </tr>\n",
              "    <tr>\n",
              "      <th>1</th>\n",
              "      <td>2019-02-24</td>\n",
              "      <td>298.535004</td>\n",
              "    </tr>\n",
              "    <tr>\n",
              "      <th>2</th>\n",
              "      <td>2019-03-03</td>\n",
              "      <td>305.207996</td>\n",
              "    </tr>\n",
              "    <tr>\n",
              "      <th>3</th>\n",
              "      <td>2019-03-10</td>\n",
              "      <td>279.773999</td>\n",
              "    </tr>\n",
              "    <tr>\n",
              "      <th>4</th>\n",
              "      <td>2019-03-17</td>\n",
              "      <td>285.725995</td>\n",
              "    </tr>\n",
              "  </tbody>\n",
              "</table>\n",
              "</div>\n",
              "      <button class=\"colab-df-convert\" onclick=\"convertToInteractive('df-f6446cb6-f828-4828-94f2-4aa8432ea61d')\"\n",
              "              title=\"Convert this dataframe to an interactive table.\"\n",
              "              style=\"display:none;\">\n",
              "        \n",
              "  <svg xmlns=\"http://www.w3.org/2000/svg\" height=\"24px\"viewBox=\"0 0 24 24\"\n",
              "       width=\"24px\">\n",
              "    <path d=\"M0 0h24v24H0V0z\" fill=\"none\"/>\n",
              "    <path d=\"M18.56 5.44l.94 2.06.94-2.06 2.06-.94-2.06-.94-.94-2.06-.94 2.06-2.06.94zm-11 1L8.5 8.5l.94-2.06 2.06-.94-2.06-.94L8.5 2.5l-.94 2.06-2.06.94zm10 10l.94 2.06.94-2.06 2.06-.94-2.06-.94-.94-2.06-.94 2.06-2.06.94z\"/><path d=\"M17.41 7.96l-1.37-1.37c-.4-.4-.92-.59-1.43-.59-.52 0-1.04.2-1.43.59L10.3 9.45l-7.72 7.72c-.78.78-.78 2.05 0 2.83L4 21.41c.39.39.9.59 1.41.59.51 0 1.02-.2 1.41-.59l7.78-7.78 2.81-2.81c.8-.78.8-2.07 0-2.86zM5.41 20L4 18.59l7.72-7.72 1.47 1.35L5.41 20z\"/>\n",
              "  </svg>\n",
              "      </button>\n",
              "      \n",
              "  <style>\n",
              "    .colab-df-container {\n",
              "      display:flex;\n",
              "      flex-wrap:wrap;\n",
              "      gap: 12px;\n",
              "    }\n",
              "\n",
              "    .colab-df-convert {\n",
              "      background-color: #E8F0FE;\n",
              "      border: none;\n",
              "      border-radius: 50%;\n",
              "      cursor: pointer;\n",
              "      display: none;\n",
              "      fill: #1967D2;\n",
              "      height: 32px;\n",
              "      padding: 0 0 0 0;\n",
              "      width: 32px;\n",
              "    }\n",
              "\n",
              "    .colab-df-convert:hover {\n",
              "      background-color: #E2EBFA;\n",
              "      box-shadow: 0px 1px 2px rgba(60, 64, 67, 0.3), 0px 1px 3px 1px rgba(60, 64, 67, 0.15);\n",
              "      fill: #174EA6;\n",
              "    }\n",
              "\n",
              "    [theme=dark] .colab-df-convert {\n",
              "      background-color: #3B4455;\n",
              "      fill: #D2E3FC;\n",
              "    }\n",
              "\n",
              "    [theme=dark] .colab-df-convert:hover {\n",
              "      background-color: #434B5C;\n",
              "      box-shadow: 0px 1px 3px 1px rgba(0, 0, 0, 0.15);\n",
              "      filter: drop-shadow(0px 1px 2px rgba(0, 0, 0, 0.3));\n",
              "      fill: #FFFFFF;\n",
              "    }\n",
              "  </style>\n",
              "\n",
              "      <script>\n",
              "        const buttonEl =\n",
              "          document.querySelector('#df-f6446cb6-f828-4828-94f2-4aa8432ea61d button.colab-df-convert');\n",
              "        buttonEl.style.display =\n",
              "          google.colab.kernel.accessAllowed ? 'block' : 'none';\n",
              "\n",
              "        async function convertToInteractive(key) {\n",
              "          const element = document.querySelector('#df-f6446cb6-f828-4828-94f2-4aa8432ea61d');\n",
              "          const dataTable =\n",
              "            await google.colab.kernel.invokeFunction('convertToInteractive',\n",
              "                                                     [key], {});\n",
              "          if (!dataTable) return;\n",
              "\n",
              "          const docLinkHtml = 'Like what you see? Visit the ' +\n",
              "            '<a target=\"_blank\" href=https://colab.research.google.com/notebooks/data_table.ipynb>data table notebook</a>'\n",
              "            + ' to learn more about interactive tables.';\n",
              "          element.innerHTML = '';\n",
              "          dataTable['output_type'] = 'display_data';\n",
              "          await google.colab.output.renderOutput(dataTable, element);\n",
              "          const docLink = document.createElement('div');\n",
              "          docLink.innerHTML = docLinkHtml;\n",
              "          element.appendChild(docLink);\n",
              "        }\n",
              "      </script>\n",
              "    </div>\n",
              "  </div>\n",
              "  "
            ]
          },
          "metadata": {},
          "execution_count": 59
        }
      ]
    },
    {
      "cell_type": "code",
      "source": [
        "model = Prophet()\n",
        "model.fit(train_prophet) # подогнали модель под наши данные"
      ],
      "metadata": {
        "colab": {
          "base_uri": "https://localhost:8080/"
        },
        "id": "6ML-UhEzMDVu",
        "outputId": "815913fd-a5bc-47e3-83c7-85047d958437"
      },
      "execution_count": 60,
      "outputs": [
        {
          "output_type": "stream",
          "name": "stderr",
          "text": [
            "INFO:fbprophet:Disabling weekly seasonality. Run prophet with weekly_seasonality=True to override this.\n",
            "INFO:fbprophet:Disabling daily seasonality. Run prophet with daily_seasonality=True to override this.\n"
          ]
        },
        {
          "output_type": "execute_result",
          "data": {
            "text/plain": [
              "<fbprophet.forecaster.Prophet at 0x7f82bba1c350>"
            ]
          },
          "metadata": {},
          "execution_count": 60
        }
      ]
    },
    {
      "cell_type": "markdown",
      "source": [
        "Промежуточные выводы:\n",
        "\n",
        "Алгоритм проигнорировал, выбирая параметры Disabling weekly seasonality. Run prophet with weekly_seasonality=True to override this.\n",
        "недельную сезонность \n",
        "INFO:fbprophet:Disabling daily seasonality. Run prophet with daily_seasonality=True to override this.\n",
        "дневную сезонность (дневная сезонность может использоваться в случае, если данные собираются по часам/минутам, в нашем случае данные представлены по неделям).\n",
        "Зато он обнаружил годовую сезонность и использовал его при настройке модели."
      ],
      "metadata": {
        "id": "NWKy4FIRMf-j"
      }
    },
    {
      "cell_type": "code",
      "source": [
        "future = model.make_future_dataframe(periods=52, freq='W') # говорим профету сделать дата-фрейм на 52 недели\n",
        "future.tail() # выводим 5 строк с конца"
      ],
      "metadata": {
        "colab": {
          "base_uri": "https://localhost:8080/",
          "height": 206
        },
        "id": "PQqP7LXcM2eU",
        "outputId": "9ec43c6c-863f-41a4-bc9d-0b289b167709"
      },
      "execution_count": 61,
      "outputs": [
        {
          "output_type": "execute_result",
          "data": {
            "text/plain": [
              "            ds\n",
              "497 2020-01-12\n",
              "498 2020-01-19\n",
              "499 2020-01-26\n",
              "500 2020-02-02\n",
              "501 2020-02-09"
            ],
            "text/html": [
              "\n",
              "  <div id=\"df-3bd7e2e8-9f2f-4334-9826-55367300494b\">\n",
              "    <div class=\"colab-df-container\">\n",
              "      <div>\n",
              "<style scoped>\n",
              "    .dataframe tbody tr th:only-of-type {\n",
              "        vertical-align: middle;\n",
              "    }\n",
              "\n",
              "    .dataframe tbody tr th {\n",
              "        vertical-align: top;\n",
              "    }\n",
              "\n",
              "    .dataframe thead th {\n",
              "        text-align: right;\n",
              "    }\n",
              "</style>\n",
              "<table border=\"1\" class=\"dataframe\">\n",
              "  <thead>\n",
              "    <tr style=\"text-align: right;\">\n",
              "      <th></th>\n",
              "      <th>ds</th>\n",
              "    </tr>\n",
              "  </thead>\n",
              "  <tbody>\n",
              "    <tr>\n",
              "      <th>497</th>\n",
              "      <td>2020-01-12</td>\n",
              "    </tr>\n",
              "    <tr>\n",
              "      <th>498</th>\n",
              "      <td>2020-01-19</td>\n",
              "    </tr>\n",
              "    <tr>\n",
              "      <th>499</th>\n",
              "      <td>2020-01-26</td>\n",
              "    </tr>\n",
              "    <tr>\n",
              "      <th>500</th>\n",
              "      <td>2020-02-02</td>\n",
              "    </tr>\n",
              "    <tr>\n",
              "      <th>501</th>\n",
              "      <td>2020-02-09</td>\n",
              "    </tr>\n",
              "  </tbody>\n",
              "</table>\n",
              "</div>\n",
              "      <button class=\"colab-df-convert\" onclick=\"convertToInteractive('df-3bd7e2e8-9f2f-4334-9826-55367300494b')\"\n",
              "              title=\"Convert this dataframe to an interactive table.\"\n",
              "              style=\"display:none;\">\n",
              "        \n",
              "  <svg xmlns=\"http://www.w3.org/2000/svg\" height=\"24px\"viewBox=\"0 0 24 24\"\n",
              "       width=\"24px\">\n",
              "    <path d=\"M0 0h24v24H0V0z\" fill=\"none\"/>\n",
              "    <path d=\"M18.56 5.44l.94 2.06.94-2.06 2.06-.94-2.06-.94-.94-2.06-.94 2.06-2.06.94zm-11 1L8.5 8.5l.94-2.06 2.06-.94-2.06-.94L8.5 2.5l-.94 2.06-2.06.94zm10 10l.94 2.06.94-2.06 2.06-.94-2.06-.94-.94-2.06-.94 2.06-2.06.94z\"/><path d=\"M17.41 7.96l-1.37-1.37c-.4-.4-.92-.59-1.43-.59-.52 0-1.04.2-1.43.59L10.3 9.45l-7.72 7.72c-.78.78-.78 2.05 0 2.83L4 21.41c.39.39.9.59 1.41.59.51 0 1.02-.2 1.41-.59l7.78-7.78 2.81-2.81c.8-.78.8-2.07 0-2.86zM5.41 20L4 18.59l7.72-7.72 1.47 1.35L5.41 20z\"/>\n",
              "  </svg>\n",
              "      </button>\n",
              "      \n",
              "  <style>\n",
              "    .colab-df-container {\n",
              "      display:flex;\n",
              "      flex-wrap:wrap;\n",
              "      gap: 12px;\n",
              "    }\n",
              "\n",
              "    .colab-df-convert {\n",
              "      background-color: #E8F0FE;\n",
              "      border: none;\n",
              "      border-radius: 50%;\n",
              "      cursor: pointer;\n",
              "      display: none;\n",
              "      fill: #1967D2;\n",
              "      height: 32px;\n",
              "      padding: 0 0 0 0;\n",
              "      width: 32px;\n",
              "    }\n",
              "\n",
              "    .colab-df-convert:hover {\n",
              "      background-color: #E2EBFA;\n",
              "      box-shadow: 0px 1px 2px rgba(60, 64, 67, 0.3), 0px 1px 3px 1px rgba(60, 64, 67, 0.15);\n",
              "      fill: #174EA6;\n",
              "    }\n",
              "\n",
              "    [theme=dark] .colab-df-convert {\n",
              "      background-color: #3B4455;\n",
              "      fill: #D2E3FC;\n",
              "    }\n",
              "\n",
              "    [theme=dark] .colab-df-convert:hover {\n",
              "      background-color: #434B5C;\n",
              "      box-shadow: 0px 1px 3px 1px rgba(0, 0, 0, 0.15);\n",
              "      filter: drop-shadow(0px 1px 2px rgba(0, 0, 0, 0.3));\n",
              "      fill: #FFFFFF;\n",
              "    }\n",
              "  </style>\n",
              "\n",
              "      <script>\n",
              "        const buttonEl =\n",
              "          document.querySelector('#df-3bd7e2e8-9f2f-4334-9826-55367300494b button.colab-df-convert');\n",
              "        buttonEl.style.display =\n",
              "          google.colab.kernel.accessAllowed ? 'block' : 'none';\n",
              "\n",
              "        async function convertToInteractive(key) {\n",
              "          const element = document.querySelector('#df-3bd7e2e8-9f2f-4334-9826-55367300494b');\n",
              "          const dataTable =\n",
              "            await google.colab.kernel.invokeFunction('convertToInteractive',\n",
              "                                                     [key], {});\n",
              "          if (!dataTable) return;\n",
              "\n",
              "          const docLinkHtml = 'Like what you see? Visit the ' +\n",
              "            '<a target=\"_blank\" href=https://colab.research.google.com/notebooks/data_table.ipynb>data table notebook</a>'\n",
              "            + ' to learn more about interactive tables.';\n",
              "          element.innerHTML = '';\n",
              "          dataTable['output_type'] = 'display_data';\n",
              "          await google.colab.output.renderOutput(dataTable, element);\n",
              "          const docLink = document.createElement('div');\n",
              "          docLink.innerHTML = docLinkHtml;\n",
              "          element.appendChild(docLink);\n",
              "        }\n",
              "      </script>\n",
              "    </div>\n",
              "  </div>\n",
              "  "
            ]
          },
          "metadata": {},
          "execution_count": 61
        }
      ]
    },
    {
      "cell_type": "code",
      "source": [
        "# предсказываем значения по модели, доверительный интервал по умолчанию 95%\n",
        "forecast = model.predict(future)\n",
        "forecast.head() # возвращает много колонок"
      ],
      "metadata": {
        "colab": {
          "base_uri": "https://localhost:8080/",
          "height": 357
        },
        "id": "WyepBl9TOExj",
        "outputId": "b1aa0e64-1e82-4979-8c77-48d62ca546cf"
      },
      "execution_count": 62,
      "outputs": [
        {
          "output_type": "execute_result",
          "data": {
            "text/plain": [
              "          ds      trend  yhat_lower  yhat_upper  trend_lower  trend_upper  \\\n",
              "0 2010-07-04  14.102822   -9.903262   63.441812    14.102822    14.102822   \n",
              "1 2010-07-11  14.299796  -11.305378   61.033991    14.299796    14.299796   \n",
              "2 2010-07-18  14.496770  -16.691840   57.473466    14.496770    14.496770   \n",
              "3 2010-07-25  14.693744  -16.710430   57.434945    14.693744    14.693744   \n",
              "4 2010-08-01  14.890718  -12.393239   64.029458    14.890718    14.890718   \n",
              "\n",
              "   additive_terms  additive_terms_lower  additive_terms_upper     yearly  \\\n",
              "0       14.504065             14.504065             14.504065  14.504065   \n",
              "1        9.764111              9.764111              9.764111   9.764111   \n",
              "2        6.599945              6.599945              6.599945   6.599945   \n",
              "3        6.908344              6.908344              6.908344   6.908344   \n",
              "4       10.151016             10.151016             10.151016  10.151016   \n",
              "\n",
              "   yearly_lower  yearly_upper  multiplicative_terms  \\\n",
              "0     14.504065     14.504065                   0.0   \n",
              "1      9.764111      9.764111                   0.0   \n",
              "2      6.599945      6.599945                   0.0   \n",
              "3      6.908344      6.908344                   0.0   \n",
              "4     10.151016     10.151016                   0.0   \n",
              "\n",
              "   multiplicative_terms_lower  multiplicative_terms_upper       yhat  \n",
              "0                         0.0                         0.0  28.606886  \n",
              "1                         0.0                         0.0  24.063907  \n",
              "2                         0.0                         0.0  21.096715  \n",
              "3                         0.0                         0.0  21.602088  \n",
              "4                         0.0                         0.0  25.041734  "
            ],
            "text/html": [
              "\n",
              "  <div id=\"df-74dcbae2-6795-4fd4-b495-0eedb54bd27a\">\n",
              "    <div class=\"colab-df-container\">\n",
              "      <div>\n",
              "<style scoped>\n",
              "    .dataframe tbody tr th:only-of-type {\n",
              "        vertical-align: middle;\n",
              "    }\n",
              "\n",
              "    .dataframe tbody tr th {\n",
              "        vertical-align: top;\n",
              "    }\n",
              "\n",
              "    .dataframe thead th {\n",
              "        text-align: right;\n",
              "    }\n",
              "</style>\n",
              "<table border=\"1\" class=\"dataframe\">\n",
              "  <thead>\n",
              "    <tr style=\"text-align: right;\">\n",
              "      <th></th>\n",
              "      <th>ds</th>\n",
              "      <th>trend</th>\n",
              "      <th>yhat_lower</th>\n",
              "      <th>yhat_upper</th>\n",
              "      <th>trend_lower</th>\n",
              "      <th>trend_upper</th>\n",
              "      <th>additive_terms</th>\n",
              "      <th>additive_terms_lower</th>\n",
              "      <th>additive_terms_upper</th>\n",
              "      <th>yearly</th>\n",
              "      <th>yearly_lower</th>\n",
              "      <th>yearly_upper</th>\n",
              "      <th>multiplicative_terms</th>\n",
              "      <th>multiplicative_terms_lower</th>\n",
              "      <th>multiplicative_terms_upper</th>\n",
              "      <th>yhat</th>\n",
              "    </tr>\n",
              "  </thead>\n",
              "  <tbody>\n",
              "    <tr>\n",
              "      <th>0</th>\n",
              "      <td>2010-07-04</td>\n",
              "      <td>14.102822</td>\n",
              "      <td>-9.903262</td>\n",
              "      <td>63.441812</td>\n",
              "      <td>14.102822</td>\n",
              "      <td>14.102822</td>\n",
              "      <td>14.504065</td>\n",
              "      <td>14.504065</td>\n",
              "      <td>14.504065</td>\n",
              "      <td>14.504065</td>\n",
              "      <td>14.504065</td>\n",
              "      <td>14.504065</td>\n",
              "      <td>0.0</td>\n",
              "      <td>0.0</td>\n",
              "      <td>0.0</td>\n",
              "      <td>28.606886</td>\n",
              "    </tr>\n",
              "    <tr>\n",
              "      <th>1</th>\n",
              "      <td>2010-07-11</td>\n",
              "      <td>14.299796</td>\n",
              "      <td>-11.305378</td>\n",
              "      <td>61.033991</td>\n",
              "      <td>14.299796</td>\n",
              "      <td>14.299796</td>\n",
              "      <td>9.764111</td>\n",
              "      <td>9.764111</td>\n",
              "      <td>9.764111</td>\n",
              "      <td>9.764111</td>\n",
              "      <td>9.764111</td>\n",
              "      <td>9.764111</td>\n",
              "      <td>0.0</td>\n",
              "      <td>0.0</td>\n",
              "      <td>0.0</td>\n",
              "      <td>24.063907</td>\n",
              "    </tr>\n",
              "    <tr>\n",
              "      <th>2</th>\n",
              "      <td>2010-07-18</td>\n",
              "      <td>14.496770</td>\n",
              "      <td>-16.691840</td>\n",
              "      <td>57.473466</td>\n",
              "      <td>14.496770</td>\n",
              "      <td>14.496770</td>\n",
              "      <td>6.599945</td>\n",
              "      <td>6.599945</td>\n",
              "      <td>6.599945</td>\n",
              "      <td>6.599945</td>\n",
              "      <td>6.599945</td>\n",
              "      <td>6.599945</td>\n",
              "      <td>0.0</td>\n",
              "      <td>0.0</td>\n",
              "      <td>0.0</td>\n",
              "      <td>21.096715</td>\n",
              "    </tr>\n",
              "    <tr>\n",
              "      <th>3</th>\n",
              "      <td>2010-07-25</td>\n",
              "      <td>14.693744</td>\n",
              "      <td>-16.710430</td>\n",
              "      <td>57.434945</td>\n",
              "      <td>14.693744</td>\n",
              "      <td>14.693744</td>\n",
              "      <td>6.908344</td>\n",
              "      <td>6.908344</td>\n",
              "      <td>6.908344</td>\n",
              "      <td>6.908344</td>\n",
              "      <td>6.908344</td>\n",
              "      <td>6.908344</td>\n",
              "      <td>0.0</td>\n",
              "      <td>0.0</td>\n",
              "      <td>0.0</td>\n",
              "      <td>21.602088</td>\n",
              "    </tr>\n",
              "    <tr>\n",
              "      <th>4</th>\n",
              "      <td>2010-08-01</td>\n",
              "      <td>14.890718</td>\n",
              "      <td>-12.393239</td>\n",
              "      <td>64.029458</td>\n",
              "      <td>14.890718</td>\n",
              "      <td>14.890718</td>\n",
              "      <td>10.151016</td>\n",
              "      <td>10.151016</td>\n",
              "      <td>10.151016</td>\n",
              "      <td>10.151016</td>\n",
              "      <td>10.151016</td>\n",
              "      <td>10.151016</td>\n",
              "      <td>0.0</td>\n",
              "      <td>0.0</td>\n",
              "      <td>0.0</td>\n",
              "      <td>25.041734</td>\n",
              "    </tr>\n",
              "  </tbody>\n",
              "</table>\n",
              "</div>\n",
              "      <button class=\"colab-df-convert\" onclick=\"convertToInteractive('df-74dcbae2-6795-4fd4-b495-0eedb54bd27a')\"\n",
              "              title=\"Convert this dataframe to an interactive table.\"\n",
              "              style=\"display:none;\">\n",
              "        \n",
              "  <svg xmlns=\"http://www.w3.org/2000/svg\" height=\"24px\"viewBox=\"0 0 24 24\"\n",
              "       width=\"24px\">\n",
              "    <path d=\"M0 0h24v24H0V0z\" fill=\"none\"/>\n",
              "    <path d=\"M18.56 5.44l.94 2.06.94-2.06 2.06-.94-2.06-.94-.94-2.06-.94 2.06-2.06.94zm-11 1L8.5 8.5l.94-2.06 2.06-.94-2.06-.94L8.5 2.5l-.94 2.06-2.06.94zm10 10l.94 2.06.94-2.06 2.06-.94-2.06-.94-.94-2.06-.94 2.06-2.06.94z\"/><path d=\"M17.41 7.96l-1.37-1.37c-.4-.4-.92-.59-1.43-.59-.52 0-1.04.2-1.43.59L10.3 9.45l-7.72 7.72c-.78.78-.78 2.05 0 2.83L4 21.41c.39.39.9.59 1.41.59.51 0 1.02-.2 1.41-.59l7.78-7.78 2.81-2.81c.8-.78.8-2.07 0-2.86zM5.41 20L4 18.59l7.72-7.72 1.47 1.35L5.41 20z\"/>\n",
              "  </svg>\n",
              "      </button>\n",
              "      \n",
              "  <style>\n",
              "    .colab-df-container {\n",
              "      display:flex;\n",
              "      flex-wrap:wrap;\n",
              "      gap: 12px;\n",
              "    }\n",
              "\n",
              "    .colab-df-convert {\n",
              "      background-color: #E8F0FE;\n",
              "      border: none;\n",
              "      border-radius: 50%;\n",
              "      cursor: pointer;\n",
              "      display: none;\n",
              "      fill: #1967D2;\n",
              "      height: 32px;\n",
              "      padding: 0 0 0 0;\n",
              "      width: 32px;\n",
              "    }\n",
              "\n",
              "    .colab-df-convert:hover {\n",
              "      background-color: #E2EBFA;\n",
              "      box-shadow: 0px 1px 2px rgba(60, 64, 67, 0.3), 0px 1px 3px 1px rgba(60, 64, 67, 0.15);\n",
              "      fill: #174EA6;\n",
              "    }\n",
              "\n",
              "    [theme=dark] .colab-df-convert {\n",
              "      background-color: #3B4455;\n",
              "      fill: #D2E3FC;\n",
              "    }\n",
              "\n",
              "    [theme=dark] .colab-df-convert:hover {\n",
              "      background-color: #434B5C;\n",
              "      box-shadow: 0px 1px 3px 1px rgba(0, 0, 0, 0.15);\n",
              "      filter: drop-shadow(0px 1px 2px rgba(0, 0, 0, 0.3));\n",
              "      fill: #FFFFFF;\n",
              "    }\n",
              "  </style>\n",
              "\n",
              "      <script>\n",
              "        const buttonEl =\n",
              "          document.querySelector('#df-74dcbae2-6795-4fd4-b495-0eedb54bd27a button.colab-df-convert');\n",
              "        buttonEl.style.display =\n",
              "          google.colab.kernel.accessAllowed ? 'block' : 'none';\n",
              "\n",
              "        async function convertToInteractive(key) {\n",
              "          const element = document.querySelector('#df-74dcbae2-6795-4fd4-b495-0eedb54bd27a');\n",
              "          const dataTable =\n",
              "            await google.colab.kernel.invokeFunction('convertToInteractive',\n",
              "                                                     [key], {});\n",
              "          if (!dataTable) return;\n",
              "\n",
              "          const docLinkHtml = 'Like what you see? Visit the ' +\n",
              "            '<a target=\"_blank\" href=https://colab.research.google.com/notebooks/data_table.ipynb>data table notebook</a>'\n",
              "            + ' to learn more about interactive tables.';\n",
              "          element.innerHTML = '';\n",
              "          dataTable['output_type'] = 'display_data';\n",
              "          await google.colab.output.renderOutput(dataTable, element);\n",
              "          const docLink = document.createElement('div');\n",
              "          docLink.innerHTML = docLinkHtml;\n",
              "          element.appendChild(docLink);\n",
              "        }\n",
              "      </script>\n",
              "    </div>\n",
              "  </div>\n",
              "  "
            ]
          },
          "metadata": {},
          "execution_count": 62
        }
      ]
    },
    {
      "cell_type": "markdown",
      "source": [
        "Основные поля в прогнозе следующие:\n",
        "\n",
        "ds — дата прогноза\n",
        "\n",
        "yhat — спрогнозированное значение\n",
        "\n",
        "yhat_lower — нижняя граница доверительного интервала для прогноза\n",
        "\n",
        "yhat_upper — верхняя граница доверительного интервала для прогноза"
      ],
      "metadata": {
        "id": "IP4RAzN6RAH4"
      }
    },
    {
      "cell_type": "code",
      "source": [
        "forecast[['ds', 'yhat', 'yhat_lower', 'yhat_upper']].tail() # оставим только нужные"
      ],
      "metadata": {
        "colab": {
          "base_uri": "https://localhost:8080/",
          "height": 206
        },
        "id": "85wT2k1NRBHd",
        "outputId": "1fd58a20-40be-4b95-d23d-f2070cc3b290"
      },
      "execution_count": 63,
      "outputs": [
        {
          "output_type": "execute_result",
          "data": {
            "text/plain": [
              "            ds        yhat  yhat_lower  yhat_upper\n",
              "497 2020-01-12  374.109753  338.206936  412.177377\n",
              "498 2020-01-19  375.438408  339.471687  416.084629\n",
              "499 2020-01-26  375.666032  337.296351  416.197112\n",
              "500 2020-02-02  374.896916  335.934794  413.283820\n",
              "501 2020-02-09  375.079916  333.018926  414.103683"
            ],
            "text/html": [
              "\n",
              "  <div id=\"df-da32f11e-6598-4064-85ef-3343859501d0\">\n",
              "    <div class=\"colab-df-container\">\n",
              "      <div>\n",
              "<style scoped>\n",
              "    .dataframe tbody tr th:only-of-type {\n",
              "        vertical-align: middle;\n",
              "    }\n",
              "\n",
              "    .dataframe tbody tr th {\n",
              "        vertical-align: top;\n",
              "    }\n",
              "\n",
              "    .dataframe thead th {\n",
              "        text-align: right;\n",
              "    }\n",
              "</style>\n",
              "<table border=\"1\" class=\"dataframe\">\n",
              "  <thead>\n",
              "    <tr style=\"text-align: right;\">\n",
              "      <th></th>\n",
              "      <th>ds</th>\n",
              "      <th>yhat</th>\n",
              "      <th>yhat_lower</th>\n",
              "      <th>yhat_upper</th>\n",
              "    </tr>\n",
              "  </thead>\n",
              "  <tbody>\n",
              "    <tr>\n",
              "      <th>497</th>\n",
              "      <td>2020-01-12</td>\n",
              "      <td>374.109753</td>\n",
              "      <td>338.206936</td>\n",
              "      <td>412.177377</td>\n",
              "    </tr>\n",
              "    <tr>\n",
              "      <th>498</th>\n",
              "      <td>2020-01-19</td>\n",
              "      <td>375.438408</td>\n",
              "      <td>339.471687</td>\n",
              "      <td>416.084629</td>\n",
              "    </tr>\n",
              "    <tr>\n",
              "      <th>499</th>\n",
              "      <td>2020-01-26</td>\n",
              "      <td>375.666032</td>\n",
              "      <td>337.296351</td>\n",
              "      <td>416.197112</td>\n",
              "    </tr>\n",
              "    <tr>\n",
              "      <th>500</th>\n",
              "      <td>2020-02-02</td>\n",
              "      <td>374.896916</td>\n",
              "      <td>335.934794</td>\n",
              "      <td>413.283820</td>\n",
              "    </tr>\n",
              "    <tr>\n",
              "      <th>501</th>\n",
              "      <td>2020-02-09</td>\n",
              "      <td>375.079916</td>\n",
              "      <td>333.018926</td>\n",
              "      <td>414.103683</td>\n",
              "    </tr>\n",
              "  </tbody>\n",
              "</table>\n",
              "</div>\n",
              "      <button class=\"colab-df-convert\" onclick=\"convertToInteractive('df-da32f11e-6598-4064-85ef-3343859501d0')\"\n",
              "              title=\"Convert this dataframe to an interactive table.\"\n",
              "              style=\"display:none;\">\n",
              "        \n",
              "  <svg xmlns=\"http://www.w3.org/2000/svg\" height=\"24px\"viewBox=\"0 0 24 24\"\n",
              "       width=\"24px\">\n",
              "    <path d=\"M0 0h24v24H0V0z\" fill=\"none\"/>\n",
              "    <path d=\"M18.56 5.44l.94 2.06.94-2.06 2.06-.94-2.06-.94-.94-2.06-.94 2.06-2.06.94zm-11 1L8.5 8.5l.94-2.06 2.06-.94-2.06-.94L8.5 2.5l-.94 2.06-2.06.94zm10 10l.94 2.06.94-2.06 2.06-.94-2.06-.94-.94-2.06-.94 2.06-2.06.94z\"/><path d=\"M17.41 7.96l-1.37-1.37c-.4-.4-.92-.59-1.43-.59-.52 0-1.04.2-1.43.59L10.3 9.45l-7.72 7.72c-.78.78-.78 2.05 0 2.83L4 21.41c.39.39.9.59 1.41.59.51 0 1.02-.2 1.41-.59l7.78-7.78 2.81-2.81c.8-.78.8-2.07 0-2.86zM5.41 20L4 18.59l7.72-7.72 1.47 1.35L5.41 20z\"/>\n",
              "  </svg>\n",
              "      </button>\n",
              "      \n",
              "  <style>\n",
              "    .colab-df-container {\n",
              "      display:flex;\n",
              "      flex-wrap:wrap;\n",
              "      gap: 12px;\n",
              "    }\n",
              "\n",
              "    .colab-df-convert {\n",
              "      background-color: #E8F0FE;\n",
              "      border: none;\n",
              "      border-radius: 50%;\n",
              "      cursor: pointer;\n",
              "      display: none;\n",
              "      fill: #1967D2;\n",
              "      height: 32px;\n",
              "      padding: 0 0 0 0;\n",
              "      width: 32px;\n",
              "    }\n",
              "\n",
              "    .colab-df-convert:hover {\n",
              "      background-color: #E2EBFA;\n",
              "      box-shadow: 0px 1px 2px rgba(60, 64, 67, 0.3), 0px 1px 3px 1px rgba(60, 64, 67, 0.15);\n",
              "      fill: #174EA6;\n",
              "    }\n",
              "\n",
              "    [theme=dark] .colab-df-convert {\n",
              "      background-color: #3B4455;\n",
              "      fill: #D2E3FC;\n",
              "    }\n",
              "\n",
              "    [theme=dark] .colab-df-convert:hover {\n",
              "      background-color: #434B5C;\n",
              "      box-shadow: 0px 1px 3px 1px rgba(0, 0, 0, 0.15);\n",
              "      filter: drop-shadow(0px 1px 2px rgba(0, 0, 0, 0.3));\n",
              "      fill: #FFFFFF;\n",
              "    }\n",
              "  </style>\n",
              "\n",
              "      <script>\n",
              "        const buttonEl =\n",
              "          document.querySelector('#df-da32f11e-6598-4064-85ef-3343859501d0 button.colab-df-convert');\n",
              "        buttonEl.style.display =\n",
              "          google.colab.kernel.accessAllowed ? 'block' : 'none';\n",
              "\n",
              "        async function convertToInteractive(key) {\n",
              "          const element = document.querySelector('#df-da32f11e-6598-4064-85ef-3343859501d0');\n",
              "          const dataTable =\n",
              "            await google.colab.kernel.invokeFunction('convertToInteractive',\n",
              "                                                     [key], {});\n",
              "          if (!dataTable) return;\n",
              "\n",
              "          const docLinkHtml = 'Like what you see? Visit the ' +\n",
              "            '<a target=\"_blank\" href=https://colab.research.google.com/notebooks/data_table.ipynb>data table notebook</a>'\n",
              "            + ' to learn more about interactive tables.';\n",
              "          element.innerHTML = '';\n",
              "          dataTable['output_type'] = 'display_data';\n",
              "          await google.colab.output.renderOutput(dataTable, element);\n",
              "          const docLink = document.createElement('div');\n",
              "          docLink.innerHTML = docLinkHtml;\n",
              "          element.appendChild(docLink);\n",
              "        }\n",
              "      </script>\n",
              "    </div>\n",
              "  </div>\n",
              "  "
            ]
          },
          "metadata": {},
          "execution_count": 63
        }
      ]
    },
    {
      "cell_type": "markdown",
      "source": [
        "сравниваем прогноз и тестовую выборку, где черные точки - выборка"
      ],
      "metadata": {
        "id": "3-ZzcTDRRJAO"
      }
    },
    {
      "cell_type": "code",
      "source": [
        "model.plot(forecast);"
      ],
      "metadata": {
        "colab": {
          "base_uri": "https://localhost:8080/",
          "height": 441
        },
        "id": "zxW3xAiCRIqr",
        "outputId": "dfaa62f0-600a-4865-fa82-ef4fe3b17eb9"
      },
      "execution_count": 64,
      "outputs": [
        {
          "output_type": "display_data",
          "data": {
            "text/plain": [
              "<Figure size 720x432 with 1 Axes>"
            ],
            "image/png": "[encoded data removed]"
          },
          "metadata": {}
        }
      ]
    },
    {
      "cell_type": "markdown",
      "source": [
        "Кроме того, Prophet позволяет также наглядно разложить ряд на основные компоненты — тренд и сезонность:\n",
        "\n",
        "plot_components() — возвращает несколько графиков, среди которых тренд и столько сезонностей, сколько он найдет."
      ],
      "metadata": {
        "id": "zImrQSH4RVr4"
      }
    },
    {
      "cell_type": "code",
      "source": [
        "model.plot_components(forecast);"
      ],
      "metadata": {
        "colab": {
          "base_uri": "https://localhost:8080/",
          "height": 441
        },
        "id": "oy7pyvKqRYx2",
        "outputId": "c1283758-06c1-4cad-9369-a9c9b65fc4ec"
      },
      "execution_count": 65,
      "outputs": [
        {
          "output_type": "display_data",
          "data": {
            "text/plain": [
              "<Figure size 648x432 with 2 Axes>"
            ],
            "image/png": "[encoded data removed]"
          },
          "metadata": {}
        }
      ]
    },
    {
      "cell_type": "markdown",
      "source": [
        "Промежуточные выводы: Видим, наличие возрастающего тренда стоимости акций и годовую сезонность. Видим каким образом изменяются цены по месяцам."
      ],
      "metadata": {
        "id": "o7OEMKzLRhg3"
      }
    },
    {
      "cell_type": "code",
      "source": [
        "#оцениваем качество модели методом MSE, RMSE, MAE, MAPE\n",
        "\n",
        "mae_error = mean_absolute_error(test_prophet['y'], forecast['yhat'].tail(52))\n",
        "mse_error = mean_squared_error(test_prophet['y'], forecast['yhat'].tail(52))\n",
        "rmse_error = rmse(test_prophet['y'], forecast['yhat'].tail(52))\n",
        "mape_error = np.mean(np.abs(forecast['yhat'] - test_prophet['y'])/test_prophet['y'])*100\n",
        "\n",
        "print(f'Prophet MAE Error: {mae_error:11.10}')\n",
        "print(f'Prophet MSE Error: {mse_error:11.10}')\n",
        "print(f'Prophet RMSE Error: {rmse_error:11.10}')\n",
        "print(f'Prophet MAPE Error: {mape_error:11.10}')"
      ],
      "metadata": {
        "colab": {
          "base_uri": "https://localhost:8080/"
        },
        "id": "iCANhwVIRkso",
        "outputId": "2ecd10c8-6679-48b9-ad68-c69a1db05652"
      },
      "execution_count": 66,
      "outputs": [
        {
          "output_type": "stream",
          "name": "stdout",
          "text": [
            "Prophet MAE Error: 112.4549087\n",
            "Prophet MSE Error: 16967.94979\n",
            "Prophet RMSE Error: 130.2610832\n",
            "Prophet MAPE Error: 93.57245856\n"
          ]
        }
      ]
    },
    {
      "cell_type": "code",
      "source": [
        "# делаем прогноз на будущее - 1 год вперед\n",
        "\n",
        "# обучаем модель на всем датасете\n",
        "fut_model_prophet = Prophet(seasonality_mode='multiplicative')\n",
        "fut_model_prophet.fit(df3)\n",
        "\n",
        "# говорим профету сделать дата-фрейм на 1 год вперед\n",
        "fut_future_prophet = fut_model_prophet.make_future_dataframe(periods=52)\n",
        "fut_fcast_prophet = fut_model_prophet.predict(fut_future_prophet)"
      ],
      "metadata": {
        "colab": {
          "base_uri": "https://localhost:8080/"
        },
        "id": "3nGWpqcXRpVu",
        "outputId": "4b3c0153-5407-4b18-89dd-83ae02349802"
      },
      "execution_count": 67,
      "outputs": [
        {
          "output_type": "stream",
          "name": "stderr",
          "text": [
            "INFO:fbprophet:Disabling weekly seasonality. Run prophet with weekly_seasonality=True to override this.\n",
            "INFO:fbprophet:Disabling daily seasonality. Run prophet with daily_seasonality=True to override this.\n"
          ]
        }
      ]
    },
    {
      "cell_type": "code",
      "source": [
        "# устанавливаем индекс\n",
        "fut_fcast_prophet.index = fut_fcast_prophet.ds"
      ],
      "metadata": {
        "id": "-Uoy3gDkR-3T"
      },
      "execution_count": 68,
      "outputs": []
    },
    {
      "cell_type": "code",
      "source": [
        "# убедимся в изменениях\n",
        "fut_fcast_prophet.head()"
      ],
      "metadata": {
        "colab": {
          "base_uri": "https://localhost:8080/",
          "height": 388
        },
        "id": "hxfUAwklSCDI",
        "outputId": "6fbea92c-03c3-4774-8433-8b021dfcf4e6"
      },
      "execution_count": 69,
      "outputs": [
        {
          "output_type": "execute_result",
          "data": {
            "text/plain": [
              "                   ds      trend  yhat_lower  yhat_upper  trend_lower  \\\n",
              "ds                                                                      \n",
              "2010-07-04 2010-07-04   9.240420  -52.581151   64.336264     9.240420   \n",
              "2010-07-11 2010-07-11   9.538293  -48.738622   68.357945     9.538293   \n",
              "2010-07-18 2010-07-18   9.836165  -49.267841   64.196668     9.836165   \n",
              "2010-07-25 2010-07-25  10.134038  -49.827916   65.834703    10.134038   \n",
              "2010-08-01 2010-08-01  10.431911  -43.421637   68.845499    10.431911   \n",
              "\n",
              "            trend_upper  multiplicative_terms  multiplicative_terms_lower  \\\n",
              "ds                                                                          \n",
              "2010-07-04     9.240420              0.019735                    0.019735   \n",
              "2010-07-11     9.538293             -0.006478                   -0.006478   \n",
              "2010-07-18     9.836165             -0.022542                   -0.022542   \n",
              "2010-07-25    10.134038             -0.014428                   -0.014428   \n",
              "2010-08-01    10.431911              0.008683                    0.008683   \n",
              "\n",
              "            multiplicative_terms_upper    yearly  yearly_lower  yearly_upper  \\\n",
              "ds                                                                             \n",
              "2010-07-04                    0.019735  0.019735      0.019735      0.019735   \n",
              "2010-07-11                   -0.006478 -0.006478     -0.006478     -0.006478   \n",
              "2010-07-18                   -0.022542 -0.022542     -0.022542     -0.022542   \n",
              "2010-07-25                   -0.014428 -0.014428     -0.014428     -0.014428   \n",
              "2010-08-01                    0.008683  0.008683      0.008683      0.008683   \n",
              "\n",
              "            additive_terms  additive_terms_lower  additive_terms_upper  \\\n",
              "ds                                                                       \n",
              "2010-07-04             0.0                   0.0                   0.0   \n",
              "2010-07-11             0.0                   0.0                   0.0   \n",
              "2010-07-18             0.0                   0.0                   0.0   \n",
              "2010-07-25             0.0                   0.0                   0.0   \n",
              "2010-08-01             0.0                   0.0                   0.0   \n",
              "\n",
              "                 yhat  \n",
              "ds                     \n",
              "2010-07-04   9.422778  \n",
              "2010-07-11   9.476500  \n",
              "2010-07-18   9.614443  \n",
              "2010-07-25   9.987821  \n",
              "2010-08-01  10.522491  "
            ],
            "text/html": [
              "\n",
              "  <div id=\"df-2e4d96b8-00db-47d6-84ef-670213ded769\">\n",
              "    <div class=\"colab-df-container\">\n",
              "      <div>\n",
              "<style scoped>\n",
              "    .dataframe tbody tr th:only-of-type {\n",
              "        vertical-align: middle;\n",
              "    }\n",
              "\n",
              "    .dataframe tbody tr th {\n",
              "        vertical-align: top;\n",
              "    }\n",
              "\n",
              "    .dataframe thead th {\n",
              "        text-align: right;\n",
              "    }\n",
              "</style>\n",
              "<table border=\"1\" class=\"dataframe\">\n",
              "  <thead>\n",
              "    <tr style=\"text-align: right;\">\n",
              "      <th></th>\n",
              "      <th>ds</th>\n",
              "      <th>trend</th>\n",
              "      <th>yhat_lower</th>\n",
              "      <th>yhat_upper</th>\n",
              "      <th>trend_lower</th>\n",
              "      <th>trend_upper</th>\n",
              "      <th>multiplicative_terms</th>\n",
              "      <th>multiplicative_terms_lower</th>\n",
              "      <th>multiplicative_terms_upper</th>\n",
              "      <th>yearly</th>\n",
              "      <th>yearly_lower</th>\n",
              "      <th>yearly_upper</th>\n",
              "      <th>additive_terms</th>\n",
              "      <th>additive_terms_lower</th>\n",
              "      <th>additive_terms_upper</th>\n",
              "      <th>yhat</th>\n",
              "    </tr>\n",
              "    <tr>\n",
              "      <th>ds</th>\n",
              "      <th></th>\n",
              "      <th></th>\n",
              "      <th></th>\n",
              "      <th></th>\n",
              "      <th></th>\n",
              "      <th></th>\n",
              "      <th></th>\n",
              "      <th></th>\n",
              "      <th></th>\n",
              "      <th></th>\n",
              "      <th></th>\n",
              "      <th></th>\n",
              "      <th></th>\n",
              "      <th></th>\n",
              "      <th></th>\n",
              "      <th></th>\n",
              "    </tr>\n",
              "  </thead>\n",
              "  <tbody>\n",
              "    <tr>\n",
              "      <th>2010-07-04</th>\n",
              "      <td>2010-07-04</td>\n",
              "      <td>9.240420</td>\n",
              "      <td>-52.581151</td>\n",
              "      <td>64.336264</td>\n",
              "      <td>9.240420</td>\n",
              "      <td>9.240420</td>\n",
              "      <td>0.019735</td>\n",
              "      <td>0.019735</td>\n",
              "      <td>0.019735</td>\n",
              "      <td>0.019735</td>\n",
              "      <td>0.019735</td>\n",
              "      <td>0.019735</td>\n",
              "      <td>0.0</td>\n",
              "      <td>0.0</td>\n",
              "      <td>0.0</td>\n",
              "      <td>9.422778</td>\n",
              "    </tr>\n",
              "    <tr>\n",
              "      <th>2010-07-11</th>\n",
              "      <td>2010-07-11</td>\n",
              "      <td>9.538293</td>\n",
              "      <td>-48.738622</td>\n",
              "      <td>68.357945</td>\n",
              "      <td>9.538293</td>\n",
              "      <td>9.538293</td>\n",
              "      <td>-0.006478</td>\n",
              "      <td>-0.006478</td>\n",
              "      <td>-0.006478</td>\n",
              "      <td>-0.006478</td>\n",
              "      <td>-0.006478</td>\n",
              "      <td>-0.006478</td>\n",
              "      <td>0.0</td>\n",
              "      <td>0.0</td>\n",
              "      <td>0.0</td>\n",
              "      <td>9.476500</td>\n",
              "    </tr>\n",
              "    <tr>\n",
              "      <th>2010-07-18</th>\n",
              "      <td>2010-07-18</td>\n",
              "      <td>9.836165</td>\n",
              "      <td>-49.267841</td>\n",
              "      <td>64.196668</td>\n",
              "      <td>9.836165</td>\n",
              "      <td>9.836165</td>\n",
              "      <td>-0.022542</td>\n",
              "      <td>-0.022542</td>\n",
              "      <td>-0.022542</td>\n",
              "      <td>-0.022542</td>\n",
              "      <td>-0.022542</td>\n",
              "      <td>-0.022542</td>\n",
              "      <td>0.0</td>\n",
              "      <td>0.0</td>\n",
              "      <td>0.0</td>\n",
              "      <td>9.614443</td>\n",
              "    </tr>\n",
              "    <tr>\n",
              "      <th>2010-07-25</th>\n",
              "      <td>2010-07-25</td>\n",
              "      <td>10.134038</td>\n",
              "      <td>-49.827916</td>\n",
              "      <td>65.834703</td>\n",
              "      <td>10.134038</td>\n",
              "      <td>10.134038</td>\n",
              "      <td>-0.014428</td>\n",
              "      <td>-0.014428</td>\n",
              "      <td>-0.014428</td>\n",
              "      <td>-0.014428</td>\n",
              "      <td>-0.014428</td>\n",
              "      <td>-0.014428</td>\n",
              "      <td>0.0</td>\n",
              "      <td>0.0</td>\n",
              "      <td>0.0</td>\n",
              "      <td>9.987821</td>\n",
              "    </tr>\n",
              "    <tr>\n",
              "      <th>2010-08-01</th>\n",
              "      <td>2010-08-01</td>\n",
              "      <td>10.431911</td>\n",
              "      <td>-43.421637</td>\n",
              "      <td>68.845499</td>\n",
              "      <td>10.431911</td>\n",
              "      <td>10.431911</td>\n",
              "      <td>0.008683</td>\n",
              "      <td>0.008683</td>\n",
              "      <td>0.008683</td>\n",
              "      <td>0.008683</td>\n",
              "      <td>0.008683</td>\n",
              "      <td>0.008683</td>\n",
              "      <td>0.0</td>\n",
              "      <td>0.0</td>\n",
              "      <td>0.0</td>\n",
              "      <td>10.522491</td>\n",
              "    </tr>\n",
              "  </tbody>\n",
              "</table>\n",
              "</div>\n",
              "      <button class=\"colab-df-convert\" onclick=\"convertToInteractive('df-2e4d96b8-00db-47d6-84ef-670213ded769')\"\n",
              "              title=\"Convert this dataframe to an interactive table.\"\n",
              "              style=\"display:none;\">\n",
              "        \n",
              "  <svg xmlns=\"http://www.w3.org/2000/svg\" height=\"24px\"viewBox=\"0 0 24 24\"\n",
              "       width=\"24px\">\n",
              "    <path d=\"M0 0h24v24H0V0z\" fill=\"none\"/>\n",
              "    <path d=\"M18.56 5.44l.94 2.06.94-2.06 2.06-.94-2.06-.94-.94-2.06-.94 2.06-2.06.94zm-11 1L8.5 8.5l.94-2.06 2.06-.94-2.06-.94L8.5 2.5l-.94 2.06-2.06.94zm10 10l.94 2.06.94-2.06 2.06-.94-2.06-.94-.94-2.06-.94 2.06-2.06.94z\"/><path d=\"M17.41 7.96l-1.37-1.37c-.4-.4-.92-.59-1.43-.59-.52 0-1.04.2-1.43.59L10.3 9.45l-7.72 7.72c-.78.78-.78 2.05 0 2.83L4 21.41c.39.39.9.59 1.41.59.51 0 1.02-.2 1.41-.59l7.78-7.78 2.81-2.81c.8-.78.8-2.07 0-2.86zM5.41 20L4 18.59l7.72-7.72 1.47 1.35L5.41 20z\"/>\n",
              "  </svg>\n",
              "      </button>\n",
              "      \n",
              "  <style>\n",
              "    .colab-df-container {\n",
              "      display:flex;\n",
              "      flex-wrap:wrap;\n",
              "      gap: 12px;\n",
              "    }\n",
              "\n",
              "    .colab-df-convert {\n",
              "      background-color: #E8F0FE;\n",
              "      border: none;\n",
              "      border-radius: 50%;\n",
              "      cursor: pointer;\n",
              "      display: none;\n",
              "      fill: #1967D2;\n",
              "      height: 32px;\n",
              "      padding: 0 0 0 0;\n",
              "      width: 32px;\n",
              "    }\n",
              "\n",
              "    .colab-df-convert:hover {\n",
              "      background-color: #E2EBFA;\n",
              "      box-shadow: 0px 1px 2px rgba(60, 64, 67, 0.3), 0px 1px 3px 1px rgba(60, 64, 67, 0.15);\n",
              "      fill: #174EA6;\n",
              "    }\n",
              "\n",
              "    [theme=dark] .colab-df-convert {\n",
              "      background-color: #3B4455;\n",
              "      fill: #D2E3FC;\n",
              "    }\n",
              "\n",
              "    [theme=dark] .colab-df-convert:hover {\n",
              "      background-color: #434B5C;\n",
              "      box-shadow: 0px 1px 3px 1px rgba(0, 0, 0, 0.15);\n",
              "      filter: drop-shadow(0px 1px 2px rgba(0, 0, 0, 0.3));\n",
              "      fill: #FFFFFF;\n",
              "    }\n",
              "  </style>\n",
              "\n",
              "      <script>\n",
              "        const buttonEl =\n",
              "          document.querySelector('#df-2e4d96b8-00db-47d6-84ef-670213ded769 button.colab-df-convert');\n",
              "        buttonEl.style.display =\n",
              "          google.colab.kernel.accessAllowed ? 'block' : 'none';\n",
              "\n",
              "        async function convertToInteractive(key) {\n",
              "          const element = document.querySelector('#df-2e4d96b8-00db-47d6-84ef-670213ded769');\n",
              "          const dataTable =\n",
              "            await google.colab.kernel.invokeFunction('convertToInteractive',\n",
              "                                                     [key], {});\n",
              "          if (!dataTable) return;\n",
              "\n",
              "          const docLinkHtml = 'Like what you see? Visit the ' +\n",
              "            '<a target=\"_blank\" href=https://colab.research.google.com/notebooks/data_table.ipynb>data table notebook</a>'\n",
              "            + ' to learn more about interactive tables.';\n",
              "          element.innerHTML = '';\n",
              "          dataTable['output_type'] = 'display_data';\n",
              "          await google.colab.output.renderOutput(dataTable, element);\n",
              "          const docLink = document.createElement('div');\n",
              "          docLink.innerHTML = docLinkHtml;\n",
              "          element.appendChild(docLink);\n",
              "        }\n",
              "      </script>\n",
              "    </div>\n",
              "  </div>\n",
              "  "
            ]
          },
          "metadata": {},
          "execution_count": 69
        }
      ]
    },
    {
      "cell_type": "code",
      "source": [
        "#строим график на будущее\n",
        "\n",
        "ax = df2['Close'].plot(legend=True, figsize=(10,3),title='Close price changing') \n",
        "fut_fcast_prophet['yhat'].tail(12).plot(legend=True)\n",
        "ax.autoscale(axis='x',tight=True)\n",
        "ax.legend([\"Close\", \"PROPHET\"]);"
      ],
      "metadata": {
        "colab": {
          "base_uri": "https://localhost:8080/",
          "height": 241
        },
        "id": "oWbVOaFYSF2E",
        "outputId": "99316a8b-cc81-4196-f302-561c3d2780e1"
      },
      "execution_count": 70,
      "outputs": [
        {
          "output_type": "display_data",
          "data": {
            "text/plain": [
              "<Figure size 720x216 with 1 Axes>"
            ],
            "image/png": "[encoded data removed]"
          },
          "metadata": {
            "needs_background": "light"
          }
        }
      ]
    },
    {
      "cell_type": "markdown",
      "source": [
        "На основании того, что MAPE > 90 % метод Prophet худший для прогнозирования данного временного ряда"
      ],
      "metadata": {
        "id": "BocZ6YumS5d8"
      }
    },
    {
      "cell_type": "markdown",
      "source": [
        "## Выводы"
      ],
      "metadata": {
        "id": "gX7Ue2304viI"
      }
    },
    {
      "cell_type": "markdown",
      "source": [
        "В ходе работы выполнен анализ данных. Для анализа были использованы современные методы обработки\n",
        "статистической информации. \n",
        "Рассчитаны основные статистические метрики и построены графики для лучшей визуализации результатов .\n",
        "На основании выполненной работы трудно дать точной прогноз о том, будет ли стоимость акций и дальше расти или пойдет вниз.\n",
        "Исследуя три разных метода прогнозирования можно отметить, что плохие результаты оценки данных моделей могут быть следствием нескольких причин:\n",
        "\n",
        "предварительный анализ показал, что данные имеют ненормальное распределение, неоднородны и временной ряд нестационарен. Тест Дики-Фуллера показал что ряд имеет единчные корни и возможно взятие разности ряда позволит привести ряд к стационарному и сделать более точные прогнозы. Также возможно следует исключить из иследования выбросы.\n",
        "Кроме того для более точного прогноза возможно стоит исследовать более короткий ближайший период к резкому изменению цены и строить модели на основе данных этого периода. \n",
        "Возможно для прогнозирования стоимости акций также стоит принимать во внимание и экзогенные факторы.\n"
      ],
      "metadata": {
        "id": "wmuZ3A2_4vgF"
      }
    }
  ]
}