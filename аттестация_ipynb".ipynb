{
  "nbformat": 4,
  "nbformat_minor": 0,
  "metadata": {
    "colab": {
      "name": "аттестация.ipynb\"",
      "provenance": [],
      "collapsed_sections": [
        "Fz2kNCH4fdS_",
        "q8gTgMtTVpYE",
        "rCQpzmsD145G"
      ],
      "include_colab_link": true
    },
    "kernelspec": {
      "name": "python3",
      "display_name": "Python 3"
    },
    "language_info": {
      "name": "python"
    }
  },
  "cells": [
    {
      "cell_type": "markdown",
      "metadata": {
        "id": "view-in-github",
        "colab_type": "text"
      },
      "source": [
        "<a href=\"https://colab.research.google.com/github/Katetuna/innopolis/blob/main/%D0%B0%D1%82%D1%82%D0%B5%D1%81%D1%82%D0%B0%D1%86%D0%B8%D1%8F_ipynb%22.ipynb\" target=\"_parent\"><img src=\"https://colab.research.google.com/assets/colab-badge.svg\" alt=\"Open In Colab\"/></a>"
      ]
    },
    {
      "cell_type": "markdown",
      "metadata": {
        "id": "mXOkIsa2OJWh"
      },
      "source": [
        "# Димполная работа на тему \"Предсказание временных рядов на основе данных о продажах акций компании ТЕСЛА за период с 2010 - 2020 года\""
      ]
    },
    {
      "cell_type": "markdown",
      "metadata": {
        "id": "1zQr-DRYOJUN"
      },
      "source": [
        "## Введение. Постановка целей и задач."
      ]
    },
    {
      "cell_type": "markdown",
      "source": [
        "Акции TSLA выросли в 2020 году с сумасшедшим всплеском + 100% только за 30 дней. Проанализировав данные, может быть, мы сможем узнать, почему? А также спрогнозировать на основании нескольких моделей, выбрав лучшую,  стоимость акций в будущем."
      ],
      "metadata": {
        "id": "LIkGgzI5nRUN"
      }
    },
    {
      "cell_type": "markdown",
      "metadata": {
        "id": "fsEnvXWXUe2z"
      },
      "source": [
        "### Импорт Датафрейма, библиотек, написание функций."
      ]
    },
    {
      "cell_type": "code",
      "source": [
        "!pip install pmdarima"
      ],
      "metadata": {
        "id": "OVwugCuNj7f7",
        "colab": {
          "base_uri": "https://localhost:8080/"
        },
        "outputId": "9ace788a-35eb-4bfb-b674-0e2d6a276246"
      },
      "execution_count": 1,
      "outputs": [
        {
          "output_type": "stream",
          "name": "stdout",
          "text": [
            "Collecting pmdarima\n",
            "  Downloading pmdarima-1.8.5-cp37-cp37m-manylinux_2_17_x86_64.manylinux2014_x86_64.manylinux_2_24_x86_64.whl (1.4 MB)\n",
            "\u001b[?25l\r\u001b[K     |▎                               | 10 kB 19.0 MB/s eta 0:00:01\r\u001b[K     |▌                               | 20 kB 22.9 MB/s eta 0:00:01\r\u001b[K     |▊                               | 30 kB 27.4 MB/s eta 0:00:01\r\u001b[K     |█                               | 40 kB 22.9 MB/s eta 0:00:01\r\u001b[K     |█▏                              | 51 kB 16.3 MB/s eta 0:00:01\r\u001b[K     |█▍                              | 61 kB 18.2 MB/s eta 0:00:01\r\u001b[K     |█▋                              | 71 kB 19.7 MB/s eta 0:00:01\r\u001b[K     |██                              | 81 kB 20.3 MB/s eta 0:00:01\r\u001b[K     |██▏                             | 92 kB 21.9 MB/s eta 0:00:01\r\u001b[K     |██▍                             | 102 kB 21.8 MB/s eta 0:00:01\r\u001b[K     |██▋                             | 112 kB 21.8 MB/s eta 0:00:01\r\u001b[K     |██▉                             | 122 kB 21.8 MB/s eta 0:00:01\r\u001b[K     |███                             | 133 kB 21.8 MB/s eta 0:00:01\r\u001b[K     |███▎                            | 143 kB 21.8 MB/s eta 0:00:01\r\u001b[K     |███▌                            | 153 kB 21.8 MB/s eta 0:00:01\r\u001b[K     |███▉                            | 163 kB 21.8 MB/s eta 0:00:01\r\u001b[K     |████                            | 174 kB 21.8 MB/s eta 0:00:01\r\u001b[K     |████▎                           | 184 kB 21.8 MB/s eta 0:00:01\r\u001b[K     |████▌                           | 194 kB 21.8 MB/s eta 0:00:01\r\u001b[K     |████▊                           | 204 kB 21.8 MB/s eta 0:00:01\r\u001b[K     |█████                           | 215 kB 21.8 MB/s eta 0:00:01\r\u001b[K     |█████▏                          | 225 kB 21.8 MB/s eta 0:00:01\r\u001b[K     |█████▍                          | 235 kB 21.8 MB/s eta 0:00:01\r\u001b[K     |█████▊                          | 245 kB 21.8 MB/s eta 0:00:01\r\u001b[K     |██████                          | 256 kB 21.8 MB/s eta 0:00:01\r\u001b[K     |██████▏                         | 266 kB 21.8 MB/s eta 0:00:01\r\u001b[K     |██████▍                         | 276 kB 21.8 MB/s eta 0:00:01\r\u001b[K     |██████▋                         | 286 kB 21.8 MB/s eta 0:00:01\r\u001b[K     |██████▉                         | 296 kB 21.8 MB/s eta 0:00:01\r\u001b[K     |███████                         | 307 kB 21.8 MB/s eta 0:00:01\r\u001b[K     |███████▎                        | 317 kB 21.8 MB/s eta 0:00:01\r\u001b[K     |███████▋                        | 327 kB 21.8 MB/s eta 0:00:01\r\u001b[K     |███████▉                        | 337 kB 21.8 MB/s eta 0:00:01\r\u001b[K     |████████                        | 348 kB 21.8 MB/s eta 0:00:01\r\u001b[K     |████████▎                       | 358 kB 21.8 MB/s eta 0:00:01\r\u001b[K     |████████▌                       | 368 kB 21.8 MB/s eta 0:00:01\r\u001b[K     |████████▊                       | 378 kB 21.8 MB/s eta 0:00:01\r\u001b[K     |█████████                       | 389 kB 21.8 MB/s eta 0:00:01\r\u001b[K     |█████████▎                      | 399 kB 21.8 MB/s eta 0:00:01\r\u001b[K     |█████████▌                      | 409 kB 21.8 MB/s eta 0:00:01\r\u001b[K     |█████████▊                      | 419 kB 21.8 MB/s eta 0:00:01\r\u001b[K     |██████████                      | 430 kB 21.8 MB/s eta 0:00:01\r\u001b[K     |██████████▏                     | 440 kB 21.8 MB/s eta 0:00:01\r\u001b[K     |██████████▍                     | 450 kB 21.8 MB/s eta 0:00:01\r\u001b[K     |██████████▋                     | 460 kB 21.8 MB/s eta 0:00:01\r\u001b[K     |██████████▉                     | 471 kB 21.8 MB/s eta 0:00:01\r\u001b[K     |███████████▏                    | 481 kB 21.8 MB/s eta 0:00:01\r\u001b[K     |███████████▍                    | 491 kB 21.8 MB/s eta 0:00:01\r\u001b[K     |███████████▋                    | 501 kB 21.8 MB/s eta 0:00:01\r\u001b[K     |███████████▉                    | 512 kB 21.8 MB/s eta 0:00:01\r\u001b[K     |████████████                    | 522 kB 21.8 MB/s eta 0:00:01\r\u001b[K     |████████████▎                   | 532 kB 21.8 MB/s eta 0:00:01\r\u001b[K     |████████████▌                   | 542 kB 21.8 MB/s eta 0:00:01\r\u001b[K     |████████████▊                   | 552 kB 21.8 MB/s eta 0:00:01\r\u001b[K     |█████████████                   | 563 kB 21.8 MB/s eta 0:00:01\r\u001b[K     |█████████████▎                  | 573 kB 21.8 MB/s eta 0:00:01\r\u001b[K     |█████████████▌                  | 583 kB 21.8 MB/s eta 0:00:01\r\u001b[K     |█████████████▊                  | 593 kB 21.8 MB/s eta 0:00:01\r\u001b[K     |██████████████                  | 604 kB 21.8 MB/s eta 0:00:01\r\u001b[K     |██████████████▏                 | 614 kB 21.8 MB/s eta 0:00:01\r\u001b[K     |██████████████▍                 | 624 kB 21.8 MB/s eta 0:00:01\r\u001b[K     |██████████████▋                 | 634 kB 21.8 MB/s eta 0:00:01\r\u001b[K     |███████████████                 | 645 kB 21.8 MB/s eta 0:00:01\r\u001b[K     |███████████████▏                | 655 kB 21.8 MB/s eta 0:00:01\r\u001b[K     |███████████████▍                | 665 kB 21.8 MB/s eta 0:00:01\r\u001b[K     |███████████████▋                | 675 kB 21.8 MB/s eta 0:00:01\r\u001b[K     |███████████████▉                | 686 kB 21.8 MB/s eta 0:00:01\r\u001b[K     |████████████████                | 696 kB 21.8 MB/s eta 0:00:01\r\u001b[K     |████████████████▎               | 706 kB 21.8 MB/s eta 0:00:01\r\u001b[K     |████████████████▋               | 716 kB 21.8 MB/s eta 0:00:01\r\u001b[K     |████████████████▉               | 727 kB 21.8 MB/s eta 0:00:01\r\u001b[K     |█████████████████               | 737 kB 21.8 MB/s eta 0:00:01\r\u001b[K     |█████████████████▎              | 747 kB 21.8 MB/s eta 0:00:01\r\u001b[K     |█████████████████▌              | 757 kB 21.8 MB/s eta 0:00:01\r\u001b[K     |█████████████████▊              | 768 kB 21.8 MB/s eta 0:00:01\r\u001b[K     |██████████████████              | 778 kB 21.8 MB/s eta 0:00:01\r\u001b[K     |██████████████████▏             | 788 kB 21.8 MB/s eta 0:00:01\r\u001b[K     |██████████████████▌             | 798 kB 21.8 MB/s eta 0:00:01\r\u001b[K     |██████████████████▊             | 808 kB 21.8 MB/s eta 0:00:01\r\u001b[K     |███████████████████             | 819 kB 21.8 MB/s eta 0:00:01\r\u001b[K     |███████████████████▏            | 829 kB 21.8 MB/s eta 0:00:01\r\u001b[K     |███████████████████▍            | 839 kB 21.8 MB/s eta 0:00:01\r\u001b[K     |███████████████████▋            | 849 kB 21.8 MB/s eta 0:00:01\r\u001b[K     |███████████████████▉            | 860 kB 21.8 MB/s eta 0:00:01\r\u001b[K     |████████████████████            | 870 kB 21.8 MB/s eta 0:00:01\r\u001b[K     |████████████████████▍           | 880 kB 21.8 MB/s eta 0:00:01\r\u001b[K     |████████████████████▋           | 890 kB 21.8 MB/s eta 0:00:01\r\u001b[K     |████████████████████▉           | 901 kB 21.8 MB/s eta 0:00:01\r\u001b[K     |█████████████████████           | 911 kB 21.8 MB/s eta 0:00:01\r\u001b[K     |█████████████████████▎          | 921 kB 21.8 MB/s eta 0:00:01\r\u001b[K     |█████████████████████▌          | 931 kB 21.8 MB/s eta 0:00:01\r\u001b[K     |█████████████████████▊          | 942 kB 21.8 MB/s eta 0:00:01\r\u001b[K     |██████████████████████          | 952 kB 21.8 MB/s eta 0:00:01\r\u001b[K     |██████████████████████▎         | 962 kB 21.8 MB/s eta 0:00:01\r\u001b[K     |██████████████████████▌         | 972 kB 21.8 MB/s eta 0:00:01\r\u001b[K     |██████████████████████▊         | 983 kB 21.8 MB/s eta 0:00:01\r\u001b[K     |███████████████████████         | 993 kB 21.8 MB/s eta 0:00:01\r\u001b[K     |███████████████████████▏        | 1.0 MB 21.8 MB/s eta 0:00:01\r\u001b[K     |███████████████████████▍        | 1.0 MB 21.8 MB/s eta 0:00:01\r\u001b[K     |███████████████████████▋        | 1.0 MB 21.8 MB/s eta 0:00:01\r\u001b[K     |████████████████████████        | 1.0 MB 21.8 MB/s eta 0:00:01\r\u001b[K     |████████████████████████▏       | 1.0 MB 21.8 MB/s eta 0:00:01\r\u001b[K     |████████████████████████▍       | 1.1 MB 21.8 MB/s eta 0:00:01\r\u001b[K     |████████████████████████▋       | 1.1 MB 21.8 MB/s eta 0:00:01\r\u001b[K     |████████████████████████▉       | 1.1 MB 21.8 MB/s eta 0:00:01\r\u001b[K     |█████████████████████████       | 1.1 MB 21.8 MB/s eta 0:00:01\r\u001b[K     |█████████████████████████▎      | 1.1 MB 21.8 MB/s eta 0:00:01\r\u001b[K     |█████████████████████████▌      | 1.1 MB 21.8 MB/s eta 0:00:01\r\u001b[K     |█████████████████████████▉      | 1.1 MB 21.8 MB/s eta 0:00:01\r\u001b[K     |██████████████████████████      | 1.1 MB 21.8 MB/s eta 0:00:01\r\u001b[K     |██████████████████████████▎     | 1.1 MB 21.8 MB/s eta 0:00:01\r\u001b[K     |██████████████████████████▌     | 1.1 MB 21.8 MB/s eta 0:00:01\r\u001b[K     |██████████████████████████▊     | 1.2 MB 21.8 MB/s eta 0:00:01\r\u001b[K     |███████████████████████████     | 1.2 MB 21.8 MB/s eta 0:00:01\r\u001b[K     |███████████████████████████▏    | 1.2 MB 21.8 MB/s eta 0:00:01\r\u001b[K     |███████████████████████████▍    | 1.2 MB 21.8 MB/s eta 0:00:01\r\u001b[K     |███████████████████████████▊    | 1.2 MB 21.8 MB/s eta 0:00:01\r\u001b[K     |████████████████████████████    | 1.2 MB 21.8 MB/s eta 0:00:01\r\u001b[K     |████████████████████████████▏   | 1.2 MB 21.8 MB/s eta 0:00:01\r\u001b[K     |████████████████████████████▍   | 1.2 MB 21.8 MB/s eta 0:00:01\r\u001b[K     |████████████████████████████▋   | 1.2 MB 21.8 MB/s eta 0:00:01\r\u001b[K     |████████████████████████████▉   | 1.2 MB 21.8 MB/s eta 0:00:01\r\u001b[K     |█████████████████████████████   | 1.3 MB 21.8 MB/s eta 0:00:01\r\u001b[K     |█████████████████████████████▎  | 1.3 MB 21.8 MB/s eta 0:00:01\r\u001b[K     |█████████████████████████████▋  | 1.3 MB 21.8 MB/s eta 0:00:01\r\u001b[K     |█████████████████████████████▉  | 1.3 MB 21.8 MB/s eta 0:00:01\r\u001b[K     |██████████████████████████████  | 1.3 MB 21.8 MB/s eta 0:00:01\r\u001b[K     |██████████████████████████████▎ | 1.3 MB 21.8 MB/s eta 0:00:01\r\u001b[K     |██████████████████████████████▌ | 1.3 MB 21.8 MB/s eta 0:00:01\r\u001b[K     |██████████████████████████████▊ | 1.3 MB 21.8 MB/s eta 0:00:01\r\u001b[K     |███████████████████████████████ | 1.3 MB 21.8 MB/s eta 0:00:01\r\u001b[K     |███████████████████████████████▎| 1.4 MB 21.8 MB/s eta 0:00:01\r\u001b[K     |███████████████████████████████▌| 1.4 MB 21.8 MB/s eta 0:00:01\r\u001b[K     |███████████████████████████████▊| 1.4 MB 21.8 MB/s eta 0:00:01\r\u001b[K     |████████████████████████████████| 1.4 MB 21.8 MB/s eta 0:00:01\r\u001b[K     |████████████████████████████████| 1.4 MB 21.8 MB/s \n",
            "\u001b[?25hRequirement already satisfied: urllib3 in /usr/local/lib/python3.7/dist-packages (from pmdarima) (1.24.3)\n",
            "Collecting statsmodels!=0.12.0,>=0.11\n",
            "  Downloading statsmodels-0.13.2-cp37-cp37m-manylinux_2_17_x86_64.manylinux2014_x86_64.whl (9.8 MB)\n",
            "\u001b[K     |████████████████████████████████| 9.8 MB 42.2 MB/s \n",
            "\u001b[?25hRequirement already satisfied: setuptools!=50.0.0,>=38.6.0 in /usr/local/lib/python3.7/dist-packages (from pmdarima) (57.4.0)\n",
            "Requirement already satisfied: Cython!=0.29.18,>=0.29 in /usr/local/lib/python3.7/dist-packages (from pmdarima) (0.29.28)\n",
            "Requirement already satisfied: scikit-learn>=0.22 in /usr/local/lib/python3.7/dist-packages (from pmdarima) (1.0.2)\n",
            "Requirement already satisfied: scipy>=1.3.2 in /usr/local/lib/python3.7/dist-packages (from pmdarima) (1.4.1)\n",
            "Requirement already satisfied: joblib>=0.11 in /usr/local/lib/python3.7/dist-packages (from pmdarima) (1.1.0)\n",
            "Requirement already satisfied: pandas>=0.19 in /usr/local/lib/python3.7/dist-packages (from pmdarima) (1.3.5)\n",
            "Requirement already satisfied: numpy>=1.19.3 in /usr/local/lib/python3.7/dist-packages (from pmdarima) (1.21.5)\n",
            "Requirement already satisfied: python-dateutil>=2.7.3 in /usr/local/lib/python3.7/dist-packages (from pandas>=0.19->pmdarima) (2.8.2)\n",
            "Requirement already satisfied: pytz>=2017.3 in /usr/local/lib/python3.7/dist-packages (from pandas>=0.19->pmdarima) (2018.9)\n",
            "Requirement already satisfied: six>=1.5 in /usr/local/lib/python3.7/dist-packages (from python-dateutil>=2.7.3->pandas>=0.19->pmdarima) (1.15.0)\n",
            "Requirement already satisfied: threadpoolctl>=2.0.0 in /usr/local/lib/python3.7/dist-packages (from scikit-learn>=0.22->pmdarima) (3.1.0)\n",
            "Requirement already satisfied: packaging>=21.3 in /usr/local/lib/python3.7/dist-packages (from statsmodels!=0.12.0,>=0.11->pmdarima) (21.3)\n",
            "Requirement already satisfied: patsy>=0.5.2 in /usr/local/lib/python3.7/dist-packages (from statsmodels!=0.12.0,>=0.11->pmdarima) (0.5.2)\n",
            "Requirement already satisfied: pyparsing!=3.0.5,>=2.0.2 in /usr/local/lib/python3.7/dist-packages (from packaging>=21.3->statsmodels!=0.12.0,>=0.11->pmdarima) (3.0.7)\n",
            "Installing collected packages: statsmodels, pmdarima\n",
            "  Attempting uninstall: statsmodels\n",
            "    Found existing installation: statsmodels 0.10.2\n",
            "    Uninstalling statsmodels-0.10.2:\n",
            "      Successfully uninstalled statsmodels-0.10.2\n",
            "Successfully installed pmdarima-1.8.5 statsmodels-0.13.2\n"
          ]
        }
      ]
    },
    {
      "cell_type": "code",
      "metadata": {
        "id": "Y9HhQemGU6vC"
      },
      "source": [
        "# Здесь импортируем библиотеки и функции \n",
        "import pandas as pd\n",
        "import numpy as np\n",
        "import matplotlib.pyplot as plt"
      ],
      "execution_count": 2,
      "outputs": []
    },
    {
      "cell_type": "code",
      "source": [
        "# импорт SARIMAX \n",
        "from statsmodels.tsa.statespace.sarimax import SARIMAX\n",
        "from statsmodels.tsa.stattools import adfuller, acovf, acf, pacf, pacf_yw, pacf_ols #функции частичной и автокорреляции\n",
        "from statsmodels.graphics.tsaplots import plot_acf,plot_pacf # для определения (p,q) \n",
        "from statsmodels.tsa.seasonal import seasonal_decompose      # для ETS графиков\n",
        "from pmdarima import auto_arima                              # для поиска ARIMA моделей (подбирает оптимальные параметры для модели)\n",
        "from fbprophet import Prophet                                # для модели Профет\n",
        "from statsmodels.tsa.holtwinters import ExponentialSmoothing # для модели Экспоненцальное сглаживание\n",
        "\n",
        "# метрики\n",
        "from sklearn.metrics import mean_squared_error\n",
        "from sklearn.metrics import mean_absolute_error\n",
        "from statsmodels.tools.eval_measures import rmse\n"
      ],
      "metadata": {
        "id": "P9zB_Gzbj6W5"
      },
      "execution_count": 3,
      "outputs": []
    },
    {
      "cell_type": "code",
      "metadata": {
        "id": "Sx_GJx5XU8Zi"
      },
      "source": [
        "# Импортируем данные.\n",
        "df = pd.read_csv('/content/TSLA.csv',index_col='Date', parse_dates=True)\n"
      ],
      "execution_count": 5,
      "outputs": []
    },
    {
      "cell_type": "code",
      "metadata": {
        "id": "Iqtl_rYgVCrb",
        "colab": {
          "base_uri": "https://localhost:8080/"
        },
        "outputId": "19073d1f-3cc2-4c72-826c-351581b94975"
      },
      "source": [
        "#Проверка, что все выгрузилось корректно.\n",
        "print(df.head())\n"
      ],
      "execution_count": null,
      "outputs": [
        {
          "output_type": "stream",
          "name": "stdout",
          "text": [
            "                 Open   High        Low      Close  Adj Close    Volume\n",
            "Date                                                                   \n",
            "2010-06-29  19.000000  25.00  17.540001  23.889999  23.889999  18766300\n",
            "2010-06-30  25.790001  30.42  23.299999  23.830000  23.830000  17187100\n",
            "2010-07-01  25.000000  25.92  20.270000  21.959999  21.959999   8218800\n",
            "2010-07-02  23.000000  23.10  18.709999  19.200001  19.200001   5139800\n",
            "2010-07-06  20.000000  20.00  15.830000  16.110001  16.110001   6866900\n"
          ]
        }
      ]
    },
    {
      "cell_type": "markdown",
      "source": [
        "### Выводы: цели и задачи работы поставлены. Загружены необходимые библиотеки и функции для правильной работы, а также сами данные. Проведен первичный анализ, что все выгрузилось верно."
      ],
      "metadata": {
        "id": "Fz2kNCH4fdS_"
      }
    },
    {
      "cell_type": "markdown",
      "metadata": {
        "id": "plIXeY2aUeuv"
      },
      "source": [
        "### Знакомство с данными."
      ]
    },
    {
      "cell_type": "code",
      "source": [
        "# Общая информация по датасету \n",
        "df.info()\n",
        "len(df)\n"
      ],
      "metadata": {
        "colab": {
          "base_uri": "https://localhost:8080/"
        },
        "id": "HBBzWpVEgn93",
        "outputId": "114b221a-e9e7-4869-d21a-8acb2feafb63"
      },
      "execution_count": null,
      "outputs": [
        {
          "output_type": "stream",
          "name": "stdout",
          "text": [
            "<class 'pandas.core.frame.DataFrame'>\n",
            "DatetimeIndex: 2416 entries, 2010-06-29 to 2020-02-03\n",
            "Data columns (total 6 columns):\n",
            " #   Column     Non-Null Count  Dtype  \n",
            "---  ------     --------------  -----  \n",
            " 0   Open       2416 non-null   float64\n",
            " 1   High       2416 non-null   float64\n",
            " 2   Low        2416 non-null   float64\n",
            " 3   Close      2416 non-null   float64\n",
            " 4   Adj Close  2416 non-null   float64\n",
            " 5   Volume     2416 non-null   int64  \n",
            "dtypes: float64(5), int64(1)\n",
            "memory usage: 132.1 KB\n"
          ]
        },
        {
          "output_type": "execute_result",
          "data": {
            "text/plain": [
              "2416"
            ]
          },
          "metadata": {},
          "execution_count": 10
        }
      ]
    },
    {
      "cell_type": "code",
      "source": [
        "# Проверка датасета на пропуски\n",
        "df.isna()"
      ],
      "metadata": {
        "colab": {
          "base_uri": "https://localhost:8080/",
          "height": 455
        },
        "id": "Qg7hb4NVgfNV",
        "outputId": "9da9014c-9a3f-4357-82f1-40f0726519a7"
      },
      "execution_count": null,
      "outputs": [
        {
          "output_type": "execute_result",
          "data": {
            "text/plain": [
              "             Open   High    Low  Close  Adj Close  Volume\n",
              "Date                                                     \n",
              "2010-06-29  False  False  False  False      False   False\n",
              "2010-06-30  False  False  False  False      False   False\n",
              "2010-07-01  False  False  False  False      False   False\n",
              "2010-07-02  False  False  False  False      False   False\n",
              "2010-07-06  False  False  False  False      False   False\n",
              "...           ...    ...    ...    ...        ...     ...\n",
              "2020-01-28  False  False  False  False      False   False\n",
              "2020-01-29  False  False  False  False      False   False\n",
              "2020-01-30  False  False  False  False      False   False\n",
              "2020-01-31  False  False  False  False      False   False\n",
              "2020-02-03  False  False  False  False      False   False\n",
              "\n",
              "[2416 rows x 6 columns]"
            ],
            "text/html": [
              "\n",
              "  <div id=\"df-8a6808b8-5ef2-4fe8-a16d-ac783402ca5d\">\n",
              "    <div class=\"colab-df-container\">\n",
              "      <div>\n",
              "<style scoped>\n",
              "    .dataframe tbody tr th:only-of-type {\n",
              "        vertical-align: middle;\n",
              "    }\n",
              "\n",
              "    .dataframe tbody tr th {\n",
              "        vertical-align: top;\n",
              "    }\n",
              "\n",
              "    .dataframe thead th {\n",
              "        text-align: right;\n",
              "    }\n",
              "</style>\n",
              "<table border=\"1\" class=\"dataframe\">\n",
              "  <thead>\n",
              "    <tr style=\"text-align: right;\">\n",
              "      <th></th>\n",
              "      <th>Open</th>\n",
              "      <th>High</th>\n",
              "      <th>Low</th>\n",
              "      <th>Close</th>\n",
              "      <th>Adj Close</th>\n",
              "      <th>Volume</th>\n",
              "    </tr>\n",
              "    <tr>\n",
              "      <th>Date</th>\n",
              "      <th></th>\n",
              "      <th></th>\n",
              "      <th></th>\n",
              "      <th></th>\n",
              "      <th></th>\n",
              "      <th></th>\n",
              "    </tr>\n",
              "  </thead>\n",
              "  <tbody>\n",
              "    <tr>\n",
              "      <th>2010-06-29</th>\n",
              "      <td>False</td>\n",
              "      <td>False</td>\n",
              "      <td>False</td>\n",
              "      <td>False</td>\n",
              "      <td>False</td>\n",
              "      <td>False</td>\n",
              "    </tr>\n",
              "    <tr>\n",
              "      <th>2010-06-30</th>\n",
              "      <td>False</td>\n",
              "      <td>False</td>\n",
              "      <td>False</td>\n",
              "      <td>False</td>\n",
              "      <td>False</td>\n",
              "      <td>False</td>\n",
              "    </tr>\n",
              "    <tr>\n",
              "      <th>2010-07-01</th>\n",
              "      <td>False</td>\n",
              "      <td>False</td>\n",
              "      <td>False</td>\n",
              "      <td>False</td>\n",
              "      <td>False</td>\n",
              "      <td>False</td>\n",
              "    </tr>\n",
              "    <tr>\n",
              "      <th>2010-07-02</th>\n",
              "      <td>False</td>\n",
              "      <td>False</td>\n",
              "      <td>False</td>\n",
              "      <td>False</td>\n",
              "      <td>False</td>\n",
              "      <td>False</td>\n",
              "    </tr>\n",
              "    <tr>\n",
              "      <th>2010-07-06</th>\n",
              "      <td>False</td>\n",
              "      <td>False</td>\n",
              "      <td>False</td>\n",
              "      <td>False</td>\n",
              "      <td>False</td>\n",
              "      <td>False</td>\n",
              "    </tr>\n",
              "    <tr>\n",
              "      <th>...</th>\n",
              "      <td>...</td>\n",
              "      <td>...</td>\n",
              "      <td>...</td>\n",
              "      <td>...</td>\n",
              "      <td>...</td>\n",
              "      <td>...</td>\n",
              "    </tr>\n",
              "    <tr>\n",
              "      <th>2020-01-28</th>\n",
              "      <td>False</td>\n",
              "      <td>False</td>\n",
              "      <td>False</td>\n",
              "      <td>False</td>\n",
              "      <td>False</td>\n",
              "      <td>False</td>\n",
              "    </tr>\n",
              "    <tr>\n",
              "      <th>2020-01-29</th>\n",
              "      <td>False</td>\n",
              "      <td>False</td>\n",
              "      <td>False</td>\n",
              "      <td>False</td>\n",
              "      <td>False</td>\n",
              "      <td>False</td>\n",
              "    </tr>\n",
              "    <tr>\n",
              "      <th>2020-01-30</th>\n",
              "      <td>False</td>\n",
              "      <td>False</td>\n",
              "      <td>False</td>\n",
              "      <td>False</td>\n",
              "      <td>False</td>\n",
              "      <td>False</td>\n",
              "    </tr>\n",
              "    <tr>\n",
              "      <th>2020-01-31</th>\n",
              "      <td>False</td>\n",
              "      <td>False</td>\n",
              "      <td>False</td>\n",
              "      <td>False</td>\n",
              "      <td>False</td>\n",
              "      <td>False</td>\n",
              "    </tr>\n",
              "    <tr>\n",
              "      <th>2020-02-03</th>\n",
              "      <td>False</td>\n",
              "      <td>False</td>\n",
              "      <td>False</td>\n",
              "      <td>False</td>\n",
              "      <td>False</td>\n",
              "      <td>False</td>\n",
              "    </tr>\n",
              "  </tbody>\n",
              "</table>\n",
              "<p>2416 rows × 6 columns</p>\n",
              "</div>\n",
              "      <button class=\"colab-df-convert\" onclick=\"convertToInteractive('df-8a6808b8-5ef2-4fe8-a16d-ac783402ca5d')\"\n",
              "              title=\"Convert this dataframe to an interactive table.\"\n",
              "              style=\"display:none;\">\n",
              "        \n",
              "  <svg xmlns=\"http://www.w3.org/2000/svg\" height=\"24px\"viewBox=\"0 0 24 24\"\n",
              "       width=\"24px\">\n",
              "    <path d=\"M0 0h24v24H0V0z\" fill=\"none\"/>\n",
              "    <path d=\"M18.56 5.44l.94 2.06.94-2.06 2.06-.94-2.06-.94-.94-2.06-.94 2.06-2.06.94zm-11 1L8.5 8.5l.94-2.06 2.06-.94-2.06-.94L8.5 2.5l-.94 2.06-2.06.94zm10 10l.94 2.06.94-2.06 2.06-.94-2.06-.94-.94-2.06-.94 2.06-2.06.94z\"/><path d=\"M17.41 7.96l-1.37-1.37c-.4-.4-.92-.59-1.43-.59-.52 0-1.04.2-1.43.59L10.3 9.45l-7.72 7.72c-.78.78-.78 2.05 0 2.83L4 21.41c.39.39.9.59 1.41.59.51 0 1.02-.2 1.41-.59l7.78-7.78 2.81-2.81c.8-.78.8-2.07 0-2.86zM5.41 20L4 18.59l7.72-7.72 1.47 1.35L5.41 20z\"/>\n",
              "  </svg>\n",
              "      </button>\n",
              "      \n",
              "  <style>\n",
              "    .colab-df-container {\n",
              "      display:flex;\n",
              "      flex-wrap:wrap;\n",
              "      gap: 12px;\n",
              "    }\n",
              "\n",
              "    .colab-df-convert {\n",
              "      background-color: #E8F0FE;\n",
              "      border: none;\n",
              "      border-radius: 50%;\n",
              "      cursor: pointer;\n",
              "      display: none;\n",
              "      fill: #1967D2;\n",
              "      height: 32px;\n",
              "      padding: 0 0 0 0;\n",
              "      width: 32px;\n",
              "    }\n",
              "\n",
              "    .colab-df-convert:hover {\n",
              "      background-color: #E2EBFA;\n",
              "      box-shadow: 0px 1px 2px rgba(60, 64, 67, 0.3), 0px 1px 3px 1px rgba(60, 64, 67, 0.15);\n",
              "      fill: #174EA6;\n",
              "    }\n",
              "\n",
              "    [theme=dark] .colab-df-convert {\n",
              "      background-color: #3B4455;\n",
              "      fill: #D2E3FC;\n",
              "    }\n",
              "\n",
              "    [theme=dark] .colab-df-convert:hover {\n",
              "      background-color: #434B5C;\n",
              "      box-shadow: 0px 1px 3px 1px rgba(0, 0, 0, 0.15);\n",
              "      filter: drop-shadow(0px 1px 2px rgba(0, 0, 0, 0.3));\n",
              "      fill: #FFFFFF;\n",
              "    }\n",
              "  </style>\n",
              "\n",
              "      <script>\n",
              "        const buttonEl =\n",
              "          document.querySelector('#df-8a6808b8-5ef2-4fe8-a16d-ac783402ca5d button.colab-df-convert');\n",
              "        buttonEl.style.display =\n",
              "          google.colab.kernel.accessAllowed ? 'block' : 'none';\n",
              "\n",
              "        async function convertToInteractive(key) {\n",
              "          const element = document.querySelector('#df-8a6808b8-5ef2-4fe8-a16d-ac783402ca5d');\n",
              "          const dataTable =\n",
              "            await google.colab.kernel.invokeFunction('convertToInteractive',\n",
              "                                                     [key], {});\n",
              "          if (!dataTable) return;\n",
              "\n",
              "          const docLinkHtml = 'Like what you see? Visit the ' +\n",
              "            '<a target=\"_blank\" href=https://colab.research.google.com/notebooks/data_table.ipynb>data table notebook</a>'\n",
              "            + ' to learn more about interactive tables.';\n",
              "          element.innerHTML = '';\n",
              "          dataTable['output_type'] = 'display_data';\n",
              "          await google.colab.output.renderOutput(dataTable, element);\n",
              "          const docLink = document.createElement('div');\n",
              "          docLink.innerHTML = docLinkHtml;\n",
              "          element.appendChild(docLink);\n",
              "        }\n",
              "      </script>\n",
              "    </div>\n",
              "  </div>\n",
              "  "
            ]
          },
          "metadata": {},
          "execution_count": 11
        }
      ]
    },
    {
      "cell_type": "code",
      "source": [
        "# Проверка каждого признака на  отсутствие пропусков\n",
        "df_check_nan = df.isna()\n",
        "for i in df_check_nan.columns:\n",
        "    print(f'Для признака {i} пропуски: ', df_check_nan[i].unique())"
      ],
      "metadata": {
        "colab": {
          "base_uri": "https://localhost:8080/"
        },
        "id": "Muu-Bz-vgw-y",
        "outputId": "205027fc-9595-4767-c0eb-ebc9c8a2e981"
      },
      "execution_count": null,
      "outputs": [
        {
          "output_type": "stream",
          "name": "stdout",
          "text": [
            "Для признака Open пропуски:  [False]\n",
            "Для признака High пропуски:  [False]\n",
            "Для признака Low пропуски:  [False]\n",
            "Для признака Close пропуски:  [False]\n",
            "Для признака Adj Close пропуски:  [False]\n",
            "Для признака Volume пропуски:  [False]\n"
          ]
        }
      ]
    },
    {
      "cell_type": "code",
      "source": [
        "# проверка типа данных\n",
        "df.dtypes"
      ],
      "metadata": {
        "colab": {
          "base_uri": "https://localhost:8080/"
        },
        "id": "JD7av5guzk3N",
        "outputId": "7b8daac0-3dc8-4131-8161-d1d48e83c5ad"
      },
      "execution_count": null,
      "outputs": [
        {
          "output_type": "execute_result",
          "data": {
            "text/plain": [
              "Open         float64\n",
              "High         float64\n",
              "Low          float64\n",
              "Close        float64\n",
              "Adj Close    float64\n",
              "Volume         int64\n",
              "dtype: object"
            ]
          },
          "metadata": {},
          "execution_count": 51
        }
      ]
    },
    {
      "cell_type": "markdown",
      "source": [
        "При знакомстве с данными получили следующую информацию:\n",
        "\n",
        "В датасете 7 колонок(включая индексы). Колонку с индексами заменили на соответствущие даты. В датасете на дату содержится информация по ценам за день( цена открытия, наивысшая цена, низшая цена, цена закрытия, скорректированная цена и объем акций). Данные предоставлены в необходимом числовом формате.  В датасете отсутствуют нулевы денные. Всего 2416 строк"
      ],
      "metadata": {
        "id": "pJ1j-dYxhRnp"
      }
    },
    {
      "cell_type": "markdown",
      "metadata": {
        "id": "Efv0vhWsUepF"
      },
      "source": [
        "## Предобработка данных"
      ]
    },
    {
      "cell_type": "markdown",
      "source": [
        "### Фильтрация данных"
      ],
      "metadata": {
        "id": "pO4OjmPkuZbv"
      }
    },
    {
      "cell_type": "markdown",
      "source": [
        "Для анализа оставим колонки с информацией по цене открытия, закрытия и объемам акций"
      ],
      "metadata": {
        "id": "F1BRyM53i0SQ"
      }
    },
    {
      "cell_type": "code",
      "source": [
        "df_new = df[['Close', 'Volume']]\n",
        "#проверка что все верно\n",
        "print(df_new.head())"
      ],
      "metadata": {
        "colab": {
          "base_uri": "https://localhost:8080/"
        },
        "id": "8_s-xD4ui91z",
        "outputId": "0e297159-6dfa-459d-a33e-d87faff37500"
      },
      "execution_count": 6,
      "outputs": [
        {
          "output_type": "stream",
          "name": "stdout",
          "text": [
            "                Close    Volume\n",
            "Date                           \n",
            "2010-06-29  23.889999  18766300\n",
            "2010-06-30  23.830000  17187100\n",
            "2010-07-01  21.959999   8218800\n",
            "2010-07-02  19.200001   5139800\n",
            "2010-07-06  16.110001   6866900\n"
          ]
        }
      ]
    },
    {
      "cell_type": "markdown",
      "source": [
        "### Вывод по этапу. Проведена фильтрация данных, оставлены только необходимые для анализа колонки.\n"
      ],
      "metadata": {
        "id": "q8gTgMtTVpYE"
      }
    },
    {
      "cell_type": "markdown",
      "source": [
        "## EDA или разведочный анализ данных."
      ],
      "metadata": {
        "id": "ychutOlHtcz_"
      }
    },
    {
      "cell_type": "markdown",
      "source": [
        "Рассчитаем сколько в среднем было проадно акций за весь анализируемый период и их среднюю цену. Также посчитаем среднее взвешенное объема акций в зависимости от цены"
      ],
      "metadata": {
        "id": "4qJRK-CsjTtX"
      }
    },
    {
      "cell_type": "code",
      "source": [
        "# среднее\n",
        "print(\"Срднее кол-во проданных акций за весь период: \", df_new['Volume'].mean())\n",
        "print(\"Срдняя цена закрытия за весь период: \", df_new['Close'].mean())\n",
        "# среднее взвешенное\n",
        "wm = np.average(df_new['Volume'], weights = df_new['Close'])\n",
        "print(\"Среднее взвешенное проданных акций с учетом стоимости акций:\", wm)"
      ],
      "metadata": {
        "colab": {
          "base_uri": "https://localhost:8080/"
        },
        "id": "UajdXC93H0Yl",
        "outputId": "2e0b4fa8-13bd-4f6b-9a03-1e26d0b6d0ea"
      },
      "execution_count": null,
      "outputs": [
        {
          "output_type": "stream",
          "name": "stdout",
          "text": [
            "Срднее кол-во проданных акций за весь период:  5572721.688741722\n",
            "Срдняя цена закрытия за весь период:  186.40365078187054\n",
            "Среднее взвешенное проданных акций с учетом стоимости акций: 7182459.707957235\n"
          ]
        }
      ]
    },
    {
      "cell_type": "markdown",
      "source": [
        "Проверим распределение данных с помощью boxplot"
      ],
      "metadata": {
        "id": "ItHiqDSQkFNR"
      }
    },
    {
      "cell_type": "code",
      "source": [
        "#Распределение объема проданных акций\n",
        "df_new.boxplot(column='Volume')"
      ],
      "metadata": {
        "colab": {
          "base_uri": "https://localhost:8080/",
          "height": 294
        },
        "id": "GCNBGE6nK4ME",
        "outputId": "045dd13e-58fd-4669-8404-cf4ea93ff030"
      },
      "execution_count": null,
      "outputs": [
        {
          "output_type": "execute_result",
          "data": {
            "text/plain": [
              "<matplotlib.axes._subplots.AxesSubplot at 0x7f342734c6d0>"
            ]
          },
          "metadata": {},
          "execution_count": 53
        },
        {
          "output_type": "display_data",
          "data": {
            "text/plain": [
              "<Figure size 432x288 with 1 Axes>"
            ],
            "image/png": "[encoded data removed]"
          },
          "metadata": {
            "needs_background": "light"
          }
        }
      ]
    },
    {
      "cell_type": "code",
      "source": [
        "#Распределение цены акций\n",
        "df_new.boxplot(column=['Close'])"
      ],
      "metadata": {
        "colab": {
          "base_uri": "https://localhost:8080/",
          "height": 282
        },
        "id": "29l8Ha2YmEKD",
        "outputId": "458448c7-8508-47bc-a1a7-a267fc1e853a"
      },
      "execution_count": null,
      "outputs": [
        {
          "output_type": "execute_result",
          "data": {
            "text/plain": [
              "<matplotlib.axes._subplots.AxesSubplot at 0x7f3427308590>"
            ]
          },
          "metadata": {},
          "execution_count": 54
        },
        {
          "output_type": "display_data",
          "data": {
            "text/plain": [
              "<Figure size 432x288 with 1 Axes>"
            ],
            "image/png": "[encoded data removed]"
          },
          "metadata": {
            "needs_background": "light"
          }
        }
      ]
    },
    {
      "cell_type": "markdown",
      "source": [
        "На графиках видно, что объем проданных акций имеет большое кол-во выбросов, можно сделать предположение,что распределение не нормальное. Цена акций наоборот, имеет меньше выбросов, однако медиана смещена к верхнему квартилю."
      ],
      "metadata": {
        "id": "4ilHtBaGkp6B"
      }
    },
    {
      "cell_type": "markdown",
      "source": [
        "Построим гистограмы, чтобы увидеть распредление данных"
      ],
      "metadata": {
        "id": "g7-TIF8el0PX"
      }
    },
    {
      "cell_type": "code",
      "source": [
        "df_new.hist()"
      ],
      "metadata": {
        "colab": {
          "base_uri": "https://localhost:8080/",
          "height": 346
        },
        "id": "PEMRd9glMn4s",
        "outputId": "993b46b8-5159-4162-c2d8-b5a4816c014f"
      },
      "execution_count": null,
      "outputs": [
        {
          "output_type": "execute_result",
          "data": {
            "text/plain": [
              "array([[<matplotlib.axes._subplots.AxesSubplot object at 0x7f34272ae9d0>,\n",
              "        <matplotlib.axes._subplots.AxesSubplot object at 0x7f342725be50>]],\n",
              "      dtype=object)"
            ]
          },
          "metadata": {},
          "execution_count": 55
        },
        {
          "output_type": "display_data",
          "data": {
            "text/plain": [
              "<Figure size 432x288 with 2 Axes>"
            ],
            "image/png": "[encoded data removed]"
          },
          "metadata": {
            "needs_background": "light"
          }
        }
      ]
    },
    {
      "cell_type": "markdown",
      "source": [
        "Форма гистограмм отличается от нормального распределения, у которого симметричная форма колокола с пиком посередине. У обеих гистограмм можно отметить смещение вправо. Также на гистрогаме цены можно отметить наличие двух пиков."
      ],
      "metadata": {
        "id": "nJqjgRPlklqA"
      }
    },
    {
      "cell_type": "code",
      "source": [
        "# выведем метрики\n",
        "df_new.describe()"
      ],
      "metadata": {
        "colab": {
          "base_uri": "https://localhost:8080/",
          "height": 300
        },
        "id": "3M0yWmLqM6I7",
        "outputId": "ea389743-e960-4dd6-86d6-5ad12211760a"
      },
      "execution_count": null,
      "outputs": [
        {
          "output_type": "execute_result",
          "data": {
            "text/plain": [
              "             Close        Volume\n",
              "count  2416.000000  2.416000e+03\n",
              "mean    186.403651  5.572722e+06\n",
              "std     119.136020  4.987809e+06\n",
              "min      15.800000  1.185000e+05\n",
              "25%      34.400002  1.899275e+06\n",
              "50%     212.960007  4.578400e+06\n",
              "75%     266.774994  7.361150e+06\n",
              "max     780.000000  4.706500e+07"
            ],
            "text/html": [
              "\n",
              "  <div id=\"df-8b480be6-4a3f-4e98-b90f-10aef1df7655\">\n",
              "    <div class=\"colab-df-container\">\n",
              "      <div>\n",
              "<style scoped>\n",
              "    .dataframe tbody tr th:only-of-type {\n",
              "        vertical-align: middle;\n",
              "    }\n",
              "\n",
              "    .dataframe tbody tr th {\n",
              "        vertical-align: top;\n",
              "    }\n",
              "\n",
              "    .dataframe thead th {\n",
              "        text-align: right;\n",
              "    }\n",
              "</style>\n",
              "<table border=\"1\" class=\"dataframe\">\n",
              "  <thead>\n",
              "    <tr style=\"text-align: right;\">\n",
              "      <th></th>\n",
              "      <th>Close</th>\n",
              "      <th>Volume</th>\n",
              "    </tr>\n",
              "  </thead>\n",
              "  <tbody>\n",
              "    <tr>\n",
              "      <th>count</th>\n",
              "      <td>2416.000000</td>\n",
              "      <td>2.416000e+03</td>\n",
              "    </tr>\n",
              "    <tr>\n",
              "      <th>mean</th>\n",
              "      <td>186.403651</td>\n",
              "      <td>5.572722e+06</td>\n",
              "    </tr>\n",
              "    <tr>\n",
              "      <th>std</th>\n",
              "      <td>119.136020</td>\n",
              "      <td>4.987809e+06</td>\n",
              "    </tr>\n",
              "    <tr>\n",
              "      <th>min</th>\n",
              "      <td>15.800000</td>\n",
              "      <td>1.185000e+05</td>\n",
              "    </tr>\n",
              "    <tr>\n",
              "      <th>25%</th>\n",
              "      <td>34.400002</td>\n",
              "      <td>1.899275e+06</td>\n",
              "    </tr>\n",
              "    <tr>\n",
              "      <th>50%</th>\n",
              "      <td>212.960007</td>\n",
              "      <td>4.578400e+06</td>\n",
              "    </tr>\n",
              "    <tr>\n",
              "      <th>75%</th>\n",
              "      <td>266.774994</td>\n",
              "      <td>7.361150e+06</td>\n",
              "    </tr>\n",
              "    <tr>\n",
              "      <th>max</th>\n",
              "      <td>780.000000</td>\n",
              "      <td>4.706500e+07</td>\n",
              "    </tr>\n",
              "  </tbody>\n",
              "</table>\n",
              "</div>\n",
              "      <button class=\"colab-df-convert\" onclick=\"convertToInteractive('df-8b480be6-4a3f-4e98-b90f-10aef1df7655')\"\n",
              "              title=\"Convert this dataframe to an interactive table.\"\n",
              "              style=\"display:none;\">\n",
              "        \n",
              "  <svg xmlns=\"http://www.w3.org/2000/svg\" height=\"24px\"viewBox=\"0 0 24 24\"\n",
              "       width=\"24px\">\n",
              "    <path d=\"M0 0h24v24H0V0z\" fill=\"none\"/>\n",
              "    <path d=\"M18.56 5.44l.94 2.06.94-2.06 2.06-.94-2.06-.94-.94-2.06-.94 2.06-2.06.94zm-11 1L8.5 8.5l.94-2.06 2.06-.94-2.06-.94L8.5 2.5l-.94 2.06-2.06.94zm10 10l.94 2.06.94-2.06 2.06-.94-2.06-.94-.94-2.06-.94 2.06-2.06.94z\"/><path d=\"M17.41 7.96l-1.37-1.37c-.4-.4-.92-.59-1.43-.59-.52 0-1.04.2-1.43.59L10.3 9.45l-7.72 7.72c-.78.78-.78 2.05 0 2.83L4 21.41c.39.39.9.59 1.41.59.51 0 1.02-.2 1.41-.59l7.78-7.78 2.81-2.81c.8-.78.8-2.07 0-2.86zM5.41 20L4 18.59l7.72-7.72 1.47 1.35L5.41 20z\"/>\n",
              "  </svg>\n",
              "      </button>\n",
              "      \n",
              "  <style>\n",
              "    .colab-df-container {\n",
              "      display:flex;\n",
              "      flex-wrap:wrap;\n",
              "      gap: 12px;\n",
              "    }\n",
              "\n",
              "    .colab-df-convert {\n",
              "      background-color: #E8F0FE;\n",
              "      border: none;\n",
              "      border-radius: 50%;\n",
              "      cursor: pointer;\n",
              "      display: none;\n",
              "      fill: #1967D2;\n",
              "      height: 32px;\n",
              "      padding: 0 0 0 0;\n",
              "      width: 32px;\n",
              "    }\n",
              "\n",
              "    .colab-df-convert:hover {\n",
              "      background-color: #E2EBFA;\n",
              "      box-shadow: 0px 1px 2px rgba(60, 64, 67, 0.3), 0px 1px 3px 1px rgba(60, 64, 67, 0.15);\n",
              "      fill: #174EA6;\n",
              "    }\n",
              "\n",
              "    [theme=dark] .colab-df-convert {\n",
              "      background-color: #3B4455;\n",
              "      fill: #D2E3FC;\n",
              "    }\n",
              "\n",
              "    [theme=dark] .colab-df-convert:hover {\n",
              "      background-color: #434B5C;\n",
              "      box-shadow: 0px 1px 3px 1px rgba(0, 0, 0, 0.15);\n",
              "      filter: drop-shadow(0px 1px 2px rgba(0, 0, 0, 0.3));\n",
              "      fill: #FFFFFF;\n",
              "    }\n",
              "  </style>\n",
              "\n",
              "      <script>\n",
              "        const buttonEl =\n",
              "          document.querySelector('#df-8b480be6-4a3f-4e98-b90f-10aef1df7655 button.colab-df-convert');\n",
              "        buttonEl.style.display =\n",
              "          google.colab.kernel.accessAllowed ? 'block' : 'none';\n",
              "\n",
              "        async function convertToInteractive(key) {\n",
              "          const element = document.querySelector('#df-8b480be6-4a3f-4e98-b90f-10aef1df7655');\n",
              "          const dataTable =\n",
              "            await google.colab.kernel.invokeFunction('convertToInteractive',\n",
              "                                                     [key], {});\n",
              "          if (!dataTable) return;\n",
              "\n",
              "          const docLinkHtml = 'Like what you see? Visit the ' +\n",
              "            '<a target=\"_blank\" href=https://colab.research.google.com/notebooks/data_table.ipynb>data table notebook</a>'\n",
              "            + ' to learn more about interactive tables.';\n",
              "          element.innerHTML = '';\n",
              "          dataTable['output_type'] = 'display_data';\n",
              "          await google.colab.output.renderOutput(dataTable, element);\n",
              "          const docLink = document.createElement('div');\n",
              "          docLink.innerHTML = docLinkHtml;\n",
              "          element.appendChild(docLink);\n",
              "        }\n",
              "      </script>\n",
              "    </div>\n",
              "  </div>\n",
              "  "
            ]
          },
          "metadata": {},
          "execution_count": 56
        }
      ]
    },
    {
      "cell_type": "markdown",
      "source": [
        "Так как основная цель работы - спрогнозировать цену акции в будщем, далее в работе будет вестисть анализ данных по колонке Close."
      ],
      "metadata": {
        "id": "jbbXyTBxtS7r"
      }
    },
    {
      "cell_type": "markdown",
      "source": [
        "Проведем тест Харки — Бера для определения номарльности распределения цены, чтобы подтвердить предположение об однородности. Для этого в существует функция jarque_bera(), которая возвращает значения данной статистики:"
      ],
      "metadata": {
        "id": "_9yif3PmyOXl"
      }
    },
    {
      "cell_type": "code",
      "source": [
        "import statsmodels.api as sm\n",
        "from statsmodels.iolib.table import SimpleTable\n",
        "row =  [u'JB', u'p-value', u'skew', u'kurtosis']\n",
        "jb_test = sm.stats.stattools.jarque_bera(df_new['Close'], axis = 0)\n",
        "a = np.vstack([jb_test])\n",
        "itog = SimpleTable(a, row)\n",
        "print(itog)"
      ],
      "metadata": {
        "colab": {
          "base_uri": "https://localhost:8080/"
        },
        "id": "aJfB95W5p7C-",
        "outputId": "63ae07fc-b60a-49eb-c24f-3f3df5cbd98a"
      },
      "execution_count": 7,
      "outputs": [
        {
          "output_type": "stream",
          "name": "stdout",
          "text": [
            "================================================================================\n",
            "        JB                p-value                 skew             kurtosis     \n",
            "--------------------------------------------------------------------------------\n",
            "33.574182353046034 5.1222283420672906e-08 0.01650409768371561 2.4234335885745026\n",
            "--------------------------------------------------------------------------------\n"
          ]
        }
      ]
    },
    {
      "cell_type": "markdown",
      "source": [
        "При достаточно большом значении статистики p-value мало, опровергаем нулевую гипотезу что данные однородны (статистика попала в «хвост» распределения)."
      ],
      "metadata": {
        "id": "5-OuMMsRx2I-"
      }
    },
    {
      "cell_type": "markdown",
      "source": [
        "Построим общий график, а также график скользящего среднего на 20 (кол-во рабочих дней в месяце) и на 100 дней."
      ],
      "metadata": {
        "id": "KM8Op5eGtcvq"
      }
    },
    {
      "cell_type": "code",
      "source": [
        "def plot_with_rolling(data,short_rolling,long_rolling,lbl='Close Price'):\n",
        "    # Plot \n",
        "    fig, ax = plt.subplots(figsize=(20,9))\n",
        "\n",
        "    ax.plot(data.index, data, label=lbl)\n",
        "    ax.plot(short_rolling.index, short_rolling, label='20 days rolling')\n",
        "    ax.plot(long_rolling.index, long_rolling, label='100 days rolling')\n",
        "    ax.set_xlabel('Date')\n",
        "    ax.set_ylabel(lbl)\n",
        "    ax.legend()\n",
        "\n",
        "    plt.show()\n",
        "\n",
        "short = df_new.Close.rolling(window=20).mean()\n",
        "long = df_new.Close.rolling(window=100).mean() \n",
        "plot_with_rolling(data=df_new.Close,short_rolling=short,long_rolling=long,lbl='Close Price')"
      ],
      "metadata": {
        "colab": {
          "base_uri": "https://localhost:8080/",
          "height": 571
        },
        "id": "Jj-3AZU2ps54",
        "outputId": "de3bab94-cd14-461d-9063-242512e89df8"
      },
      "execution_count": null,
      "outputs": [
        {
          "output_type": "display_data",
          "data": {
            "text/plain": [
              "<Figure size 1440x648 with 1 Axes>"
            ],
            "image/png": "[encoded data removed]"
          },
          "metadata": {
            "needs_background": "light"
          }
        }
      ]
    },
    {
      "cell_type": "markdown",
      "source": [
        "По графику можно отметить растущий тренд,а также резкий рост цен со второй половины 2019 года"
      ],
      "metadata": {
        "id": "8vl7EdNgrds6"
      }
    },
    {
      "cell_type": "markdown",
      "source": [
        "### ВЫВОД: "
      ],
      "metadata": {
        "id": "rCQpzmsD145G"
      }
    },
    {
      "cell_type": "markdown",
      "source": [
        "## Построение моделей, анализ результатов."
      ],
      "metadata": {
        "id": "v5F1qQuCtctd"
      }
    },
    {
      "cell_type": "markdown",
      "source": [
        "Перед началом прогнозирования проведем анализ на стационарность врменного ряда"
      ],
      "metadata": {
        "id": "qzm24I4a2G7l"
      }
    },
    {
      "cell_type": "code",
      "source": [
        "#Проверка временного ряда на стационнарность\n",
        "dftest = adfuller(df_new['Close'])\n",
        "print ('adf: ', dftest[0])\n",
        "print ('p-value: ', dftest[1])\n",
        "print('Critical values: ', dftest[4])\n",
        "if dftest[0]> dftest[4]['5%']: \n",
        "    print ('есть единичные корни, ряд не стационарен')\n",
        "else:\n",
        "    print ('единичных корней нет, ряд стационарен')"
      ],
      "metadata": {
        "colab": {
          "base_uri": "https://localhost:8080/"
        },
        "id": "pIUVsL1Ktyt2",
        "outputId": "ed36d694-1768-47f0-a3bb-97f285b5f7db"
      },
      "execution_count": 8,
      "outputs": [
        {
          "output_type": "stream",
          "name": "stdout",
          "text": [
            "adf:  1.40006850208616\n",
            "p-value:  0.9971144530803391\n",
            "Critical values:  {'1%': -3.4330810457844425, '5%': -2.862746538733181, '10%': -2.567412291147901}\n",
            "есть единичные корни, ряд не стационарен\n"
          ]
        }
      ]
    },
    {
      "cell_type": "code",
      "source": [
        "# Построим график запаздывания для поиска закономерностей в данных временного ряда.\n",
        "from pandas.plotting import lag_plot\n",
        "lag_plot(df_new['Close'])"
      ],
      "metadata": {
        "colab": {
          "base_uri": "https://localhost:8080/",
          "height": 296
        },
        "id": "jHP1O1DDkZSc",
        "outputId": "8153efd1-89fa-4698-ac32-18c314f4ecfd"
      },
      "execution_count": null,
      "outputs": [
        {
          "output_type": "execute_result",
          "data": {
            "text/plain": [
              "<matplotlib.axes._subplots.AxesSubplot at 0x7f3427dc4c50>"
            ]
          },
          "metadata": {},
          "execution_count": 39
        },
        {
          "output_type": "display_data",
          "data": {
            "text/plain": [
              "<Figure size 432x288 with 1 Axes>"
            ],
            "image/png": "[encoded data removed]"
          },
          "metadata": {
            "needs_background": "light"
          }
        }
      ]
    },
    {
      "cell_type": "markdown",
      "source": [
        "Видим наличие тренда и корреляции\n"
      ],
      "metadata": {
        "id": "hxH4EdjIkwSk"
      }
    },
    {
      "cell_type": "code",
      "source": [
        "#Построение графика автокорреляции\n",
        "acf(df_new['Close'])\n",
        "plot_acf(df_new['Close']);"
      ],
      "metadata": {
        "colab": {
          "base_uri": "https://localhost:8080/",
          "height": 281
        },
        "id": "qags1pSvk0Pp",
        "outputId": "da33bccc-08d2-48b8-8d85-47a88c7b7cdc"
      },
      "execution_count": null,
      "outputs": [
        {
          "output_type": "display_data",
          "data": {
            "text/plain": [
              "<Figure size 432x288 with 1 Axes>"
            ],
            "image/png": "[encoded data removed]"
          },
          "metadata": {
            "needs_background": "light"
          }
        }
      ]
    },
    {
      "cell_type": "code",
      "source": [
        "#Построение графика частичной автокорреляции\n",
        "pacf(df_new['Close'])\n",
        "plot_pacf(df_new['Close']);"
      ],
      "metadata": {
        "colab": {
          "base_uri": "https://localhost:8080/",
          "height": 336
        },
        "id": "58c8fkIt7FNS",
        "outputId": "a3d1d338-1b95-4319-a44e-ed96a905f910"
      },
      "execution_count": null,
      "outputs": [
        {
          "output_type": "stream",
          "name": "stderr",
          "text": [
            "/usr/local/lib/python3.7/dist-packages/statsmodels/graphics/tsaplots.py:353: FutureWarning: The default method 'yw' can produce PACF values outside of the [-1,1] interval. After 0.13, the default will change tounadjusted Yule-Walker ('ywm'). You can use this method now by setting method='ywm'.\n",
            "  FutureWarning,\n"
          ]
        },
        {
          "output_type": "display_data",
          "data": {
            "text/plain": [
              "<Figure size 432x288 with 1 Axes>"
            ],
            "image/png": "[encoded data removed]"
          },
          "metadata": {
            "needs_background": "light"
          }
        }
      ]
    },
    {
      "cell_type": "markdown",
      "source": [
        "Согласно проведенному анализу исследуемый временной ряд не стационарен."
      ],
      "metadata": {
        "id": "rJhQGcZl2WXR"
      }
    },
    {
      "cell_type": "markdown",
      "source": [
        "В связи с большим кол-вом данных и увеличением времени подбора перейдем к недельному интервалу и среднему значению цены на нем, это избавит нас от выбросов и уменьшит колебания нашего ряда"
      ],
      "metadata": {
        "id": "mt4Mlkd43xUu"
      }
    },
    {
      "cell_type": "code",
      "source": [
        "df_f = df_new.Close\n",
        "df_f = df_f.resample('W').mean()\n",
        "title = 'Изменение стоимости акций Тесла с 2010 - 2020 год' \n",
        "ylabel = 'Close Price' \n",
        "xlabel = '' \n",
        "ax = df_f.plot(figsize=(12,6), title=title)\n",
        "ax.autoscale(axis='x', tight=True)\n",
        "ax.set(xlabel=xlabel, ylabel=ylabel)"
      ],
      "metadata": {
        "colab": {
          "base_uri": "https://localhost:8080/",
          "height": 407
        },
        "id": "9vQv8Pl0231C",
        "outputId": "48d069c1-7dfb-49e5-f744-8100a579a7e7"
      },
      "execution_count": null,
      "outputs": [
        {
          "output_type": "execute_result",
          "data": {
            "text/plain": [
              "[Text(0, 0.5, 'Close Price'), Text(0.5, 0, '')]"
            ]
          },
          "metadata": {},
          "execution_count": 88
        },
        {
          "output_type": "display_data",
          "data": {
            "text/plain": [
              "<Figure size 864x432 with 1 Axes>"
            ],
            "image/png": "[encoded data removed]"
          },
          "metadata": {
            "needs_background": "light"
          }
        }
      ]
    },
    {
      "cell_type": "code",
      "source": [
        "#Так как тип df_f - Series, на основе него создадим для дальнейшей работы датафрейм\n",
        "df2 = pd.DataFrame(df_f, columns=['Close'])\n",
        "#проверка\n",
        "df2.info()"
      ],
      "metadata": {
        "colab": {
          "base_uri": "https://localhost:8080/"
        },
        "id": "OXGy-FPb7s9p",
        "outputId": "b1cb56ae-78c1-4792-d457-9ade941e70f3"
      },
      "execution_count": null,
      "outputs": [
        {
          "output_type": "stream",
          "name": "stdout",
          "text": [
            "<class 'pandas.core.frame.DataFrame'>\n",
            "DatetimeIndex: 502 entries, 2010-07-04 to 2020-02-09\n",
            "Freq: W-SUN\n",
            "Data columns (total 1 columns):\n",
            " #   Column  Non-Null Count  Dtype  \n",
            "---  ------  --------------  -----  \n",
            " 0   Close   502 non-null    float64\n",
            "dtypes: float64(1)\n",
            "memory usage: 7.8 KB\n"
          ]
        }
      ]
    },
    {
      "cell_type": "markdown",
      "source": [
        "ETS декомпозиция"
      ],
      "metadata": {
        "id": "JcmncDSYug2t"
      }
    },
    {
      "cell_type": "code",
      "source": [
        "r = seasonal_decompose(df2, model='additive')\n",
        "r.plot();"
      ],
      "metadata": {
        "colab": {
          "base_uri": "https://localhost:8080/",
          "height": 297
        },
        "id": "3-zaV0ISsC6I",
        "outputId": "4ae268cd-575f-4c35-a8ce-16454037ada3"
      },
      "execution_count": null,
      "outputs": [
        {
          "output_type": "display_data",
          "data": {
            "text/plain": [
              "<Figure size 432x288 with 4 Axes>"
            ],
            "image/png": "[encoded data removed]"
          },
          "metadata": {
            "needs_background": "light"
          }
        }
      ]
    },
    {
      "cell_type": "markdown",
      "source": [
        "Промежуточный вывод: Наблюдаем годовую сезонность и положительный тренд."
      ],
      "metadata": {
        "id": "XldkQCTm5qm3"
      }
    },
    {
      "cell_type": "markdown",
      "source": [
        "Построение моделей"
      ],
      "metadata": {
        "id": "ZbY_Bld1UxBy"
      }
    },
    {
      "cell_type": "code",
      "source": [
        "# выделяем выборки, где тестовая размера 12 недель\n",
        "train = df2.iloc[:len(df_f)-12]\n",
        "test = df2.iloc[len(df_f)-12:]"
      ],
      "metadata": {
        "id": "xBpnNNASVaAk"
      },
      "execution_count": null,
      "outputs": []
    },
    {
      "cell_type": "code",
      "source": [
        "#посмотрим на обучающую выборку\n",
        "train.head()\n"
      ],
      "metadata": {
        "id": "CJU0dbxOVe-Q",
        "colab": {
          "base_uri": "https://localhost:8080/",
          "height": 238
        },
        "outputId": "72ca02c0-b523-4553-dd86-3c640b651ea3"
      },
      "execution_count": null,
      "outputs": [
        {
          "output_type": "execute_result",
          "data": {
            "text/plain": [
              "                Close\n",
              "Date                 \n",
              "2010-07-04  22.220000\n",
              "2010-07-11  16.692500\n",
              "2010-07-18  19.111999\n",
              "2010-07-25  20.944000\n",
              "2010-08-01  20.502000"
            ],
            "text/html": [
              "\n",
              "  <div id=\"df-dcb69f5e-1110-4ed4-a25f-cfc0b2e1fa10\">\n",
              "    <div class=\"colab-df-container\">\n",
              "      <div>\n",
              "<style scoped>\n",
              "    .dataframe tbody tr th:only-of-type {\n",
              "        vertical-align: middle;\n",
              "    }\n",
              "\n",
              "    .dataframe tbody tr th {\n",
              "        vertical-align: top;\n",
              "    }\n",
              "\n",
              "    .dataframe thead th {\n",
              "        text-align: right;\n",
              "    }\n",
              "</style>\n",
              "<table border=\"1\" class=\"dataframe\">\n",
              "  <thead>\n",
              "    <tr style=\"text-align: right;\">\n",
              "      <th></th>\n",
              "      <th>Close</th>\n",
              "    </tr>\n",
              "    <tr>\n",
              "      <th>Date</th>\n",
              "      <th></th>\n",
              "    </tr>\n",
              "  </thead>\n",
              "  <tbody>\n",
              "    <tr>\n",
              "      <th>2010-07-04</th>\n",
              "      <td>22.220000</td>\n",
              "    </tr>\n",
              "    <tr>\n",
              "      <th>2010-07-11</th>\n",
              "      <td>16.692500</td>\n",
              "    </tr>\n",
              "    <tr>\n",
              "      <th>2010-07-18</th>\n",
              "      <td>19.111999</td>\n",
              "    </tr>\n",
              "    <tr>\n",
              "      <th>2010-07-25</th>\n",
              "      <td>20.944000</td>\n",
              "    </tr>\n",
              "    <tr>\n",
              "      <th>2010-08-01</th>\n",
              "      <td>20.502000</td>\n",
              "    </tr>\n",
              "  </tbody>\n",
              "</table>\n",
              "</div>\n",
              "      <button class=\"colab-df-convert\" onclick=\"convertToInteractive('df-dcb69f5e-1110-4ed4-a25f-cfc0b2e1fa10')\"\n",
              "              title=\"Convert this dataframe to an interactive table.\"\n",
              "              style=\"display:none;\">\n",
              "        \n",
              "  <svg xmlns=\"http://www.w3.org/2000/svg\" height=\"24px\"viewBox=\"0 0 24 24\"\n",
              "       width=\"24px\">\n",
              "    <path d=\"M0 0h24v24H0V0z\" fill=\"none\"/>\n",
              "    <path d=\"M18.56 5.44l.94 2.06.94-2.06 2.06-.94-2.06-.94-.94-2.06-.94 2.06-2.06.94zm-11 1L8.5 8.5l.94-2.06 2.06-.94-2.06-.94L8.5 2.5l-.94 2.06-2.06.94zm10 10l.94 2.06.94-2.06 2.06-.94-2.06-.94-.94-2.06-.94 2.06-2.06.94z\"/><path d=\"M17.41 7.96l-1.37-1.37c-.4-.4-.92-.59-1.43-.59-.52 0-1.04.2-1.43.59L10.3 9.45l-7.72 7.72c-.78.78-.78 2.05 0 2.83L4 21.41c.39.39.9.59 1.41.59.51 0 1.02-.2 1.41-.59l7.78-7.78 2.81-2.81c.8-.78.8-2.07 0-2.86zM5.41 20L4 18.59l7.72-7.72 1.47 1.35L5.41 20z\"/>\n",
              "  </svg>\n",
              "      </button>\n",
              "      \n",
              "  <style>\n",
              "    .colab-df-container {\n",
              "      display:flex;\n",
              "      flex-wrap:wrap;\n",
              "      gap: 12px;\n",
              "    }\n",
              "\n",
              "    .colab-df-convert {\n",
              "      background-color: #E8F0FE;\n",
              "      border: none;\n",
              "      border-radius: 50%;\n",
              "      cursor: pointer;\n",
              "      display: none;\n",
              "      fill: #1967D2;\n",
              "      height: 32px;\n",
              "      padding: 0 0 0 0;\n",
              "      width: 32px;\n",
              "    }\n",
              "\n",
              "    .colab-df-convert:hover {\n",
              "      background-color: #E2EBFA;\n",
              "      box-shadow: 0px 1px 2px rgba(60, 64, 67, 0.3), 0px 1px 3px 1px rgba(60, 64, 67, 0.15);\n",
              "      fill: #174EA6;\n",
              "    }\n",
              "\n",
              "    [theme=dark] .colab-df-convert {\n",
              "      background-color: #3B4455;\n",
              "      fill: #D2E3FC;\n",
              "    }\n",
              "\n",
              "    [theme=dark] .colab-df-convert:hover {\n",
              "      background-color: #434B5C;\n",
              "      box-shadow: 0px 1px 3px 1px rgba(0, 0, 0, 0.15);\n",
              "      filter: drop-shadow(0px 1px 2px rgba(0, 0, 0, 0.3));\n",
              "      fill: #FFFFFF;\n",
              "    }\n",
              "  </style>\n",
              "\n",
              "      <script>\n",
              "        const buttonEl =\n",
              "          document.querySelector('#df-dcb69f5e-1110-4ed4-a25f-cfc0b2e1fa10 button.colab-df-convert');\n",
              "        buttonEl.style.display =\n",
              "          google.colab.kernel.accessAllowed ? 'block' : 'none';\n",
              "\n",
              "        async function convertToInteractive(key) {\n",
              "          const element = document.querySelector('#df-dcb69f5e-1110-4ed4-a25f-cfc0b2e1fa10');\n",
              "          const dataTable =\n",
              "            await google.colab.kernel.invokeFunction('convertToInteractive',\n",
              "                                                     [key], {});\n",
              "          if (!dataTable) return;\n",
              "\n",
              "          const docLinkHtml = 'Like what you see? Visit the ' +\n",
              "            '<a target=\"_blank\" href=https://colab.research.google.com/notebooks/data_table.ipynb>data table notebook</a>'\n",
              "            + ' to learn more about interactive tables.';\n",
              "          element.innerHTML = '';\n",
              "          dataTable['output_type'] = 'display_data';\n",
              "          await google.colab.output.renderOutput(dataTable, element);\n",
              "          const docLink = document.createElement('div');\n",
              "          docLink.innerHTML = docLinkHtml;\n",
              "          element.appendChild(docLink);\n",
              "        }\n",
              "      </script>\n",
              "    </div>\n",
              "  </div>\n",
              "  "
            ]
          },
          "metadata": {},
          "execution_count": 97
        }
      ]
    },
    {
      "cell_type": "code",
      "source": [
        "#посмотрим на тестовую выборку\n",
        "test.head(12)"
      ],
      "metadata": {
        "id": "IMOJuKXTVfvx",
        "colab": {
          "base_uri": "https://localhost:8080/",
          "height": 457
        },
        "outputId": "79f6194e-740b-4fbf-f341-3e6cb9ec761f"
      },
      "execution_count": null,
      "outputs": [
        {
          "output_type": "execute_result",
          "data": {
            "text/plain": [
              "                 Close\n",
              "Date                  \n",
              "2019-11-24  349.919995\n",
              "2019-12-01  331.622505\n",
              "2019-12-08  334.072003\n",
              "2019-12-15  351.828003\n",
              "2019-12-22  392.653998\n",
              "2019-12-29  426.447502\n",
              "2020-01-05  426.575005\n",
              "2020-01-12  474.446002\n",
              "2020-01-19  521.053992\n",
              "2020-01-26  563.445007\n",
              "2020-02-02  599.458008\n",
              "2020-02-09  780.000000"
            ],
            "text/html": [
              "\n",
              "  <div id=\"df-a8b2d204-e4f8-4510-8e9e-c86bd64ad40c\">\n",
              "    <div class=\"colab-df-container\">\n",
              "      <div>\n",
              "<style scoped>\n",
              "    .dataframe tbody tr th:only-of-type {\n",
              "        vertical-align: middle;\n",
              "    }\n",
              "\n",
              "    .dataframe tbody tr th {\n",
              "        vertical-align: top;\n",
              "    }\n",
              "\n",
              "    .dataframe thead th {\n",
              "        text-align: right;\n",
              "    }\n",
              "</style>\n",
              "<table border=\"1\" class=\"dataframe\">\n",
              "  <thead>\n",
              "    <tr style=\"text-align: right;\">\n",
              "      <th></th>\n",
              "      <th>Close</th>\n",
              "    </tr>\n",
              "    <tr>\n",
              "      <th>Date</th>\n",
              "      <th></th>\n",
              "    </tr>\n",
              "  </thead>\n",
              "  <tbody>\n",
              "    <tr>\n",
              "      <th>2019-11-24</th>\n",
              "      <td>349.919995</td>\n",
              "    </tr>\n",
              "    <tr>\n",
              "      <th>2019-12-01</th>\n",
              "      <td>331.622505</td>\n",
              "    </tr>\n",
              "    <tr>\n",
              "      <th>2019-12-08</th>\n",
              "      <td>334.072003</td>\n",
              "    </tr>\n",
              "    <tr>\n",
              "      <th>2019-12-15</th>\n",
              "      <td>351.828003</td>\n",
              "    </tr>\n",
              "    <tr>\n",
              "      <th>2019-12-22</th>\n",
              "      <td>392.653998</td>\n",
              "    </tr>\n",
              "    <tr>\n",
              "      <th>2019-12-29</th>\n",
              "      <td>426.447502</td>\n",
              "    </tr>\n",
              "    <tr>\n",
              "      <th>2020-01-05</th>\n",
              "      <td>426.575005</td>\n",
              "    </tr>\n",
              "    <tr>\n",
              "      <th>2020-01-12</th>\n",
              "      <td>474.446002</td>\n",
              "    </tr>\n",
              "    <tr>\n",
              "      <th>2020-01-19</th>\n",
              "      <td>521.053992</td>\n",
              "    </tr>\n",
              "    <tr>\n",
              "      <th>2020-01-26</th>\n",
              "      <td>563.445007</td>\n",
              "    </tr>\n",
              "    <tr>\n",
              "      <th>2020-02-02</th>\n",
              "      <td>599.458008</td>\n",
              "    </tr>\n",
              "    <tr>\n",
              "      <th>2020-02-09</th>\n",
              "      <td>780.000000</td>\n",
              "    </tr>\n",
              "  </tbody>\n",
              "</table>\n",
              "</div>\n",
              "      <button class=\"colab-df-convert\" onclick=\"convertToInteractive('df-a8b2d204-e4f8-4510-8e9e-c86bd64ad40c')\"\n",
              "              title=\"Convert this dataframe to an interactive table.\"\n",
              "              style=\"display:none;\">\n",
              "        \n",
              "  <svg xmlns=\"http://www.w3.org/2000/svg\" height=\"24px\"viewBox=\"0 0 24 24\"\n",
              "       width=\"24px\">\n",
              "    <path d=\"M0 0h24v24H0V0z\" fill=\"none\"/>\n",
              "    <path d=\"M18.56 5.44l.94 2.06.94-2.06 2.06-.94-2.06-.94-.94-2.06-.94 2.06-2.06.94zm-11 1L8.5 8.5l.94-2.06 2.06-.94-2.06-.94L8.5 2.5l-.94 2.06-2.06.94zm10 10l.94 2.06.94-2.06 2.06-.94-2.06-.94-.94-2.06-.94 2.06-2.06.94z\"/><path d=\"M17.41 7.96l-1.37-1.37c-.4-.4-.92-.59-1.43-.59-.52 0-1.04.2-1.43.59L10.3 9.45l-7.72 7.72c-.78.78-.78 2.05 0 2.83L4 21.41c.39.39.9.59 1.41.59.51 0 1.02-.2 1.41-.59l7.78-7.78 2.81-2.81c.8-.78.8-2.07 0-2.86zM5.41 20L4 18.59l7.72-7.72 1.47 1.35L5.41 20z\"/>\n",
              "  </svg>\n",
              "      </button>\n",
              "      \n",
              "  <style>\n",
              "    .colab-df-container {\n",
              "      display:flex;\n",
              "      flex-wrap:wrap;\n",
              "      gap: 12px;\n",
              "    }\n",
              "\n",
              "    .colab-df-convert {\n",
              "      background-color: #E8F0FE;\n",
              "      border: none;\n",
              "      border-radius: 50%;\n",
              "      cursor: pointer;\n",
              "      display: none;\n",
              "      fill: #1967D2;\n",
              "      height: 32px;\n",
              "      padding: 0 0 0 0;\n",
              "      width: 32px;\n",
              "    }\n",
              "\n",
              "    .colab-df-convert:hover {\n",
              "      background-color: #E2EBFA;\n",
              "      box-shadow: 0px 1px 2px rgba(60, 64, 67, 0.3), 0px 1px 3px 1px rgba(60, 64, 67, 0.15);\n",
              "      fill: #174EA6;\n",
              "    }\n",
              "\n",
              "    [theme=dark] .colab-df-convert {\n",
              "      background-color: #3B4455;\n",
              "      fill: #D2E3FC;\n",
              "    }\n",
              "\n",
              "    [theme=dark] .colab-df-convert:hover {\n",
              "      background-color: #434B5C;\n",
              "      box-shadow: 0px 1px 3px 1px rgba(0, 0, 0, 0.15);\n",
              "      filter: drop-shadow(0px 1px 2px rgba(0, 0, 0, 0.3));\n",
              "      fill: #FFFFFF;\n",
              "    }\n",
              "  </style>\n",
              "\n",
              "      <script>\n",
              "        const buttonEl =\n",
              "          document.querySelector('#df-a8b2d204-e4f8-4510-8e9e-c86bd64ad40c button.colab-df-convert');\n",
              "        buttonEl.style.display =\n",
              "          google.colab.kernel.accessAllowed ? 'block' : 'none';\n",
              "\n",
              "        async function convertToInteractive(key) {\n",
              "          const element = document.querySelector('#df-a8b2d204-e4f8-4510-8e9e-c86bd64ad40c');\n",
              "          const dataTable =\n",
              "            await google.colab.kernel.invokeFunction('convertToInteractive',\n",
              "                                                     [key], {});\n",
              "          if (!dataTable) return;\n",
              "\n",
              "          const docLinkHtml = 'Like what you see? Visit the ' +\n",
              "            '<a target=\"_blank\" href=https://colab.research.google.com/notebooks/data_table.ipynb>data table notebook</a>'\n",
              "            + ' to learn more about interactive tables.';\n",
              "          element.innerHTML = '';\n",
              "          dataTable['output_type'] = 'display_data';\n",
              "          await google.colab.output.renderOutput(dataTable, element);\n",
              "          const docLink = document.createElement('div');\n",
              "          docLink.innerHTML = docLinkHtml;\n",
              "          element.appendChild(docLink);\n",
              "        }\n",
              "      </script>\n",
              "    </div>\n",
              "  </div>\n",
              "  "
            ]
          },
          "metadata": {},
          "execution_count": 101
        }
      ]
    },
    {
      "cell_type": "code",
      "source": [
        "from pmdarima import auto_arima    \n",
        "auto_arima(df2['Close'],seasonal=True,m=52).summary() #включаем сезонность и указываем период сезонности = 1 год"
      ],
      "metadata": {
        "colab": {
          "base_uri": "https://localhost:8080/",
          "height": 465
        },
        "id": "d2UcB8CKD_Wv",
        "outputId": "e9d17a23-0002-4b95-b289-bcdaecd684fd"
      },
      "execution_count": null,
      "outputs": [
        {
          "output_type": "execute_result",
          "data": {
            "text/plain": [
              "<class 'statsmodels.iolib.summary.Summary'>\n",
              "\"\"\"\n",
              "                                      SARIMAX Results                                       \n",
              "============================================================================================\n",
              "Dep. Variable:                                    y   No. Observations:                  502\n",
              "Model:             SARIMAX(1, 1, 2)x(0, 0, [1], 52)   Log Likelihood               -1999.859\n",
              "Date:                              Mon, 21 Mar 2022   AIC                           4009.718\n",
              "Time:                                      19:38:14   BIC                           4030.801\n",
              "Sample:                                           0   HQIC                          4017.990\n",
              "                                              - 502                                         \n",
              "Covariance Type:                                opg                                         \n",
              "==============================================================================\n",
              "                 coef    std err          z      P>|z|      [0.025      0.975]\n",
              "------------------------------------------------------------------------------\n",
              "ar.L1          0.9892      0.033     30.115      0.000       0.925       1.054\n",
              "ma.L1         -0.5913      0.056    -10.529      0.000      -0.701      -0.481\n",
              "ma.L2         -0.2408      0.053     -4.525      0.000      -0.345      -0.136\n",
              "ma.S.L52       0.0848      0.049      1.723      0.085      -0.012       0.181\n",
              "sigma2       171.0064      5.903     28.971      0.000     159.437     182.575\n",
              "===================================================================================\n",
              "Ljung-Box (L1) (Q):                   0.02   Jarque-Bera (JB):             30305.61\n",
              "Prob(Q):                              0.88   Prob(JB):                         0.00\n",
              "Heteroskedasticity (H):              32.46   Skew:                             3.13\n",
              "Prob(H) (two-sided):                  0.00   Kurtosis:                        40.59\n",
              "===================================================================================\n",
              "\n",
              "Warnings:\n",
              "[1] Covariance matrix calculated using the outer product of gradients (complex-step).\n",
              "\"\"\""
            ],
            "text/html": [
              "<table class=\"simpletable\">\n",
              "<caption>SARIMAX Results</caption>\n",
              "<tr>\n",
              "  <th>Dep. Variable:</th>                   <td>y</td>                <th>  No. Observations:  </th>    <td>502</td>   \n",
              "</tr>\n",
              "<tr>\n",
              "  <th>Model:</th>           <td>SARIMAX(1, 1, 2)x(0, 0, [1], 52)</td> <th>  Log Likelihood     </th> <td>-1999.859</td>\n",
              "</tr>\n",
              "<tr>\n",
              "  <th>Date:</th>                    <td>Mon, 21 Mar 2022</td>         <th>  AIC                </th> <td>4009.718</td> \n",
              "</tr>\n",
              "<tr>\n",
              "  <th>Time:</th>                        <td>19:38:14</td>             <th>  BIC                </th> <td>4030.801</td> \n",
              "</tr>\n",
              "<tr>\n",
              "  <th>Sample:</th>                          <td>0</td>                <th>  HQIC               </th> <td>4017.990</td> \n",
              "</tr>\n",
              "<tr>\n",
              "  <th></th>                              <td> - 502</td>              <th>                     </th>     <td> </td>    \n",
              "</tr>\n",
              "<tr>\n",
              "  <th>Covariance Type:</th>                <td>opg</td>               <th>                     </th>     <td> </td>    \n",
              "</tr>\n",
              "</table>\n",
              "<table class=\"simpletable\">\n",
              "<tr>\n",
              "      <td></td>        <th>coef</th>     <th>std err</th>      <th>z</th>      <th>P>|z|</th>  <th>[0.025</th>    <th>0.975]</th>  \n",
              "</tr>\n",
              "<tr>\n",
              "  <th>ar.L1</th>    <td>    0.9892</td> <td>    0.033</td> <td>   30.115</td> <td> 0.000</td> <td>    0.925</td> <td>    1.054</td>\n",
              "</tr>\n",
              "<tr>\n",
              "  <th>ma.L1</th>    <td>   -0.5913</td> <td>    0.056</td> <td>  -10.529</td> <td> 0.000</td> <td>   -0.701</td> <td>   -0.481</td>\n",
              "</tr>\n",
              "<tr>\n",
              "  <th>ma.L2</th>    <td>   -0.2408</td> <td>    0.053</td> <td>   -4.525</td> <td> 0.000</td> <td>   -0.345</td> <td>   -0.136</td>\n",
              "</tr>\n",
              "<tr>\n",
              "  <th>ma.S.L52</th> <td>    0.0848</td> <td>    0.049</td> <td>    1.723</td> <td> 0.085</td> <td>   -0.012</td> <td>    0.181</td>\n",
              "</tr>\n",
              "<tr>\n",
              "  <th>sigma2</th>   <td>  171.0064</td> <td>    5.903</td> <td>   28.971</td> <td> 0.000</td> <td>  159.437</td> <td>  182.575</td>\n",
              "</tr>\n",
              "</table>\n",
              "<table class=\"simpletable\">\n",
              "<tr>\n",
              "  <th>Ljung-Box (L1) (Q):</th>     <td>0.02</td>  <th>  Jarque-Bera (JB):  </th> <td>30305.61</td>\n",
              "</tr>\n",
              "<tr>\n",
              "  <th>Prob(Q):</th>                <td>0.88</td>  <th>  Prob(JB):          </th>   <td>0.00</td>  \n",
              "</tr>\n",
              "<tr>\n",
              "  <th>Heteroskedasticity (H):</th> <td>32.46</td> <th>  Skew:              </th>   <td>3.13</td>  \n",
              "</tr>\n",
              "<tr>\n",
              "  <th>Prob(H) (two-sided):</th>    <td>0.00</td>  <th>  Kurtosis:          </th>   <td>40.59</td> \n",
              "</tr>\n",
              "</table><br/><br/>Warnings:<br/>[1] Covariance matrix calculated using the outer product of gradients (complex-step)."
            ]
          },
          "metadata": {},
          "execution_count": 92
        }
      ]
    },
    {
      "cell_type": "markdown",
      "source": [
        "Промежуточные выводы:\n",
        "\n",
        "Получилась модель с параметрами SARIMAX(1, 1, 2)x(0, 0, [1], 52)"
      ],
      "metadata": {
        "id": "Gdq9D4VvVHLM"
      }
    },
    {
      "cell_type": "code",
      "source": [
        "# создаем модель с подобранными параметрами\n",
        "model_sarimax = SARIMAX(train['Close'],order=(1, 1, 2), seasonal_order=(0, 0, 1, 52))\n",
        "\n",
        "#обучаем модель на обучающей выборке данных\n",
        "results_sarimax = model_sarimax.fit()\n",
        "\n",
        "#получаем результаты\n",
        "results_sarimax.summary()"
      ],
      "metadata": {
        "id": "iVIKvqP2VmiK",
        "colab": {
          "base_uri": "https://localhost:8080/",
          "height": 465
        },
        "outputId": "0d884bd8-3c14-458d-a4ab-7a9cb63688fa"
      },
      "execution_count": null,
      "outputs": [
        {
          "output_type": "execute_result",
          "data": {
            "text/plain": [
              "<class 'statsmodels.iolib.summary.Summary'>\n",
              "\"\"\"\n",
              "                                      SARIMAX Results                                       \n",
              "============================================================================================\n",
              "Dep. Variable:                                Close   No. Observations:                  490\n",
              "Model:             SARIMAX(1, 1, 2)x(0, 0, [1], 52)   Log Likelihood               -1839.670\n",
              "Date:                              Mon, 21 Mar 2022   AIC                           3689.339\n",
              "Time:                                      19:42:36   BIC                           3710.301\n",
              "Sample:                                  07-04-2010   HQIC                          3697.572\n",
              "                                       - 11-17-2019                                         \n",
              "Covariance Type:                                opg                                         \n",
              "==============================================================================\n",
              "                 coef    std err          z      P>|z|      [0.025      0.975]\n",
              "------------------------------------------------------------------------------\n",
              "ar.L1          0.8011      0.185      4.323      0.000       0.438       1.164\n",
              "ma.L1         -0.5287      0.186     -2.842      0.004      -0.893      -0.164\n",
              "ma.L2         -0.2746      0.045     -6.118      0.000      -0.363      -0.187\n",
              "ma.S.L52       0.1001      0.038      2.618      0.009       0.025       0.175\n",
              "sigma2       108.3146      5.039     21.496      0.000      98.439     118.190\n",
              "===================================================================================\n",
              "Ljung-Box (L1) (Q):                   0.00   Jarque-Bera (JB):               101.45\n",
              "Prob(Q):                              0.97   Prob(JB):                         0.00\n",
              "Heteroskedasticity (H):              16.69   Skew:                            -0.16\n",
              "Prob(H) (two-sided):                  0.00   Kurtosis:                         5.21\n",
              "===================================================================================\n",
              "\n",
              "Warnings:\n",
              "[1] Covariance matrix calculated using the outer product of gradients (complex-step).\n",
              "\"\"\""
            ],
            "text/html": [
              "<table class=\"simpletable\">\n",
              "<caption>SARIMAX Results</caption>\n",
              "<tr>\n",
              "  <th>Dep. Variable:</th>                 <td>Close</td>              <th>  No. Observations:  </th>    <td>490</td>   \n",
              "</tr>\n",
              "<tr>\n",
              "  <th>Model:</th>           <td>SARIMAX(1, 1, 2)x(0, 0, [1], 52)</td> <th>  Log Likelihood     </th> <td>-1839.670</td>\n",
              "</tr>\n",
              "<tr>\n",
              "  <th>Date:</th>                    <td>Mon, 21 Mar 2022</td>         <th>  AIC                </th> <td>3689.339</td> \n",
              "</tr>\n",
              "<tr>\n",
              "  <th>Time:</th>                        <td>19:42:36</td>             <th>  BIC                </th> <td>3710.301</td> \n",
              "</tr>\n",
              "<tr>\n",
              "  <th>Sample:</th>                     <td>07-04-2010</td>            <th>  HQIC               </th> <td>3697.572</td> \n",
              "</tr>\n",
              "<tr>\n",
              "  <th></th>                           <td>- 11-17-2019</td>           <th>                     </th>     <td> </td>    \n",
              "</tr>\n",
              "<tr>\n",
              "  <th>Covariance Type:</th>                <td>opg</td>               <th>                     </th>     <td> </td>    \n",
              "</tr>\n",
              "</table>\n",
              "<table class=\"simpletable\">\n",
              "<tr>\n",
              "      <td></td>        <th>coef</th>     <th>std err</th>      <th>z</th>      <th>P>|z|</th>  <th>[0.025</th>    <th>0.975]</th>  \n",
              "</tr>\n",
              "<tr>\n",
              "  <th>ar.L1</th>    <td>    0.8011</td> <td>    0.185</td> <td>    4.323</td> <td> 0.000</td> <td>    0.438</td> <td>    1.164</td>\n",
              "</tr>\n",
              "<tr>\n",
              "  <th>ma.L1</th>    <td>   -0.5287</td> <td>    0.186</td> <td>   -2.842</td> <td> 0.004</td> <td>   -0.893</td> <td>   -0.164</td>\n",
              "</tr>\n",
              "<tr>\n",
              "  <th>ma.L2</th>    <td>   -0.2746</td> <td>    0.045</td> <td>   -6.118</td> <td> 0.000</td> <td>   -0.363</td> <td>   -0.187</td>\n",
              "</tr>\n",
              "<tr>\n",
              "  <th>ma.S.L52</th> <td>    0.1001</td> <td>    0.038</td> <td>    2.618</td> <td> 0.009</td> <td>    0.025</td> <td>    0.175</td>\n",
              "</tr>\n",
              "<tr>\n",
              "  <th>sigma2</th>   <td>  108.3146</td> <td>    5.039</td> <td>   21.496</td> <td> 0.000</td> <td>   98.439</td> <td>  118.190</td>\n",
              "</tr>\n",
              "</table>\n",
              "<table class=\"simpletable\">\n",
              "<tr>\n",
              "  <th>Ljung-Box (L1) (Q):</th>     <td>0.00</td>  <th>  Jarque-Bera (JB):  </th> <td>101.45</td>\n",
              "</tr>\n",
              "<tr>\n",
              "  <th>Prob(Q):</th>                <td>0.97</td>  <th>  Prob(JB):          </th>  <td>0.00</td> \n",
              "</tr>\n",
              "<tr>\n",
              "  <th>Heteroskedasticity (H):</th> <td>16.69</td> <th>  Skew:              </th>  <td>-0.16</td>\n",
              "</tr>\n",
              "<tr>\n",
              "  <th>Prob(H) (two-sided):</th>    <td>0.00</td>  <th>  Kurtosis:          </th>  <td>5.21</td> \n",
              "</tr>\n",
              "</table><br/><br/>Warnings:<br/>[1] Covariance matrix calculated using the outer product of gradients (complex-step)."
            ]
          },
          "metadata": {},
          "execution_count": 102
        }
      ]
    },
    {
      "cell_type": "code",
      "source": [
        "#предсказываем значения,передав модели results точку начала и окончания\n",
        "prediction_sarimax = results_sarimax.predict(start=len(train), end=len(train)+len(test)-1, dynamic=False, typ='levels').rename(' Predictions SARIMAX(1, 1, 2)x(0, 0, [1], 52)\t')"
      ],
      "metadata": {
        "id": "8KkEf9HAVql4"
      },
      "execution_count": null,
      "outputs": []
    },
    {
      "cell_type": "code",
      "source": [
        "#сравниваем прогноз и тестовую выборку\n",
        "ax = test['Close'].plot(legend=True, figsize=(12,6),title='Close Price changing')\n",
        "prediction_sarimax.plot(legend=True)\n",
        "ax.autoscale(axis='x',tight=True)"
      ],
      "metadata": {
        "id": "UY8hkf34Vuxs",
        "colab": {
          "base_uri": "https://localhost:8080/",
          "height": 509
        },
        "outputId": "2fac5d61-97c4-4976-ffd7-2686ff7fe5c7"
      },
      "execution_count": null,
      "outputs": [
        {
          "output_type": "stream",
          "name": "stderr",
          "text": [
            "/usr/local/lib/python3.7/dist-packages/matplotlib/backends/backend_agg.py:214: RuntimeWarning: Glyph 9 missing from current font.\n",
            "  font.set_text(s, 0.0, flags=flags)\n",
            "/usr/local/lib/python3.7/dist-packages/matplotlib/backends/backend_agg.py:183: RuntimeWarning: Glyph 9 missing from current font.\n",
            "  font.set_text(s, 0, flags=flags)\n"
          ]
        },
        {
          "output_type": "display_data",
          "data": {
            "text/plain": [
              "<Figure size 864x432 with 1 Axes>"
            ],
            "image/png": "[encoded data removed]"
          },
          "metadata": {
            "needs_background": "light"
          }
        }
      ]
    },
    {
      "cell_type": "code",
      "source": [
        "#оцениваем качество модели методом MSE, RMSE, MAE, MAPE\n",
        "mae_error = mean_absolute_error(test['Close'], prediction_sarimax)\n",
        "mse_error = mean_squared_error(test['Close'], prediction_sarimax)\n",
        "rmse_error = rmse(test['Close'], prediction_sarimax)\n",
        "mape_error = np.mean(np.abs(prediction_sarimax - test['Close'])/test['Close'])*100\n",
        "\n",
        "print(f'SARIMAX(0, 1, 2)x(2, 0, [], 7) MAE Error: {mae_error:11.10}')\n",
        "print(f'SARIMAX(0, 1, 2)x(2, 0, [], 7) MSE Error: {mse_error:11.10}')\n",
        "print(f'SARIMAX(0, 1, 2)x(2, 0, [], 7) RMSE Error: {rmse_error:11.10}')\n",
        "print(f'SARIMAX(0, 1, 2)x(2, 0, [], 7) MAPE Error: {mape_error:11.10}')"
      ],
      "metadata": {
        "id": "CioNQclqVysf",
        "colab": {
          "base_uri": "https://localhost:8080/"
        },
        "outputId": "62883d71-868d-4d10-9f73-86d8b22a802b"
      },
      "execution_count": null,
      "outputs": [
        {
          "output_type": "stream",
          "name": "stdout",
          "text": [
            "SARIMAX(0, 1, 2)x(2, 0, [], 7) MAE Error:  127.974433\n",
            "SARIMAX(0, 1, 2)x(2, 0, [], 7) MSE Error: 33007.87855\n",
            "SARIMAX(0, 1, 2)x(2, 0, [], 7) RMSE Error: 181.6807049\n",
            "SARIMAX(0, 1, 2)x(2, 0, [], 7) MAPE Error: 22.81866178\n"
          ]
        }
      ]
    },
    {
      "cell_type": "code",
      "source": [
        "#делаем прогноз на будущее - 12 недель вперед\n",
        "\n",
        "# обучаем модель на всем датасете\n",
        "fut_model_sarimax = SARIMAX(df2['Close'],order=(1, 1, 2), seasonal_order=(0, 0, 1, 52))\n",
        "fut_results_sarimax = fut_model_sarimax.fit()\n",
        "fut_results_sarimax.summary()"
      ],
      "metadata": {
        "id": "vfLD6IXKV2yY",
        "colab": {
          "base_uri": "https://localhost:8080/",
          "height": 519
        },
        "outputId": "bbc8f646-ffee-475e-c171-41f2cb8a452b"
      },
      "execution_count": null,
      "outputs": [
        {
          "output_type": "stream",
          "name": "stderr",
          "text": [
            "/usr/local/lib/python3.7/dist-packages/statsmodels/tsa/statespace/sarimax.py:966: UserWarning: Non-stationary starting autoregressive parameters found. Using zeros as starting parameters.\n",
            "  warn('Non-stationary starting autoregressive parameters'\n"
          ]
        },
        {
          "output_type": "execute_result",
          "data": {
            "text/plain": [
              "<class 'statsmodels.iolib.summary.Summary'>\n",
              "\"\"\"\n",
              "                                      SARIMAX Results                                       \n",
              "============================================================================================\n",
              "Dep. Variable:                                Close   No. Observations:                  502\n",
              "Model:             SARIMAX(1, 1, 2)x(0, 0, [1], 52)   Log Likelihood               -1999.859\n",
              "Date:                              Mon, 21 Mar 2022   AIC                           4009.718\n",
              "Time:                                      19:48:42   BIC                           4030.801\n",
              "Sample:                                  07-04-2010   HQIC                          4017.990\n",
              "                                       - 02-09-2020                                         \n",
              "Covariance Type:                                opg                                         \n",
              "==============================================================================\n",
              "                 coef    std err          z      P>|z|      [0.025      0.975]\n",
              "------------------------------------------------------------------------------\n",
              "ar.L1          0.9892      0.033     30.115      0.000       0.925       1.054\n",
              "ma.L1         -0.5913      0.056    -10.529      0.000      -0.701      -0.481\n",
              "ma.L2         -0.2408      0.053     -4.525      0.000      -0.345      -0.136\n",
              "ma.S.L52       0.0848      0.049      1.723      0.085      -0.012       0.181\n",
              "sigma2       171.0064      5.903     28.971      0.000     159.437     182.575\n",
              "===================================================================================\n",
              "Ljung-Box (L1) (Q):                   0.02   Jarque-Bera (JB):             30305.61\n",
              "Prob(Q):                              0.88   Prob(JB):                         0.00\n",
              "Heteroskedasticity (H):              32.46   Skew:                             3.13\n",
              "Prob(H) (two-sided):                  0.00   Kurtosis:                        40.59\n",
              "===================================================================================\n",
              "\n",
              "Warnings:\n",
              "[1] Covariance matrix calculated using the outer product of gradients (complex-step).\n",
              "\"\"\""
            ],
            "text/html": [
              "<table class=\"simpletable\">\n",
              "<caption>SARIMAX Results</caption>\n",
              "<tr>\n",
              "  <th>Dep. Variable:</th>                 <td>Close</td>              <th>  No. Observations:  </th>    <td>502</td>   \n",
              "</tr>\n",
              "<tr>\n",
              "  <th>Model:</th>           <td>SARIMAX(1, 1, 2)x(0, 0, [1], 52)</td> <th>  Log Likelihood     </th> <td>-1999.859</td>\n",
              "</tr>\n",
              "<tr>\n",
              "  <th>Date:</th>                    <td>Mon, 21 Mar 2022</td>         <th>  AIC                </th> <td>4009.718</td> \n",
              "</tr>\n",
              "<tr>\n",
              "  <th>Time:</th>                        <td>19:48:42</td>             <th>  BIC                </th> <td>4030.801</td> \n",
              "</tr>\n",
              "<tr>\n",
              "  <th>Sample:</th>                     <td>07-04-2010</td>            <th>  HQIC               </th> <td>4017.990</td> \n",
              "</tr>\n",
              "<tr>\n",
              "  <th></th>                           <td>- 02-09-2020</td>           <th>                     </th>     <td> </td>    \n",
              "</tr>\n",
              "<tr>\n",
              "  <th>Covariance Type:</th>                <td>opg</td>               <th>                     </th>     <td> </td>    \n",
              "</tr>\n",
              "</table>\n",
              "<table class=\"simpletable\">\n",
              "<tr>\n",
              "      <td></td>        <th>coef</th>     <th>std err</th>      <th>z</th>      <th>P>|z|</th>  <th>[0.025</th>    <th>0.975]</th>  \n",
              "</tr>\n",
              "<tr>\n",
              "  <th>ar.L1</th>    <td>    0.9892</td> <td>    0.033</td> <td>   30.115</td> <td> 0.000</td> <td>    0.925</td> <td>    1.054</td>\n",
              "</tr>\n",
              "<tr>\n",
              "  <th>ma.L1</th>    <td>   -0.5913</td> <td>    0.056</td> <td>  -10.529</td> <td> 0.000</td> <td>   -0.701</td> <td>   -0.481</td>\n",
              "</tr>\n",
              "<tr>\n",
              "  <th>ma.L2</th>    <td>   -0.2408</td> <td>    0.053</td> <td>   -4.525</td> <td> 0.000</td> <td>   -0.345</td> <td>   -0.136</td>\n",
              "</tr>\n",
              "<tr>\n",
              "  <th>ma.S.L52</th> <td>    0.0848</td> <td>    0.049</td> <td>    1.723</td> <td> 0.085</td> <td>   -0.012</td> <td>    0.181</td>\n",
              "</tr>\n",
              "<tr>\n",
              "  <th>sigma2</th>   <td>  171.0064</td> <td>    5.903</td> <td>   28.971</td> <td> 0.000</td> <td>  159.437</td> <td>  182.575</td>\n",
              "</tr>\n",
              "</table>\n",
              "<table class=\"simpletable\">\n",
              "<tr>\n",
              "  <th>Ljung-Box (L1) (Q):</th>     <td>0.02</td>  <th>  Jarque-Bera (JB):  </th> <td>30305.61</td>\n",
              "</tr>\n",
              "<tr>\n",
              "  <th>Prob(Q):</th>                <td>0.88</td>  <th>  Prob(JB):          </th>   <td>0.00</td>  \n",
              "</tr>\n",
              "<tr>\n",
              "  <th>Heteroskedasticity (H):</th> <td>32.46</td> <th>  Skew:              </th>   <td>3.13</td>  \n",
              "</tr>\n",
              "<tr>\n",
              "  <th>Prob(H) (two-sided):</th>    <td>0.00</td>  <th>  Kurtosis:          </th>   <td>40.59</td> \n",
              "</tr>\n",
              "</table><br/><br/>Warnings:<br/>[1] Covariance matrix calculated using the outer product of gradients (complex-step)."
            ]
          },
          "metadata": {},
          "execution_count": 109
        }
      ]
    },
    {
      "cell_type": "code",
      "source": [
        "#задаем точки будущего\n",
        "fut_fcast_sarimax = fut_results_sarimax.predict(len(df2)-1,len(df2)+9,typ='levels').rename('SARIMAX(1, 1, 2)x(0, 0, [1], 52) Forecast')\n",
        "\n",
        "#строим график на будущее\n",
        "ax = df2['Close'].plot(legend=True, figsize=(12,6),title='Close...') \n",
        "fut_fcast_sarimax.plot(legend=True)\n",
        "ax.autoscale(axis='x',tight=True)"
      ],
      "metadata": {
        "id": "zWiwywnOV570",
        "colab": {
          "base_uri": "https://localhost:8080/",
          "height": 404
        },
        "outputId": "d3da426b-c334-42b7-aa5e-3a18d452334c"
      },
      "execution_count": null,
      "outputs": [
        {
          "output_type": "display_data",
          "data": {
            "text/plain": [
              "<Figure size 864x432 with 1 Axes>"
            ],
            "image/png": "[encoded data removed]"
          },
          "metadata": {
            "needs_background": "light"
          }
        }
      ]
    },
    {
      "cell_type": "markdown",
      "source": [
        "Выводы работы метода SARIMAX\n",
        "to do"
      ],
      "metadata": {
        "id": "xFKyO9xTV9gV"
      }
    },
    {
      "cell_type": "markdown",
      "source": [
        "3й метод прогнозирования \"Экспоненциальное сглаживание\" (Exponential smoothing)"
      ],
      "metadata": {
        "id": "WI2-KQrqWGML"
      }
    },
    {
      "cell_type": "code",
      "source": [
        "# создаем модель с подобранными параметрами\n",
        "model_exps = ExponentialSmoothing(train['Close'], seasonal_periods=52, trend = 'add')# годовая сезонность\n",
        "\n",
        "#обучаем модель на обучающей выборке данных\n",
        "model_exps.fit()"
      ],
      "metadata": {
        "id": "wT_7Xr9QWErf",
        "colab": {
          "base_uri": "https://localhost:8080/"
        },
        "outputId": "4cbdc6af-de5e-4768-b4cf-8d86972d1f36"
      },
      "execution_count": null,
      "outputs": [
        {
          "output_type": "execute_result",
          "data": {
            "text/plain": [
              "<statsmodels.tsa.holtwinters.results.HoltWintersResultsWrapper at 0x7f3422ee2990>"
            ]
          },
          "metadata": {},
          "execution_count": 114
        }
      ]
    },
    {
      "cell_type": "code",
      "source": [
        "#посмотрим на подобранные параметры модели\n",
        "model_exps.params"
      ],
      "metadata": {
        "id": "HIkO9dfXWMHU",
        "colab": {
          "base_uri": "https://localhost:8080/"
        },
        "outputId": "c37e68e9-e72a-4219-e9c7-39f2f1dda4de"
      },
      "execution_count": null,
      "outputs": [
        {
          "output_type": "execute_result",
          "data": {
            "text/plain": [
              "{'damping_trend': nan,\n",
              " 'initial_level': 22.577711519333395,\n",
              " 'initial_seasons': array([], dtype=float64),\n",
              " 'initial_trend': 0.664167386913011,\n",
              " 'lamda': None,\n",
              " 'remove_bias': False,\n",
              " 'smoothing_level': 0.9996726336716957,\n",
              " 'smoothing_seasonal': nan,\n",
              " 'smoothing_trend': 0.00023632206326520435,\n",
              " 'use_boxcox': False}"
            ]
          },
          "metadata": {},
          "execution_count": 115
        }
      ]
    },
    {
      "cell_type": "code",
      "source": [
        "#предсказываем значения,передав модели results точку начала и окончания\n",
        "prediction_exps = model_exps.predict(model_exps.params, start=test.index[0], end=test.index[-1])"
      ],
      "metadata": {
        "id": "5xZ9DwHRWPpm"
      },
      "execution_count": null,
      "outputs": []
    },
    {
      "cell_type": "code",
      "source": [
        "# определяем точку начала для прогноза\n",
        "test.index[0]\n"
      ],
      "metadata": {
        "id": "RssyVxs4WS_t",
        "colab": {
          "base_uri": "https://localhost:8080/"
        },
        "outputId": "5416e332-5a6e-4a2f-cce5-3096366347c8"
      },
      "execution_count": null,
      "outputs": [
        {
          "output_type": "execute_result",
          "data": {
            "text/plain": [
              "Timestamp('2019-11-24 00:00:00', freq='W-SUN')"
            ]
          },
          "metadata": {},
          "execution_count": 117
        }
      ]
    },
    {
      "cell_type": "code",
      "source": [
        "# определяем точку окончания для прогноза\n",
        "test.index[-1]"
      ],
      "metadata": {
        "colab": {
          "base_uri": "https://localhost:8080/"
        },
        "id": "nrKFfDDR-YEZ",
        "outputId": "d6648c7a-3cb9-4b47-dfe5-b38ba5cd0161"
      },
      "execution_count": null,
      "outputs": [
        {
          "output_type": "execute_result",
          "data": {
            "text/plain": [
              "Timestamp('2020-02-09 00:00:00', freq='W-SUN')"
            ]
          },
          "metadata": {},
          "execution_count": 118
        }
      ]
    },
    {
      "cell_type": "code",
      "source": [
        "prediction_exps"
      ],
      "metadata": {
        "id": "4h4L_bEH-aut"
      },
      "execution_count": null,
      "outputs": []
    },
    {
      "cell_type": "code",
      "source": [
        "#преобразуем в датафрейм с индексами\n",
        "prediction_exps = pd.DataFrame(prediction_exps)\n",
        "prediction_exps.index = pd.date_range(\"2019-11-24 00:00:00\", periods=12, freq=\"W-SUN\")\n",
        "\n",
        "prediction_exps.columns = ['prediction_exps']"
      ],
      "metadata": {
        "id": "FRXvbutSWa7G"
      },
      "execution_count": null,
      "outputs": []
    },
    {
      "cell_type": "code",
      "source": [
        "#проверим\n",
        "prediction_exps.head()"
      ],
      "metadata": {
        "id": "b-Q4naXQWbsA",
        "colab": {
          "base_uri": "https://localhost:8080/",
          "height": 206
        },
        "outputId": "a2590926-920c-4aae-bc5c-83f3e0bd082a"
      },
      "execution_count": null,
      "outputs": [
        {
          "output_type": "execute_result",
          "data": {
            "text/plain": [
              "            prediction_exps\n",
              "2019-11-24       349.187507\n",
              "2019-12-01       349.851918\n",
              "2019-12-08       350.516329\n",
              "2019-12-15       351.180739\n",
              "2019-12-22       351.845150"
            ],
            "text/html": [
              "\n",
              "  <div id=\"df-6175743c-4566-4855-8590-b614fab824d7\">\n",
              "    <div class=\"colab-df-container\">\n",
              "      <div>\n",
              "<style scoped>\n",
              "    .dataframe tbody tr th:only-of-type {\n",
              "        vertical-align: middle;\n",
              "    }\n",
              "\n",
              "    .dataframe tbody tr th {\n",
              "        vertical-align: top;\n",
              "    }\n",
              "\n",
              "    .dataframe thead th {\n",
              "        text-align: right;\n",
              "    }\n",
              "</style>\n",
              "<table border=\"1\" class=\"dataframe\">\n",
              "  <thead>\n",
              "    <tr style=\"text-align: right;\">\n",
              "      <th></th>\n",
              "      <th>prediction_exps</th>\n",
              "    </tr>\n",
              "  </thead>\n",
              "  <tbody>\n",
              "    <tr>\n",
              "      <th>2019-11-24</th>\n",
              "      <td>349.187507</td>\n",
              "    </tr>\n",
              "    <tr>\n",
              "      <th>2019-12-01</th>\n",
              "      <td>349.851918</td>\n",
              "    </tr>\n",
              "    <tr>\n",
              "      <th>2019-12-08</th>\n",
              "      <td>350.516329</td>\n",
              "    </tr>\n",
              "    <tr>\n",
              "      <th>2019-12-15</th>\n",
              "      <td>351.180739</td>\n",
              "    </tr>\n",
              "    <tr>\n",
              "      <th>2019-12-22</th>\n",
              "      <td>351.845150</td>\n",
              "    </tr>\n",
              "  </tbody>\n",
              "</table>\n",
              "</div>\n",
              "      <button class=\"colab-df-convert\" onclick=\"convertToInteractive('df-6175743c-4566-4855-8590-b614fab824d7')\"\n",
              "              title=\"Convert this dataframe to an interactive table.\"\n",
              "              style=\"display:none;\">\n",
              "        \n",
              "  <svg xmlns=\"http://www.w3.org/2000/svg\" height=\"24px\"viewBox=\"0 0 24 24\"\n",
              "       width=\"24px\">\n",
              "    <path d=\"M0 0h24v24H0V0z\" fill=\"none\"/>\n",
              "    <path d=\"M18.56 5.44l.94 2.06.94-2.06 2.06-.94-2.06-.94-.94-2.06-.94 2.06-2.06.94zm-11 1L8.5 8.5l.94-2.06 2.06-.94-2.06-.94L8.5 2.5l-.94 2.06-2.06.94zm10 10l.94 2.06.94-2.06 2.06-.94-2.06-.94-.94-2.06-.94 2.06-2.06.94z\"/><path d=\"M17.41 7.96l-1.37-1.37c-.4-.4-.92-.59-1.43-.59-.52 0-1.04.2-1.43.59L10.3 9.45l-7.72 7.72c-.78.78-.78 2.05 0 2.83L4 21.41c.39.39.9.59 1.41.59.51 0 1.02-.2 1.41-.59l7.78-7.78 2.81-2.81c.8-.78.8-2.07 0-2.86zM5.41 20L4 18.59l7.72-7.72 1.47 1.35L5.41 20z\"/>\n",
              "  </svg>\n",
              "      </button>\n",
              "      \n",
              "  <style>\n",
              "    .colab-df-container {\n",
              "      display:flex;\n",
              "      flex-wrap:wrap;\n",
              "      gap: 12px;\n",
              "    }\n",
              "\n",
              "    .colab-df-convert {\n",
              "      background-color: #E8F0FE;\n",
              "      border: none;\n",
              "      border-radius: 50%;\n",
              "      cursor: pointer;\n",
              "      display: none;\n",
              "      fill: #1967D2;\n",
              "      height: 32px;\n",
              "      padding: 0 0 0 0;\n",
              "      width: 32px;\n",
              "    }\n",
              "\n",
              "    .colab-df-convert:hover {\n",
              "      background-color: #E2EBFA;\n",
              "      box-shadow: 0px 1px 2px rgba(60, 64, 67, 0.3), 0px 1px 3px 1px rgba(60, 64, 67, 0.15);\n",
              "      fill: #174EA6;\n",
              "    }\n",
              "\n",
              "    [theme=dark] .colab-df-convert {\n",
              "      background-color: #3B4455;\n",
              "      fill: #D2E3FC;\n",
              "    }\n",
              "\n",
              "    [theme=dark] .colab-df-convert:hover {\n",
              "      background-color: #434B5C;\n",
              "      box-shadow: 0px 1px 3px 1px rgba(0, 0, 0, 0.15);\n",
              "      filter: drop-shadow(0px 1px 2px rgba(0, 0, 0, 0.3));\n",
              "      fill: #FFFFFF;\n",
              "    }\n",
              "  </style>\n",
              "\n",
              "      <script>\n",
              "        const buttonEl =\n",
              "          document.querySelector('#df-6175743c-4566-4855-8590-b614fab824d7 button.colab-df-convert');\n",
              "        buttonEl.style.display =\n",
              "          google.colab.kernel.accessAllowed ? 'block' : 'none';\n",
              "\n",
              "        async function convertToInteractive(key) {\n",
              "          const element = document.querySelector('#df-6175743c-4566-4855-8590-b614fab824d7');\n",
              "          const dataTable =\n",
              "            await google.colab.kernel.invokeFunction('convertToInteractive',\n",
              "                                                     [key], {});\n",
              "          if (!dataTable) return;\n",
              "\n",
              "          const docLinkHtml = 'Like what you see? Visit the ' +\n",
              "            '<a target=\"_blank\" href=https://colab.research.google.com/notebooks/data_table.ipynb>data table notebook</a>'\n",
              "            + ' to learn more about interactive tables.';\n",
              "          element.innerHTML = '';\n",
              "          dataTable['output_type'] = 'display_data';\n",
              "          await google.colab.output.renderOutput(dataTable, element);\n",
              "          const docLink = document.createElement('div');\n",
              "          docLink.innerHTML = docLinkHtml;\n",
              "          element.appendChild(docLink);\n",
              "        }\n",
              "      </script>\n",
              "    </div>\n",
              "  </div>\n",
              "  "
            ]
          },
          "metadata": {},
          "execution_count": 121
        }
      ]
    },
    {
      "cell_type": "code",
      "source": [
        "#сравниваем прогноз и тестовую выборку\n",
        "ax = test['Close'].plot(legend=True, figsize=(12,6),title='Close')\n",
        "prediction_exps['prediction_exps'].plot(legend=True)\n",
        "ax.autoscale(axis='x',tight=True)"
      ],
      "metadata": {
        "id": "gPUd7asIWd22",
        "colab": {
          "base_uri": "https://localhost:8080/",
          "height": 439
        },
        "outputId": "3993bbda-cb57-4049-85d6-59df1836b31d"
      },
      "execution_count": null,
      "outputs": [
        {
          "output_type": "display_data",
          "data": {
            "text/plain": [
              "<Figure size 864x432 with 1 Axes>"
            ],
            "image/png": "[encoded data removed]"
          },
          "metadata": {
            "needs_background": "light"
          }
        }
      ]
    },
    {
      "cell_type": "code",
      "source": [
        "#оцениваем качество модели методом MSE, RMSE, MAE, MAPE\n",
        "mae_error = mean_absolute_error(test['Close'], prediction_exps['prediction_exps'])\n",
        "mse_error = mean_squared_error(test['Close'], prediction_exps['prediction_exps'])\n",
        "rmse_error = rmse(test['Close'], prediction_exps['prediction_exps'])\n",
        "mape_error = np.mean(np.abs(prediction_exps['prediction_exps'] - test['Close'])/test['Close'])*100\n",
        "\n",
        "print(f'Exponential smoothing MAE Error: {mae_error:11.10}')\n",
        "print(f'Exponential smoothing MSE Error: {mse_error:11.10}')\n",
        "print(f'Exponential smoothing RMSE Error: {rmse_error:11.10}')\n",
        "print(f'Exponential smoothing MAPE Error: {mape_error:11.10}')"
      ],
      "metadata": {
        "id": "YvYokn4bW-F1",
        "colab": {
          "base_uri": "https://localhost:8080/"
        },
        "outputId": "d7e1cce9-529e-477e-b8aa-e21d69f943b9"
      },
      "execution_count": null,
      "outputs": [
        {
          "output_type": "stream",
          "name": "stdout",
          "text": [
            "Exponential smoothing MAE Error: 115.5640255\n",
            "Exponential smoothing MSE Error: 28124.84638\n",
            "Exponential smoothing RMSE Error: 167.7046403\n",
            "Exponential smoothing MAPE Error: 20.41979624\n"
          ]
        }
      ]
    },
    {
      "cell_type": "code",
      "source": [
        "#делаем прогноз на будущее\n",
        "\n",
        "# обучаем модель на всем датасете\n",
        "fut_model_exps = ExponentialSmoothing(df2['Close'], seasonal_periods=12, trend = 'add')\n",
        "fut_model_exps.fit()\n",
        "\n",
        "#задаем точки будущего\n",
        "fut_fcast_exps = fut_model_exps.predict(fut_model_exps.params, start=len(df2)-1, end=len(df2)+9)\n",
        "\n",
        "#преобразуем в датафрейм с индексами\n",
        "fut_fcast_exps = pd.DataFrame(fut_fcast_exps)\n",
        "fut_fcast_exps.index = pd.date_range('2020-02-09 00:00:00', periods=11, freq=\"W-SUN\")\n",
        "fut_fcast_exps.columns = ['fut_fcast_exps']"
      ],
      "metadata": {
        "id": "XX-Vu4MVXD_-"
      },
      "execution_count": null,
      "outputs": []
    },
    {
      "cell_type": "code",
      "source": [
        "#проверим\n",
        "fut_fcast_exps.head()"
      ],
      "metadata": {
        "id": "bqLPPqAPXHtp",
        "colab": {
          "base_uri": "https://localhost:8080/",
          "height": 206
        },
        "outputId": "332539cc-9df6-4dd7-d587-a3b115b3ff28"
      },
      "execution_count": null,
      "outputs": [
        {
          "output_type": "execute_result",
          "data": {
            "text/plain": [
              "            fut_fcast_exps\n",
              "2020-02-09      630.264822\n",
              "2020-02-16      840.654571\n",
              "2020-02-23      901.309144\n",
              "2020-03-01      961.963717\n",
              "2020-03-08     1022.618291"
            ],
            "text/html": [
              "\n",
              "  <div id=\"df-19bb94be-f960-480b-a727-cd25e7966eca\">\n",
              "    <div class=\"colab-df-container\">\n",
              "      <div>\n",
              "<style scoped>\n",
              "    .dataframe tbody tr th:only-of-type {\n",
              "        vertical-align: middle;\n",
              "    }\n",
              "\n",
              "    .dataframe tbody tr th {\n",
              "        vertical-align: top;\n",
              "    }\n",
              "\n",
              "    .dataframe thead th {\n",
              "        text-align: right;\n",
              "    }\n",
              "</style>\n",
              "<table border=\"1\" class=\"dataframe\">\n",
              "  <thead>\n",
              "    <tr style=\"text-align: right;\">\n",
              "      <th></th>\n",
              "      <th>fut_fcast_exps</th>\n",
              "    </tr>\n",
              "  </thead>\n",
              "  <tbody>\n",
              "    <tr>\n",
              "      <th>2020-02-09</th>\n",
              "      <td>630.264822</td>\n",
              "    </tr>\n",
              "    <tr>\n",
              "      <th>2020-02-16</th>\n",
              "      <td>840.654571</td>\n",
              "    </tr>\n",
              "    <tr>\n",
              "      <th>2020-02-23</th>\n",
              "      <td>901.309144</td>\n",
              "    </tr>\n",
              "    <tr>\n",
              "      <th>2020-03-01</th>\n",
              "      <td>961.963717</td>\n",
              "    </tr>\n",
              "    <tr>\n",
              "      <th>2020-03-08</th>\n",
              "      <td>1022.618291</td>\n",
              "    </tr>\n",
              "  </tbody>\n",
              "</table>\n",
              "</div>\n",
              "      <button class=\"colab-df-convert\" onclick=\"convertToInteractive('df-19bb94be-f960-480b-a727-cd25e7966eca')\"\n",
              "              title=\"Convert this dataframe to an interactive table.\"\n",
              "              style=\"display:none;\">\n",
              "        \n",
              "  <svg xmlns=\"http://www.w3.org/2000/svg\" height=\"24px\"viewBox=\"0 0 24 24\"\n",
              "       width=\"24px\">\n",
              "    <path d=\"M0 0h24v24H0V0z\" fill=\"none\"/>\n",
              "    <path d=\"M18.56 5.44l.94 2.06.94-2.06 2.06-.94-2.06-.94-.94-2.06-.94 2.06-2.06.94zm-11 1L8.5 8.5l.94-2.06 2.06-.94-2.06-.94L8.5 2.5l-.94 2.06-2.06.94zm10 10l.94 2.06.94-2.06 2.06-.94-2.06-.94-.94-2.06-.94 2.06-2.06.94z\"/><path d=\"M17.41 7.96l-1.37-1.37c-.4-.4-.92-.59-1.43-.59-.52 0-1.04.2-1.43.59L10.3 9.45l-7.72 7.72c-.78.78-.78 2.05 0 2.83L4 21.41c.39.39.9.59 1.41.59.51 0 1.02-.2 1.41-.59l7.78-7.78 2.81-2.81c.8-.78.8-2.07 0-2.86zM5.41 20L4 18.59l7.72-7.72 1.47 1.35L5.41 20z\"/>\n",
              "  </svg>\n",
              "      </button>\n",
              "      \n",
              "  <style>\n",
              "    .colab-df-container {\n",
              "      display:flex;\n",
              "      flex-wrap:wrap;\n",
              "      gap: 12px;\n",
              "    }\n",
              "\n",
              "    .colab-df-convert {\n",
              "      background-color: #E8F0FE;\n",
              "      border: none;\n",
              "      border-radius: 50%;\n",
              "      cursor: pointer;\n",
              "      display: none;\n",
              "      fill: #1967D2;\n",
              "      height: 32px;\n",
              "      padding: 0 0 0 0;\n",
              "      width: 32px;\n",
              "    }\n",
              "\n",
              "    .colab-df-convert:hover {\n",
              "      background-color: #E2EBFA;\n",
              "      box-shadow: 0px 1px 2px rgba(60, 64, 67, 0.3), 0px 1px 3px 1px rgba(60, 64, 67, 0.15);\n",
              "      fill: #174EA6;\n",
              "    }\n",
              "\n",
              "    [theme=dark] .colab-df-convert {\n",
              "      background-color: #3B4455;\n",
              "      fill: #D2E3FC;\n",
              "    }\n",
              "\n",
              "    [theme=dark] .colab-df-convert:hover {\n",
              "      background-color: #434B5C;\n",
              "      box-shadow: 0px 1px 3px 1px rgba(0, 0, 0, 0.15);\n",
              "      filter: drop-shadow(0px 1px 2px rgba(0, 0, 0, 0.3));\n",
              "      fill: #FFFFFF;\n",
              "    }\n",
              "  </style>\n",
              "\n",
              "      <script>\n",
              "        const buttonEl =\n",
              "          document.querySelector('#df-19bb94be-f960-480b-a727-cd25e7966eca button.colab-df-convert');\n",
              "        buttonEl.style.display =\n",
              "          google.colab.kernel.accessAllowed ? 'block' : 'none';\n",
              "\n",
              "        async function convertToInteractive(key) {\n",
              "          const element = document.querySelector('#df-19bb94be-f960-480b-a727-cd25e7966eca');\n",
              "          const dataTable =\n",
              "            await google.colab.kernel.invokeFunction('convertToInteractive',\n",
              "                                                     [key], {});\n",
              "          if (!dataTable) return;\n",
              "\n",
              "          const docLinkHtml = 'Like what you see? Visit the ' +\n",
              "            '<a target=\"_blank\" href=https://colab.research.google.com/notebooks/data_table.ipynb>data table notebook</a>'\n",
              "            + ' to learn more about interactive tables.';\n",
              "          element.innerHTML = '';\n",
              "          dataTable['output_type'] = 'display_data';\n",
              "          await google.colab.output.renderOutput(dataTable, element);\n",
              "          const docLink = document.createElement('div');\n",
              "          docLink.innerHTML = docLinkHtml;\n",
              "          element.appendChild(docLink);\n",
              "        }\n",
              "      </script>\n",
              "    </div>\n",
              "  </div>\n",
              "  "
            ]
          },
          "metadata": {},
          "execution_count": 128
        }
      ]
    },
    {
      "cell_type": "code",
      "source": [
        "#строим график на будущее\n",
        "ax = df2['Close'].plot(legend=True, figsize=(12,6),title='Close...') \n",
        "fut_fcast_exps['fut_fcast_exps'].plot(legend=True)\n",
        "ax.autoscale(axis='x',tight=True)"
      ],
      "metadata": {
        "id": "HfVKDKlsXKM1",
        "colab": {
          "base_uri": "https://localhost:8080/",
          "height": 404
        },
        "outputId": "664b454a-d974-4e8e-bff7-148cebb85f61"
      },
      "execution_count": null,
      "outputs": [
        {
          "output_type": "display_data",
          "data": {
            "text/plain": [
              "<Figure size 864x432 with 1 Axes>"
            ],
            "image/png": "[encoded data removed]"
          },
          "metadata": {
            "needs_background": "light"
          }
        }
      ]
    },
    {
      "cell_type": "markdown",
      "source": [
        "## Выводы"
      ],
      "metadata": {
        "id": "gX7Ue2304viI"
      }
    },
    {
      "cell_type": "markdown",
      "source": [
        "В данном блоке опишите общие выводы по работе: что было сделано, что было получено. Помните, отрицательный результат - тоже результат. Поэтому указывайте информацию честно и беспристратно. "
      ],
      "metadata": {
        "id": "wmuZ3A2_4vgF"
      }
    }
  ]
}